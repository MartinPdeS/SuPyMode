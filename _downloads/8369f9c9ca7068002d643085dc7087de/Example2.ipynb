{
  "cells": [
    {
      "cell_type": "code",
      "execution_count": null,
      "metadata": {
        "collapsed": false
      },
      "outputs": [],
      "source": [
        "%matplotlib inline"
      ]
    },
    {
      "cell_type": "markdown",
      "metadata": {},
      "source": [
        "\n# 2x2 Coupler\n\n<img src=\"/github/workspace/docs/images/Logo.png../images/Example2/Geometry.png\" width=\"400\" align=\"center\">\n\n<img src=\"/github/workspace/docs/images/Logo.png../images/Example2/Fields.png\" width=\"800\" align=\"center\">\n\n\n<img src=\"/github/workspace/docs/images/Logo.png../images/Example2/Index.png\" width=\"600\" align=\"center\">\n\n\n<img src=\"/github/workspace/docs/images/Logo.png../images/Example2/Adiabatic.png\" width=\"600\" align=\"center\">\n"
      ]
    },
    {
      "cell_type": "code",
      "execution_count": null,
      "metadata": {
        "collapsed": false
      },
      "outputs": [],
      "source": [
        "from FiberFusing                import Geometry, Fused2, Circle, BackGround\nfrom SuPyMode.Solver            import SuPySolver\nfrom SuPyMode.Materials         import FusedSilica\n\n\nWavelength = 1.55e-6\nIndex = FusedSilica.GetRI(Wavelength)\n\n\nAir = BackGround(Index=1) \n\nClad = Fused2(FiberRadius=60, Fusion=0.6, Index=Index)\n\nCores = [ Circle(Position=Core, Radius=4.1, Index=Index+0.005) for Core in Clad.Cores]\n\nGeo = Geometry(Objects = [Air, Clad] + Cores,\n               Xbound  = [-110, 0],\n               Ybound  = [-90, 0],\n               Nx      = 80,\n               Ny      = 80)\n\nGeo.Rotate(90)\n\nGeo.Plot().Show()\n\nSol = SuPySolver(Geometry=Geo, Tolerance=1e-8, MaxIter = 10000)\n\nSol.CreateSuperSet(Wavelength=1.55, NStep=500, ITRi=1, ITRf=0.05)\n\n\nSol.AddModes(Sorting         = 'Field',\n             Symmetries      = {'Right': 1, 'Left': 0, 'Top': 1, 'Bottom': 0},\n             nComputedMode   = 3,\n             nSortedMode     = 2 )\n\nSol.AddModes(Sorting         = 'Field',\n             Symmetries      = {'Right': -1, 'Left': 0, 'Top': 1, 'Bottom': 0},\n             nComputedMode   = 3,\n             nSortedMode     = 2 )\n\nSet = Sol.GetSet()\n\nSet.Plot(Type='field', ITR=[1, 0.3]).Show()\n\nSet.Plot(Type='index').Show()\n\nSet.Plot(Type='adiabatic').Show()"
      ]
    }
  ],
  "metadata": {
    "kernelspec": {
      "display_name": "Python 3",
      "language": "python",
      "name": "python3"
    },
    "language_info": {
      "codemirror_mode": {
        "name": "ipython",
        "version": 3
      },
      "file_extension": ".py",
      "mimetype": "text/x-python",
      "name": "python",
      "nbconvert_exporter": "python",
      "pygments_lexer": "ipython3",
      "version": "3.8.2"
    }
  },
  "nbformat": 4,
  "nbformat_minor": 0
}