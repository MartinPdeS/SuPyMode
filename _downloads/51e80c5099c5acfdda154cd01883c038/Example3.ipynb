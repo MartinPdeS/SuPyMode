{
  "cells": [
    {
      "cell_type": "code",
      "execution_count": null,
      "metadata": {
        "collapsed": false
      },
      "outputs": [],
      "source": [
        "%matplotlib inline"
      ]
    },
    {
      "cell_type": "markdown",
      "metadata": {},
      "source": [
        "\n# 3x3 Coupler\n\n<img src=\"/github/workspace/docs/images/Logo.png../images/Example3/Geometry.png\" width=\"400\" align=\"center\">\n\n<img src=\"/github/workspace/docs/images/Logo.png../images/Example3/Fields.png\" width=\"800\" align=\"center\">\n\n\n<img src=\"/github/workspace/docs/images/Logo.png../images/Example3/Index.png\" width=\"600\" align=\"center\">\n\n\n<img src=\"/github/workspace/docs/images/Logo.png../images/Example3/Adiabatic.png\" width=\"600\" align=\"center\">\n"
      ]
    },
    {
      "cell_type": "code",
      "execution_count": null,
      "metadata": {
        "collapsed": false
      },
      "outputs": [],
      "source": [
        "from FiberFusing                import Geometry, Fused3, Circle, BackGround\nfrom SuPyMode.Solver            import SuPySolver\nfrom SuPyMode.Materials         import FusedSilica\n\nAir = BackGround(Index=1) \n\nWavelength = 1.55e-6\nIndex = FusedSilica.GetRI(Wavelength)\n\nClad = Fused3(FiberRadius = 60, Fusion = 0.3, Index = Index)\n\nCores = [ Circle(Position=Core, Radius=4.1, Index=Index+0.005) for Core in Clad.Cores]\n\nGeo = Geometry(Objects = [Air, Clad] + Cores,\n               Xbound  = [-120, 120],\n               Ybound  = [-100, 130],\n               Nx      = 180,\n               Ny      = 180)\n\nGeo.Plot().Show()\n\nSol = SuPySolver(Geometry=Geo, Tolerance=1e-8, MaxIter = 10000)\n\nSol.CreateSuperSet(Wavelength=1.55, NStep=300, ITRi=1, ITRf=0.05)\n\nSol.AddModes(Sorting         = 'Index',\n             Symmetries      = {'Right': 0, 'Left': 0, 'Top': 0, 'Bottom': 0},\n             nComputedMode   = 6,\n             nSortedMode     = 4 )\n\nSet = Sol.GetSet()\n\nSet.Plot(Type='field', ITR=[1, 0.3]).Show()\n\nSet.Plot(Type='index').Show()\n\nSet.Plot(Type='adiabatic').Show()"
      ]
    }
  ],
  "metadata": {
    "kernelspec": {
      "display_name": "Python 3",
      "language": "python",
      "name": "python3"
    },
    "language_info": {
      "codemirror_mode": {
        "name": "ipython",
        "version": 3
      },
      "file_extension": ".py",
      "mimetype": "text/x-python",
      "name": "python",
      "nbconvert_exporter": "python",
      "pygments_lexer": "ipython3",
      "version": "3.8.2"
    }
  },
  "nbformat": 4,
  "nbformat_minor": 0
}