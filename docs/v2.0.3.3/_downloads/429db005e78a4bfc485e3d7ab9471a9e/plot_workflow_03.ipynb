{
  "cells": [
    {
      "cell_type": "markdown",
      "metadata": {},
      "source": [
        "\n# 3x3 Coupler\n"
      ]
    },
    {
      "cell_type": "markdown",
      "metadata": {},
      "source": [
        "Importing the script dependencies\n\n"
      ]
    },
    {
      "cell_type": "code",
      "execution_count": null,
      "metadata": {
        "collapsed": false
      },
      "outputs": [],
      "source": [
        "from SuPyMode.workflow import Workflow, configuration, fiber_catalogue, Boundaries"
      ]
    },
    {
      "cell_type": "markdown",
      "metadata": {},
      "source": [
        "## Creating the fiber list for mesh\nIn this example we want to simulate a single fiber at wavelength 1550 nm.\n\n"
      ]
    },
    {
      "cell_type": "code",
      "execution_count": null,
      "metadata": {
        "collapsed": false
      },
      "outputs": [],
      "source": [
        "wavelength = 1550e-9"
      ]
    },
    {
      "cell_type": "markdown",
      "metadata": {},
      "source": [
        "## Generating the fiber structure\nHere we define the cladding and fiber structure to model the problem\n\n"
      ]
    },
    {
      "cell_type": "code",
      "execution_count": null,
      "metadata": {
        "collapsed": false
      },
      "outputs": [],
      "source": [
        "clad_structure = configuration.ring.FusedProfile_03x03\n\ncustom_fiber = fiber_catalogue.CustomFiber(wavelength=1.55e-6)\ncustom_fiber.add_silica_pure_cladding(radius=62.5e-6, name='outer-clad')\n\ncustom_fiber.create_and_add_new_structure(\n    radius=40e-6 / 2,\n    NA=0.13,\n    name='inner-clad'\n)\ncustom_fiber.create_and_add_new_structure(\n    radius=9.2e-6 / 2,\n    NA=0.13,\n    name='core'\n)\n\nfiber_list = [\n    fiber_catalogue.load_fiber('DCF1300S_42', wavelength=wavelength),\n    fiber_catalogue.load_fiber('DCF1300S_33', wavelength=wavelength),\n    custom_fiber\n]"
      ]
    },
    {
      "cell_type": "markdown",
      "metadata": {},
      "source": [
        "Defining the boundaries of the system\n\n"
      ]
    },
    {
      "cell_type": "code",
      "execution_count": null,
      "metadata": {
        "collapsed": false
      },
      "outputs": [],
      "source": [
        "boundaries = [\n    Boundaries(),\n]"
      ]
    },
    {
      "cell_type": "markdown",
      "metadata": {},
      "source": [
        "## Generating the computing workflow\nWorkflow class to define all the computation parameters before initializing the solver\n\n"
      ]
    },
    {
      "cell_type": "code",
      "execution_count": null,
      "metadata": {
        "collapsed": false
      },
      "outputs": [],
      "source": [
        "workflow = Workflow(\n    fiber_list=fiber_list,          # List of fiber to be added in the mesh, the order matters.\n    clad_structure=clad_structure,  # Cladding structure, if None provided then no cladding is set.\n    fusion_degree=0.9,              # Degree of fusion of the structure if applicable.\n    wavelength=wavelength,          # Wavelength used for the mode computation.\n    resolution=80,                  # Number of point in the x and y axis [is divided by half if symmetric or anti-symmetric boundaries].\n    x_bounds=\"centering\",           # Mesh x-boundary structure.\n    y_bounds=\"centering\",           # Mesh y-boundary structure.\n    boundaries=boundaries,          # Set of symmetries to be evaluated, each symmetry add a round of simulation\n    n_sorted_mode=2,                # Total computed and sorted mode.\n    n_added_mode=5,                 # Additional computed mode that are not considered later except for field comparison [the higher the better but the slower].\n    plot_geometry=True,             # Plot the geometry mesh before computation.\n    debug_mode=3,                   # Print the iteration step for the solver plus some other important steps.\n    auto_label=True,                # Auto labeling the mode. Label are not always correct and should be verified afterwards.\n    itr_final=0.05,                  # Final value of inverse taper ratio to simulate\n    clad_rotation=0,                # Rotate the geoemtry in the given angle in degree\n    index_scrambling=1e-7           # Scrambling of refractive index value in order to lift mode degeneracy [useful for some analysis]\n)\n\nsuperset = workflow.get_superset()"
      ]
    },
    {
      "cell_type": "markdown",
      "metadata": {},
      "source": [
        "## Field computation: $E_{i,j}$\n\n"
      ]
    },
    {
      "cell_type": "code",
      "execution_count": null,
      "metadata": {
        "collapsed": false
      },
      "outputs": [],
      "source": [
        "_ = superset.plot(plot_type='field', slice_list=[], itr_list=[1.0, 0.3, 0.1])"
      ]
    },
    {
      "cell_type": "markdown",
      "metadata": {},
      "source": [
        "## Effective index: $n^{eff}_{i,j}$\n\n"
      ]
    },
    {
      "cell_type": "code",
      "execution_count": null,
      "metadata": {
        "collapsed": false
      },
      "outputs": [],
      "source": [
        "_ = superset.plot(plot_type='index')"
      ]
    },
    {
      "cell_type": "markdown",
      "metadata": {},
      "source": [
        "## Modal normalized coupling: $C_{i,j}$\n\n"
      ]
    },
    {
      "cell_type": "code",
      "execution_count": null,
      "metadata": {
        "collapsed": false
      },
      "outputs": [],
      "source": [
        "_ = superset.plot(plot_type='normalized-coupling')"
      ]
    },
    {
      "cell_type": "markdown",
      "metadata": {},
      "source": [
        "## Adiabatic criterion: $\\tilde{C}_{i,j}$\n\n"
      ]
    },
    {
      "cell_type": "code",
      "execution_count": null,
      "metadata": {
        "collapsed": false
      },
      "outputs": [],
      "source": [
        "_ = superset.plot(plot_type='adiabatic')\n\n# -"
      ]
    }
  ],
  "metadata": {
    "kernelspec": {
      "display_name": "Python 3",
      "language": "python",
      "name": "python3"
    },
    "language_info": {
      "codemirror_mode": {
        "name": "ipython",
        "version": 3
      },
      "file_extension": ".py",
      "mimetype": "text/x-python",
      "name": "python",
      "nbconvert_exporter": "python",
      "pygments_lexer": "ipython3",
      "version": "3.11.13"
    }
  },
  "nbformat": 4,
  "nbformat_minor": 0
}