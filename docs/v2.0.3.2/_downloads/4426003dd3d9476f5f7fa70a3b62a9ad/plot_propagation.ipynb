{
  "cells": [
    {
      "cell_type": "markdown",
      "metadata": {},
      "source": [
        "\n# 4x4 Coupler [linear]\n"
      ]
    },
    {
      "cell_type": "markdown",
      "metadata": {},
      "source": [
        "Importing the script dependencies\n\n"
      ]
    },
    {
      "cell_type": "code",
      "execution_count": null,
      "metadata": {
        "collapsed": false
      },
      "outputs": [],
      "source": [
        "from SuPyMode.workflow import Workflow, configuration, fiber_catalogue, Boundaries\nfrom SuPyMode.workflow import AlphaProfile\n\nwavelength = 1550e-9"
      ]
    },
    {
      "cell_type": "markdown",
      "metadata": {},
      "source": [
        "## Generating the fiber structure\nHere we define the cladding and fiber structure to model the problem\n\n"
      ]
    },
    {
      "cell_type": "code",
      "execution_count": null,
      "metadata": {
        "collapsed": false
      },
      "outputs": [],
      "source": [
        "fiber_list = [\n    fiber_catalogue.load_fiber('DCF1300S_20', wavelength=wavelength),\n    fiber_catalogue.load_fiber('DCF1300S_26', wavelength=wavelength),\n    fiber_catalogue.load_fiber('DCF1300S_33', wavelength=wavelength)\n]\n\nclad_profile = configuration.ring.FusedProfile_03x03\n\ncapillary_tube = fiber_catalogue.CapillaryTube(\n    radius=150e-6,\n    wavelength=wavelength,\n    delta_n=-15e-3\n)"
      ]
    },
    {
      "cell_type": "markdown",
      "metadata": {},
      "source": [
        "## Generating the computing workflow\nWorkflow class to define all the computation parameters before initializing the solver\n\n"
      ]
    },
    {
      "cell_type": "code",
      "execution_count": null,
      "metadata": {
        "collapsed": false
      },
      "outputs": [],
      "source": [
        "workflow = Workflow(\n    fiber_list=fiber_list,          # List of fiber to be added in the mesh, the order matters.\n    clad_structure=clad_profile,    # Cladding structure, if None provided then no cladding is set.\n    capillary_tube=capillary_tube,\n    fusion_degree='auto',           # Degree of fusion of the structure if applicable.\n    wavelength=wavelength,          # Wavelength used for the mode computation.\n    resolution=20,                 # Number of point in the x and y axis [is divided by half if symmetric or anti-symmetric boundaries].\n    x_bounds=\"centering\",           # Mesh x-boundary structure.\n    y_bounds=\"centering\",           # Mesh y-boundary structure.\n    boundaries=[Boundaries()],    # Set of symmetries to be evaluated, each symmetry add a round of simulation\n    n_sorted_mode=3,                # Total computed and sorted mode.\n    n_added_mode=6,                 # Additional computed mode that are not considered later except for field comparison [the higher the better but the slower].\n    # plot_geometry=True,             # Plot the geometry mesh before computation.\n    debug_mode=0,                   # Print the iteration step for the solver plus some other important steps. [Does not work properly on jupyter notebooks]\n    auto_label=False,               # Auto labeling the mode. Label are not always correct and should be verified afterwards.\n    itr_final=0.1,                  # Final value of inverse taper ratio to simulate\n    clad_rotation=0,                # Rotate the geoemtry in the given angle in degree\n    index_scrambling=0e-4           # Scrambling of refractive index value in order to lift mode degeneracy [useful for some analysis]\n)\n\nsuperset = workflow.get_superset()\n\n\nprofile = AlphaProfile(symmetric=False, add_end_of_taper_section=True)"
      ]
    },
    {
      "cell_type": "markdown",
      "metadata": {},
      "source": [
        "Adding a first taper segment with large initial heating length (i.e. slow reduction)\n\n"
      ]
    },
    {
      "cell_type": "code",
      "execution_count": null,
      "metadata": {
        "collapsed": false
      },
      "outputs": [],
      "source": [
        "profile.add_taper_segment(\n    alpha=0,\n    initial_heating_length=0.1e-3,\n    stretching_length=0.1e-3\n)\n\n\nprofile.initialize()\n\npropagation = workflow.superset.propagate(add_coupling=False, profile=profile, initial_amplitude=[1, 0, 0])\n\n# propagation.generate_gif()\n# -"
      ]
    }
  ],
  "metadata": {
    "kernelspec": {
      "display_name": "Python 3",
      "language": "python",
      "name": "python3"
    },
    "language_info": {
      "codemirror_mode": {
        "name": "ipython",
        "version": 3
      },
      "file_extension": ".py",
      "mimetype": "text/x-python",
      "name": "python",
      "nbconvert_exporter": "python",
      "pygments_lexer": "ipython3",
      "version": "3.11.11"
    }
  },
  "nbformat": 4,
  "nbformat_minor": 0
}