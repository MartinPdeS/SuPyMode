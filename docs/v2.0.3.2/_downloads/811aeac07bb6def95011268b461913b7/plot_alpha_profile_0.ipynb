{
  "cells": [
    {
      "cell_type": "markdown",
      "metadata": {},
      "source": [
        "\n# Non-symmetric coupler z-profile\n"
      ]
    },
    {
      "cell_type": "markdown",
      "metadata": {},
      "source": [
        "Importing the script dependencies\n\n"
      ]
    },
    {
      "cell_type": "code",
      "execution_count": null,
      "metadata": {
        "collapsed": false
      },
      "outputs": [],
      "source": [
        "from SuPyMode.workflow import AlphaProfile\n\n\nprofile = AlphaProfile(symmetric=False, add_end_of_taper_section=True)"
      ]
    },
    {
      "cell_type": "markdown",
      "metadata": {},
      "source": [
        "Adding a first taper segment with large initial heating length (i.e. slow reduction)\n\n"
      ]
    },
    {
      "cell_type": "code",
      "execution_count": null,
      "metadata": {
        "collapsed": false
      },
      "outputs": [],
      "source": [
        "profile.add_taper_segment(\n    alpha=0,\n    initial_heating_length=8e-3,\n    stretching_length=0.2e-3 * 20\n)"
      ]
    },
    {
      "cell_type": "markdown",
      "metadata": {},
      "source": [
        "Adding a first taper segment with small initial heating length (i.e. steep reduction)\n\n"
      ]
    },
    {
      "cell_type": "code",
      "execution_count": null,
      "metadata": {
        "collapsed": false
      },
      "outputs": [],
      "source": [
        "profile.add_taper_segment(\n    alpha=0,\n    initial_heating_length=2e-3,\n    stretching_length=0.2e-3 * 20\n)\n\nprofile.initialize()\n\nprofile.plot()\n\n# -"
      ]
    }
  ],
  "metadata": {
    "kernelspec": {
      "display_name": "Python 3",
      "language": "python",
      "name": "python3"
    },
    "language_info": {
      "codemirror_mode": {
        "name": "ipython",
        "version": 3
      },
      "file_extension": ".py",
      "mimetype": "text/x-python",
      "name": "python",
      "nbconvert_exporter": "python",
      "pygments_lexer": "ipython3",
      "version": "3.11.10"
    }
  },
  "nbformat": 4,
  "nbformat_minor": 0
}