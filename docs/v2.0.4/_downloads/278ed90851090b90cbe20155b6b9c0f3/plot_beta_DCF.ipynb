{
  "cells": [
    {
      "cell_type": "markdown",
      "metadata": {},
      "source": [
        "\n# Propagation constant: DCFC\n"
      ]
    },
    {
      "cell_type": "markdown",
      "metadata": {},
      "source": [
        "## Imports\n\n"
      ]
    },
    {
      "cell_type": "code",
      "execution_count": null,
      "metadata": {
        "collapsed": false
      },
      "outputs": [],
      "source": [
        "import numpy\nfrom SuPyMode.workflow import Workflow, fiber_catalogue, Boundaries\nfrom PyFiberModes import LP01\nfrom PyFiberModes.fiber import load_fiber\nimport matplotlib.pyplot as plt\n\nwavelength = 1550e-9\nfiber_name = 'DCF1300S_33'"
      ]
    },
    {
      "cell_type": "markdown",
      "metadata": {},
      "source": [
        "## Generating the fiber structure\nHere we define the cladding and fiber structure to model the problem\n\n"
      ]
    },
    {
      "cell_type": "code",
      "execution_count": null,
      "metadata": {
        "collapsed": false
      },
      "outputs": [],
      "source": [
        "fiber_list = [\n    fiber_catalogue.load_fiber(fiber_name, wavelength=wavelength)\n]"
      ]
    },
    {
      "cell_type": "markdown",
      "metadata": {},
      "source": [
        "Defining the boundaries of the system\n\n"
      ]
    },
    {
      "cell_type": "code",
      "execution_count": null,
      "metadata": {
        "collapsed": false
      },
      "outputs": [],
      "source": [
        "boundaries = [\n    Boundaries(right='symmetric', bottom='symmetric'),\n    Boundaries(right='symmetric', bottom='anti-symmetric')\n]"
      ]
    },
    {
      "cell_type": "markdown",
      "metadata": {},
      "source": [
        "## Generating the computing workflow\nWorkflow class to define all the computation parameters before initializing the solver\n\n"
      ]
    },
    {
      "cell_type": "code",
      "execution_count": null,
      "metadata": {
        "collapsed": false
      },
      "outputs": [],
      "source": [
        "workflow = Workflow(\n    fiber_list=fiber_list,          # List of fiber to be added in the mesh, the order matters.\n    fusion_degree='auto',           # Degree of fusion of the structure if applicable.\n    wavelength=wavelength,          # Wavelength used for the mode computation.\n    resolution=80,                  # Number of point in the x and y axis [is divided by half if symmetric or anti-symmetric boundaries].\n    x_bounds=\"left\",                # Mesh x-boundary structure.\n    y_bounds=\"top\",                 # Mesh y-boundary structure.\n    air_padding_factor=4.0,\n    boundaries=boundaries,          # Set of symmetries to be evaluated, each symmetry add a round of simulation\n    n_sorted_mode=6,                # Total computed and sorted mode.\n    n_added_mode=4,                 # Additional computed mode that are not considered later except for field comparison [the higher the better but the slower].\n    plot_geometry=True,             # Plot the geometry mesh before computation.\n    debug_mode=0,                   # Print the iteration step for the solver plus some other important steps.\n    auto_label=True,                # Auto labeling the mode. Label are not always correct and should be verified afterwards.\n    itr_final=0.2,                  # Final value of inverse taper ratio to simulate\n    index_scrambling=0,             # Scrambling of refractive index value in order to lift mode degeneracy [useful for some analysis]\n    n_step=50\n)\n\nsuperset = workflow.get_superset()\nitr_list = superset.model_parameters.itr_list"
      ]
    },
    {
      "cell_type": "markdown",
      "metadata": {},
      "source": [
        "Computing the analytical values using FiberModes solver.\n\n"
      ]
    },
    {
      "cell_type": "code",
      "execution_count": null,
      "metadata": {
        "collapsed": false
      },
      "outputs": [],
      "source": [
        "dcf_fiber = load_fiber(\n    fiber_name=fiber_name,\n    wavelength=wavelength,\n    add_air_layer=True\n)"
      ]
    },
    {
      "cell_type": "markdown",
      "metadata": {},
      "source": [
        "Preparing the figure\n\n"
      ]
    },
    {
      "cell_type": "code",
      "execution_count": null,
      "metadata": {
        "collapsed": false
      },
      "outputs": [],
      "source": [
        "figure, ax = plt.subplots(1, 1)\nax.set(\n    xlabel='Inverse taper ratio',\n    ylabel='Effective index',\n)\n\npyfibermodes_mode = LP01\nsupymode_mode = superset.LP01\n\nanalytical = numpy.empty(itr_list.shape)\nfor idx, itr in enumerate(itr_list):\n    _fiber = dcf_fiber.scale(factor=itr)\n    analytical[idx] = _fiber.get_effective_index(mode=pyfibermodes_mode)\n\nax.plot(\n    itr_list,\n    analytical,\n    label=str(pyfibermodes_mode),\n    linestyle='-',\n    linewidth=2,\n    color='red',\n)\n\nax.scatter(\n    itr_list,\n    supymode_mode.index.data,\n    label=str(supymode_mode),\n    color='black',\n    s=80,\n    linestyle='-',\n)\n\nax.legend()\n\nplt.show()\n\n\n# -"
      ]
    }
  ],
  "metadata": {
    "kernelspec": {
      "display_name": "Python 3",
      "language": "python",
      "name": "python3"
    },
    "language_info": {
      "codemirror_mode": {
        "name": "ipython",
        "version": 3
      },
      "file_extension": ".py",
      "mimetype": "text/x-python",
      "name": "python",
      "nbconvert_exporter": "python",
      "pygments_lexer": "ipython3",
      "version": "3.11.13"
    }
  },
  "nbformat": 4,
  "nbformat_minor": 0
}