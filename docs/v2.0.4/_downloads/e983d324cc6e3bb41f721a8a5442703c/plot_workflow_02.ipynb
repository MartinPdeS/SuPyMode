{
  "cells": [
    {
      "cell_type": "markdown",
      "metadata": {},
      "source": [
        "\n# 2x2 Coupler\n"
      ]
    },
    {
      "cell_type": "markdown",
      "metadata": {},
      "source": [
        "Importing the script dependencies\n\n"
      ]
    },
    {
      "cell_type": "code",
      "execution_count": null,
      "metadata": {
        "collapsed": false
      },
      "outputs": [],
      "source": [
        "from SuPyMode.workflow import Workflow, fiber_loader, Boundaries, BoundaryValue, DomainAlignment, Profile, StructureType\n\nfrom PyOptik import MaterialBank\n\nwavelength = 1550e-9"
      ]
    },
    {
      "cell_type": "markdown",
      "metadata": {},
      "source": [
        "## Generating the fiber structure\nHere we define the cladding and fiber structure to model the problem\n\n"
      ]
    },
    {
      "cell_type": "code",
      "execution_count": null,
      "metadata": {
        "collapsed": false
      },
      "outputs": [],
      "source": [
        "clad_structure = Profile()\n\nclad_structure.add_structure(\n    structure_type=StructureType.CIRCULAR,\n    number_of_fibers=4,\n    fusion_degree=0.3,\n    fiber_radius=62.5e-6,\n    compute_fusing=True\n)\n\nclad_structure.refractive_index = MaterialBank.fused_silica.compute_refractive_index(wavelength)  # Refractive index of silica at the specified wavelength\n\n\nfiber_list = [\n    fiber_loader.load_fiber('DCF1300S_33', clad_refractive_index=clad_structure.refractive_index),\n    fiber_loader.load_fiber('DCF1300S_26', clad_refractive_index=clad_structure.refractive_index),\n    fiber_loader.load_fiber('DCF1300S_42', clad_refractive_index=clad_structure.refractive_index),\n    fiber_loader.load_fiber('DCF1300S_33', clad_refractive_index=clad_structure.refractive_index),\n]"
      ]
    },
    {
      "cell_type": "markdown",
      "metadata": {},
      "source": [
        "Defining the boundaries of the system\n\n"
      ]
    },
    {
      "cell_type": "code",
      "execution_count": null,
      "metadata": {
        "collapsed": false
      },
      "outputs": [],
      "source": [
        "boundaries = [\n    Boundaries(right=BoundaryValue.SYMMETRIC, top=BoundaryValue.SYMMETRIC),\n    Boundaries(right=BoundaryValue.SYMMETRIC, top=BoundaryValue.ANTI_SYMMETRIC),\n]"
      ]
    },
    {
      "cell_type": "markdown",
      "metadata": {},
      "source": [
        "## Generating the computing workflow\nWorkflow class to define all the computation parameters before initializing the solver\n\n"
      ]
    },
    {
      "cell_type": "code",
      "execution_count": null,
      "metadata": {
        "collapsed": false
      },
      "outputs": [],
      "source": [
        "workflow = Workflow(\n    fiber_list=fiber_list,          # List of fiber to be added in the mesh, the order matters.\n    clad_structure=clad_structure,  # Cladding structure, if None provided then no cladding is set.\n    wavelength=wavelength,          # Wavelength used for the mode computation.\n    resolution=60,                  # Number of point in the x and y axis [is divided by half if symmetric or anti-symmetric boundaries].\n    x_bounds=DomainAlignment.LEFT,  # Mesh x-boundary structure.\n    y_bounds=DomainAlignment.BOTTOM,# Mesh y-boundary structure.\n    boundaries=boundaries,          # Set of symmetries to be evaluated, each symmetry add a round of simulation\n    n_sorted_mode=2,                # Total computed and sorted mode.\n    n_added_mode=2,                 # Additional computed mode that are not considered later except for field comparison [the higher the better but the slower].\n    plot_geometry=True,             # Plot the geometry mesh before computation.\n    debug_mode=0,                   # Print the iteration step for the solver plus some other important steps.\n    auto_label=True,                # Auto labeling the mode. Label are not always correct and should be verified afterwards.\n    itr_final=0.1,                  # Final value of inverse taper ratio to simulate\n    clad_rotation=45,               # Rotate the geoemtry in the given angle in degree\n    index_scrambling=1e-4           # Scrambling of refractive index value in order to lift mode degeneracy [useful for some analysis]\n)\n\nsuperset = workflow.get_superset()"
      ]
    },
    {
      "cell_type": "markdown",
      "metadata": {},
      "source": [
        "## Field computation: $E_{i,j}$\n\n"
      ]
    },
    {
      "cell_type": "code",
      "execution_count": null,
      "metadata": {
        "collapsed": false
      },
      "outputs": [],
      "source": [
        "_ = superset.plot(plot_type='field', itr_list=[1.0, 0.1])"
      ]
    },
    {
      "cell_type": "markdown",
      "metadata": {},
      "source": [
        "## Effective index: $n^{eff}_{i,j}$\n\n"
      ]
    },
    {
      "cell_type": "code",
      "execution_count": null,
      "metadata": {
        "collapsed": false
      },
      "outputs": [],
      "source": [
        "_ = superset.plot(plot_type='beta')"
      ]
    },
    {
      "cell_type": "markdown",
      "metadata": {},
      "source": [
        "## Modal normalized coupling: $C_{i,j}$\n\n"
      ]
    },
    {
      "cell_type": "code",
      "execution_count": null,
      "metadata": {
        "collapsed": false
      },
      "outputs": [],
      "source": [
        "_ = superset.plot(plot_type='normalized-coupling')"
      ]
    },
    {
      "cell_type": "markdown",
      "metadata": {},
      "source": [
        "## Adiabatic criterion: $\\tilde{C}_{i,j}$\n\n"
      ]
    },
    {
      "cell_type": "code",
      "execution_count": null,
      "metadata": {
        "collapsed": false
      },
      "outputs": [],
      "source": [
        "_ = superset.plot(plot_type='adiabatic', save_filename='test')\n\n\n# -"
      ]
    }
  ],
  "metadata": {
    "kernelspec": {
      "display_name": "Python 3",
      "language": "python",
      "name": "python3"
    },
    "language_info": {
      "codemirror_mode": {
        "name": "ipython",
        "version": 3
      },
      "file_extension": ".py",
      "mimetype": "text/x-python",
      "name": "python",
      "nbconvert_exporter": "python",
      "pygments_lexer": "ipython3",
      "version": "3.11.13"
    }
  },
  "nbformat": 4,
  "nbformat_minor": 0
}