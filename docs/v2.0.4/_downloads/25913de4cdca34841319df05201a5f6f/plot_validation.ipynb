{
  "cells": [
    {
      "cell_type": "markdown",
      "metadata": {},
      "source": [
        "\n# Propagation constant: DCFC\n"
      ]
    },
    {
      "cell_type": "markdown",
      "metadata": {},
      "source": [
        "## Imports\n\n"
      ]
    },
    {
      "cell_type": "code",
      "execution_count": null,
      "metadata": {
        "collapsed": false
      },
      "outputs": [],
      "source": [
        "import numpy\nfrom SuPyMode.workflow import Workflow, fiber_catalogue, Boundaries\nimport PyFiberModes\nfrom PyFiberModes.fiber import load_fiber\nfrom PyFiberModes.__future__ import get_normalized_LP_coupling\nimport matplotlib.pyplot as plt\nimport itertools\n\nwavelength = 1550e-9\nfiber_name = 'test_multimode_fiber'\nscale_factor = 4"
      ]
    },
    {
      "cell_type": "markdown",
      "metadata": {},
      "source": [
        "## Generating the fiber structure\nHere we define the cladding and fiber structure to model the problem\n\n"
      ]
    },
    {
      "cell_type": "code",
      "execution_count": null,
      "metadata": {
        "collapsed": false
      },
      "outputs": [],
      "source": [
        "fiber = fiber_catalogue.load_fiber(fiber_name, wavelength=wavelength, remove_cladding=False)\nfiber_list = [fiber]"
      ]
    },
    {
      "cell_type": "markdown",
      "metadata": {},
      "source": [
        "Defining the boundaries of the system\n\n"
      ]
    },
    {
      "cell_type": "code",
      "execution_count": null,
      "metadata": {
        "collapsed": false
      },
      "outputs": [],
      "source": [
        "boundaries = [\n    Boundaries(right='symmetric', bottom='symmetric'),\n]"
      ]
    },
    {
      "cell_type": "markdown",
      "metadata": {},
      "source": [
        "## Generating the computing workflow\nWorkflow class to define all the computation parameters before initializing the solver\n\n"
      ]
    },
    {
      "cell_type": "code",
      "execution_count": null,
      "metadata": {
        "collapsed": false
      },
      "outputs": [],
      "source": [
        "workflow = Workflow(\n    fiber_list=fiber_list,          # List of fiber to be added in the mesh, the order matters.\n    fusion_degree='auto',           # Degree of fusion of the structure if applicable.\n    wavelength=wavelength,          # Wavelength used for the mode computation.\n    resolution=180,                 # Number of point in the x and y axis [is divided by half if symmetric or anti-symmetric boundaries].\n    x_bounds=\"left\",                # Mesh x-boundary structure.\n    y_bounds=\"top\",                 # Mesh y-boundary structure.\n    air_padding_factor=4.0,\n    boundaries=boundaries,          # Set of symmetries to be evaluated, each symmetry add a round of simulation\n    n_sorted_mode=7,                # Total computed and sorted mode.\n    n_added_mode=6,                 # Additional computed mode that are not considered later except for field comparison [the higher the better but the slower].\n    plot_geometry=True,             # Plot the geometry mesh before computation.\n    debug_mode=1,                   # Print the iteration step for the solver plus some other important steps.\n    auto_label=True,                # Auto labeling the mode. Label are not always correct and should be verified afterwards.\n    itr_final=0.4,                  # Final value of inverse taper ratio to simulate\n    index_scrambling=0,             # Scrambling of refractive index value in order to lift mode degeneracy [useful for some analysis]\n    n_step=100\n)\n\nsuperset = workflow.get_superset()\n\nsuperset.label_supermodes('LP01', 'LP21', 'LP02', 'LP03', 'LP22', 'LP41')\n\nsuperset.plot(plot_type='field')\n\nitr_list = superset.model_parameters.itr_list"
      ]
    },
    {
      "cell_type": "markdown",
      "metadata": {},
      "source": [
        "Computing the analytical values using FiberModes solver.\n\n"
      ]
    },
    {
      "cell_type": "code",
      "execution_count": null,
      "metadata": {
        "collapsed": false
      },
      "outputs": [],
      "source": [
        "initial_fiber = load_fiber(\n    fiber_name=fiber_name,\n    wavelength=wavelength,\n    add_air_layer=False\n)"
      ]
    },
    {
      "cell_type": "markdown",
      "metadata": {},
      "source": [
        "Preparing the figure\n\n"
      ]
    },
    {
      "cell_type": "code",
      "execution_count": null,
      "metadata": {
        "collapsed": false
      },
      "outputs": [],
      "source": [
        "figure, ax = plt.subplots(1, 1)\n\nax.set(\n    xlabel='Inverse taper ratio',\n    ylabel='Effective index'\n)\n\n\ndef get_index_pyfibermodes(mode, itr_list, fiber):\n    analytical = numpy.empty(itr_list.shape)\n\n    for idx, itr in enumerate(itr_list):\n        tapered_fiber = fiber.scale(factor=itr)\n        analytical[idx] = tapered_fiber.get_effective_index(mode=mode)\n\n    return analytical\n\n\nfor idx, mode in enumerate(['LP01', 'LP02', 'LP03']):\n    color = f\"C{idx}\"\n\n    supymode_mode = getattr(superset, mode)\n    ax.scatter(\n        itr_list,\n        supymode_mode.index.data,\n        label=str(supymode_mode),\n        color=color,\n        s=80,\n        linestyle='-'\n    )\n\n    analytical = get_index_pyfibermodes(mode=getattr(PyFiberModes, mode), itr_list=itr_list, fiber=initial_fiber)\n\n    ax.plot(\n        itr_list,\n        analytical,\n        label=str(mode),\n        linestyle='-',\n        linewidth=2,\n        color=color\n    )\n\nplt.show()"
      ]
    },
    {
      "cell_type": "markdown",
      "metadata": {},
      "source": [
        "Preparing the figure\n\n"
      ]
    },
    {
      "cell_type": "code",
      "execution_count": null,
      "metadata": {
        "collapsed": false
      },
      "outputs": [],
      "source": [
        "figure, ax = plt.subplots(1, 1)\n\nax.set(\n    xlabel='Inverse taper ratio',\n    ylabel='Normalized coupling'\n)"
      ]
    },
    {
      "cell_type": "markdown",
      "metadata": {},
      "source": [
        "Computing the analytical values using FiberModes solver.\n\n"
      ]
    },
    {
      "cell_type": "code",
      "execution_count": null,
      "metadata": {
        "collapsed": false
      },
      "outputs": [],
      "source": [
        "initial_fiber = load_fiber(\n    fiber_name=fiber_name,\n    wavelength=wavelength,\n    add_air_layer=False\n)\n\n\ndef get_normalized_coupling_pyfibermodes(mode_0, mode_1, itr_list, initial_fiber):\n    analytical = numpy.empty(itr_list.shape)\n\n    for idx, itr in enumerate(itr_list):\n        tapered_fiber = initial_fiber.scale(factor=itr)\n\n        analytical[idx] = get_normalized_LP_coupling(fiber=tapered_fiber, mode_0=mode_0, mode_1=mode_1)\n\n    return analytical\n\n\nfor idx, (mode_0, mode_1) in enumerate(itertools.combinations(['LP01', 'LP02', 'LP03'], 2)):\n    color = f\"C{idx}\"\n\n    analytical = get_normalized_coupling_pyfibermodes(\n        mode_0=getattr(PyFiberModes, mode_0),\n        mode_1=getattr(PyFiberModes, mode_1),\n        itr_list=itr_list[::2],\n        initial_fiber=initial_fiber\n    )\n\n    ax.plot(\n        itr_list[::2],\n        abs(analytical),\n        label='Analytical',\n        linestyle='-',\n        linewidth=2,\n        color=color\n    )\n\n    simulation = getattr(superset, mode_0).normalized_coupling.get_values(getattr(superset, mode_1))\n\n    ax.scatter(\n        superset.model_parameters.itr_list,\n        abs(simulation),\n        color=color,\n        s=80,\n        linestyle='-',\n        label=mode_0 + '-' + mode_1\n    )\n\nplt.show()\n\n# -"
      ]
    }
  ],
  "metadata": {
    "kernelspec": {
      "display_name": "Python 3",
      "language": "python",
      "name": "python3"
    },
    "language_info": {
      "codemirror_mode": {
        "name": "ipython",
        "version": 3
      },
      "file_extension": ".py",
      "mimetype": "text/x-python",
      "name": "python",
      "nbconvert_exporter": "python",
      "pygments_lexer": "ipython3",
      "version": "3.11.13"
    }
  },
  "nbformat": 4,
  "nbformat_minor": 0
}