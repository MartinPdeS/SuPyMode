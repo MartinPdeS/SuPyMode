{
  "cells": [
    {
      "cell_type": "markdown",
      "metadata": {},
      "source": [
        "\n# 1x1 Coupler\n"
      ]
    },
    {
      "cell_type": "markdown",
      "metadata": {},
      "source": [
        "Importing the script dependencies\n\n"
      ]
    },
    {
      "cell_type": "code",
      "execution_count": null,
      "metadata": {
        "collapsed": false
      },
      "outputs": [],
      "source": [
        "from SuPyMode.workflow import Workflow, Boundaries, BoundaryValue, GenericFiber, GradedIndex\nfrom PyOptik import MaterialBank\n\nwavelength = 1550e-9"
      ]
    },
    {
      "cell_type": "markdown",
      "metadata": {},
      "source": [
        "## Generating the fiber structure\nHere we define the cladding and fiber structure to model the problem\n\n"
      ]
    },
    {
      "cell_type": "code",
      "execution_count": null,
      "metadata": {
        "collapsed": false
      },
      "outputs": [],
      "source": [
        "clad_refractive_index = MaterialBank.fused_silica.compute_refractive_index(wavelength)  # Refractive index of silica at the specified wavelength\n\nfiber = GenericFiber()\n\nfiber.create_and_add_new_structure(\n    name='cladding',\n    refractive_index=1.4450,\n    radius=62.5 * 1e-6\n)\n\ngraded_index = GradedIndex(inside=1.4480, outside=1.4450)\n\nfiber.create_and_add_new_structure(\n    name='core',\n    refractive_index=graded_index,\n    radius=8.0 * 1e-6\n)"
      ]
    },
    {
      "cell_type": "markdown",
      "metadata": {},
      "source": [
        "Defining the boundaries of the system\n\n"
      ]
    },
    {
      "cell_type": "code",
      "execution_count": null,
      "metadata": {
        "collapsed": false
      },
      "outputs": [],
      "source": [
        "boundaries = [\n    Boundaries(right=BoundaryValue.SYMMETRIC, top=BoundaryValue.SYMMETRIC),\n]"
      ]
    },
    {
      "cell_type": "markdown",
      "metadata": {},
      "source": [
        "## Generating the computing workflow\nWorkflow class to define all the computation parameters before initializing the solver\n\n"
      ]
    },
    {
      "cell_type": "code",
      "execution_count": null,
      "metadata": {
        "collapsed": false
      },
      "outputs": [],
      "source": [
        "workflow = Workflow(\n    fiber_list=[fiber],              # List of fiber to be added in the mesh, the order matters.\n    wavelength=wavelength,           # Wavelength used for the mode computation.\n    resolution=120,                  # Number of point in the x and y axis [is divided by half if symmetric or anti-symmetric boundaries].\n    x_bounds=(-70e-6, 0.),           # Mesh x-boundary structure.\n    y_bounds=(-70e-6, 0.),           # Mesh y-boundary structure.\n    boundaries=boundaries,           # Set of symmetries to be evaluated, each symmetry add a round of simulation\n    n_sorted_mode=4,                 # Total computed and sorted mode.\n    n_added_mode=2,                  # Additional computed mode that are not considered later except for field comparison [the higher the better but the slower].\n    debug_mode=1,                    # Print the iteration step for the solver plus some other important steps.\n    auto_label=True,                 # Auto labeling the mode. Label are not always correct and should be verified afterwards.\n    itr_final=0.05,                  # Final value of inverse taper ratio to simulate\n)\n\nworkflow.initialize_geometry(plot=True)  # Initialize the geometry and plot it\n\nworkflow.run_solver()  # Run the solver to compute the modes"
      ]
    },
    {
      "cell_type": "markdown",
      "metadata": {},
      "source": [
        "## Field computation: $E_{i,j}$\n\n"
      ]
    },
    {
      "cell_type": "code",
      "execution_count": null,
      "metadata": {
        "collapsed": false
      },
      "outputs": [],
      "source": [
        "_ = workflow.plot(plot_type='field', itr_list=[1.0, 0.1])"
      ]
    },
    {
      "cell_type": "markdown",
      "metadata": {},
      "source": [
        "## Effective index: $n^{eff}_{i,j}$\n\n"
      ]
    },
    {
      "cell_type": "code",
      "execution_count": null,
      "metadata": {
        "collapsed": false
      },
      "outputs": [],
      "source": [
        "_ = workflow.plot(plot_type='index')"
      ]
    },
    {
      "cell_type": "markdown",
      "metadata": {},
      "source": [
        "## Modal normalized coupling: $C_{i,j}$\n\n"
      ]
    },
    {
      "cell_type": "code",
      "execution_count": null,
      "metadata": {
        "collapsed": false
      },
      "outputs": [],
      "source": [
        "_ = workflow.plot(plot_type='normalized-coupling')"
      ]
    },
    {
      "cell_type": "markdown",
      "metadata": {},
      "source": [
        "## Adiabatic criterion: $\\tilde{C}_{i,j}$\n\n"
      ]
    },
    {
      "cell_type": "code",
      "execution_count": null,
      "metadata": {
        "collapsed": false
      },
      "outputs": [],
      "source": [
        "_ = workflow.plot(plot_type='adiabatic')\n\n# -"
      ]
    }
  ],
  "metadata": {
    "kernelspec": {
      "display_name": "Python 3",
      "language": "python",
      "name": "python3"
    },
    "language_info": {
      "codemirror_mode": {
        "name": "ipython",
        "version": 3
      },
      "file_extension": ".py",
      "mimetype": "text/x-python",
      "name": "python",
      "nbconvert_exporter": "python",
      "pygments_lexer": "ipython3",
      "version": "3.11.13"
    }
  },
  "nbformat": 4,
  "nbformat_minor": 0
}