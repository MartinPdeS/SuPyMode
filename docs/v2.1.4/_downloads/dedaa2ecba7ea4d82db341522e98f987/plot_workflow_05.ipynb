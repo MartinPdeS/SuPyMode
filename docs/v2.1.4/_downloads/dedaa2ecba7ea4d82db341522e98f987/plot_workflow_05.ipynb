{
  "cells": [
    {
      "cell_type": "markdown",
      "metadata": {},
      "source": [
        "\n# 5x5 Coupler\n"
      ]
    },
    {
      "cell_type": "markdown",
      "metadata": {},
      "source": [
        "Importing the script dependencies\n\n"
      ]
    },
    {
      "cell_type": "code",
      "execution_count": null,
      "metadata": {
        "collapsed": false
      },
      "outputs": [],
      "source": [
        "from SuPyMode.workflow import Workflow, fiber_loader, Boundaries, DomainAlignment, Profile, StructureType, BoundaryValue\n\nfrom PyOptik import MaterialBank"
      ]
    },
    {
      "cell_type": "markdown",
      "metadata": {},
      "source": [
        "## Creating the fiber list for mesh\nIn this example we want to simulate a single fiber at wavelength 1550 nm.\n\n"
      ]
    },
    {
      "cell_type": "code",
      "execution_count": null,
      "metadata": {
        "collapsed": false
      },
      "outputs": [],
      "source": [
        "wavelength = 1550e-9"
      ]
    },
    {
      "cell_type": "markdown",
      "metadata": {},
      "source": [
        "## Generating the fiber structure\nHere we define the cladding and fiber structure to model the problem\n\n"
      ]
    },
    {
      "cell_type": "code",
      "execution_count": null,
      "metadata": {
        "collapsed": false
      },
      "outputs": [],
      "source": [
        "clad_refractive_index = MaterialBank.fused_silica.compute_refractive_index(wavelength)  # Refractive index of silica at the specified wavelength\n\nclad_structure = Profile()\n\nclad_structure.add_structure(\n    structure_type=StructureType.CIRCULAR,\n    number_of_fibers=7,\n    fusion_degree=0.3,\n    fiber_radius=62.5e-6\n)\n\nclad_structure.refractive_index = clad_refractive_index\n\nfiber_list = [\n    fiber_loader.load_fiber('DCF1300S_33', clad_refractive_index=clad_refractive_index, position=clad_structure.cores[0]),\n    fiber_loader.load_fiber('SMF28', clad_refractive_index=clad_refractive_index, position=clad_structure.cores[1]),\n    fiber_loader.load_fiber('DCF1300S_33', clad_refractive_index=clad_refractive_index, position=clad_structure.cores[2]),\n    fiber_loader.load_fiber('SMF28', clad_refractive_index=clad_refractive_index, position=clad_structure.cores[3]),\n    fiber_loader.load_fiber('DCF1300S_33', clad_refractive_index=clad_refractive_index, position=clad_structure.cores[4]),\n    fiber_loader.load_fiber('DCF1300S_33', clad_refractive_index=clad_refractive_index, position=clad_structure.cores[5]),\n    fiber_loader.load_fiber('SMF28', clad_refractive_index=clad_refractive_index, position=clad_structure.cores[6]),\n]"
      ]
    },
    {
      "cell_type": "markdown",
      "metadata": {},
      "source": [
        "Defining the boundaries of the system\n\n"
      ]
    },
    {
      "cell_type": "code",
      "execution_count": null,
      "metadata": {
        "collapsed": false
      },
      "outputs": [],
      "source": [
        "boundaries = [\n    Boundaries(right=BoundaryValue.SYMMETRIC)\n]"
      ]
    },
    {
      "cell_type": "markdown",
      "metadata": {},
      "source": [
        "## Generating the computing workflow\nWorkflow class to define all the computation parameters before initializing the solver\n\n"
      ]
    },
    {
      "cell_type": "code",
      "execution_count": null,
      "metadata": {
        "collapsed": false
      },
      "outputs": [],
      "source": [
        "workflow = Workflow(\n    fiber_list=fiber_list,          # List of fiber to be added in the mesh, the order matters.\n    clad_structure=clad_structure,  # Cladding structure, if None provided then no cladding is set.\n    wavelength=wavelength,          # Wavelength used for the mode computation.\n    resolution=80,                  # Number of point in the x and y axis [is divided by half if symmetric or anti-symmetric boundaries].\n    x_bounds=DomainAlignment.LEFT,  # Mesh x-boundary structure.\n    y_bounds=DomainAlignment.CENTERING, # Mesh y-boundary structure.\n    boundaries=boundaries,          # Set of symmetries to be evaluated, each symmetry add a round of simulation\n    n_sorted_mode=4,                # Total computed and sorted mode.\n    n_added_mode=3,                 # Additional computed mode that are not considered later except for field comparison [the higher the better but the slower].\n    debug_mode=0,                   # Print the iteration step for the solver plus some other important steps.\n    itr_final=0.1,                  # Final value of inverse taper ratio to simulate\n)\n\nworkflow.initialize_geometry(plot=True)  # Initialize the geometry and plot it\n\nworkflow.run_solver()  # Run the solver to compute the modes"
      ]
    },
    {
      "cell_type": "markdown",
      "metadata": {},
      "source": [
        "## Field computation: $E_{i,j}$\n\n"
      ]
    },
    {
      "cell_type": "code",
      "execution_count": null,
      "metadata": {
        "collapsed": false
      },
      "outputs": [],
      "source": [
        "_ = workflow.plot(plot_type='field', itr_list=[1.0, 0.1])"
      ]
    },
    {
      "cell_type": "markdown",
      "metadata": {},
      "source": [
        "## Effective index: $n^{eff}_{i,j}$\n\n"
      ]
    },
    {
      "cell_type": "code",
      "execution_count": null,
      "metadata": {
        "collapsed": false
      },
      "outputs": [],
      "source": [
        "_ = workflow.plot(plot_type='index')"
      ]
    },
    {
      "cell_type": "markdown",
      "metadata": {},
      "source": [
        "## Modal normalized coupling: $C_{i,j}$\n\n"
      ]
    },
    {
      "cell_type": "code",
      "execution_count": null,
      "metadata": {
        "collapsed": false
      },
      "outputs": [],
      "source": [
        "_ = workflow.plot(plot_type='normalized-coupling')"
      ]
    },
    {
      "cell_type": "markdown",
      "metadata": {},
      "source": [
        "## Adiabatic criterion: $\\tilde{C}_{i,j}$\n\n"
      ]
    },
    {
      "cell_type": "code",
      "execution_count": null,
      "metadata": {
        "collapsed": false
      },
      "outputs": [],
      "source": [
        "_ = workflow.plot(plot_type='adiabatic')\n\n# -"
      ]
    }
  ],
  "metadata": {
    "kernelspec": {
      "display_name": "Python 3",
      "language": "python",
      "name": "python3"
    },
    "language_info": {
      "codemirror_mode": {
        "name": "ipython",
        "version": 3
      },
      "file_extension": ".py",
      "mimetype": "text/x-python",
      "name": "python",
      "nbconvert_exporter": "python",
      "pygments_lexer": "ipython3",
      "version": "3.11.13"
    }
  },
  "nbformat": 4,
  "nbformat_minor": 0
}