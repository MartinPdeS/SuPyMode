{
  "cells": [
    {
      "cell_type": "markdown",
      "metadata": {},
      "source": [
        "\n# Propagation constant: DCFC\n"
      ]
    },
    {
      "cell_type": "markdown",
      "metadata": {},
      "source": [
        "## Imports\n\n"
      ]
    },
    {
      "cell_type": "code",
      "execution_count": null,
      "metadata": {
        "collapsed": false
      },
      "outputs": [],
      "source": [
        "import numpy\nfrom SuPyMode.workflow import Workflow, fiber_loader, Boundaries, BoundaryValue, DomainAlignment\nfrom PyOptik import MaterialBank\n\nfrom PyFiberModes import LP01\nfrom PyFiberModes.fiber import load_fiber\nimport matplotlib.pyplot as plt\n\nwavelength = 1550e-9\nfiber_name = 'DCF1300S_33'"
      ]
    },
    {
      "cell_type": "markdown",
      "metadata": {},
      "source": [
        "## Generating the fiber structure\nHere we define the cladding and fiber structure to model the problem\n\n"
      ]
    },
    {
      "cell_type": "code",
      "execution_count": null,
      "metadata": {
        "collapsed": false
      },
      "outputs": [],
      "source": [
        "fiber_list = [\n    fiber_loader.load_fiber(fiber_name, clad_refractive_index=MaterialBank.fused_silica.compute_refractive_index(wavelength))  # Refractive index of silica at the specified wavelength\n]"
      ]
    },
    {
      "cell_type": "markdown",
      "metadata": {},
      "source": [
        "Defining the boundaries of the system\n\n"
      ]
    },
    {
      "cell_type": "code",
      "execution_count": null,
      "metadata": {
        "collapsed": false
      },
      "outputs": [],
      "source": [
        "boundaries = [\n    Boundaries(right=BoundaryValue.SYMMETRIC, bottom=BoundaryValue.SYMMETRIC),\n    Boundaries(right=BoundaryValue.SYMMETRIC, bottom=BoundaryValue.ANTI_SYMMETRIC)\n]"
      ]
    },
    {
      "cell_type": "markdown",
      "metadata": {},
      "source": [
        "## Generating the computing workflow\nWorkflow class to define all the computation parameters before initializing the solver\n\n"
      ]
    },
    {
      "cell_type": "code",
      "execution_count": null,
      "metadata": {
        "collapsed": false
      },
      "outputs": [],
      "source": [
        "workflow = Workflow(\n    fiber_list=fiber_list,          # List of fiber to be added in the mesh, the order matters.\n    wavelength=wavelength,          # Wavelength used for the mode computation.\n    resolution=80,                  # Number of point in the x and y axis [is divided by half if symmetric or anti-symmetric boundaries].\n    x_bounds=DomainAlignment.LEFT,  # Mesh x-boundary structure.\n    y_bounds=DomainAlignment.TOP,   # Mesh y-boundary structure.\n    air_padding_factor=1.3,\n    boundaries=boundaries,          # Set of symmetries to be evaluated, each symmetry add a round of simulation\n    n_sorted_mode=3,                # Total computed and sorted mode.\n    n_added_mode=4,                 # Additional computed mode that are not considered later except for field comparison [the higher the better but the slower].\n    debug_mode=0,                   # Print the iteration step for the solver plus some other important steps.\n    auto_label=True,                # Auto labeling the mode. Label are not always correct and should be verified afterwards.\n    itr_final=0.2,                  # Final value of inverse taper ratio to simulate\n    n_step=70,\n)\n\nworkflow.initialize_geometry()  # Initialize the geometry and plot it\n\nworkflow.run_solver()  # Run the solver to compute the modes"
      ]
    },
    {
      "cell_type": "markdown",
      "metadata": {},
      "source": [
        "Plotting the geometry\n\n"
      ]
    },
    {
      "cell_type": "code",
      "execution_count": null,
      "metadata": {
        "collapsed": false
      },
      "outputs": [],
      "source": [
        "workflow.geometry.plot()"
      ]
    },
    {
      "cell_type": "markdown",
      "metadata": {},
      "source": [
        "Plotting the field distribution\n\n"
      ]
    },
    {
      "cell_type": "code",
      "execution_count": null,
      "metadata": {
        "collapsed": false
      },
      "outputs": [],
      "source": [
        "workflow.plot('field')\n\nitr_list = workflow.superset.model_parameters.itr_list"
      ]
    },
    {
      "cell_type": "markdown",
      "metadata": {},
      "source": [
        "Computing the analytical values using FiberModes solver.\n\n"
      ]
    },
    {
      "cell_type": "code",
      "execution_count": null,
      "metadata": {
        "collapsed": false
      },
      "outputs": [],
      "source": [
        "dcf_fiber = load_fiber(\n    fiber_name=fiber_name,\n    wavelength=wavelength,\n    add_air_layer=True\n)"
      ]
    },
    {
      "cell_type": "markdown",
      "metadata": {},
      "source": [
        "Preparing the figure\n\n"
      ]
    },
    {
      "cell_type": "code",
      "execution_count": null,
      "metadata": {
        "collapsed": false
      },
      "outputs": [],
      "source": [
        "figure, ax = plt.subplots(1, 1)\nax.set(\n    xlabel='Inverse taper ratio',\n    ylabel='Effective index',\n)\n\npyfibermodes_mode = LP01\nsupymode_mode = workflow.superset.LP01\n\nanalytical = numpy.empty(itr_list.shape)\nfor idx, itr in enumerate(itr_list):\n    _fiber = dcf_fiber.scale(factor=itr)\n    analytical[idx] = _fiber.get_effective_index(mode=pyfibermodes_mode)\n\nax.plot(\n    itr_list,\n    analytical,\n    label=str(pyfibermodes_mode) + \": PyFiberModes\",\n    linestyle='-',\n    linewidth=2,\n    color='red',\n)\n\nax.scatter(\n    itr_list,\n    supymode_mode.index.data,\n    label=str(supymode_mode) + \": SuPyMode\",\n    color='black',\n    s=80,\n    linestyle='-',\n)\n\nax.legend()\n\nplt.show()\n\n\n# -"
      ]
    }
  ],
  "metadata": {
    "kernelspec": {
      "display_name": "Python 3",
      "language": "python",
      "name": "python3"
    },
    "language_info": {
      "codemirror_mode": {
        "name": "ipython",
        "version": 3
      },
      "file_extension": ".py",
      "mimetype": "text/x-python",
      "name": "python",
      "nbconvert_exporter": "python",
      "pygments_lexer": "ipython3",
      "version": "3.11.13"
    }
  },
  "nbformat": 4,
  "nbformat_minor": 0
}