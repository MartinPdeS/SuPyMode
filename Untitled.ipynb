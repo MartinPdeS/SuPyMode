{
 "cells": [
  {
   "cell_type": "code",
   "execution_count": 9,
   "metadata": {},
   "outputs": [
    {
     "name": "stderr",
     "output_type": "stream",
     "text": [
      "[                                                         ]   0% ETA:  --:--:--\r"
     ]
    },
    {
     "name": "stdout",
     "output_type": "stream",
     "text": [
      "Result Rv = 129.18239647328062\n",
      "0/100\n"
     ]
    },
    {
     "name": "stderr",
     "output_type": "stream",
     "text": [
      "[                                                          ]   1% ETA:  0:02:35\r"
     ]
    },
    {
     "name": "stdout",
     "output_type": "stream",
     "text": [
      "1/100\n"
     ]
    },
    {
     "name": "stderr",
     "output_type": "stream",
     "text": [
      "[=                                                         ]   2% ETA:  0:01:49\r"
     ]
    },
    {
     "name": "stdout",
     "output_type": "stream",
     "text": [
      "2/100\n"
     ]
    },
    {
     "name": "stderr",
     "output_type": "stream",
     "text": [
      "[=                                                         ]   3% ETA:  0:01:35\r"
     ]
    },
    {
     "name": "stdout",
     "output_type": "stream",
     "text": [
      "3/100\n"
     ]
    },
    {
     "name": "stderr",
     "output_type": "stream",
     "text": [
      "[==                                                        ]   4% ETA:  0:01:26\r"
     ]
    },
    {
     "name": "stdout",
     "output_type": "stream",
     "text": [
      "4/100\n"
     ]
    },
    {
     "name": "stderr",
     "output_type": "stream",
     "text": [
      "[==                                                        ]   5% ETA:  0:01:18\r"
     ]
    },
    {
     "name": "stdout",
     "output_type": "stream",
     "text": [
      "5/100\n"
     ]
    },
    {
     "name": "stderr",
     "output_type": "stream",
     "text": [
      "[===                                                       ]   6% ETA:  0:01:15\r"
     ]
    },
    {
     "name": "stdout",
     "output_type": "stream",
     "text": [
      "6/100\n"
     ]
    },
    {
     "name": "stderr",
     "output_type": "stream",
     "text": [
      "[====                                                      ]   7% ETA:  0:01:11\r"
     ]
    },
    {
     "name": "stdout",
     "output_type": "stream",
     "text": [
      "7/100\n"
     ]
    },
    {
     "name": "stderr",
     "output_type": "stream",
     "text": [
      "[====                                                      ]   8% ETA:  0:01:09\r"
     ]
    },
    {
     "name": "stdout",
     "output_type": "stream",
     "text": [
      "8/100\n"
     ]
    },
    {
     "name": "stderr",
     "output_type": "stream",
     "text": [
      "[=====                                                     ]   9% ETA:  0:01:07\r"
     ]
    },
    {
     "name": "stdout",
     "output_type": "stream",
     "text": [
      "9/100\n"
     ]
    },
    {
     "name": "stderr",
     "output_type": "stream",
     "text": [
      "[=====                                                     ]  10% ETA:  0:01:05\r"
     ]
    },
    {
     "name": "stdout",
     "output_type": "stream",
     "text": [
      "10/100\n"
     ]
    },
    {
     "name": "stderr",
     "output_type": "stream",
     "text": [
      "[======                                                    ]  11% ETA:  0:01:03\r"
     ]
    },
    {
     "name": "stdout",
     "output_type": "stream",
     "text": [
      "11/100\n"
     ]
    },
    {
     "name": "stderr",
     "output_type": "stream",
     "text": [
      "[======                                                    ]  12% ETA:  0:01:01\r"
     ]
    },
    {
     "name": "stdout",
     "output_type": "stream",
     "text": [
      "12/100\n"
     ]
    },
    {
     "name": "stderr",
     "output_type": "stream",
     "text": [
      "[=======                                                   ]  13% ETA:  0:01:02\r"
     ]
    },
    {
     "name": "stdout",
     "output_type": "stream",
     "text": [
      "13/100\n"
     ]
    },
    {
     "name": "stderr",
     "output_type": "stream",
     "text": [
      "[========                                                  ]  14% ETA:  0:01:00\r"
     ]
    },
    {
     "name": "stdout",
     "output_type": "stream",
     "text": [
      "14/100\n"
     ]
    },
    {
     "name": "stderr",
     "output_type": "stream",
     "text": [
      "[========                                                  ]  15% ETA:  0:00:59\r"
     ]
    },
    {
     "name": "stdout",
     "output_type": "stream",
     "text": [
      "15/100\n"
     ]
    },
    {
     "name": "stderr",
     "output_type": "stream",
     "text": [
      "[=========                                                 ]  16% ETA:  0:00:58\r"
     ]
    },
    {
     "name": "stdout",
     "output_type": "stream",
     "text": [
      "16/100\n"
     ]
    },
    {
     "name": "stderr",
     "output_type": "stream",
     "text": [
      "[=========                                                 ]  17% ETA:  0:00:57\r"
     ]
    },
    {
     "name": "stdout",
     "output_type": "stream",
     "text": [
      "17/100\n"
     ]
    },
    {
     "name": "stderr",
     "output_type": "stream",
     "text": [
      "[==========                                                ]  18% ETA:  0:00:56\r"
     ]
    },
    {
     "name": "stdout",
     "output_type": "stream",
     "text": [
      "18/100\n"
     ]
    },
    {
     "name": "stderr",
     "output_type": "stream",
     "text": [
      "[===========                                               ]  19% ETA:  0:00:55\r"
     ]
    },
    {
     "name": "stdout",
     "output_type": "stream",
     "text": [
      "19/100\n"
     ]
    },
    {
     "name": "stderr",
     "output_type": "stream",
     "text": [
      "[===========                                               ]  20% ETA:  0:00:54\r"
     ]
    },
    {
     "name": "stdout",
     "output_type": "stream",
     "text": [
      "20/100\n"
     ]
    },
    {
     "name": "stderr",
     "output_type": "stream",
     "text": [
      "[============                                              ]  21% ETA:  0:00:53\r"
     ]
    },
    {
     "name": "stdout",
     "output_type": "stream",
     "text": [
      "21/100\n"
     ]
    },
    {
     "name": "stderr",
     "output_type": "stream",
     "text": [
      "[============                                              ]  22% ETA:  0:00:52\r"
     ]
    },
    {
     "name": "stdout",
     "output_type": "stream",
     "text": [
      "22/100\n"
     ]
    },
    {
     "name": "stderr",
     "output_type": "stream",
     "text": [
      "[=============                                             ]  23% ETA:  0:00:51\r"
     ]
    },
    {
     "name": "stdout",
     "output_type": "stream",
     "text": [
      "23/100\n"
     ]
    },
    {
     "name": "stderr",
     "output_type": "stream",
     "text": [
      "[=============                                             ]  24% ETA:  0:00:50\r"
     ]
    },
    {
     "name": "stdout",
     "output_type": "stream",
     "text": [
      "24/100\n"
     ]
    },
    {
     "name": "stderr",
     "output_type": "stream",
     "text": [
      "[==============                                            ]  25% ETA:  0:00:49\r"
     ]
    },
    {
     "name": "stdout",
     "output_type": "stream",
     "text": [
      "25/100\n"
     ]
    },
    {
     "name": "stderr",
     "output_type": "stream",
     "text": [
      "[===============                                           ]  26% ETA:  0:00:48\r"
     ]
    },
    {
     "name": "stdout",
     "output_type": "stream",
     "text": [
      "26/100\n"
     ]
    },
    {
     "name": "stderr",
     "output_type": "stream",
     "text": [
      "[===============                                           ]  27% ETA:  0:00:47\r"
     ]
    },
    {
     "name": "stdout",
     "output_type": "stream",
     "text": [
      "27/100\n"
     ]
    },
    {
     "name": "stderr",
     "output_type": "stream",
     "text": [
      "[================                                          ]  28% ETA:  0:00:46\r"
     ]
    },
    {
     "name": "stdout",
     "output_type": "stream",
     "text": [
      "28/100\n"
     ]
    },
    {
     "name": "stderr",
     "output_type": "stream",
     "text": [
      "[================                                          ]  29% ETA:  0:00:45\r"
     ]
    },
    {
     "name": "stdout",
     "output_type": "stream",
     "text": [
      "29/100\n"
     ]
    },
    {
     "name": "stderr",
     "output_type": "stream",
     "text": [
      "[=================                                         ]  30% ETA:  0:00:44\r"
     ]
    },
    {
     "name": "stdout",
     "output_type": "stream",
     "text": [
      "30/100\n"
     ]
    },
    {
     "name": "stderr",
     "output_type": "stream",
     "text": [
      "[=================                                         ]  31% ETA:  0:00:44\r"
     ]
    },
    {
     "name": "stdout",
     "output_type": "stream",
     "text": [
      "31/100\n"
     ]
    },
    {
     "name": "stderr",
     "output_type": "stream",
     "text": [
      "[==================                                        ]  32% ETA:  0:00:43\r"
     ]
    },
    {
     "name": "stdout",
     "output_type": "stream",
     "text": [
      "32/100\n"
     ]
    },
    {
     "name": "stderr",
     "output_type": "stream",
     "text": [
      "[===================                                       ]  33% ETA:  0:00:42\r"
     ]
    },
    {
     "name": "stdout",
     "output_type": "stream",
     "text": [
      "33/100\n"
     ]
    },
    {
     "name": "stderr",
     "output_type": "stream",
     "text": [
      "[===================                                       ]  34% ETA:  0:00:41\r"
     ]
    },
    {
     "name": "stdout",
     "output_type": "stream",
     "text": [
      "34/100\n"
     ]
    },
    {
     "name": "stderr",
     "output_type": "stream",
     "text": [
      "[====================                                      ]  35% ETA:  0:00:40\r"
     ]
    },
    {
     "name": "stdout",
     "output_type": "stream",
     "text": [
      "35/100\n"
     ]
    },
    {
     "name": "stderr",
     "output_type": "stream",
     "text": [
      "[====================                                      ]  36% ETA:  0:00:40\r"
     ]
    },
    {
     "name": "stdout",
     "output_type": "stream",
     "text": [
      "36/100\n"
     ]
    },
    {
     "name": "stderr",
     "output_type": "stream",
     "text": [
      "[=====================                                     ]  37% ETA:  0:00:39\r"
     ]
    },
    {
     "name": "stdout",
     "output_type": "stream",
     "text": [
      "37/100\n"
     ]
    },
    {
     "name": "stderr",
     "output_type": "stream",
     "text": [
      "[======================                                    ]  38% ETA:  0:00:38\r"
     ]
    },
    {
     "name": "stdout",
     "output_type": "stream",
     "text": [
      "38/100\n"
     ]
    },
    {
     "name": "stderr",
     "output_type": "stream",
     "text": [
      "[======================                                    ]  39% ETA:  0:00:38\r"
     ]
    },
    {
     "name": "stdout",
     "output_type": "stream",
     "text": [
      "39/100\n"
     ]
    },
    {
     "name": "stderr",
     "output_type": "stream",
     "text": [
      "[=======================                                   ]  40% ETA:  0:00:37\r"
     ]
    },
    {
     "name": "stdout",
     "output_type": "stream",
     "text": [
      "40/100\n"
     ]
    },
    {
     "name": "stderr",
     "output_type": "stream",
     "text": [
      "[=======================                                   ]  41% ETA:  0:00:36\r"
     ]
    },
    {
     "name": "stdout",
     "output_type": "stream",
     "text": [
      "41/100\n"
     ]
    },
    {
     "name": "stderr",
     "output_type": "stream",
     "text": [
      "[========================                                  ]  42% ETA:  0:00:35\r"
     ]
    },
    {
     "name": "stdout",
     "output_type": "stream",
     "text": [
      "42/100\n"
     ]
    },
    {
     "name": "stderr",
     "output_type": "stream",
     "text": [
      "[========================                                  ]  43% ETA:  0:00:35\r"
     ]
    },
    {
     "name": "stdout",
     "output_type": "stream",
     "text": [
      "43/100\n"
     ]
    },
    {
     "name": "stderr",
     "output_type": "stream",
     "text": [
      "[=========================                                 ]  44% ETA:  0:00:34\r"
     ]
    },
    {
     "name": "stdout",
     "output_type": "stream",
     "text": [
      "44/100\n"
     ]
    },
    {
     "name": "stderr",
     "output_type": "stream",
     "text": [
      "[==========================                                ]  45% ETA:  0:00:33\r"
     ]
    },
    {
     "name": "stdout",
     "output_type": "stream",
     "text": [
      "45/100\n"
     ]
    },
    {
     "name": "stderr",
     "output_type": "stream",
     "text": [
      "[==========================                                ]  46% ETA:  0:00:33\r"
     ]
    },
    {
     "name": "stdout",
     "output_type": "stream",
     "text": [
      "46/100\n"
     ]
    },
    {
     "name": "stderr",
     "output_type": "stream",
     "text": [
      "[===========================                               ]  47% ETA:  0:00:32\r"
     ]
    },
    {
     "name": "stdout",
     "output_type": "stream",
     "text": [
      "47/100\n"
     ]
    },
    {
     "name": "stderr",
     "output_type": "stream",
     "text": [
      "[===========================                               ]  48% ETA:  0:00:31\r"
     ]
    },
    {
     "name": "stdout",
     "output_type": "stream",
     "text": [
      "48/100\n"
     ]
    },
    {
     "name": "stderr",
     "output_type": "stream",
     "text": [
      "[============================                              ]  49% ETA:  0:00:31\r"
     ]
    },
    {
     "name": "stdout",
     "output_type": "stream",
     "text": [
      "49/100\n"
     ]
    },
    {
     "name": "stderr",
     "output_type": "stream",
     "text": [
      "[=============================                             ]  50% ETA:  0:00:30\r"
     ]
    },
    {
     "name": "stdout",
     "output_type": "stream",
     "text": [
      "50/100\n"
     ]
    },
    {
     "name": "stderr",
     "output_type": "stream",
     "text": [
      "[=============================                             ]  51% ETA:  0:00:29\r"
     ]
    },
    {
     "name": "stdout",
     "output_type": "stream",
     "text": [
      "51/100\n"
     ]
    },
    {
     "name": "stderr",
     "output_type": "stream",
     "text": [
      "[==============================                            ]  52% ETA:  0:00:29\r"
     ]
    },
    {
     "name": "stdout",
     "output_type": "stream",
     "text": [
      "52/100\n"
     ]
    },
    {
     "name": "stderr",
     "output_type": "stream",
     "text": [
      "[==============================                            ]  53% ETA:  0:00:28\r"
     ]
    },
    {
     "name": "stdout",
     "output_type": "stream",
     "text": [
      "53/100\n"
     ]
    },
    {
     "name": "stderr",
     "output_type": "stream",
     "text": [
      "[===============================                           ]  54% ETA:  0:00:27\r"
     ]
    },
    {
     "name": "stdout",
     "output_type": "stream",
     "text": [
      "54/100\n"
     ]
    },
    {
     "name": "stderr",
     "output_type": "stream",
     "text": [
      "[===============================                           ]  55% ETA:  0:00:27\r"
     ]
    },
    {
     "name": "stdout",
     "output_type": "stream",
     "text": [
      "55/100\n"
     ]
    },
    {
     "name": "stderr",
     "output_type": "stream",
     "text": [
      "[================================                          ]  56% ETA:  0:00:26\r"
     ]
    },
    {
     "name": "stdout",
     "output_type": "stream",
     "text": [
      "56/100\n"
     ]
    },
    {
     "name": "stderr",
     "output_type": "stream",
     "text": [
      "[=================================                         ]  57% ETA:  0:00:25\r"
     ]
    },
    {
     "name": "stdout",
     "output_type": "stream",
     "text": [
      "57/100\n"
     ]
    },
    {
     "name": "stderr",
     "output_type": "stream",
     "text": [
      "[=================================                         ]  58% ETA:  0:00:25\r"
     ]
    },
    {
     "name": "stdout",
     "output_type": "stream",
     "text": [
      "58/100\n"
     ]
    },
    {
     "name": "stderr",
     "output_type": "stream",
     "text": [
      "[==================================                        ]  59% ETA:  0:00:24\r"
     ]
    },
    {
     "name": "stdout",
     "output_type": "stream",
     "text": [
      "59/100\n"
     ]
    },
    {
     "name": "stderr",
     "output_type": "stream",
     "text": [
      "[==================================                        ]  60% ETA:  0:00:23\r"
     ]
    },
    {
     "name": "stdout",
     "output_type": "stream",
     "text": [
      "60/100\n"
     ]
    },
    {
     "name": "stderr",
     "output_type": "stream",
     "text": [
      "[===================================                       ]  61% ETA:  0:00:23\r"
     ]
    },
    {
     "name": "stdout",
     "output_type": "stream",
     "text": [
      "61/100\n"
     ]
    },
    {
     "name": "stderr",
     "output_type": "stream",
     "text": [
      "[===================================                       ]  62% ETA:  0:00:22\r"
     ]
    },
    {
     "name": "stdout",
     "output_type": "stream",
     "text": [
      "62/100\n"
     ]
    },
    {
     "name": "stderr",
     "output_type": "stream",
     "text": [
      "[====================================                      ]  63% ETA:  0:00:21\r"
     ]
    },
    {
     "name": "stdout",
     "output_type": "stream",
     "text": [
      "63/100\n"
     ]
    },
    {
     "name": "stderr",
     "output_type": "stream",
     "text": [
      "[=====================================                     ]  64% ETA:  0:00:21\r"
     ]
    },
    {
     "name": "stdout",
     "output_type": "stream",
     "text": [
      "64/100\n"
     ]
    },
    {
     "name": "stderr",
     "output_type": "stream",
     "text": [
      "[=====================================                     ]  65% ETA:  0:00:20\r"
     ]
    },
    {
     "name": "stdout",
     "output_type": "stream",
     "text": [
      "65/100\n"
     ]
    },
    {
     "name": "stderr",
     "output_type": "stream",
     "text": [
      "[======================================                    ]  66% ETA:  0:00:19\r"
     ]
    },
    {
     "name": "stdout",
     "output_type": "stream",
     "text": [
      "66/100\n"
     ]
    },
    {
     "name": "stderr",
     "output_type": "stream",
     "text": [
      "[======================================                    ]  67% ETA:  0:00:19\r"
     ]
    },
    {
     "name": "stdout",
     "output_type": "stream",
     "text": [
      "67/100\n"
     ]
    },
    {
     "name": "stderr",
     "output_type": "stream",
     "text": [
      "[=======================================                   ]  68% ETA:  0:00:18\r"
     ]
    },
    {
     "name": "stdout",
     "output_type": "stream",
     "text": [
      "68/100\n"
     ]
    },
    {
     "name": "stderr",
     "output_type": "stream",
     "text": [
      "[========================================                  ]  69% ETA:  0:00:18\r"
     ]
    },
    {
     "name": "stdout",
     "output_type": "stream",
     "text": [
      "69/100\n"
     ]
    },
    {
     "name": "stderr",
     "output_type": "stream",
     "text": [
      "[========================================                  ]  70% ETA:  0:00:17\r"
     ]
    },
    {
     "name": "stdout",
     "output_type": "stream",
     "text": [
      "70/100\n"
     ]
    },
    {
     "name": "stderr",
     "output_type": "stream",
     "text": [
      "[=========================================                 ]  71% ETA:  0:00:16\r"
     ]
    },
    {
     "name": "stdout",
     "output_type": "stream",
     "text": [
      "71/100\n"
     ]
    },
    {
     "name": "stderr",
     "output_type": "stream",
     "text": [
      "[=========================================                 ]  72% ETA:  0:00:16\r"
     ]
    },
    {
     "name": "stdout",
     "output_type": "stream",
     "text": [
      "72/100\n"
     ]
    },
    {
     "name": "stderr",
     "output_type": "stream",
     "text": [
      "[==========================================                ]  73% ETA:  0:00:15\r"
     ]
    },
    {
     "name": "stdout",
     "output_type": "stream",
     "text": [
      "73/100\n"
     ]
    },
    {
     "name": "stderr",
     "output_type": "stream",
     "text": [
      "[==========================================                ]  74% ETA:  0:00:14\r"
     ]
    },
    {
     "name": "stdout",
     "output_type": "stream",
     "text": [
      "74/100\n"
     ]
    },
    {
     "name": "stderr",
     "output_type": "stream",
     "text": [
      "[===========================================               ]  75% ETA:  0:00:14\r"
     ]
    },
    {
     "name": "stdout",
     "output_type": "stream",
     "text": [
      "75/100\n"
     ]
    },
    {
     "name": "stderr",
     "output_type": "stream",
     "text": [
      "[============================================              ]  76% ETA:  0:00:13\r"
     ]
    },
    {
     "name": "stdout",
     "output_type": "stream",
     "text": [
      "76/100\n"
     ]
    },
    {
     "name": "stderr",
     "output_type": "stream",
     "text": [
      "[============================================              ]  77% ETA:  0:00:13\r"
     ]
    },
    {
     "name": "stdout",
     "output_type": "stream",
     "text": [
      "77/100\n"
     ]
    },
    {
     "name": "stderr",
     "output_type": "stream",
     "text": [
      "[=============================================             ]  78% ETA:  0:00:12\r"
     ]
    },
    {
     "name": "stdout",
     "output_type": "stream",
     "text": [
      "78/100\n"
     ]
    },
    {
     "name": "stderr",
     "output_type": "stream",
     "text": [
      "[=============================================             ]  79% ETA:  0:00:12\r"
     ]
    },
    {
     "name": "stdout",
     "output_type": "stream",
     "text": [
      "79/100\n"
     ]
    },
    {
     "name": "stderr",
     "output_type": "stream",
     "text": [
      "[==============================================            ]  80% ETA:  0:00:11\r"
     ]
    },
    {
     "name": "stdout",
     "output_type": "stream",
     "text": [
      "80/100\n"
     ]
    },
    {
     "name": "stderr",
     "output_type": "stream",
     "text": [
      "[==============================================            ]  81% ETA:  0:00:10\r"
     ]
    },
    {
     "name": "stdout",
     "output_type": "stream",
     "text": [
      "81/100\n"
     ]
    },
    {
     "name": "stderr",
     "output_type": "stream",
     "text": [
      "[===============================================           ]  82% ETA:  0:00:10\r"
     ]
    },
    {
     "name": "stdout",
     "output_type": "stream",
     "text": [
      "82/100\n"
     ]
    },
    {
     "name": "stderr",
     "output_type": "stream",
     "text": [
      "[================================================          ]  83% ETA:  0:00:09\r"
     ]
    },
    {
     "name": "stdout",
     "output_type": "stream",
     "text": [
      "83/100\n"
     ]
    },
    {
     "name": "stderr",
     "output_type": "stream",
     "text": [
      "[================================================          ]  84% ETA:  0:00:09\r"
     ]
    },
    {
     "name": "stdout",
     "output_type": "stream",
     "text": [
      "84/100\n"
     ]
    },
    {
     "name": "stderr",
     "output_type": "stream",
     "text": [
      "[=================================================         ]  85% ETA:  0:00:08\r"
     ]
    },
    {
     "name": "stdout",
     "output_type": "stream",
     "text": [
      "85/100\n"
     ]
    },
    {
     "name": "stderr",
     "output_type": "stream",
     "text": [
      "[=================================================         ]  86% ETA:  0:00:08\r"
     ]
    },
    {
     "name": "stdout",
     "output_type": "stream",
     "text": [
      "86/100\n"
     ]
    },
    {
     "name": "stderr",
     "output_type": "stream",
     "text": [
      "[==================================================        ]  87% ETA:  0:00:07\r"
     ]
    },
    {
     "name": "stdout",
     "output_type": "stream",
     "text": [
      "87/100\n"
     ]
    },
    {
     "name": "stderr",
     "output_type": "stream",
     "text": [
      "[===================================================       ]  88% ETA:  0:00:06\r"
     ]
    },
    {
     "name": "stdout",
     "output_type": "stream",
     "text": [
      "88/100\n"
     ]
    },
    {
     "name": "stderr",
     "output_type": "stream",
     "text": [
      "[===================================================       ]  89% ETA:  0:00:06\r"
     ]
    },
    {
     "name": "stdout",
     "output_type": "stream",
     "text": [
      "89/100\n"
     ]
    },
    {
     "name": "stderr",
     "output_type": "stream",
     "text": [
      "[====================================================      ]  90% ETA:  0:00:05\r"
     ]
    },
    {
     "name": "stdout",
     "output_type": "stream",
     "text": [
      "90/100\n"
     ]
    },
    {
     "name": "stderr",
     "output_type": "stream",
     "text": [
      "[====================================================      ]  91% ETA:  0:00:05\r"
     ]
    },
    {
     "name": "stdout",
     "output_type": "stream",
     "text": [
      "91/100\n"
     ]
    },
    {
     "name": "stderr",
     "output_type": "stream",
     "text": [
      "[=====================================================     ]  92% ETA:  0:00:04\r"
     ]
    },
    {
     "name": "stdout",
     "output_type": "stream",
     "text": [
      "92/100\n"
     ]
    },
    {
     "name": "stderr",
     "output_type": "stream",
     "text": [
      "[=====================================================     ]  93% ETA:  0:00:03\r"
     ]
    },
    {
     "name": "stdout",
     "output_type": "stream",
     "text": [
      "93/100\n"
     ]
    },
    {
     "name": "stderr",
     "output_type": "stream",
     "text": [
      "[======================================================    ]  94% ETA:  0:00:03\r"
     ]
    },
    {
     "name": "stdout",
     "output_type": "stream",
     "text": [
      "94/100\n"
     ]
    },
    {
     "name": "stderr",
     "output_type": "stream",
     "text": [
      "[=======================================================   ]  95% ETA:  0:00:02\r"
     ]
    },
    {
     "name": "stdout",
     "output_type": "stream",
     "text": [
      "95/100\n"
     ]
    },
    {
     "name": "stderr",
     "output_type": "stream",
     "text": [
      "[=======================================================   ]  96% ETA:  0:00:02\r"
     ]
    },
    {
     "name": "stdout",
     "output_type": "stream",
     "text": [
      "96/100\n"
     ]
    },
    {
     "name": "stderr",
     "output_type": "stream",
     "text": [
      "[========================================================  ]  97% ETA:  0:00:01\r"
     ]
    },
    {
     "name": "stdout",
     "output_type": "stream",
     "text": [
      "97/100\n"
     ]
    },
    {
     "name": "stderr",
     "output_type": "stream",
     "text": [
      "[========================================================  ]  98% ETA:  0:00:01\r"
     ]
    },
    {
     "name": "stdout",
     "output_type": "stream",
     "text": [
      "98/100\n"
     ]
    },
    {
     "name": "stderr",
     "output_type": "stream",
     "text": [
      "[========================================================= ]  99% ETA:  0:00:00\r"
     ]
    },
    {
     "name": "stdout",
     "output_type": "stream",
     "text": [
      "99/100\n"
     ]
    },
    {
     "name": "stderr",
     "output_type": "stream",
     "text": [
      "[==========================================================] 100% ETA:  0:00:00\r"
     ]
    },
    {
     "data": {
      "application/javascript": [
       "/* Put everything inside the global mpl namespace */\n",
       "/* global mpl */\n",
       "window.mpl = {};\n",
       "\n",
       "mpl.get_websocket_type = function () {\n",
       "    if (typeof WebSocket !== 'undefined') {\n",
       "        return WebSocket;\n",
       "    } else if (typeof MozWebSocket !== 'undefined') {\n",
       "        return MozWebSocket;\n",
       "    } else {\n",
       "        alert(\n",
       "            'Your browser does not have WebSocket support. ' +\n",
       "                'Please try Chrome, Safari or Firefox ≥ 6. ' +\n",
       "                'Firefox 4 and 5 are also supported but you ' +\n",
       "                'have to enable WebSockets in about:config.'\n",
       "        );\n",
       "    }\n",
       "};\n",
       "\n",
       "mpl.figure = function (figure_id, websocket, ondownload, parent_element) {\n",
       "    this.id = figure_id;\n",
       "\n",
       "    this.ws = websocket;\n",
       "\n",
       "    this.supports_binary = this.ws.binaryType !== undefined;\n",
       "\n",
       "    if (!this.supports_binary) {\n",
       "        var warnings = document.getElementById('mpl-warnings');\n",
       "        if (warnings) {\n",
       "            warnings.style.display = 'block';\n",
       "            warnings.textContent =\n",
       "                'This browser does not support binary websocket messages. ' +\n",
       "                'Performance may be slow.';\n",
       "        }\n",
       "    }\n",
       "\n",
       "    this.imageObj = new Image();\n",
       "\n",
       "    this.context = undefined;\n",
       "    this.message = undefined;\n",
       "    this.canvas = undefined;\n",
       "    this.rubberband_canvas = undefined;\n",
       "    this.rubberband_context = undefined;\n",
       "    this.format_dropdown = undefined;\n",
       "\n",
       "    this.image_mode = 'full';\n",
       "\n",
       "    this.root = document.createElement('div');\n",
       "    this.root.setAttribute('style', 'display: inline-block');\n",
       "    this._root_extra_style(this.root);\n",
       "\n",
       "    parent_element.appendChild(this.root);\n",
       "\n",
       "    this._init_header(this);\n",
       "    this._init_canvas(this);\n",
       "    this._init_toolbar(this);\n",
       "\n",
       "    var fig = this;\n",
       "\n",
       "    this.waiting = false;\n",
       "\n",
       "    this.ws.onopen = function () {\n",
       "        fig.send_message('supports_binary', { value: fig.supports_binary });\n",
       "        fig.send_message('send_image_mode', {});\n",
       "        if (fig.ratio !== 1) {\n",
       "            fig.send_message('set_dpi_ratio', { dpi_ratio: fig.ratio });\n",
       "        }\n",
       "        fig.send_message('refresh', {});\n",
       "    };\n",
       "\n",
       "    this.imageObj.onload = function () {\n",
       "        if (fig.image_mode === 'full') {\n",
       "            // Full images could contain transparency (where diff images\n",
       "            // almost always do), so we need to clear the canvas so that\n",
       "            // there is no ghosting.\n",
       "            fig.context.clearRect(0, 0, fig.canvas.width, fig.canvas.height);\n",
       "        }\n",
       "        fig.context.drawImage(fig.imageObj, 0, 0);\n",
       "    };\n",
       "\n",
       "    this.imageObj.onunload = function () {\n",
       "        fig.ws.close();\n",
       "    };\n",
       "\n",
       "    this.ws.onmessage = this._make_on_message_function(this);\n",
       "\n",
       "    this.ondownload = ondownload;\n",
       "};\n",
       "\n",
       "mpl.figure.prototype._init_header = function () {\n",
       "    var titlebar = document.createElement('div');\n",
       "    titlebar.classList =\n",
       "        'ui-dialog-titlebar ui-widget-header ui-corner-all ui-helper-clearfix';\n",
       "    var titletext = document.createElement('div');\n",
       "    titletext.classList = 'ui-dialog-title';\n",
       "    titletext.setAttribute(\n",
       "        'style',\n",
       "        'width: 100%; text-align: center; padding: 3px;'\n",
       "    );\n",
       "    titlebar.appendChild(titletext);\n",
       "    this.root.appendChild(titlebar);\n",
       "    this.header = titletext;\n",
       "};\n",
       "\n",
       "mpl.figure.prototype._canvas_extra_style = function (_canvas_div) {};\n",
       "\n",
       "mpl.figure.prototype._root_extra_style = function (_canvas_div) {};\n",
       "\n",
       "mpl.figure.prototype._init_canvas = function () {\n",
       "    var fig = this;\n",
       "\n",
       "    var canvas_div = (this.canvas_div = document.createElement('div'));\n",
       "    canvas_div.setAttribute(\n",
       "        'style',\n",
       "        'border: 1px solid #ddd;' +\n",
       "            'box-sizing: content-box;' +\n",
       "            'clear: both;' +\n",
       "            'min-height: 1px;' +\n",
       "            'min-width: 1px;' +\n",
       "            'outline: 0;' +\n",
       "            'overflow: hidden;' +\n",
       "            'position: relative;' +\n",
       "            'resize: both;'\n",
       "    );\n",
       "\n",
       "    function on_keyboard_event_closure(name) {\n",
       "        return function (event) {\n",
       "            return fig.key_event(event, name);\n",
       "        };\n",
       "    }\n",
       "\n",
       "    canvas_div.addEventListener(\n",
       "        'keydown',\n",
       "        on_keyboard_event_closure('key_press')\n",
       "    );\n",
       "    canvas_div.addEventListener(\n",
       "        'keyup',\n",
       "        on_keyboard_event_closure('key_release')\n",
       "    );\n",
       "\n",
       "    this._canvas_extra_style(canvas_div);\n",
       "    this.root.appendChild(canvas_div);\n",
       "\n",
       "    var canvas = (this.canvas = document.createElement('canvas'));\n",
       "    canvas.classList.add('mpl-canvas');\n",
       "    canvas.setAttribute('style', 'box-sizing: content-box;');\n",
       "\n",
       "    this.context = canvas.getContext('2d');\n",
       "\n",
       "    var backingStore =\n",
       "        this.context.backingStorePixelRatio ||\n",
       "        this.context.webkitBackingStorePixelRatio ||\n",
       "        this.context.mozBackingStorePixelRatio ||\n",
       "        this.context.msBackingStorePixelRatio ||\n",
       "        this.context.oBackingStorePixelRatio ||\n",
       "        this.context.backingStorePixelRatio ||\n",
       "        1;\n",
       "\n",
       "    this.ratio = (window.devicePixelRatio || 1) / backingStore;\n",
       "    if (this.ratio !== 1) {\n",
       "        fig.send_message('set_dpi_ratio', { dpi_ratio: this.ratio });\n",
       "    }\n",
       "\n",
       "    var rubberband_canvas = (this.rubberband_canvas = document.createElement(\n",
       "        'canvas'\n",
       "    ));\n",
       "    rubberband_canvas.setAttribute(\n",
       "        'style',\n",
       "        'box-sizing: content-box; position: absolute; left: 0; top: 0; z-index: 1;'\n",
       "    );\n",
       "\n",
       "    var resizeObserver = new ResizeObserver(function (entries) {\n",
       "        var nentries = entries.length;\n",
       "        for (var i = 0; i < nentries; i++) {\n",
       "            var entry = entries[i];\n",
       "            var width, height;\n",
       "            if (entry.contentBoxSize) {\n",
       "                if (entry.contentBoxSize instanceof Array) {\n",
       "                    // Chrome 84 implements new version of spec.\n",
       "                    width = entry.contentBoxSize[0].inlineSize;\n",
       "                    height = entry.contentBoxSize[0].blockSize;\n",
       "                } else {\n",
       "                    // Firefox implements old version of spec.\n",
       "                    width = entry.contentBoxSize.inlineSize;\n",
       "                    height = entry.contentBoxSize.blockSize;\n",
       "                }\n",
       "            } else {\n",
       "                // Chrome <84 implements even older version of spec.\n",
       "                width = entry.contentRect.width;\n",
       "                height = entry.contentRect.height;\n",
       "            }\n",
       "\n",
       "            // Keep the size of the canvas and rubber band canvas in sync with\n",
       "            // the canvas container.\n",
       "            if (entry.devicePixelContentBoxSize) {\n",
       "                // Chrome 84 implements new version of spec.\n",
       "                canvas.setAttribute(\n",
       "                    'width',\n",
       "                    entry.devicePixelContentBoxSize[0].inlineSize\n",
       "                );\n",
       "                canvas.setAttribute(\n",
       "                    'height',\n",
       "                    entry.devicePixelContentBoxSize[0].blockSize\n",
       "                );\n",
       "            } else {\n",
       "                canvas.setAttribute('width', width * fig.ratio);\n",
       "                canvas.setAttribute('height', height * fig.ratio);\n",
       "            }\n",
       "            canvas.setAttribute(\n",
       "                'style',\n",
       "                'width: ' + width + 'px; height: ' + height + 'px;'\n",
       "            );\n",
       "\n",
       "            rubberband_canvas.setAttribute('width', width);\n",
       "            rubberband_canvas.setAttribute('height', height);\n",
       "\n",
       "            // And update the size in Python. We ignore the initial 0/0 size\n",
       "            // that occurs as the element is placed into the DOM, which should\n",
       "            // otherwise not happen due to the minimum size styling.\n",
       "            if (width != 0 && height != 0) {\n",
       "                fig.request_resize(width, height);\n",
       "            }\n",
       "        }\n",
       "    });\n",
       "    resizeObserver.observe(canvas_div);\n",
       "\n",
       "    function on_mouse_event_closure(name) {\n",
       "        return function (event) {\n",
       "            return fig.mouse_event(event, name);\n",
       "        };\n",
       "    }\n",
       "\n",
       "    rubberband_canvas.addEventListener(\n",
       "        'mousedown',\n",
       "        on_mouse_event_closure('button_press')\n",
       "    );\n",
       "    rubberband_canvas.addEventListener(\n",
       "        'mouseup',\n",
       "        on_mouse_event_closure('button_release')\n",
       "    );\n",
       "    // Throttle sequential mouse events to 1 every 20ms.\n",
       "    rubberband_canvas.addEventListener(\n",
       "        'mousemove',\n",
       "        on_mouse_event_closure('motion_notify')\n",
       "    );\n",
       "\n",
       "    rubberband_canvas.addEventListener(\n",
       "        'mouseenter',\n",
       "        on_mouse_event_closure('figure_enter')\n",
       "    );\n",
       "    rubberband_canvas.addEventListener(\n",
       "        'mouseleave',\n",
       "        on_mouse_event_closure('figure_leave')\n",
       "    );\n",
       "\n",
       "    canvas_div.addEventListener('wheel', function (event) {\n",
       "        if (event.deltaY < 0) {\n",
       "            event.step = 1;\n",
       "        } else {\n",
       "            event.step = -1;\n",
       "        }\n",
       "        on_mouse_event_closure('scroll')(event);\n",
       "    });\n",
       "\n",
       "    canvas_div.appendChild(canvas);\n",
       "    canvas_div.appendChild(rubberband_canvas);\n",
       "\n",
       "    this.rubberband_context = rubberband_canvas.getContext('2d');\n",
       "    this.rubberband_context.strokeStyle = '#000000';\n",
       "\n",
       "    this._resize_canvas = function (width, height, forward) {\n",
       "        if (forward) {\n",
       "            canvas_div.style.width = width + 'px';\n",
       "            canvas_div.style.height = height + 'px';\n",
       "        }\n",
       "    };\n",
       "\n",
       "    // Disable right mouse context menu.\n",
       "    this.rubberband_canvas.addEventListener('contextmenu', function (_e) {\n",
       "        event.preventDefault();\n",
       "        return false;\n",
       "    });\n",
       "\n",
       "    function set_focus() {\n",
       "        canvas.focus();\n",
       "        canvas_div.focus();\n",
       "    }\n",
       "\n",
       "    window.setTimeout(set_focus, 100);\n",
       "};\n",
       "\n",
       "mpl.figure.prototype._init_toolbar = function () {\n",
       "    var fig = this;\n",
       "\n",
       "    var toolbar = document.createElement('div');\n",
       "    toolbar.classList = 'mpl-toolbar';\n",
       "    this.root.appendChild(toolbar);\n",
       "\n",
       "    function on_click_closure(name) {\n",
       "        return function (_event) {\n",
       "            return fig.toolbar_button_onclick(name);\n",
       "        };\n",
       "    }\n",
       "\n",
       "    function on_mouseover_closure(tooltip) {\n",
       "        return function (event) {\n",
       "            if (!event.currentTarget.disabled) {\n",
       "                return fig.toolbar_button_onmouseover(tooltip);\n",
       "            }\n",
       "        };\n",
       "    }\n",
       "\n",
       "    fig.buttons = {};\n",
       "    var buttonGroup = document.createElement('div');\n",
       "    buttonGroup.classList = 'mpl-button-group';\n",
       "    for (var toolbar_ind in mpl.toolbar_items) {\n",
       "        var name = mpl.toolbar_items[toolbar_ind][0];\n",
       "        var tooltip = mpl.toolbar_items[toolbar_ind][1];\n",
       "        var image = mpl.toolbar_items[toolbar_ind][2];\n",
       "        var method_name = mpl.toolbar_items[toolbar_ind][3];\n",
       "\n",
       "        if (!name) {\n",
       "            /* Instead of a spacer, we start a new button group. */\n",
       "            if (buttonGroup.hasChildNodes()) {\n",
       "                toolbar.appendChild(buttonGroup);\n",
       "            }\n",
       "            buttonGroup = document.createElement('div');\n",
       "            buttonGroup.classList = 'mpl-button-group';\n",
       "            continue;\n",
       "        }\n",
       "\n",
       "        var button = (fig.buttons[name] = document.createElement('button'));\n",
       "        button.classList = 'mpl-widget';\n",
       "        button.setAttribute('role', 'button');\n",
       "        button.setAttribute('aria-disabled', 'false');\n",
       "        button.addEventListener('click', on_click_closure(method_name));\n",
       "        button.addEventListener('mouseover', on_mouseover_closure(tooltip));\n",
       "\n",
       "        var icon_img = document.createElement('img');\n",
       "        icon_img.src = '_images/' + image + '.png';\n",
       "        icon_img.srcset = '_images/' + image + '_large.png 2x';\n",
       "        icon_img.alt = tooltip;\n",
       "        button.appendChild(icon_img);\n",
       "\n",
       "        buttonGroup.appendChild(button);\n",
       "    }\n",
       "\n",
       "    if (buttonGroup.hasChildNodes()) {\n",
       "        toolbar.appendChild(buttonGroup);\n",
       "    }\n",
       "\n",
       "    var fmt_picker = document.createElement('select');\n",
       "    fmt_picker.classList = 'mpl-widget';\n",
       "    toolbar.appendChild(fmt_picker);\n",
       "    this.format_dropdown = fmt_picker;\n",
       "\n",
       "    for (var ind in mpl.extensions) {\n",
       "        var fmt = mpl.extensions[ind];\n",
       "        var option = document.createElement('option');\n",
       "        option.selected = fmt === mpl.default_extension;\n",
       "        option.innerHTML = fmt;\n",
       "        fmt_picker.appendChild(option);\n",
       "    }\n",
       "\n",
       "    var status_bar = document.createElement('span');\n",
       "    status_bar.classList = 'mpl-message';\n",
       "    toolbar.appendChild(status_bar);\n",
       "    this.message = status_bar;\n",
       "};\n",
       "\n",
       "mpl.figure.prototype.request_resize = function (x_pixels, y_pixels) {\n",
       "    // Request matplotlib to resize the figure. Matplotlib will then trigger a resize in the client,\n",
       "    // which will in turn request a refresh of the image.\n",
       "    this.send_message('resize', { width: x_pixels, height: y_pixels });\n",
       "};\n",
       "\n",
       "mpl.figure.prototype.send_message = function (type, properties) {\n",
       "    properties['type'] = type;\n",
       "    properties['figure_id'] = this.id;\n",
       "    this.ws.send(JSON.stringify(properties));\n",
       "};\n",
       "\n",
       "mpl.figure.prototype.send_draw_message = function () {\n",
       "    if (!this.waiting) {\n",
       "        this.waiting = true;\n",
       "        this.ws.send(JSON.stringify({ type: 'draw', figure_id: this.id }));\n",
       "    }\n",
       "};\n",
       "\n",
       "mpl.figure.prototype.handle_save = function (fig, _msg) {\n",
       "    var format_dropdown = fig.format_dropdown;\n",
       "    var format = format_dropdown.options[format_dropdown.selectedIndex].value;\n",
       "    fig.ondownload(fig, format);\n",
       "};\n",
       "\n",
       "mpl.figure.prototype.handle_resize = function (fig, msg) {\n",
       "    var size = msg['size'];\n",
       "    if (size[0] !== fig.canvas.width || size[1] !== fig.canvas.height) {\n",
       "        fig._resize_canvas(size[0], size[1], msg['forward']);\n",
       "        fig.send_message('refresh', {});\n",
       "    }\n",
       "};\n",
       "\n",
       "mpl.figure.prototype.handle_rubberband = function (fig, msg) {\n",
       "    var x0 = msg['x0'] / fig.ratio;\n",
       "    var y0 = (fig.canvas.height - msg['y0']) / fig.ratio;\n",
       "    var x1 = msg['x1'] / fig.ratio;\n",
       "    var y1 = (fig.canvas.height - msg['y1']) / fig.ratio;\n",
       "    x0 = Math.floor(x0) + 0.5;\n",
       "    y0 = Math.floor(y0) + 0.5;\n",
       "    x1 = Math.floor(x1) + 0.5;\n",
       "    y1 = Math.floor(y1) + 0.5;\n",
       "    var min_x = Math.min(x0, x1);\n",
       "    var min_y = Math.min(y0, y1);\n",
       "    var width = Math.abs(x1 - x0);\n",
       "    var height = Math.abs(y1 - y0);\n",
       "\n",
       "    fig.rubberband_context.clearRect(\n",
       "        0,\n",
       "        0,\n",
       "        fig.canvas.width / fig.ratio,\n",
       "        fig.canvas.height / fig.ratio\n",
       "    );\n",
       "\n",
       "    fig.rubberband_context.strokeRect(min_x, min_y, width, height);\n",
       "};\n",
       "\n",
       "mpl.figure.prototype.handle_figure_label = function (fig, msg) {\n",
       "    // Updates the figure title.\n",
       "    fig.header.textContent = msg['label'];\n",
       "};\n",
       "\n",
       "mpl.figure.prototype.handle_cursor = function (fig, msg) {\n",
       "    var cursor = msg['cursor'];\n",
       "    switch (cursor) {\n",
       "        case 0:\n",
       "            cursor = 'pointer';\n",
       "            break;\n",
       "        case 1:\n",
       "            cursor = 'default';\n",
       "            break;\n",
       "        case 2:\n",
       "            cursor = 'crosshair';\n",
       "            break;\n",
       "        case 3:\n",
       "            cursor = 'move';\n",
       "            break;\n",
       "    }\n",
       "    fig.rubberband_canvas.style.cursor = cursor;\n",
       "};\n",
       "\n",
       "mpl.figure.prototype.handle_message = function (fig, msg) {\n",
       "    fig.message.textContent = msg['message'];\n",
       "};\n",
       "\n",
       "mpl.figure.prototype.handle_draw = function (fig, _msg) {\n",
       "    // Request the server to send over a new figure.\n",
       "    fig.send_draw_message();\n",
       "};\n",
       "\n",
       "mpl.figure.prototype.handle_image_mode = function (fig, msg) {\n",
       "    fig.image_mode = msg['mode'];\n",
       "};\n",
       "\n",
       "mpl.figure.prototype.handle_history_buttons = function (fig, msg) {\n",
       "    for (var key in msg) {\n",
       "        if (!(key in fig.buttons)) {\n",
       "            continue;\n",
       "        }\n",
       "        fig.buttons[key].disabled = !msg[key];\n",
       "        fig.buttons[key].setAttribute('aria-disabled', !msg[key]);\n",
       "    }\n",
       "};\n",
       "\n",
       "mpl.figure.prototype.handle_navigate_mode = function (fig, msg) {\n",
       "    if (msg['mode'] === 'PAN') {\n",
       "        fig.buttons['Pan'].classList.add('active');\n",
       "        fig.buttons['Zoom'].classList.remove('active');\n",
       "    } else if (msg['mode'] === 'ZOOM') {\n",
       "        fig.buttons['Pan'].classList.remove('active');\n",
       "        fig.buttons['Zoom'].classList.add('active');\n",
       "    } else {\n",
       "        fig.buttons['Pan'].classList.remove('active');\n",
       "        fig.buttons['Zoom'].classList.remove('active');\n",
       "    }\n",
       "};\n",
       "\n",
       "mpl.figure.prototype.updated_canvas_event = function () {\n",
       "    // Called whenever the canvas gets updated.\n",
       "    this.send_message('ack', {});\n",
       "};\n",
       "\n",
       "// A function to construct a web socket function for onmessage handling.\n",
       "// Called in the figure constructor.\n",
       "mpl.figure.prototype._make_on_message_function = function (fig) {\n",
       "    return function socket_on_message(evt) {\n",
       "        if (evt.data instanceof Blob) {\n",
       "            /* FIXME: We get \"Resource interpreted as Image but\n",
       "             * transferred with MIME type text/plain:\" errors on\n",
       "             * Chrome.  But how to set the MIME type?  It doesn't seem\n",
       "             * to be part of the websocket stream */\n",
       "            evt.data.type = 'image/png';\n",
       "\n",
       "            /* Free the memory for the previous frames */\n",
       "            if (fig.imageObj.src) {\n",
       "                (window.URL || window.webkitURL).revokeObjectURL(\n",
       "                    fig.imageObj.src\n",
       "                );\n",
       "            }\n",
       "\n",
       "            fig.imageObj.src = (window.URL || window.webkitURL).createObjectURL(\n",
       "                evt.data\n",
       "            );\n",
       "            fig.updated_canvas_event();\n",
       "            fig.waiting = false;\n",
       "            return;\n",
       "        } else if (\n",
       "            typeof evt.data === 'string' &&\n",
       "            evt.data.slice(0, 21) === 'data:image/png;base64'\n",
       "        ) {\n",
       "            fig.imageObj.src = evt.data;\n",
       "            fig.updated_canvas_event();\n",
       "            fig.waiting = false;\n",
       "            return;\n",
       "        }\n",
       "\n",
       "        var msg = JSON.parse(evt.data);\n",
       "        var msg_type = msg['type'];\n",
       "\n",
       "        // Call the  \"handle_{type}\" callback, which takes\n",
       "        // the figure and JSON message as its only arguments.\n",
       "        try {\n",
       "            var callback = fig['handle_' + msg_type];\n",
       "        } catch (e) {\n",
       "            console.log(\n",
       "                \"No handler for the '\" + msg_type + \"' message type: \",\n",
       "                msg\n",
       "            );\n",
       "            return;\n",
       "        }\n",
       "\n",
       "        if (callback) {\n",
       "            try {\n",
       "                // console.log(\"Handling '\" + msg_type + \"' message: \", msg);\n",
       "                callback(fig, msg);\n",
       "            } catch (e) {\n",
       "                console.log(\n",
       "                    \"Exception inside the 'handler_\" + msg_type + \"' callback:\",\n",
       "                    e,\n",
       "                    e.stack,\n",
       "                    msg\n",
       "                );\n",
       "            }\n",
       "        }\n",
       "    };\n",
       "};\n",
       "\n",
       "// from http://stackoverflow.com/questions/1114465/getting-mouse-location-in-canvas\n",
       "mpl.findpos = function (e) {\n",
       "    //this section is from http://www.quirksmode.org/js/events_properties.html\n",
       "    var targ;\n",
       "    if (!e) {\n",
       "        e = window.event;\n",
       "    }\n",
       "    if (e.target) {\n",
       "        targ = e.target;\n",
       "    } else if (e.srcElement) {\n",
       "        targ = e.srcElement;\n",
       "    }\n",
       "    if (targ.nodeType === 3) {\n",
       "        // defeat Safari bug\n",
       "        targ = targ.parentNode;\n",
       "    }\n",
       "\n",
       "    // pageX,Y are the mouse positions relative to the document\n",
       "    var boundingRect = targ.getBoundingClientRect();\n",
       "    var x = e.pageX - (boundingRect.left + document.body.scrollLeft);\n",
       "    var y = e.pageY - (boundingRect.top + document.body.scrollTop);\n",
       "\n",
       "    return { x: x, y: y };\n",
       "};\n",
       "\n",
       "/*\n",
       " * return a copy of an object with only non-object keys\n",
       " * we need this to avoid circular references\n",
       " * http://stackoverflow.com/a/24161582/3208463\n",
       " */\n",
       "function simpleKeys(original) {\n",
       "    return Object.keys(original).reduce(function (obj, key) {\n",
       "        if (typeof original[key] !== 'object') {\n",
       "            obj[key] = original[key];\n",
       "        }\n",
       "        return obj;\n",
       "    }, {});\n",
       "}\n",
       "\n",
       "mpl.figure.prototype.mouse_event = function (event, name) {\n",
       "    var canvas_pos = mpl.findpos(event);\n",
       "\n",
       "    if (name === 'button_press') {\n",
       "        this.canvas.focus();\n",
       "        this.canvas_div.focus();\n",
       "    }\n",
       "\n",
       "    var x = canvas_pos.x * this.ratio;\n",
       "    var y = canvas_pos.y * this.ratio;\n",
       "\n",
       "    this.send_message(name, {\n",
       "        x: x,\n",
       "        y: y,\n",
       "        button: event.button,\n",
       "        step: event.step,\n",
       "        guiEvent: simpleKeys(event),\n",
       "    });\n",
       "\n",
       "    /* This prevents the web browser from automatically changing to\n",
       "     * the text insertion cursor when the button is pressed.  We want\n",
       "     * to control all of the cursor setting manually through the\n",
       "     * 'cursor' event from matplotlib */\n",
       "    event.preventDefault();\n",
       "    return false;\n",
       "};\n",
       "\n",
       "mpl.figure.prototype._key_event_extra = function (_event, _name) {\n",
       "    // Handle any extra behaviour associated with a key event\n",
       "};\n",
       "\n",
       "mpl.figure.prototype.key_event = function (event, name) {\n",
       "    // Prevent repeat events\n",
       "    if (name === 'key_press') {\n",
       "        if (event.which === this._key) {\n",
       "            return;\n",
       "        } else {\n",
       "            this._key = event.which;\n",
       "        }\n",
       "    }\n",
       "    if (name === 'key_release') {\n",
       "        this._key = null;\n",
       "    }\n",
       "\n",
       "    var value = '';\n",
       "    if (event.ctrlKey && event.which !== 17) {\n",
       "        value += 'ctrl+';\n",
       "    }\n",
       "    if (event.altKey && event.which !== 18) {\n",
       "        value += 'alt+';\n",
       "    }\n",
       "    if (event.shiftKey && event.which !== 16) {\n",
       "        value += 'shift+';\n",
       "    }\n",
       "\n",
       "    value += 'k';\n",
       "    value += event.which.toString();\n",
       "\n",
       "    this._key_event_extra(event, name);\n",
       "\n",
       "    this.send_message(name, { key: value, guiEvent: simpleKeys(event) });\n",
       "    return false;\n",
       "};\n",
       "\n",
       "mpl.figure.prototype.toolbar_button_onclick = function (name) {\n",
       "    if (name === 'download') {\n",
       "        this.handle_save(this, null);\n",
       "    } else {\n",
       "        this.send_message('toolbar_button', { name: name });\n",
       "    }\n",
       "};\n",
       "\n",
       "mpl.figure.prototype.toolbar_button_onmouseover = function (tooltip) {\n",
       "    this.message.textContent = tooltip;\n",
       "};\n",
       "mpl.toolbar_items = [[\"Home\", \"Reset original view\", \"fa fa-home icon-home\", \"home\"], [\"Back\", \"Back to previous view\", \"fa fa-arrow-left icon-arrow-left\", \"back\"], [\"Forward\", \"Forward to next view\", \"fa fa-arrow-right icon-arrow-right\", \"forward\"], [\"\", \"\", \"\", \"\"], [\"Pan\", \"Left button pans, Right button zooms\\nx/y fixes axis, CTRL fixes aspect\", \"fa fa-arrows icon-move\", \"pan\"], [\"Zoom\", \"Zoom to rectangle\\nx/y fixes axis, CTRL fixes aspect\", \"fa fa-square-o icon-check-empty\", \"zoom\"], [\"\", \"\", \"\", \"\"], [\"Download\", \"Download plot\", \"fa fa-floppy-o icon-save\", \"download\"]];\n",
       "\n",
       "mpl.extensions = [\"eps\", \"jpeg\", \"pdf\", \"png\", \"ps\", \"raw\", \"svg\", \"tif\"];\n",
       "\n",
       "mpl.default_extension = \"png\";/* global mpl */\n",
       "\n",
       "var comm_websocket_adapter = function (comm) {\n",
       "    // Create a \"websocket\"-like object which calls the given IPython comm\n",
       "    // object with the appropriate methods. Currently this is a non binary\n",
       "    // socket, so there is still some room for performance tuning.\n",
       "    var ws = {};\n",
       "\n",
       "    ws.close = function () {\n",
       "        comm.close();\n",
       "    };\n",
       "    ws.send = function (m) {\n",
       "        //console.log('sending', m);\n",
       "        comm.send(m);\n",
       "    };\n",
       "    // Register the callback with on_msg.\n",
       "    comm.on_msg(function (msg) {\n",
       "        //console.log('receiving', msg['content']['data'], msg);\n",
       "        // Pass the mpl event to the overridden (by mpl) onmessage function.\n",
       "        ws.onmessage(msg['content']['data']);\n",
       "    });\n",
       "    return ws;\n",
       "};\n",
       "\n",
       "mpl.mpl_figure_comm = function (comm, msg) {\n",
       "    // This is the function which gets called when the mpl process\n",
       "    // starts-up an IPython Comm through the \"matplotlib\" channel.\n",
       "\n",
       "    var id = msg.content.data.id;\n",
       "    // Get hold of the div created by the display call when the Comm\n",
       "    // socket was opened in Python.\n",
       "    var element = document.getElementById(id);\n",
       "    var ws_proxy = comm_websocket_adapter(comm);\n",
       "\n",
       "    function ondownload(figure, _format) {\n",
       "        window.open(figure.canvas.toDataURL());\n",
       "    }\n",
       "\n",
       "    var fig = new mpl.figure(id, ws_proxy, ondownload, element);\n",
       "\n",
       "    // Call onopen now - mpl needs it, as it is assuming we've passed it a real\n",
       "    // web socket which is closed, not our websocket->open comm proxy.\n",
       "    ws_proxy.onopen();\n",
       "\n",
       "    fig.parent_element = element;\n",
       "    fig.cell_info = mpl.find_output_cell(\"<div id='\" + id + \"'></div>\");\n",
       "    if (!fig.cell_info) {\n",
       "        console.error('Failed to find cell for figure', id, fig);\n",
       "        return;\n",
       "    }\n",
       "    fig.cell_info[0].output_area.element.one(\n",
       "        'cleared',\n",
       "        { fig: fig },\n",
       "        fig._remove_fig_handler\n",
       "    );\n",
       "};\n",
       "\n",
       "mpl.figure.prototype.handle_close = function (fig, msg) {\n",
       "    var width = fig.canvas.width / fig.ratio;\n",
       "    fig.cell_info[0].output_area.element.off(\n",
       "        'cleared',\n",
       "        fig._remove_fig_handler\n",
       "    );\n",
       "\n",
       "    // Update the output cell to use the data from the current canvas.\n",
       "    fig.push_to_output();\n",
       "    var dataURL = fig.canvas.toDataURL();\n",
       "    // Re-enable the keyboard manager in IPython - without this line, in FF,\n",
       "    // the notebook keyboard shortcuts fail.\n",
       "    IPython.keyboard_manager.enable();\n",
       "    fig.parent_element.innerHTML =\n",
       "        '<img src=\"' + dataURL + '\" width=\"' + width + '\">';\n",
       "    fig.close_ws(fig, msg);\n",
       "};\n",
       "\n",
       "mpl.figure.prototype.close_ws = function (fig, msg) {\n",
       "    fig.send_message('closing', msg);\n",
       "    // fig.ws.close()\n",
       "};\n",
       "\n",
       "mpl.figure.prototype.push_to_output = function (_remove_interactive) {\n",
       "    // Turn the data on the canvas into data in the output cell.\n",
       "    var width = this.canvas.width / this.ratio;\n",
       "    var dataURL = this.canvas.toDataURL();\n",
       "    this.cell_info[1]['text/html'] =\n",
       "        '<img src=\"' + dataURL + '\" width=\"' + width + '\">';\n",
       "};\n",
       "\n",
       "mpl.figure.prototype.updated_canvas_event = function () {\n",
       "    // Tell IPython that the notebook contents must change.\n",
       "    IPython.notebook.set_dirty(true);\n",
       "    this.send_message('ack', {});\n",
       "    var fig = this;\n",
       "    // Wait a second, then push the new image to the DOM so\n",
       "    // that it is saved nicely (might be nice to debounce this).\n",
       "    setTimeout(function () {\n",
       "        fig.push_to_output();\n",
       "    }, 1000);\n",
       "};\n",
       "\n",
       "mpl.figure.prototype._init_toolbar = function () {\n",
       "    var fig = this;\n",
       "\n",
       "    var toolbar = document.createElement('div');\n",
       "    toolbar.classList = 'btn-toolbar';\n",
       "    this.root.appendChild(toolbar);\n",
       "\n",
       "    function on_click_closure(name) {\n",
       "        return function (_event) {\n",
       "            return fig.toolbar_button_onclick(name);\n",
       "        };\n",
       "    }\n",
       "\n",
       "    function on_mouseover_closure(tooltip) {\n",
       "        return function (event) {\n",
       "            if (!event.currentTarget.disabled) {\n",
       "                return fig.toolbar_button_onmouseover(tooltip);\n",
       "            }\n",
       "        };\n",
       "    }\n",
       "\n",
       "    fig.buttons = {};\n",
       "    var buttonGroup = document.createElement('div');\n",
       "    buttonGroup.classList = 'btn-group';\n",
       "    var button;\n",
       "    for (var toolbar_ind in mpl.toolbar_items) {\n",
       "        var name = mpl.toolbar_items[toolbar_ind][0];\n",
       "        var tooltip = mpl.toolbar_items[toolbar_ind][1];\n",
       "        var image = mpl.toolbar_items[toolbar_ind][2];\n",
       "        var method_name = mpl.toolbar_items[toolbar_ind][3];\n",
       "\n",
       "        if (!name) {\n",
       "            /* Instead of a spacer, we start a new button group. */\n",
       "            if (buttonGroup.hasChildNodes()) {\n",
       "                toolbar.appendChild(buttonGroup);\n",
       "            }\n",
       "            buttonGroup = document.createElement('div');\n",
       "            buttonGroup.classList = 'btn-group';\n",
       "            continue;\n",
       "        }\n",
       "\n",
       "        button = fig.buttons[name] = document.createElement('button');\n",
       "        button.classList = 'btn btn-default';\n",
       "        button.href = '#';\n",
       "        button.title = name;\n",
       "        button.innerHTML = '<i class=\"fa ' + image + ' fa-lg\"></i>';\n",
       "        button.addEventListener('click', on_click_closure(method_name));\n",
       "        button.addEventListener('mouseover', on_mouseover_closure(tooltip));\n",
       "        buttonGroup.appendChild(button);\n",
       "    }\n",
       "\n",
       "    if (buttonGroup.hasChildNodes()) {\n",
       "        toolbar.appendChild(buttonGroup);\n",
       "    }\n",
       "\n",
       "    // Add the status bar.\n",
       "    var status_bar = document.createElement('span');\n",
       "    status_bar.classList = 'mpl-message pull-right';\n",
       "    toolbar.appendChild(status_bar);\n",
       "    this.message = status_bar;\n",
       "\n",
       "    // Add the close button to the window.\n",
       "    var buttongrp = document.createElement('div');\n",
       "    buttongrp.classList = 'btn-group inline pull-right';\n",
       "    button = document.createElement('button');\n",
       "    button.classList = 'btn btn-mini btn-primary';\n",
       "    button.href = '#';\n",
       "    button.title = 'Stop Interaction';\n",
       "    button.innerHTML = '<i class=\"fa fa-power-off icon-remove icon-large\"></i>';\n",
       "    button.addEventListener('click', function (_evt) {\n",
       "        fig.handle_close(fig, {});\n",
       "    });\n",
       "    button.addEventListener(\n",
       "        'mouseover',\n",
       "        on_mouseover_closure('Stop Interaction')\n",
       "    );\n",
       "    buttongrp.appendChild(button);\n",
       "    var titlebar = this.root.querySelector('.ui-dialog-titlebar');\n",
       "    titlebar.insertBefore(buttongrp, titlebar.firstChild);\n",
       "};\n",
       "\n",
       "mpl.figure.prototype._remove_fig_handler = function (event) {\n",
       "    var fig = event.data.fig;\n",
       "    fig.close_ws(fig, {});\n",
       "};\n",
       "\n",
       "mpl.figure.prototype._root_extra_style = function (el) {\n",
       "    el.style.boxSizing = 'content-box'; // override notebook setting of border-box.\n",
       "};\n",
       "\n",
       "mpl.figure.prototype._canvas_extra_style = function (el) {\n",
       "    // this is important to make the div 'focusable\n",
       "    el.setAttribute('tabindex', 0);\n",
       "    // reach out to IPython and tell the keyboard manager to turn it's self\n",
       "    // off when our div gets focus\n",
       "\n",
       "    // location in version 3\n",
       "    if (IPython.notebook.keyboard_manager) {\n",
       "        IPython.notebook.keyboard_manager.register_events(el);\n",
       "    } else {\n",
       "        // location in version 2\n",
       "        IPython.keyboard_manager.register_events(el);\n",
       "    }\n",
       "};\n",
       "\n",
       "mpl.figure.prototype._key_event_extra = function (event, _name) {\n",
       "    var manager = IPython.notebook.keyboard_manager;\n",
       "    if (!manager) {\n",
       "        manager = IPython.keyboard_manager;\n",
       "    }\n",
       "\n",
       "    // Check for shift+enter\n",
       "    if (event.shiftKey && event.which === 13) {\n",
       "        this.canvas_div.blur();\n",
       "        // select the cell after this one\n",
       "        var index = IPython.notebook.find_cell_index(this.cell_info[0]);\n",
       "        IPython.notebook.select(index + 1);\n",
       "    }\n",
       "};\n",
       "\n",
       "mpl.figure.prototype.handle_save = function (fig, _msg) {\n",
       "    fig.ondownload(fig, null);\n",
       "};\n",
       "\n",
       "mpl.find_output_cell = function (html_output) {\n",
       "    // Return the cell and output element which can be found *uniquely* in the notebook.\n",
       "    // Note - this is a bit hacky, but it is done because the \"notebook_saving.Notebook\"\n",
       "    // IPython event is triggered only after the cells have been serialised, which for\n",
       "    // our purposes (turning an active figure into a static one), is too late.\n",
       "    var cells = IPython.notebook.get_cells();\n",
       "    var ncells = cells.length;\n",
       "    for (var i = 0; i < ncells; i++) {\n",
       "        var cell = cells[i];\n",
       "        if (cell.cell_type === 'code') {\n",
       "            for (var j = 0; j < cell.output_area.outputs.length; j++) {\n",
       "                var data = cell.output_area.outputs[j];\n",
       "                if (data.data) {\n",
       "                    // IPython >= 3 moved mimebundle to data attribute of output\n",
       "                    data = data.data;\n",
       "                }\n",
       "                if (data['text/html'] === html_output) {\n",
       "                    return [cell, data, j];\n",
       "                }\n",
       "            }\n",
       "        }\n",
       "    }\n",
       "};\n",
       "\n",
       "// Register the function which deals with the matplotlib target/channel.\n",
       "// The kernel may be null if the page has been refreshed.\n",
       "if (IPython.notebook.kernel !== null) {\n",
       "    IPython.notebook.kernel.comm_manager.register_target(\n",
       "        'matplotlib',\n",
       "        mpl.mpl_figure_comm\n",
       "    );\n",
       "}\n"
      ],
      "text/plain": [
       "<IPython.core.display.Javascript object>"
      ]
     },
     "metadata": {},
     "output_type": "display_data"
    },
    {
     "data": {
      "text/html": [
       "<img src=\"data:image/png;base64,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\" width=\"800\">"
      ],
      "text/plain": [
       "<IPython.core.display.HTML object>"
      ]
     },
     "metadata": {},
     "output_type": "display_data"
    }
   ],
   "source": [
    "from SuPyModes.Geometry          import Geometry, Circle, Fused3\n",
    "from SuPyModes.Solver            import SuPySolver\n",
    "from SuPyModes.sellmeier         import Fused_silica\n",
    "\n",
    "Clad = Fused3(Radius =  62.5, Fusion  = 0.8, Index   = Fused_silica(1.55))\n",
    "\n",
    "Core0 = Circle( Position=Clad.C[0], Radi = 4.2, Index = Fused_silica(1.55)+0.005 )\n",
    "\n",
    "Core1 = Circle( Position=Clad.C[1], Radi = 4.2, Index = Fused_silica(1.55)+0.005 )\n",
    "\n",
    "Core2 = Circle( Position=Clad.C[2], Radi = 4.2, Index = Fused_silica(1.55)+0.005 )\n",
    "\n",
    "Geo = Geometry(Objects = [Clad, Core0, Core1, Core2],\n",
    "               Xbound  = [-120, 120],\n",
    "               Ybound  = [-110, 130],\n",
    "               Nx      = 100,\n",
    "               Ny      = 100)\n",
    "\n",
    "Sol = SuPySolver(Coupler=Geo)\n",
    "\n",
    "SuperModes = Sol.GetModes(wavelength = 1.55,\n",
    "                          Nstep      = 100,\n",
    "                          Nsol       = 12,\n",
    "                          debug      = False,\n",
    "                          ITRi       = .5,\n",
    "                          ITRf       = 0.05,\n",
    "                          Xsym       = 0,\n",
    "                          Ysym       = 0)\n"
   ]
  },
  {
   "cell_type": "code",
   "execution_count": 12,
   "metadata": {},
   "outputs": [
    {
     "data": {
      "application/javascript": [
       "/* Put everything inside the global mpl namespace */\n",
       "/* global mpl */\n",
       "window.mpl = {};\n",
       "\n",
       "mpl.get_websocket_type = function () {\n",
       "    if (typeof WebSocket !== 'undefined') {\n",
       "        return WebSocket;\n",
       "    } else if (typeof MozWebSocket !== 'undefined') {\n",
       "        return MozWebSocket;\n",
       "    } else {\n",
       "        alert(\n",
       "            'Your browser does not have WebSocket support. ' +\n",
       "                'Please try Chrome, Safari or Firefox ≥ 6. ' +\n",
       "                'Firefox 4 and 5 are also supported but you ' +\n",
       "                'have to enable WebSockets in about:config.'\n",
       "        );\n",
       "    }\n",
       "};\n",
       "\n",
       "mpl.figure = function (figure_id, websocket, ondownload, parent_element) {\n",
       "    this.id = figure_id;\n",
       "\n",
       "    this.ws = websocket;\n",
       "\n",
       "    this.supports_binary = this.ws.binaryType !== undefined;\n",
       "\n",
       "    if (!this.supports_binary) {\n",
       "        var warnings = document.getElementById('mpl-warnings');\n",
       "        if (warnings) {\n",
       "            warnings.style.display = 'block';\n",
       "            warnings.textContent =\n",
       "                'This browser does not support binary websocket messages. ' +\n",
       "                'Performance may be slow.';\n",
       "        }\n",
       "    }\n",
       "\n",
       "    this.imageObj = new Image();\n",
       "\n",
       "    this.context = undefined;\n",
       "    this.message = undefined;\n",
       "    this.canvas = undefined;\n",
       "    this.rubberband_canvas = undefined;\n",
       "    this.rubberband_context = undefined;\n",
       "    this.format_dropdown = undefined;\n",
       "\n",
       "    this.image_mode = 'full';\n",
       "\n",
       "    this.root = document.createElement('div');\n",
       "    this.root.setAttribute('style', 'display: inline-block');\n",
       "    this._root_extra_style(this.root);\n",
       "\n",
       "    parent_element.appendChild(this.root);\n",
       "\n",
       "    this._init_header(this);\n",
       "    this._init_canvas(this);\n",
       "    this._init_toolbar(this);\n",
       "\n",
       "    var fig = this;\n",
       "\n",
       "    this.waiting = false;\n",
       "\n",
       "    this.ws.onopen = function () {\n",
       "        fig.send_message('supports_binary', { value: fig.supports_binary });\n",
       "        fig.send_message('send_image_mode', {});\n",
       "        if (fig.ratio !== 1) {\n",
       "            fig.send_message('set_dpi_ratio', { dpi_ratio: fig.ratio });\n",
       "        }\n",
       "        fig.send_message('refresh', {});\n",
       "    };\n",
       "\n",
       "    this.imageObj.onload = function () {\n",
       "        if (fig.image_mode === 'full') {\n",
       "            // Full images could contain transparency (where diff images\n",
       "            // almost always do), so we need to clear the canvas so that\n",
       "            // there is no ghosting.\n",
       "            fig.context.clearRect(0, 0, fig.canvas.width, fig.canvas.height);\n",
       "        }\n",
       "        fig.context.drawImage(fig.imageObj, 0, 0);\n",
       "    };\n",
       "\n",
       "    this.imageObj.onunload = function () {\n",
       "        fig.ws.close();\n",
       "    };\n",
       "\n",
       "    this.ws.onmessage = this._make_on_message_function(this);\n",
       "\n",
       "    this.ondownload = ondownload;\n",
       "};\n",
       "\n",
       "mpl.figure.prototype._init_header = function () {\n",
       "    var titlebar = document.createElement('div');\n",
       "    titlebar.classList =\n",
       "        'ui-dialog-titlebar ui-widget-header ui-corner-all ui-helper-clearfix';\n",
       "    var titletext = document.createElement('div');\n",
       "    titletext.classList = 'ui-dialog-title';\n",
       "    titletext.setAttribute(\n",
       "        'style',\n",
       "        'width: 100%; text-align: center; padding: 3px;'\n",
       "    );\n",
       "    titlebar.appendChild(titletext);\n",
       "    this.root.appendChild(titlebar);\n",
       "    this.header = titletext;\n",
       "};\n",
       "\n",
       "mpl.figure.prototype._canvas_extra_style = function (_canvas_div) {};\n",
       "\n",
       "mpl.figure.prototype._root_extra_style = function (_canvas_div) {};\n",
       "\n",
       "mpl.figure.prototype._init_canvas = function () {\n",
       "    var fig = this;\n",
       "\n",
       "    var canvas_div = (this.canvas_div = document.createElement('div'));\n",
       "    canvas_div.setAttribute(\n",
       "        'style',\n",
       "        'border: 1px solid #ddd;' +\n",
       "            'box-sizing: content-box;' +\n",
       "            'clear: both;' +\n",
       "            'min-height: 1px;' +\n",
       "            'min-width: 1px;' +\n",
       "            'outline: 0;' +\n",
       "            'overflow: hidden;' +\n",
       "            'position: relative;' +\n",
       "            'resize: both;'\n",
       "    );\n",
       "\n",
       "    function on_keyboard_event_closure(name) {\n",
       "        return function (event) {\n",
       "            return fig.key_event(event, name);\n",
       "        };\n",
       "    }\n",
       "\n",
       "    canvas_div.addEventListener(\n",
       "        'keydown',\n",
       "        on_keyboard_event_closure('key_press')\n",
       "    );\n",
       "    canvas_div.addEventListener(\n",
       "        'keyup',\n",
       "        on_keyboard_event_closure('key_release')\n",
       "    );\n",
       "\n",
       "    this._canvas_extra_style(canvas_div);\n",
       "    this.root.appendChild(canvas_div);\n",
       "\n",
       "    var canvas = (this.canvas = document.createElement('canvas'));\n",
       "    canvas.classList.add('mpl-canvas');\n",
       "    canvas.setAttribute('style', 'box-sizing: content-box;');\n",
       "\n",
       "    this.context = canvas.getContext('2d');\n",
       "\n",
       "    var backingStore =\n",
       "        this.context.backingStorePixelRatio ||\n",
       "        this.context.webkitBackingStorePixelRatio ||\n",
       "        this.context.mozBackingStorePixelRatio ||\n",
       "        this.context.msBackingStorePixelRatio ||\n",
       "        this.context.oBackingStorePixelRatio ||\n",
       "        this.context.backingStorePixelRatio ||\n",
       "        1;\n",
       "\n",
       "    this.ratio = (window.devicePixelRatio || 1) / backingStore;\n",
       "    if (this.ratio !== 1) {\n",
       "        fig.send_message('set_dpi_ratio', { dpi_ratio: this.ratio });\n",
       "    }\n",
       "\n",
       "    var rubberband_canvas = (this.rubberband_canvas = document.createElement(\n",
       "        'canvas'\n",
       "    ));\n",
       "    rubberband_canvas.setAttribute(\n",
       "        'style',\n",
       "        'box-sizing: content-box; position: absolute; left: 0; top: 0; z-index: 1;'\n",
       "    );\n",
       "\n",
       "    var resizeObserver = new ResizeObserver(function (entries) {\n",
       "        var nentries = entries.length;\n",
       "        for (var i = 0; i < nentries; i++) {\n",
       "            var entry = entries[i];\n",
       "            var width, height;\n",
       "            if (entry.contentBoxSize) {\n",
       "                if (entry.contentBoxSize instanceof Array) {\n",
       "                    // Chrome 84 implements new version of spec.\n",
       "                    width = entry.contentBoxSize[0].inlineSize;\n",
       "                    height = entry.contentBoxSize[0].blockSize;\n",
       "                } else {\n",
       "                    // Firefox implements old version of spec.\n",
       "                    width = entry.contentBoxSize.inlineSize;\n",
       "                    height = entry.contentBoxSize.blockSize;\n",
       "                }\n",
       "            } else {\n",
       "                // Chrome <84 implements even older version of spec.\n",
       "                width = entry.contentRect.width;\n",
       "                height = entry.contentRect.height;\n",
       "            }\n",
       "\n",
       "            // Keep the size of the canvas and rubber band canvas in sync with\n",
       "            // the canvas container.\n",
       "            if (entry.devicePixelContentBoxSize) {\n",
       "                // Chrome 84 implements new version of spec.\n",
       "                canvas.setAttribute(\n",
       "                    'width',\n",
       "                    entry.devicePixelContentBoxSize[0].inlineSize\n",
       "                );\n",
       "                canvas.setAttribute(\n",
       "                    'height',\n",
       "                    entry.devicePixelContentBoxSize[0].blockSize\n",
       "                );\n",
       "            } else {\n",
       "                canvas.setAttribute('width', width * fig.ratio);\n",
       "                canvas.setAttribute('height', height * fig.ratio);\n",
       "            }\n",
       "            canvas.setAttribute(\n",
       "                'style',\n",
       "                'width: ' + width + 'px; height: ' + height + 'px;'\n",
       "            );\n",
       "\n",
       "            rubberband_canvas.setAttribute('width', width);\n",
       "            rubberband_canvas.setAttribute('height', height);\n",
       "\n",
       "            // And update the size in Python. We ignore the initial 0/0 size\n",
       "            // that occurs as the element is placed into the DOM, which should\n",
       "            // otherwise not happen due to the minimum size styling.\n",
       "            if (width != 0 && height != 0) {\n",
       "                fig.request_resize(width, height);\n",
       "            }\n",
       "        }\n",
       "    });\n",
       "    resizeObserver.observe(canvas_div);\n",
       "\n",
       "    function on_mouse_event_closure(name) {\n",
       "        return function (event) {\n",
       "            return fig.mouse_event(event, name);\n",
       "        };\n",
       "    }\n",
       "\n",
       "    rubberband_canvas.addEventListener(\n",
       "        'mousedown',\n",
       "        on_mouse_event_closure('button_press')\n",
       "    );\n",
       "    rubberband_canvas.addEventListener(\n",
       "        'mouseup',\n",
       "        on_mouse_event_closure('button_release')\n",
       "    );\n",
       "    // Throttle sequential mouse events to 1 every 20ms.\n",
       "    rubberband_canvas.addEventListener(\n",
       "        'mousemove',\n",
       "        on_mouse_event_closure('motion_notify')\n",
       "    );\n",
       "\n",
       "    rubberband_canvas.addEventListener(\n",
       "        'mouseenter',\n",
       "        on_mouse_event_closure('figure_enter')\n",
       "    );\n",
       "    rubberband_canvas.addEventListener(\n",
       "        'mouseleave',\n",
       "        on_mouse_event_closure('figure_leave')\n",
       "    );\n",
       "\n",
       "    canvas_div.addEventListener('wheel', function (event) {\n",
       "        if (event.deltaY < 0) {\n",
       "            event.step = 1;\n",
       "        } else {\n",
       "            event.step = -1;\n",
       "        }\n",
       "        on_mouse_event_closure('scroll')(event);\n",
       "    });\n",
       "\n",
       "    canvas_div.appendChild(canvas);\n",
       "    canvas_div.appendChild(rubberband_canvas);\n",
       "\n",
       "    this.rubberband_context = rubberband_canvas.getContext('2d');\n",
       "    this.rubberband_context.strokeStyle = '#000000';\n",
       "\n",
       "    this._resize_canvas = function (width, height, forward) {\n",
       "        if (forward) {\n",
       "            canvas_div.style.width = width + 'px';\n",
       "            canvas_div.style.height = height + 'px';\n",
       "        }\n",
       "    };\n",
       "\n",
       "    // Disable right mouse context menu.\n",
       "    this.rubberband_canvas.addEventListener('contextmenu', function (_e) {\n",
       "        event.preventDefault();\n",
       "        return false;\n",
       "    });\n",
       "\n",
       "    function set_focus() {\n",
       "        canvas.focus();\n",
       "        canvas_div.focus();\n",
       "    }\n",
       "\n",
       "    window.setTimeout(set_focus, 100);\n",
       "};\n",
       "\n",
       "mpl.figure.prototype._init_toolbar = function () {\n",
       "    var fig = this;\n",
       "\n",
       "    var toolbar = document.createElement('div');\n",
       "    toolbar.classList = 'mpl-toolbar';\n",
       "    this.root.appendChild(toolbar);\n",
       "\n",
       "    function on_click_closure(name) {\n",
       "        return function (_event) {\n",
       "            return fig.toolbar_button_onclick(name);\n",
       "        };\n",
       "    }\n",
       "\n",
       "    function on_mouseover_closure(tooltip) {\n",
       "        return function (event) {\n",
       "            if (!event.currentTarget.disabled) {\n",
       "                return fig.toolbar_button_onmouseover(tooltip);\n",
       "            }\n",
       "        };\n",
       "    }\n",
       "\n",
       "    fig.buttons = {};\n",
       "    var buttonGroup = document.createElement('div');\n",
       "    buttonGroup.classList = 'mpl-button-group';\n",
       "    for (var toolbar_ind in mpl.toolbar_items) {\n",
       "        var name = mpl.toolbar_items[toolbar_ind][0];\n",
       "        var tooltip = mpl.toolbar_items[toolbar_ind][1];\n",
       "        var image = mpl.toolbar_items[toolbar_ind][2];\n",
       "        var method_name = mpl.toolbar_items[toolbar_ind][3];\n",
       "\n",
       "        if (!name) {\n",
       "            /* Instead of a spacer, we start a new button group. */\n",
       "            if (buttonGroup.hasChildNodes()) {\n",
       "                toolbar.appendChild(buttonGroup);\n",
       "            }\n",
       "            buttonGroup = document.createElement('div');\n",
       "            buttonGroup.classList = 'mpl-button-group';\n",
       "            continue;\n",
       "        }\n",
       "\n",
       "        var button = (fig.buttons[name] = document.createElement('button'));\n",
       "        button.classList = 'mpl-widget';\n",
       "        button.setAttribute('role', 'button');\n",
       "        button.setAttribute('aria-disabled', 'false');\n",
       "        button.addEventListener('click', on_click_closure(method_name));\n",
       "        button.addEventListener('mouseover', on_mouseover_closure(tooltip));\n",
       "\n",
       "        var icon_img = document.createElement('img');\n",
       "        icon_img.src = '_images/' + image + '.png';\n",
       "        icon_img.srcset = '_images/' + image + '_large.png 2x';\n",
       "        icon_img.alt = tooltip;\n",
       "        button.appendChild(icon_img);\n",
       "\n",
       "        buttonGroup.appendChild(button);\n",
       "    }\n",
       "\n",
       "    if (buttonGroup.hasChildNodes()) {\n",
       "        toolbar.appendChild(buttonGroup);\n",
       "    }\n",
       "\n",
       "    var fmt_picker = document.createElement('select');\n",
       "    fmt_picker.classList = 'mpl-widget';\n",
       "    toolbar.appendChild(fmt_picker);\n",
       "    this.format_dropdown = fmt_picker;\n",
       "\n",
       "    for (var ind in mpl.extensions) {\n",
       "        var fmt = mpl.extensions[ind];\n",
       "        var option = document.createElement('option');\n",
       "        option.selected = fmt === mpl.default_extension;\n",
       "        option.innerHTML = fmt;\n",
       "        fmt_picker.appendChild(option);\n",
       "    }\n",
       "\n",
       "    var status_bar = document.createElement('span');\n",
       "    status_bar.classList = 'mpl-message';\n",
       "    toolbar.appendChild(status_bar);\n",
       "    this.message = status_bar;\n",
       "};\n",
       "\n",
       "mpl.figure.prototype.request_resize = function (x_pixels, y_pixels) {\n",
       "    // Request matplotlib to resize the figure. Matplotlib will then trigger a resize in the client,\n",
       "    // which will in turn request a refresh of the image.\n",
       "    this.send_message('resize', { width: x_pixels, height: y_pixels });\n",
       "};\n",
       "\n",
       "mpl.figure.prototype.send_message = function (type, properties) {\n",
       "    properties['type'] = type;\n",
       "    properties['figure_id'] = this.id;\n",
       "    this.ws.send(JSON.stringify(properties));\n",
       "};\n",
       "\n",
       "mpl.figure.prototype.send_draw_message = function () {\n",
       "    if (!this.waiting) {\n",
       "        this.waiting = true;\n",
       "        this.ws.send(JSON.stringify({ type: 'draw', figure_id: this.id }));\n",
       "    }\n",
       "};\n",
       "\n",
       "mpl.figure.prototype.handle_save = function (fig, _msg) {\n",
       "    var format_dropdown = fig.format_dropdown;\n",
       "    var format = format_dropdown.options[format_dropdown.selectedIndex].value;\n",
       "    fig.ondownload(fig, format);\n",
       "};\n",
       "\n",
       "mpl.figure.prototype.handle_resize = function (fig, msg) {\n",
       "    var size = msg['size'];\n",
       "    if (size[0] !== fig.canvas.width || size[1] !== fig.canvas.height) {\n",
       "        fig._resize_canvas(size[0], size[1], msg['forward']);\n",
       "        fig.send_message('refresh', {});\n",
       "    }\n",
       "};\n",
       "\n",
       "mpl.figure.prototype.handle_rubberband = function (fig, msg) {\n",
       "    var x0 = msg['x0'] / fig.ratio;\n",
       "    var y0 = (fig.canvas.height - msg['y0']) / fig.ratio;\n",
       "    var x1 = msg['x1'] / fig.ratio;\n",
       "    var y1 = (fig.canvas.height - msg['y1']) / fig.ratio;\n",
       "    x0 = Math.floor(x0) + 0.5;\n",
       "    y0 = Math.floor(y0) + 0.5;\n",
       "    x1 = Math.floor(x1) + 0.5;\n",
       "    y1 = Math.floor(y1) + 0.5;\n",
       "    var min_x = Math.min(x0, x1);\n",
       "    var min_y = Math.min(y0, y1);\n",
       "    var width = Math.abs(x1 - x0);\n",
       "    var height = Math.abs(y1 - y0);\n",
       "\n",
       "    fig.rubberband_context.clearRect(\n",
       "        0,\n",
       "        0,\n",
       "        fig.canvas.width / fig.ratio,\n",
       "        fig.canvas.height / fig.ratio\n",
       "    );\n",
       "\n",
       "    fig.rubberband_context.strokeRect(min_x, min_y, width, height);\n",
       "};\n",
       "\n",
       "mpl.figure.prototype.handle_figure_label = function (fig, msg) {\n",
       "    // Updates the figure title.\n",
       "    fig.header.textContent = msg['label'];\n",
       "};\n",
       "\n",
       "mpl.figure.prototype.handle_cursor = function (fig, msg) {\n",
       "    var cursor = msg['cursor'];\n",
       "    switch (cursor) {\n",
       "        case 0:\n",
       "            cursor = 'pointer';\n",
       "            break;\n",
       "        case 1:\n",
       "            cursor = 'default';\n",
       "            break;\n",
       "        case 2:\n",
       "            cursor = 'crosshair';\n",
       "            break;\n",
       "        case 3:\n",
       "            cursor = 'move';\n",
       "            break;\n",
       "    }\n",
       "    fig.rubberband_canvas.style.cursor = cursor;\n",
       "};\n",
       "\n",
       "mpl.figure.prototype.handle_message = function (fig, msg) {\n",
       "    fig.message.textContent = msg['message'];\n",
       "};\n",
       "\n",
       "mpl.figure.prototype.handle_draw = function (fig, _msg) {\n",
       "    // Request the server to send over a new figure.\n",
       "    fig.send_draw_message();\n",
       "};\n",
       "\n",
       "mpl.figure.prototype.handle_image_mode = function (fig, msg) {\n",
       "    fig.image_mode = msg['mode'];\n",
       "};\n",
       "\n",
       "mpl.figure.prototype.handle_history_buttons = function (fig, msg) {\n",
       "    for (var key in msg) {\n",
       "        if (!(key in fig.buttons)) {\n",
       "            continue;\n",
       "        }\n",
       "        fig.buttons[key].disabled = !msg[key];\n",
       "        fig.buttons[key].setAttribute('aria-disabled', !msg[key]);\n",
       "    }\n",
       "};\n",
       "\n",
       "mpl.figure.prototype.handle_navigate_mode = function (fig, msg) {\n",
       "    if (msg['mode'] === 'PAN') {\n",
       "        fig.buttons['Pan'].classList.add('active');\n",
       "        fig.buttons['Zoom'].classList.remove('active');\n",
       "    } else if (msg['mode'] === 'ZOOM') {\n",
       "        fig.buttons['Pan'].classList.remove('active');\n",
       "        fig.buttons['Zoom'].classList.add('active');\n",
       "    } else {\n",
       "        fig.buttons['Pan'].classList.remove('active');\n",
       "        fig.buttons['Zoom'].classList.remove('active');\n",
       "    }\n",
       "};\n",
       "\n",
       "mpl.figure.prototype.updated_canvas_event = function () {\n",
       "    // Called whenever the canvas gets updated.\n",
       "    this.send_message('ack', {});\n",
       "};\n",
       "\n",
       "// A function to construct a web socket function for onmessage handling.\n",
       "// Called in the figure constructor.\n",
       "mpl.figure.prototype._make_on_message_function = function (fig) {\n",
       "    return function socket_on_message(evt) {\n",
       "        if (evt.data instanceof Blob) {\n",
       "            /* FIXME: We get \"Resource interpreted as Image but\n",
       "             * transferred with MIME type text/plain:\" errors on\n",
       "             * Chrome.  But how to set the MIME type?  It doesn't seem\n",
       "             * to be part of the websocket stream */\n",
       "            evt.data.type = 'image/png';\n",
       "\n",
       "            /* Free the memory for the previous frames */\n",
       "            if (fig.imageObj.src) {\n",
       "                (window.URL || window.webkitURL).revokeObjectURL(\n",
       "                    fig.imageObj.src\n",
       "                );\n",
       "            }\n",
       "\n",
       "            fig.imageObj.src = (window.URL || window.webkitURL).createObjectURL(\n",
       "                evt.data\n",
       "            );\n",
       "            fig.updated_canvas_event();\n",
       "            fig.waiting = false;\n",
       "            return;\n",
       "        } else if (\n",
       "            typeof evt.data === 'string' &&\n",
       "            evt.data.slice(0, 21) === 'data:image/png;base64'\n",
       "        ) {\n",
       "            fig.imageObj.src = evt.data;\n",
       "            fig.updated_canvas_event();\n",
       "            fig.waiting = false;\n",
       "            return;\n",
       "        }\n",
       "\n",
       "        var msg = JSON.parse(evt.data);\n",
       "        var msg_type = msg['type'];\n",
       "\n",
       "        // Call the  \"handle_{type}\" callback, which takes\n",
       "        // the figure and JSON message as its only arguments.\n",
       "        try {\n",
       "            var callback = fig['handle_' + msg_type];\n",
       "        } catch (e) {\n",
       "            console.log(\n",
       "                \"No handler for the '\" + msg_type + \"' message type: \",\n",
       "                msg\n",
       "            );\n",
       "            return;\n",
       "        }\n",
       "\n",
       "        if (callback) {\n",
       "            try {\n",
       "                // console.log(\"Handling '\" + msg_type + \"' message: \", msg);\n",
       "                callback(fig, msg);\n",
       "            } catch (e) {\n",
       "                console.log(\n",
       "                    \"Exception inside the 'handler_\" + msg_type + \"' callback:\",\n",
       "                    e,\n",
       "                    e.stack,\n",
       "                    msg\n",
       "                );\n",
       "            }\n",
       "        }\n",
       "    };\n",
       "};\n",
       "\n",
       "// from http://stackoverflow.com/questions/1114465/getting-mouse-location-in-canvas\n",
       "mpl.findpos = function (e) {\n",
       "    //this section is from http://www.quirksmode.org/js/events_properties.html\n",
       "    var targ;\n",
       "    if (!e) {\n",
       "        e = window.event;\n",
       "    }\n",
       "    if (e.target) {\n",
       "        targ = e.target;\n",
       "    } else if (e.srcElement) {\n",
       "        targ = e.srcElement;\n",
       "    }\n",
       "    if (targ.nodeType === 3) {\n",
       "        // defeat Safari bug\n",
       "        targ = targ.parentNode;\n",
       "    }\n",
       "\n",
       "    // pageX,Y are the mouse positions relative to the document\n",
       "    var boundingRect = targ.getBoundingClientRect();\n",
       "    var x = e.pageX - (boundingRect.left + document.body.scrollLeft);\n",
       "    var y = e.pageY - (boundingRect.top + document.body.scrollTop);\n",
       "\n",
       "    return { x: x, y: y };\n",
       "};\n",
       "\n",
       "/*\n",
       " * return a copy of an object with only non-object keys\n",
       " * we need this to avoid circular references\n",
       " * http://stackoverflow.com/a/24161582/3208463\n",
       " */\n",
       "function simpleKeys(original) {\n",
       "    return Object.keys(original).reduce(function (obj, key) {\n",
       "        if (typeof original[key] !== 'object') {\n",
       "            obj[key] = original[key];\n",
       "        }\n",
       "        return obj;\n",
       "    }, {});\n",
       "}\n",
       "\n",
       "mpl.figure.prototype.mouse_event = function (event, name) {\n",
       "    var canvas_pos = mpl.findpos(event);\n",
       "\n",
       "    if (name === 'button_press') {\n",
       "        this.canvas.focus();\n",
       "        this.canvas_div.focus();\n",
       "    }\n",
       "\n",
       "    var x = canvas_pos.x * this.ratio;\n",
       "    var y = canvas_pos.y * this.ratio;\n",
       "\n",
       "    this.send_message(name, {\n",
       "        x: x,\n",
       "        y: y,\n",
       "        button: event.button,\n",
       "        step: event.step,\n",
       "        guiEvent: simpleKeys(event),\n",
       "    });\n",
       "\n",
       "    /* This prevents the web browser from automatically changing to\n",
       "     * the text insertion cursor when the button is pressed.  We want\n",
       "     * to control all of the cursor setting manually through the\n",
       "     * 'cursor' event from matplotlib */\n",
       "    event.preventDefault();\n",
       "    return false;\n",
       "};\n",
       "\n",
       "mpl.figure.prototype._key_event_extra = function (_event, _name) {\n",
       "    // Handle any extra behaviour associated with a key event\n",
       "};\n",
       "\n",
       "mpl.figure.prototype.key_event = function (event, name) {\n",
       "    // Prevent repeat events\n",
       "    if (name === 'key_press') {\n",
       "        if (event.which === this._key) {\n",
       "            return;\n",
       "        } else {\n",
       "            this._key = event.which;\n",
       "        }\n",
       "    }\n",
       "    if (name === 'key_release') {\n",
       "        this._key = null;\n",
       "    }\n",
       "\n",
       "    var value = '';\n",
       "    if (event.ctrlKey && event.which !== 17) {\n",
       "        value += 'ctrl+';\n",
       "    }\n",
       "    if (event.altKey && event.which !== 18) {\n",
       "        value += 'alt+';\n",
       "    }\n",
       "    if (event.shiftKey && event.which !== 16) {\n",
       "        value += 'shift+';\n",
       "    }\n",
       "\n",
       "    value += 'k';\n",
       "    value += event.which.toString();\n",
       "\n",
       "    this._key_event_extra(event, name);\n",
       "\n",
       "    this.send_message(name, { key: value, guiEvent: simpleKeys(event) });\n",
       "    return false;\n",
       "};\n",
       "\n",
       "mpl.figure.prototype.toolbar_button_onclick = function (name) {\n",
       "    if (name === 'download') {\n",
       "        this.handle_save(this, null);\n",
       "    } else {\n",
       "        this.send_message('toolbar_button', { name: name });\n",
       "    }\n",
       "};\n",
       "\n",
       "mpl.figure.prototype.toolbar_button_onmouseover = function (tooltip) {\n",
       "    this.message.textContent = tooltip;\n",
       "};\n",
       "mpl.toolbar_items = [[\"Home\", \"Reset original view\", \"fa fa-home icon-home\", \"home\"], [\"Back\", \"Back to previous view\", \"fa fa-arrow-left icon-arrow-left\", \"back\"], [\"Forward\", \"Forward to next view\", \"fa fa-arrow-right icon-arrow-right\", \"forward\"], [\"\", \"\", \"\", \"\"], [\"Pan\", \"Left button pans, Right button zooms\\nx/y fixes axis, CTRL fixes aspect\", \"fa fa-arrows icon-move\", \"pan\"], [\"Zoom\", \"Zoom to rectangle\\nx/y fixes axis, CTRL fixes aspect\", \"fa fa-square-o icon-check-empty\", \"zoom\"], [\"\", \"\", \"\", \"\"], [\"Download\", \"Download plot\", \"fa fa-floppy-o icon-save\", \"download\"]];\n",
       "\n",
       "mpl.extensions = [\"eps\", \"jpeg\", \"pdf\", \"png\", \"ps\", \"raw\", \"svg\", \"tif\"];\n",
       "\n",
       "mpl.default_extension = \"png\";/* global mpl */\n",
       "\n",
       "var comm_websocket_adapter = function (comm) {\n",
       "    // Create a \"websocket\"-like object which calls the given IPython comm\n",
       "    // object with the appropriate methods. Currently this is a non binary\n",
       "    // socket, so there is still some room for performance tuning.\n",
       "    var ws = {};\n",
       "\n",
       "    ws.close = function () {\n",
       "        comm.close();\n",
       "    };\n",
       "    ws.send = function (m) {\n",
       "        //console.log('sending', m);\n",
       "        comm.send(m);\n",
       "    };\n",
       "    // Register the callback with on_msg.\n",
       "    comm.on_msg(function (msg) {\n",
       "        //console.log('receiving', msg['content']['data'], msg);\n",
       "        // Pass the mpl event to the overridden (by mpl) onmessage function.\n",
       "        ws.onmessage(msg['content']['data']);\n",
       "    });\n",
       "    return ws;\n",
       "};\n",
       "\n",
       "mpl.mpl_figure_comm = function (comm, msg) {\n",
       "    // This is the function which gets called when the mpl process\n",
       "    // starts-up an IPython Comm through the \"matplotlib\" channel.\n",
       "\n",
       "    var id = msg.content.data.id;\n",
       "    // Get hold of the div created by the display call when the Comm\n",
       "    // socket was opened in Python.\n",
       "    var element = document.getElementById(id);\n",
       "    var ws_proxy = comm_websocket_adapter(comm);\n",
       "\n",
       "    function ondownload(figure, _format) {\n",
       "        window.open(figure.canvas.toDataURL());\n",
       "    }\n",
       "\n",
       "    var fig = new mpl.figure(id, ws_proxy, ondownload, element);\n",
       "\n",
       "    // Call onopen now - mpl needs it, as it is assuming we've passed it a real\n",
       "    // web socket which is closed, not our websocket->open comm proxy.\n",
       "    ws_proxy.onopen();\n",
       "\n",
       "    fig.parent_element = element;\n",
       "    fig.cell_info = mpl.find_output_cell(\"<div id='\" + id + \"'></div>\");\n",
       "    if (!fig.cell_info) {\n",
       "        console.error('Failed to find cell for figure', id, fig);\n",
       "        return;\n",
       "    }\n",
       "    fig.cell_info[0].output_area.element.one(\n",
       "        'cleared',\n",
       "        { fig: fig },\n",
       "        fig._remove_fig_handler\n",
       "    );\n",
       "};\n",
       "\n",
       "mpl.figure.prototype.handle_close = function (fig, msg) {\n",
       "    var width = fig.canvas.width / fig.ratio;\n",
       "    fig.cell_info[0].output_area.element.off(\n",
       "        'cleared',\n",
       "        fig._remove_fig_handler\n",
       "    );\n",
       "\n",
       "    // Update the output cell to use the data from the current canvas.\n",
       "    fig.push_to_output();\n",
       "    var dataURL = fig.canvas.toDataURL();\n",
       "    // Re-enable the keyboard manager in IPython - without this line, in FF,\n",
       "    // the notebook keyboard shortcuts fail.\n",
       "    IPython.keyboard_manager.enable();\n",
       "    fig.parent_element.innerHTML =\n",
       "        '<img src=\"' + dataURL + '\" width=\"' + width + '\">';\n",
       "    fig.close_ws(fig, msg);\n",
       "};\n",
       "\n",
       "mpl.figure.prototype.close_ws = function (fig, msg) {\n",
       "    fig.send_message('closing', msg);\n",
       "    // fig.ws.close()\n",
       "};\n",
       "\n",
       "mpl.figure.prototype.push_to_output = function (_remove_interactive) {\n",
       "    // Turn the data on the canvas into data in the output cell.\n",
       "    var width = this.canvas.width / this.ratio;\n",
       "    var dataURL = this.canvas.toDataURL();\n",
       "    this.cell_info[1]['text/html'] =\n",
       "        '<img src=\"' + dataURL + '\" width=\"' + width + '\">';\n",
       "};\n",
       "\n",
       "mpl.figure.prototype.updated_canvas_event = function () {\n",
       "    // Tell IPython that the notebook contents must change.\n",
       "    IPython.notebook.set_dirty(true);\n",
       "    this.send_message('ack', {});\n",
       "    var fig = this;\n",
       "    // Wait a second, then push the new image to the DOM so\n",
       "    // that it is saved nicely (might be nice to debounce this).\n",
       "    setTimeout(function () {\n",
       "        fig.push_to_output();\n",
       "    }, 1000);\n",
       "};\n",
       "\n",
       "mpl.figure.prototype._init_toolbar = function () {\n",
       "    var fig = this;\n",
       "\n",
       "    var toolbar = document.createElement('div');\n",
       "    toolbar.classList = 'btn-toolbar';\n",
       "    this.root.appendChild(toolbar);\n",
       "\n",
       "    function on_click_closure(name) {\n",
       "        return function (_event) {\n",
       "            return fig.toolbar_button_onclick(name);\n",
       "        };\n",
       "    }\n",
       "\n",
       "    function on_mouseover_closure(tooltip) {\n",
       "        return function (event) {\n",
       "            if (!event.currentTarget.disabled) {\n",
       "                return fig.toolbar_button_onmouseover(tooltip);\n",
       "            }\n",
       "        };\n",
       "    }\n",
       "\n",
       "    fig.buttons = {};\n",
       "    var buttonGroup = document.createElement('div');\n",
       "    buttonGroup.classList = 'btn-group';\n",
       "    var button;\n",
       "    for (var toolbar_ind in mpl.toolbar_items) {\n",
       "        var name = mpl.toolbar_items[toolbar_ind][0];\n",
       "        var tooltip = mpl.toolbar_items[toolbar_ind][1];\n",
       "        var image = mpl.toolbar_items[toolbar_ind][2];\n",
       "        var method_name = mpl.toolbar_items[toolbar_ind][3];\n",
       "\n",
       "        if (!name) {\n",
       "            /* Instead of a spacer, we start a new button group. */\n",
       "            if (buttonGroup.hasChildNodes()) {\n",
       "                toolbar.appendChild(buttonGroup);\n",
       "            }\n",
       "            buttonGroup = document.createElement('div');\n",
       "            buttonGroup.classList = 'btn-group';\n",
       "            continue;\n",
       "        }\n",
       "\n",
       "        button = fig.buttons[name] = document.createElement('button');\n",
       "        button.classList = 'btn btn-default';\n",
       "        button.href = '#';\n",
       "        button.title = name;\n",
       "        button.innerHTML = '<i class=\"fa ' + image + ' fa-lg\"></i>';\n",
       "        button.addEventListener('click', on_click_closure(method_name));\n",
       "        button.addEventListener('mouseover', on_mouseover_closure(tooltip));\n",
       "        buttonGroup.appendChild(button);\n",
       "    }\n",
       "\n",
       "    if (buttonGroup.hasChildNodes()) {\n",
       "        toolbar.appendChild(buttonGroup);\n",
       "    }\n",
       "\n",
       "    // Add the status bar.\n",
       "    var status_bar = document.createElement('span');\n",
       "    status_bar.classList = 'mpl-message pull-right';\n",
       "    toolbar.appendChild(status_bar);\n",
       "    this.message = status_bar;\n",
       "\n",
       "    // Add the close button to the window.\n",
       "    var buttongrp = document.createElement('div');\n",
       "    buttongrp.classList = 'btn-group inline pull-right';\n",
       "    button = document.createElement('button');\n",
       "    button.classList = 'btn btn-mini btn-primary';\n",
       "    button.href = '#';\n",
       "    button.title = 'Stop Interaction';\n",
       "    button.innerHTML = '<i class=\"fa fa-power-off icon-remove icon-large\"></i>';\n",
       "    button.addEventListener('click', function (_evt) {\n",
       "        fig.handle_close(fig, {});\n",
       "    });\n",
       "    button.addEventListener(\n",
       "        'mouseover',\n",
       "        on_mouseover_closure('Stop Interaction')\n",
       "    );\n",
       "    buttongrp.appendChild(button);\n",
       "    var titlebar = this.root.querySelector('.ui-dialog-titlebar');\n",
       "    titlebar.insertBefore(buttongrp, titlebar.firstChild);\n",
       "};\n",
       "\n",
       "mpl.figure.prototype._remove_fig_handler = function (event) {\n",
       "    var fig = event.data.fig;\n",
       "    fig.close_ws(fig, {});\n",
       "};\n",
       "\n",
       "mpl.figure.prototype._root_extra_style = function (el) {\n",
       "    el.style.boxSizing = 'content-box'; // override notebook setting of border-box.\n",
       "};\n",
       "\n",
       "mpl.figure.prototype._canvas_extra_style = function (el) {\n",
       "    // this is important to make the div 'focusable\n",
       "    el.setAttribute('tabindex', 0);\n",
       "    // reach out to IPython and tell the keyboard manager to turn it's self\n",
       "    // off when our div gets focus\n",
       "\n",
       "    // location in version 3\n",
       "    if (IPython.notebook.keyboard_manager) {\n",
       "        IPython.notebook.keyboard_manager.register_events(el);\n",
       "    } else {\n",
       "        // location in version 2\n",
       "        IPython.keyboard_manager.register_events(el);\n",
       "    }\n",
       "};\n",
       "\n",
       "mpl.figure.prototype._key_event_extra = function (event, _name) {\n",
       "    var manager = IPython.notebook.keyboard_manager;\n",
       "    if (!manager) {\n",
       "        manager = IPython.keyboard_manager;\n",
       "    }\n",
       "\n",
       "    // Check for shift+enter\n",
       "    if (event.shiftKey && event.which === 13) {\n",
       "        this.canvas_div.blur();\n",
       "        // select the cell after this one\n",
       "        var index = IPython.notebook.find_cell_index(this.cell_info[0]);\n",
       "        IPython.notebook.select(index + 1);\n",
       "    }\n",
       "};\n",
       "\n",
       "mpl.figure.prototype.handle_save = function (fig, _msg) {\n",
       "    fig.ondownload(fig, null);\n",
       "};\n",
       "\n",
       "mpl.find_output_cell = function (html_output) {\n",
       "    // Return the cell and output element which can be found *uniquely* in the notebook.\n",
       "    // Note - this is a bit hacky, but it is done because the \"notebook_saving.Notebook\"\n",
       "    // IPython event is triggered only after the cells have been serialised, which for\n",
       "    // our purposes (turning an active figure into a static one), is too late.\n",
       "    var cells = IPython.notebook.get_cells();\n",
       "    var ncells = cells.length;\n",
       "    for (var i = 0; i < ncells; i++) {\n",
       "        var cell = cells[i];\n",
       "        if (cell.cell_type === 'code') {\n",
       "            for (var j = 0; j < cell.output_area.outputs.length; j++) {\n",
       "                var data = cell.output_area.outputs[j];\n",
       "                if (data.data) {\n",
       "                    // IPython >= 3 moved mimebundle to data attribute of output\n",
       "                    data = data.data;\n",
       "                }\n",
       "                if (data['text/html'] === html_output) {\n",
       "                    return [cell, data, j];\n",
       "                }\n",
       "            }\n",
       "        }\n",
       "    }\n",
       "};\n",
       "\n",
       "// Register the function which deals with the matplotlib target/channel.\n",
       "// The kernel may be null if the page has been refreshed.\n",
       "if (IPython.notebook.kernel !== null) {\n",
       "    IPython.notebook.kernel.comm_manager.register_target(\n",
       "        'matplotlib',\n",
       "        mpl.mpl_figure_comm\n",
       "    );\n",
       "}\n"
      ],
      "text/plain": [
       "<IPython.core.display.Javascript object>"
      ]
     },
     "metadata": {},
     "output_type": "display_data"
    },
    {
     "data": {
      "text/html": [
       "<img src=\"data:image/png;base64,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\" width=\"800\">"
      ],
      "text/plain": [
       "<IPython.core.display.HTML object>"
      ]
     },
     "metadata": {},
     "output_type": "display_data"
    }
   ],
   "source": [
    "%matplotlib notebook\n",
    "SuperModes.Plot('Coupling', nMax=4)"
   ]
  },
  {
   "cell_type": "code",
   "execution_count": null,
   "metadata": {},
   "outputs": [],
   "source": []
  },
  {
   "cell_type": "code",
   "execution_count": null,
   "metadata": {},
   "outputs": [],
   "source": []
  },
  {
   "cell_type": "code",
   "execution_count": null,
   "metadata": {},
   "outputs": [],
   "source": []
  },
  {
   "cell_type": "code",
   "execution_count": null,
   "metadata": {},
   "outputs": [],
   "source": []
  },
  {
   "cell_type": "code",
   "execution_count": null,
   "metadata": {},
   "outputs": [],
   "source": []
  },
  {
   "cell_type": "code",
   "execution_count": 5,
   "metadata": {},
   "outputs": [],
   "source": [
    "import numpy as np\n",
    "import copy  as cp\n",
    "PROPERTIES = ['Index', 'ITR', 'Field', 'Beta', 'xSym', 'ySym', 'Axes']\n",
    "\n",
    "def VerifySorting(SuperSet, Plot=False):\n",
    "    for nm, mode in enumerate( SuperSet.SuperModes ):\n",
    "        for n, itr in enumerate( SuperSet.ITR[:-2] ):\n",
    "            O = GetOverlap(mode.Field[n+1], mode.Field[n])\n",
    "            if O < 0.6: \n",
    "                print(f'Error at {n} \\t Mode:{nm} \\t ITR:{itr} \\t Overlap:{O}')\n",
    "                if Plot:\n",
    "                    SuperSet.Plot('Fields', iter=n)\n",
    "                    SuperSet.Plot('Fields', iter=n+1)\n",
    "\n",
    "def SwapProperties(SuperMode0, SuperMode1, N):\n",
    "    S0, S1 = SuperMode0, SuperMode1\n",
    "\n",
    "    for p in PROPERTIES:\n",
    "        getattr(S0, p)[N] = getattr(S1, p)[N]\n",
    "\n",
    "  \n",
    "def SortModes(SuperSet, Plot=False):\n",
    "    SuperSet1 = cp.deepcopy(SuperSet)\n",
    "    Overlap = np.zeros(len( SuperSet.Combinations ) ) \n",
    "    \n",
    "    for n, itr in enumerate( SuperSet.ITR[:-1] ):\n",
    "        \n",
    "        for i, mode0 in enumerate( SuperSet.SuperModes ):\n",
    "            \n",
    "            for j, mode1 in enumerate( SuperSet1.SuperModes ):\n",
    "                \n",
    "                Overlap[j] = GetOverlap(mode0.Field[n], mode1.Field[n+1])\n",
    "\n",
    "            if np.max(Overlap) < 0.5: \n",
    "                print(n, i,'New mode swapping is occuring...\\n', Overlap, '\\n\\n\\n')\n",
    "                if Plot:\n",
    "                    SuperSet.Plot('Fields', iter=n)\n",
    "                    SuperSet1.Plot('Fields', iter=n+1)\n",
    "                    \n",
    "                \n",
    "            k = np.argmax(Overlap)\n",
    "\n",
    "            for p in PROPERTIES:\n",
    "                getattr(SuperSet[i], p)[n+1] = getattr(SuperSet1[k], p)[n+1]\n",
    "\n",
    "    return SuperSet\n",
    "\n",
    "    \n",
    "def GetOverlap(mode0, mode1):\n",
    "    return np.abs( np.sum( mode0 * mode1 ) )"
   ]
  },
  {
   "cell_type": "code",
   "execution_count": null,
   "metadata": {},
   "outputs": [],
   "source": []
  },
  {
   "cell_type": "code",
   "execution_count": null,
   "metadata": {},
   "outputs": [],
   "source": []
  },
  {
   "cell_type": "code",
   "execution_count": 196,
   "metadata": {},
   "outputs": [],
   "source": []
  },
  {
   "cell_type": "code",
   "execution_count": null,
   "metadata": {
    "scrolled": true
   },
   "outputs": [],
   "source": []
  },
  {
   "cell_type": "code",
   "execution_count": null,
   "metadata": {},
   "outputs": [],
   "source": []
  },
  {
   "cell_type": "code",
   "execution_count": null,
   "metadata": {},
   "outputs": [],
   "source": []
  },
  {
   "cell_type": "code",
   "execution_count": 13,
   "metadata": {},
   "outputs": [
    {
     "data": {
      "application/javascript": [
       "/* Put everything inside the global mpl namespace */\n",
       "/* global mpl */\n",
       "window.mpl = {};\n",
       "\n",
       "mpl.get_websocket_type = function () {\n",
       "    if (typeof WebSocket !== 'undefined') {\n",
       "        return WebSocket;\n",
       "    } else if (typeof MozWebSocket !== 'undefined') {\n",
       "        return MozWebSocket;\n",
       "    } else {\n",
       "        alert(\n",
       "            'Your browser does not have WebSocket support. ' +\n",
       "                'Please try Chrome, Safari or Firefox ≥ 6. ' +\n",
       "                'Firefox 4 and 5 are also supported but you ' +\n",
       "                'have to enable WebSockets in about:config.'\n",
       "        );\n",
       "    }\n",
       "};\n",
       "\n",
       "mpl.figure = function (figure_id, websocket, ondownload, parent_element) {\n",
       "    this.id = figure_id;\n",
       "\n",
       "    this.ws = websocket;\n",
       "\n",
       "    this.supports_binary = this.ws.binaryType !== undefined;\n",
       "\n",
       "    if (!this.supports_binary) {\n",
       "        var warnings = document.getElementById('mpl-warnings');\n",
       "        if (warnings) {\n",
       "            warnings.style.display = 'block';\n",
       "            warnings.textContent =\n",
       "                'This browser does not support binary websocket messages. ' +\n",
       "                'Performance may be slow.';\n",
       "        }\n",
       "    }\n",
       "\n",
       "    this.imageObj = new Image();\n",
       "\n",
       "    this.context = undefined;\n",
       "    this.message = undefined;\n",
       "    this.canvas = undefined;\n",
       "    this.rubberband_canvas = undefined;\n",
       "    this.rubberband_context = undefined;\n",
       "    this.format_dropdown = undefined;\n",
       "\n",
       "    this.image_mode = 'full';\n",
       "\n",
       "    this.root = document.createElement('div');\n",
       "    this.root.setAttribute('style', 'display: inline-block');\n",
       "    this._root_extra_style(this.root);\n",
       "\n",
       "    parent_element.appendChild(this.root);\n",
       "\n",
       "    this._init_header(this);\n",
       "    this._init_canvas(this);\n",
       "    this._init_toolbar(this);\n",
       "\n",
       "    var fig = this;\n",
       "\n",
       "    this.waiting = false;\n",
       "\n",
       "    this.ws.onopen = function () {\n",
       "        fig.send_message('supports_binary', { value: fig.supports_binary });\n",
       "        fig.send_message('send_image_mode', {});\n",
       "        if (fig.ratio !== 1) {\n",
       "            fig.send_message('set_dpi_ratio', { dpi_ratio: fig.ratio });\n",
       "        }\n",
       "        fig.send_message('refresh', {});\n",
       "    };\n",
       "\n",
       "    this.imageObj.onload = function () {\n",
       "        if (fig.image_mode === 'full') {\n",
       "            // Full images could contain transparency (where diff images\n",
       "            // almost always do), so we need to clear the canvas so that\n",
       "            // there is no ghosting.\n",
       "            fig.context.clearRect(0, 0, fig.canvas.width, fig.canvas.height);\n",
       "        }\n",
       "        fig.context.drawImage(fig.imageObj, 0, 0);\n",
       "    };\n",
       "\n",
       "    this.imageObj.onunload = function () {\n",
       "        fig.ws.close();\n",
       "    };\n",
       "\n",
       "    this.ws.onmessage = this._make_on_message_function(this);\n",
       "\n",
       "    this.ondownload = ondownload;\n",
       "};\n",
       "\n",
       "mpl.figure.prototype._init_header = function () {\n",
       "    var titlebar = document.createElement('div');\n",
       "    titlebar.classList =\n",
       "        'ui-dialog-titlebar ui-widget-header ui-corner-all ui-helper-clearfix';\n",
       "    var titletext = document.createElement('div');\n",
       "    titletext.classList = 'ui-dialog-title';\n",
       "    titletext.setAttribute(\n",
       "        'style',\n",
       "        'width: 100%; text-align: center; padding: 3px;'\n",
       "    );\n",
       "    titlebar.appendChild(titletext);\n",
       "    this.root.appendChild(titlebar);\n",
       "    this.header = titletext;\n",
       "};\n",
       "\n",
       "mpl.figure.prototype._canvas_extra_style = function (_canvas_div) {};\n",
       "\n",
       "mpl.figure.prototype._root_extra_style = function (_canvas_div) {};\n",
       "\n",
       "mpl.figure.prototype._init_canvas = function () {\n",
       "    var fig = this;\n",
       "\n",
       "    var canvas_div = (this.canvas_div = document.createElement('div'));\n",
       "    canvas_div.setAttribute(\n",
       "        'style',\n",
       "        'border: 1px solid #ddd;' +\n",
       "            'box-sizing: content-box;' +\n",
       "            'clear: both;' +\n",
       "            'min-height: 1px;' +\n",
       "            'min-width: 1px;' +\n",
       "            'outline: 0;' +\n",
       "            'overflow: hidden;' +\n",
       "            'position: relative;' +\n",
       "            'resize: both;'\n",
       "    );\n",
       "\n",
       "    function on_keyboard_event_closure(name) {\n",
       "        return function (event) {\n",
       "            return fig.key_event(event, name);\n",
       "        };\n",
       "    }\n",
       "\n",
       "    canvas_div.addEventListener(\n",
       "        'keydown',\n",
       "        on_keyboard_event_closure('key_press')\n",
       "    );\n",
       "    canvas_div.addEventListener(\n",
       "        'keyup',\n",
       "        on_keyboard_event_closure('key_release')\n",
       "    );\n",
       "\n",
       "    this._canvas_extra_style(canvas_div);\n",
       "    this.root.appendChild(canvas_div);\n",
       "\n",
       "    var canvas = (this.canvas = document.createElement('canvas'));\n",
       "    canvas.classList.add('mpl-canvas');\n",
       "    canvas.setAttribute('style', 'box-sizing: content-box;');\n",
       "\n",
       "    this.context = canvas.getContext('2d');\n",
       "\n",
       "    var backingStore =\n",
       "        this.context.backingStorePixelRatio ||\n",
       "        this.context.webkitBackingStorePixelRatio ||\n",
       "        this.context.mozBackingStorePixelRatio ||\n",
       "        this.context.msBackingStorePixelRatio ||\n",
       "        this.context.oBackingStorePixelRatio ||\n",
       "        this.context.backingStorePixelRatio ||\n",
       "        1;\n",
       "\n",
       "    this.ratio = (window.devicePixelRatio || 1) / backingStore;\n",
       "    if (this.ratio !== 1) {\n",
       "        fig.send_message('set_dpi_ratio', { dpi_ratio: this.ratio });\n",
       "    }\n",
       "\n",
       "    var rubberband_canvas = (this.rubberband_canvas = document.createElement(\n",
       "        'canvas'\n",
       "    ));\n",
       "    rubberband_canvas.setAttribute(\n",
       "        'style',\n",
       "        'box-sizing: content-box; position: absolute; left: 0; top: 0; z-index: 1;'\n",
       "    );\n",
       "\n",
       "    var resizeObserver = new ResizeObserver(function (entries) {\n",
       "        var nentries = entries.length;\n",
       "        for (var i = 0; i < nentries; i++) {\n",
       "            var entry = entries[i];\n",
       "            var width, height;\n",
       "            if (entry.contentBoxSize) {\n",
       "                if (entry.contentBoxSize instanceof Array) {\n",
       "                    // Chrome 84 implements new version of spec.\n",
       "                    width = entry.contentBoxSize[0].inlineSize;\n",
       "                    height = entry.contentBoxSize[0].blockSize;\n",
       "                } else {\n",
       "                    // Firefox implements old version of spec.\n",
       "                    width = entry.contentBoxSize.inlineSize;\n",
       "                    height = entry.contentBoxSize.blockSize;\n",
       "                }\n",
       "            } else {\n",
       "                // Chrome <84 implements even older version of spec.\n",
       "                width = entry.contentRect.width;\n",
       "                height = entry.contentRect.height;\n",
       "            }\n",
       "\n",
       "            // Keep the size of the canvas and rubber band canvas in sync with\n",
       "            // the canvas container.\n",
       "            if (entry.devicePixelContentBoxSize) {\n",
       "                // Chrome 84 implements new version of spec.\n",
       "                canvas.setAttribute(\n",
       "                    'width',\n",
       "                    entry.devicePixelContentBoxSize[0].inlineSize\n",
       "                );\n",
       "                canvas.setAttribute(\n",
       "                    'height',\n",
       "                    entry.devicePixelContentBoxSize[0].blockSize\n",
       "                );\n",
       "            } else {\n",
       "                canvas.setAttribute('width', width * fig.ratio);\n",
       "                canvas.setAttribute('height', height * fig.ratio);\n",
       "            }\n",
       "            canvas.setAttribute(\n",
       "                'style',\n",
       "                'width: ' + width + 'px; height: ' + height + 'px;'\n",
       "            );\n",
       "\n",
       "            rubberband_canvas.setAttribute('width', width);\n",
       "            rubberband_canvas.setAttribute('height', height);\n",
       "\n",
       "            // And update the size in Python. We ignore the initial 0/0 size\n",
       "            // that occurs as the element is placed into the DOM, which should\n",
       "            // otherwise not happen due to the minimum size styling.\n",
       "            if (width != 0 && height != 0) {\n",
       "                fig.request_resize(width, height);\n",
       "            }\n",
       "        }\n",
       "    });\n",
       "    resizeObserver.observe(canvas_div);\n",
       "\n",
       "    function on_mouse_event_closure(name) {\n",
       "        return function (event) {\n",
       "            return fig.mouse_event(event, name);\n",
       "        };\n",
       "    }\n",
       "\n",
       "    rubberband_canvas.addEventListener(\n",
       "        'mousedown',\n",
       "        on_mouse_event_closure('button_press')\n",
       "    );\n",
       "    rubberband_canvas.addEventListener(\n",
       "        'mouseup',\n",
       "        on_mouse_event_closure('button_release')\n",
       "    );\n",
       "    // Throttle sequential mouse events to 1 every 20ms.\n",
       "    rubberband_canvas.addEventListener(\n",
       "        'mousemove',\n",
       "        on_mouse_event_closure('motion_notify')\n",
       "    );\n",
       "\n",
       "    rubberband_canvas.addEventListener(\n",
       "        'mouseenter',\n",
       "        on_mouse_event_closure('figure_enter')\n",
       "    );\n",
       "    rubberband_canvas.addEventListener(\n",
       "        'mouseleave',\n",
       "        on_mouse_event_closure('figure_leave')\n",
       "    );\n",
       "\n",
       "    canvas_div.addEventListener('wheel', function (event) {\n",
       "        if (event.deltaY < 0) {\n",
       "            event.step = 1;\n",
       "        } else {\n",
       "            event.step = -1;\n",
       "        }\n",
       "        on_mouse_event_closure('scroll')(event);\n",
       "    });\n",
       "\n",
       "    canvas_div.appendChild(canvas);\n",
       "    canvas_div.appendChild(rubberband_canvas);\n",
       "\n",
       "    this.rubberband_context = rubberband_canvas.getContext('2d');\n",
       "    this.rubberband_context.strokeStyle = '#000000';\n",
       "\n",
       "    this._resize_canvas = function (width, height, forward) {\n",
       "        if (forward) {\n",
       "            canvas_div.style.width = width + 'px';\n",
       "            canvas_div.style.height = height + 'px';\n",
       "        }\n",
       "    };\n",
       "\n",
       "    // Disable right mouse context menu.\n",
       "    this.rubberband_canvas.addEventListener('contextmenu', function (_e) {\n",
       "        event.preventDefault();\n",
       "        return false;\n",
       "    });\n",
       "\n",
       "    function set_focus() {\n",
       "        canvas.focus();\n",
       "        canvas_div.focus();\n",
       "    }\n",
       "\n",
       "    window.setTimeout(set_focus, 100);\n",
       "};\n",
       "\n",
       "mpl.figure.prototype._init_toolbar = function () {\n",
       "    var fig = this;\n",
       "\n",
       "    var toolbar = document.createElement('div');\n",
       "    toolbar.classList = 'mpl-toolbar';\n",
       "    this.root.appendChild(toolbar);\n",
       "\n",
       "    function on_click_closure(name) {\n",
       "        return function (_event) {\n",
       "            return fig.toolbar_button_onclick(name);\n",
       "        };\n",
       "    }\n",
       "\n",
       "    function on_mouseover_closure(tooltip) {\n",
       "        return function (event) {\n",
       "            if (!event.currentTarget.disabled) {\n",
       "                return fig.toolbar_button_onmouseover(tooltip);\n",
       "            }\n",
       "        };\n",
       "    }\n",
       "\n",
       "    fig.buttons = {};\n",
       "    var buttonGroup = document.createElement('div');\n",
       "    buttonGroup.classList = 'mpl-button-group';\n",
       "    for (var toolbar_ind in mpl.toolbar_items) {\n",
       "        var name = mpl.toolbar_items[toolbar_ind][0];\n",
       "        var tooltip = mpl.toolbar_items[toolbar_ind][1];\n",
       "        var image = mpl.toolbar_items[toolbar_ind][2];\n",
       "        var method_name = mpl.toolbar_items[toolbar_ind][3];\n",
       "\n",
       "        if (!name) {\n",
       "            /* Instead of a spacer, we start a new button group. */\n",
       "            if (buttonGroup.hasChildNodes()) {\n",
       "                toolbar.appendChild(buttonGroup);\n",
       "            }\n",
       "            buttonGroup = document.createElement('div');\n",
       "            buttonGroup.classList = 'mpl-button-group';\n",
       "            continue;\n",
       "        }\n",
       "\n",
       "        var button = (fig.buttons[name] = document.createElement('button'));\n",
       "        button.classList = 'mpl-widget';\n",
       "        button.setAttribute('role', 'button');\n",
       "        button.setAttribute('aria-disabled', 'false');\n",
       "        button.addEventListener('click', on_click_closure(method_name));\n",
       "        button.addEventListener('mouseover', on_mouseover_closure(tooltip));\n",
       "\n",
       "        var icon_img = document.createElement('img');\n",
       "        icon_img.src = '_images/' + image + '.png';\n",
       "        icon_img.srcset = '_images/' + image + '_large.png 2x';\n",
       "        icon_img.alt = tooltip;\n",
       "        button.appendChild(icon_img);\n",
       "\n",
       "        buttonGroup.appendChild(button);\n",
       "    }\n",
       "\n",
       "    if (buttonGroup.hasChildNodes()) {\n",
       "        toolbar.appendChild(buttonGroup);\n",
       "    }\n",
       "\n",
       "    var fmt_picker = document.createElement('select');\n",
       "    fmt_picker.classList = 'mpl-widget';\n",
       "    toolbar.appendChild(fmt_picker);\n",
       "    this.format_dropdown = fmt_picker;\n",
       "\n",
       "    for (var ind in mpl.extensions) {\n",
       "        var fmt = mpl.extensions[ind];\n",
       "        var option = document.createElement('option');\n",
       "        option.selected = fmt === mpl.default_extension;\n",
       "        option.innerHTML = fmt;\n",
       "        fmt_picker.appendChild(option);\n",
       "    }\n",
       "\n",
       "    var status_bar = document.createElement('span');\n",
       "    status_bar.classList = 'mpl-message';\n",
       "    toolbar.appendChild(status_bar);\n",
       "    this.message = status_bar;\n",
       "};\n",
       "\n",
       "mpl.figure.prototype.request_resize = function (x_pixels, y_pixels) {\n",
       "    // Request matplotlib to resize the figure. Matplotlib will then trigger a resize in the client,\n",
       "    // which will in turn request a refresh of the image.\n",
       "    this.send_message('resize', { width: x_pixels, height: y_pixels });\n",
       "};\n",
       "\n",
       "mpl.figure.prototype.send_message = function (type, properties) {\n",
       "    properties['type'] = type;\n",
       "    properties['figure_id'] = this.id;\n",
       "    this.ws.send(JSON.stringify(properties));\n",
       "};\n",
       "\n",
       "mpl.figure.prototype.send_draw_message = function () {\n",
       "    if (!this.waiting) {\n",
       "        this.waiting = true;\n",
       "        this.ws.send(JSON.stringify({ type: 'draw', figure_id: this.id }));\n",
       "    }\n",
       "};\n",
       "\n",
       "mpl.figure.prototype.handle_save = function (fig, _msg) {\n",
       "    var format_dropdown = fig.format_dropdown;\n",
       "    var format = format_dropdown.options[format_dropdown.selectedIndex].value;\n",
       "    fig.ondownload(fig, format);\n",
       "};\n",
       "\n",
       "mpl.figure.prototype.handle_resize = function (fig, msg) {\n",
       "    var size = msg['size'];\n",
       "    if (size[0] !== fig.canvas.width || size[1] !== fig.canvas.height) {\n",
       "        fig._resize_canvas(size[0], size[1], msg['forward']);\n",
       "        fig.send_message('refresh', {});\n",
       "    }\n",
       "};\n",
       "\n",
       "mpl.figure.prototype.handle_rubberband = function (fig, msg) {\n",
       "    var x0 = msg['x0'] / fig.ratio;\n",
       "    var y0 = (fig.canvas.height - msg['y0']) / fig.ratio;\n",
       "    var x1 = msg['x1'] / fig.ratio;\n",
       "    var y1 = (fig.canvas.height - msg['y1']) / fig.ratio;\n",
       "    x0 = Math.floor(x0) + 0.5;\n",
       "    y0 = Math.floor(y0) + 0.5;\n",
       "    x1 = Math.floor(x1) + 0.5;\n",
       "    y1 = Math.floor(y1) + 0.5;\n",
       "    var min_x = Math.min(x0, x1);\n",
       "    var min_y = Math.min(y0, y1);\n",
       "    var width = Math.abs(x1 - x0);\n",
       "    var height = Math.abs(y1 - y0);\n",
       "\n",
       "    fig.rubberband_context.clearRect(\n",
       "        0,\n",
       "        0,\n",
       "        fig.canvas.width / fig.ratio,\n",
       "        fig.canvas.height / fig.ratio\n",
       "    );\n",
       "\n",
       "    fig.rubberband_context.strokeRect(min_x, min_y, width, height);\n",
       "};\n",
       "\n",
       "mpl.figure.prototype.handle_figure_label = function (fig, msg) {\n",
       "    // Updates the figure title.\n",
       "    fig.header.textContent = msg['label'];\n",
       "};\n",
       "\n",
       "mpl.figure.prototype.handle_cursor = function (fig, msg) {\n",
       "    var cursor = msg['cursor'];\n",
       "    switch (cursor) {\n",
       "        case 0:\n",
       "            cursor = 'pointer';\n",
       "            break;\n",
       "        case 1:\n",
       "            cursor = 'default';\n",
       "            break;\n",
       "        case 2:\n",
       "            cursor = 'crosshair';\n",
       "            break;\n",
       "        case 3:\n",
       "            cursor = 'move';\n",
       "            break;\n",
       "    }\n",
       "    fig.rubberband_canvas.style.cursor = cursor;\n",
       "};\n",
       "\n",
       "mpl.figure.prototype.handle_message = function (fig, msg) {\n",
       "    fig.message.textContent = msg['message'];\n",
       "};\n",
       "\n",
       "mpl.figure.prototype.handle_draw = function (fig, _msg) {\n",
       "    // Request the server to send over a new figure.\n",
       "    fig.send_draw_message();\n",
       "};\n",
       "\n",
       "mpl.figure.prototype.handle_image_mode = function (fig, msg) {\n",
       "    fig.image_mode = msg['mode'];\n",
       "};\n",
       "\n",
       "mpl.figure.prototype.handle_history_buttons = function (fig, msg) {\n",
       "    for (var key in msg) {\n",
       "        if (!(key in fig.buttons)) {\n",
       "            continue;\n",
       "        }\n",
       "        fig.buttons[key].disabled = !msg[key];\n",
       "        fig.buttons[key].setAttribute('aria-disabled', !msg[key]);\n",
       "    }\n",
       "};\n",
       "\n",
       "mpl.figure.prototype.handle_navigate_mode = function (fig, msg) {\n",
       "    if (msg['mode'] === 'PAN') {\n",
       "        fig.buttons['Pan'].classList.add('active');\n",
       "        fig.buttons['Zoom'].classList.remove('active');\n",
       "    } else if (msg['mode'] === 'ZOOM') {\n",
       "        fig.buttons['Pan'].classList.remove('active');\n",
       "        fig.buttons['Zoom'].classList.add('active');\n",
       "    } else {\n",
       "        fig.buttons['Pan'].classList.remove('active');\n",
       "        fig.buttons['Zoom'].classList.remove('active');\n",
       "    }\n",
       "};\n",
       "\n",
       "mpl.figure.prototype.updated_canvas_event = function () {\n",
       "    // Called whenever the canvas gets updated.\n",
       "    this.send_message('ack', {});\n",
       "};\n",
       "\n",
       "// A function to construct a web socket function for onmessage handling.\n",
       "// Called in the figure constructor.\n",
       "mpl.figure.prototype._make_on_message_function = function (fig) {\n",
       "    return function socket_on_message(evt) {\n",
       "        if (evt.data instanceof Blob) {\n",
       "            /* FIXME: We get \"Resource interpreted as Image but\n",
       "             * transferred with MIME type text/plain:\" errors on\n",
       "             * Chrome.  But how to set the MIME type?  It doesn't seem\n",
       "             * to be part of the websocket stream */\n",
       "            evt.data.type = 'image/png';\n",
       "\n",
       "            /* Free the memory for the previous frames */\n",
       "            if (fig.imageObj.src) {\n",
       "                (window.URL || window.webkitURL).revokeObjectURL(\n",
       "                    fig.imageObj.src\n",
       "                );\n",
       "            }\n",
       "\n",
       "            fig.imageObj.src = (window.URL || window.webkitURL).createObjectURL(\n",
       "                evt.data\n",
       "            );\n",
       "            fig.updated_canvas_event();\n",
       "            fig.waiting = false;\n",
       "            return;\n",
       "        } else if (\n",
       "            typeof evt.data === 'string' &&\n",
       "            evt.data.slice(0, 21) === 'data:image/png;base64'\n",
       "        ) {\n",
       "            fig.imageObj.src = evt.data;\n",
       "            fig.updated_canvas_event();\n",
       "            fig.waiting = false;\n",
       "            return;\n",
       "        }\n",
       "\n",
       "        var msg = JSON.parse(evt.data);\n",
       "        var msg_type = msg['type'];\n",
       "\n",
       "        // Call the  \"handle_{type}\" callback, which takes\n",
       "        // the figure and JSON message as its only arguments.\n",
       "        try {\n",
       "            var callback = fig['handle_' + msg_type];\n",
       "        } catch (e) {\n",
       "            console.log(\n",
       "                \"No handler for the '\" + msg_type + \"' message type: \",\n",
       "                msg\n",
       "            );\n",
       "            return;\n",
       "        }\n",
       "\n",
       "        if (callback) {\n",
       "            try {\n",
       "                // console.log(\"Handling '\" + msg_type + \"' message: \", msg);\n",
       "                callback(fig, msg);\n",
       "            } catch (e) {\n",
       "                console.log(\n",
       "                    \"Exception inside the 'handler_\" + msg_type + \"' callback:\",\n",
       "                    e,\n",
       "                    e.stack,\n",
       "                    msg\n",
       "                );\n",
       "            }\n",
       "        }\n",
       "    };\n",
       "};\n",
       "\n",
       "// from http://stackoverflow.com/questions/1114465/getting-mouse-location-in-canvas\n",
       "mpl.findpos = function (e) {\n",
       "    //this section is from http://www.quirksmode.org/js/events_properties.html\n",
       "    var targ;\n",
       "    if (!e) {\n",
       "        e = window.event;\n",
       "    }\n",
       "    if (e.target) {\n",
       "        targ = e.target;\n",
       "    } else if (e.srcElement) {\n",
       "        targ = e.srcElement;\n",
       "    }\n",
       "    if (targ.nodeType === 3) {\n",
       "        // defeat Safari bug\n",
       "        targ = targ.parentNode;\n",
       "    }\n",
       "\n",
       "    // pageX,Y are the mouse positions relative to the document\n",
       "    var boundingRect = targ.getBoundingClientRect();\n",
       "    var x = e.pageX - (boundingRect.left + document.body.scrollLeft);\n",
       "    var y = e.pageY - (boundingRect.top + document.body.scrollTop);\n",
       "\n",
       "    return { x: x, y: y };\n",
       "};\n",
       "\n",
       "/*\n",
       " * return a copy of an object with only non-object keys\n",
       " * we need this to avoid circular references\n",
       " * http://stackoverflow.com/a/24161582/3208463\n",
       " */\n",
       "function simpleKeys(original) {\n",
       "    return Object.keys(original).reduce(function (obj, key) {\n",
       "        if (typeof original[key] !== 'object') {\n",
       "            obj[key] = original[key];\n",
       "        }\n",
       "        return obj;\n",
       "    }, {});\n",
       "}\n",
       "\n",
       "mpl.figure.prototype.mouse_event = function (event, name) {\n",
       "    var canvas_pos = mpl.findpos(event);\n",
       "\n",
       "    if (name === 'button_press') {\n",
       "        this.canvas.focus();\n",
       "        this.canvas_div.focus();\n",
       "    }\n",
       "\n",
       "    var x = canvas_pos.x * this.ratio;\n",
       "    var y = canvas_pos.y * this.ratio;\n",
       "\n",
       "    this.send_message(name, {\n",
       "        x: x,\n",
       "        y: y,\n",
       "        button: event.button,\n",
       "        step: event.step,\n",
       "        guiEvent: simpleKeys(event),\n",
       "    });\n",
       "\n",
       "    /* This prevents the web browser from automatically changing to\n",
       "     * the text insertion cursor when the button is pressed.  We want\n",
       "     * to control all of the cursor setting manually through the\n",
       "     * 'cursor' event from matplotlib */\n",
       "    event.preventDefault();\n",
       "    return false;\n",
       "};\n",
       "\n",
       "mpl.figure.prototype._key_event_extra = function (_event, _name) {\n",
       "    // Handle any extra behaviour associated with a key event\n",
       "};\n",
       "\n",
       "mpl.figure.prototype.key_event = function (event, name) {\n",
       "    // Prevent repeat events\n",
       "    if (name === 'key_press') {\n",
       "        if (event.which === this._key) {\n",
       "            return;\n",
       "        } else {\n",
       "            this._key = event.which;\n",
       "        }\n",
       "    }\n",
       "    if (name === 'key_release') {\n",
       "        this._key = null;\n",
       "    }\n",
       "\n",
       "    var value = '';\n",
       "    if (event.ctrlKey && event.which !== 17) {\n",
       "        value += 'ctrl+';\n",
       "    }\n",
       "    if (event.altKey && event.which !== 18) {\n",
       "        value += 'alt+';\n",
       "    }\n",
       "    if (event.shiftKey && event.which !== 16) {\n",
       "        value += 'shift+';\n",
       "    }\n",
       "\n",
       "    value += 'k';\n",
       "    value += event.which.toString();\n",
       "\n",
       "    this._key_event_extra(event, name);\n",
       "\n",
       "    this.send_message(name, { key: value, guiEvent: simpleKeys(event) });\n",
       "    return false;\n",
       "};\n",
       "\n",
       "mpl.figure.prototype.toolbar_button_onclick = function (name) {\n",
       "    if (name === 'download') {\n",
       "        this.handle_save(this, null);\n",
       "    } else {\n",
       "        this.send_message('toolbar_button', { name: name });\n",
       "    }\n",
       "};\n",
       "\n",
       "mpl.figure.prototype.toolbar_button_onmouseover = function (tooltip) {\n",
       "    this.message.textContent = tooltip;\n",
       "};\n",
       "mpl.toolbar_items = [[\"Home\", \"Reset original view\", \"fa fa-home icon-home\", \"home\"], [\"Back\", \"Back to previous view\", \"fa fa-arrow-left icon-arrow-left\", \"back\"], [\"Forward\", \"Forward to next view\", \"fa fa-arrow-right icon-arrow-right\", \"forward\"], [\"\", \"\", \"\", \"\"], [\"Pan\", \"Left button pans, Right button zooms\\nx/y fixes axis, CTRL fixes aspect\", \"fa fa-arrows icon-move\", \"pan\"], [\"Zoom\", \"Zoom to rectangle\\nx/y fixes axis, CTRL fixes aspect\", \"fa fa-square-o icon-check-empty\", \"zoom\"], [\"\", \"\", \"\", \"\"], [\"Download\", \"Download plot\", \"fa fa-floppy-o icon-save\", \"download\"]];\n",
       "\n",
       "mpl.extensions = [\"eps\", \"jpeg\", \"pdf\", \"png\", \"ps\", \"raw\", \"svg\", \"tif\"];\n",
       "\n",
       "mpl.default_extension = \"png\";/* global mpl */\n",
       "\n",
       "var comm_websocket_adapter = function (comm) {\n",
       "    // Create a \"websocket\"-like object which calls the given IPython comm\n",
       "    // object with the appropriate methods. Currently this is a non binary\n",
       "    // socket, so there is still some room for performance tuning.\n",
       "    var ws = {};\n",
       "\n",
       "    ws.close = function () {\n",
       "        comm.close();\n",
       "    };\n",
       "    ws.send = function (m) {\n",
       "        //console.log('sending', m);\n",
       "        comm.send(m);\n",
       "    };\n",
       "    // Register the callback with on_msg.\n",
       "    comm.on_msg(function (msg) {\n",
       "        //console.log('receiving', msg['content']['data'], msg);\n",
       "        // Pass the mpl event to the overridden (by mpl) onmessage function.\n",
       "        ws.onmessage(msg['content']['data']);\n",
       "    });\n",
       "    return ws;\n",
       "};\n",
       "\n",
       "mpl.mpl_figure_comm = function (comm, msg) {\n",
       "    // This is the function which gets called when the mpl process\n",
       "    // starts-up an IPython Comm through the \"matplotlib\" channel.\n",
       "\n",
       "    var id = msg.content.data.id;\n",
       "    // Get hold of the div created by the display call when the Comm\n",
       "    // socket was opened in Python.\n",
       "    var element = document.getElementById(id);\n",
       "    var ws_proxy = comm_websocket_adapter(comm);\n",
       "\n",
       "    function ondownload(figure, _format) {\n",
       "        window.open(figure.canvas.toDataURL());\n",
       "    }\n",
       "\n",
       "    var fig = new mpl.figure(id, ws_proxy, ondownload, element);\n",
       "\n",
       "    // Call onopen now - mpl needs it, as it is assuming we've passed it a real\n",
       "    // web socket which is closed, not our websocket->open comm proxy.\n",
       "    ws_proxy.onopen();\n",
       "\n",
       "    fig.parent_element = element;\n",
       "    fig.cell_info = mpl.find_output_cell(\"<div id='\" + id + \"'></div>\");\n",
       "    if (!fig.cell_info) {\n",
       "        console.error('Failed to find cell for figure', id, fig);\n",
       "        return;\n",
       "    }\n",
       "    fig.cell_info[0].output_area.element.one(\n",
       "        'cleared',\n",
       "        { fig: fig },\n",
       "        fig._remove_fig_handler\n",
       "    );\n",
       "};\n",
       "\n",
       "mpl.figure.prototype.handle_close = function (fig, msg) {\n",
       "    var width = fig.canvas.width / fig.ratio;\n",
       "    fig.cell_info[0].output_area.element.off(\n",
       "        'cleared',\n",
       "        fig._remove_fig_handler\n",
       "    );\n",
       "\n",
       "    // Update the output cell to use the data from the current canvas.\n",
       "    fig.push_to_output();\n",
       "    var dataURL = fig.canvas.toDataURL();\n",
       "    // Re-enable the keyboard manager in IPython - without this line, in FF,\n",
       "    // the notebook keyboard shortcuts fail.\n",
       "    IPython.keyboard_manager.enable();\n",
       "    fig.parent_element.innerHTML =\n",
       "        '<img src=\"' + dataURL + '\" width=\"' + width + '\">';\n",
       "    fig.close_ws(fig, msg);\n",
       "};\n",
       "\n",
       "mpl.figure.prototype.close_ws = function (fig, msg) {\n",
       "    fig.send_message('closing', msg);\n",
       "    // fig.ws.close()\n",
       "};\n",
       "\n",
       "mpl.figure.prototype.push_to_output = function (_remove_interactive) {\n",
       "    // Turn the data on the canvas into data in the output cell.\n",
       "    var width = this.canvas.width / this.ratio;\n",
       "    var dataURL = this.canvas.toDataURL();\n",
       "    this.cell_info[1]['text/html'] =\n",
       "        '<img src=\"' + dataURL + '\" width=\"' + width + '\">';\n",
       "};\n",
       "\n",
       "mpl.figure.prototype.updated_canvas_event = function () {\n",
       "    // Tell IPython that the notebook contents must change.\n",
       "    IPython.notebook.set_dirty(true);\n",
       "    this.send_message('ack', {});\n",
       "    var fig = this;\n",
       "    // Wait a second, then push the new image to the DOM so\n",
       "    // that it is saved nicely (might be nice to debounce this).\n",
       "    setTimeout(function () {\n",
       "        fig.push_to_output();\n",
       "    }, 1000);\n",
       "};\n",
       "\n",
       "mpl.figure.prototype._init_toolbar = function () {\n",
       "    var fig = this;\n",
       "\n",
       "    var toolbar = document.createElement('div');\n",
       "    toolbar.classList = 'btn-toolbar';\n",
       "    this.root.appendChild(toolbar);\n",
       "\n",
       "    function on_click_closure(name) {\n",
       "        return function (_event) {\n",
       "            return fig.toolbar_button_onclick(name);\n",
       "        };\n",
       "    }\n",
       "\n",
       "    function on_mouseover_closure(tooltip) {\n",
       "        return function (event) {\n",
       "            if (!event.currentTarget.disabled) {\n",
       "                return fig.toolbar_button_onmouseover(tooltip);\n",
       "            }\n",
       "        };\n",
       "    }\n",
       "\n",
       "    fig.buttons = {};\n",
       "    var buttonGroup = document.createElement('div');\n",
       "    buttonGroup.classList = 'btn-group';\n",
       "    var button;\n",
       "    for (var toolbar_ind in mpl.toolbar_items) {\n",
       "        var name = mpl.toolbar_items[toolbar_ind][0];\n",
       "        var tooltip = mpl.toolbar_items[toolbar_ind][1];\n",
       "        var image = mpl.toolbar_items[toolbar_ind][2];\n",
       "        var method_name = mpl.toolbar_items[toolbar_ind][3];\n",
       "\n",
       "        if (!name) {\n",
       "            /* Instead of a spacer, we start a new button group. */\n",
       "            if (buttonGroup.hasChildNodes()) {\n",
       "                toolbar.appendChild(buttonGroup);\n",
       "            }\n",
       "            buttonGroup = document.createElement('div');\n",
       "            buttonGroup.classList = 'btn-group';\n",
       "            continue;\n",
       "        }\n",
       "\n",
       "        button = fig.buttons[name] = document.createElement('button');\n",
       "        button.classList = 'btn btn-default';\n",
       "        button.href = '#';\n",
       "        button.title = name;\n",
       "        button.innerHTML = '<i class=\"fa ' + image + ' fa-lg\"></i>';\n",
       "        button.addEventListener('click', on_click_closure(method_name));\n",
       "        button.addEventListener('mouseover', on_mouseover_closure(tooltip));\n",
       "        buttonGroup.appendChild(button);\n",
       "    }\n",
       "\n",
       "    if (buttonGroup.hasChildNodes()) {\n",
       "        toolbar.appendChild(buttonGroup);\n",
       "    }\n",
       "\n",
       "    // Add the status bar.\n",
       "    var status_bar = document.createElement('span');\n",
       "    status_bar.classList = 'mpl-message pull-right';\n",
       "    toolbar.appendChild(status_bar);\n",
       "    this.message = status_bar;\n",
       "\n",
       "    // Add the close button to the window.\n",
       "    var buttongrp = document.createElement('div');\n",
       "    buttongrp.classList = 'btn-group inline pull-right';\n",
       "    button = document.createElement('button');\n",
       "    button.classList = 'btn btn-mini btn-primary';\n",
       "    button.href = '#';\n",
       "    button.title = 'Stop Interaction';\n",
       "    button.innerHTML = '<i class=\"fa fa-power-off icon-remove icon-large\"></i>';\n",
       "    button.addEventListener('click', function (_evt) {\n",
       "        fig.handle_close(fig, {});\n",
       "    });\n",
       "    button.addEventListener(\n",
       "        'mouseover',\n",
       "        on_mouseover_closure('Stop Interaction')\n",
       "    );\n",
       "    buttongrp.appendChild(button);\n",
       "    var titlebar = this.root.querySelector('.ui-dialog-titlebar');\n",
       "    titlebar.insertBefore(buttongrp, titlebar.firstChild);\n",
       "};\n",
       "\n",
       "mpl.figure.prototype._remove_fig_handler = function (event) {\n",
       "    var fig = event.data.fig;\n",
       "    fig.close_ws(fig, {});\n",
       "};\n",
       "\n",
       "mpl.figure.prototype._root_extra_style = function (el) {\n",
       "    el.style.boxSizing = 'content-box'; // override notebook setting of border-box.\n",
       "};\n",
       "\n",
       "mpl.figure.prototype._canvas_extra_style = function (el) {\n",
       "    // this is important to make the div 'focusable\n",
       "    el.setAttribute('tabindex', 0);\n",
       "    // reach out to IPython and tell the keyboard manager to turn it's self\n",
       "    // off when our div gets focus\n",
       "\n",
       "    // location in version 3\n",
       "    if (IPython.notebook.keyboard_manager) {\n",
       "        IPython.notebook.keyboard_manager.register_events(el);\n",
       "    } else {\n",
       "        // location in version 2\n",
       "        IPython.keyboard_manager.register_events(el);\n",
       "    }\n",
       "};\n",
       "\n",
       "mpl.figure.prototype._key_event_extra = function (event, _name) {\n",
       "    var manager = IPython.notebook.keyboard_manager;\n",
       "    if (!manager) {\n",
       "        manager = IPython.keyboard_manager;\n",
       "    }\n",
       "\n",
       "    // Check for shift+enter\n",
       "    if (event.shiftKey && event.which === 13) {\n",
       "        this.canvas_div.blur();\n",
       "        // select the cell after this one\n",
       "        var index = IPython.notebook.find_cell_index(this.cell_info[0]);\n",
       "        IPython.notebook.select(index + 1);\n",
       "    }\n",
       "};\n",
       "\n",
       "mpl.figure.prototype.handle_save = function (fig, _msg) {\n",
       "    fig.ondownload(fig, null);\n",
       "};\n",
       "\n",
       "mpl.find_output_cell = function (html_output) {\n",
       "    // Return the cell and output element which can be found *uniquely* in the notebook.\n",
       "    // Note - this is a bit hacky, but it is done because the \"notebook_saving.Notebook\"\n",
       "    // IPython event is triggered only after the cells have been serialised, which for\n",
       "    // our purposes (turning an active figure into a static one), is too late.\n",
       "    var cells = IPython.notebook.get_cells();\n",
       "    var ncells = cells.length;\n",
       "    for (var i = 0; i < ncells; i++) {\n",
       "        var cell = cells[i];\n",
       "        if (cell.cell_type === 'code') {\n",
       "            for (var j = 0; j < cell.output_area.outputs.length; j++) {\n",
       "                var data = cell.output_area.outputs[j];\n",
       "                if (data.data) {\n",
       "                    // IPython >= 3 moved mimebundle to data attribute of output\n",
       "                    data = data.data;\n",
       "                }\n",
       "                if (data['text/html'] === html_output) {\n",
       "                    return [cell, data, j];\n",
       "                }\n",
       "            }\n",
       "        }\n",
       "    }\n",
       "};\n",
       "\n",
       "// Register the function which deals with the matplotlib target/channel.\n",
       "// The kernel may be null if the page has been refreshed.\n",
       "if (IPython.notebook.kernel !== null) {\n",
       "    IPython.notebook.kernel.comm_manager.register_target(\n",
       "        'matplotlib',\n",
       "        mpl.mpl_figure_comm\n",
       "    );\n",
       "}\n"
      ],
      "text/plain": [
       "<IPython.core.display.Javascript object>"
      ]
     },
     "metadata": {},
     "output_type": "display_data"
    },
    {
     "data": {
      "text/html": [
       "<div id='6c3e7114-d68c-4d58-9e06-c8fc055afc46'></div>"
      ],
      "text/plain": [
       "<IPython.core.display.HTML object>"
      ]
     },
     "metadata": {},
     "output_type": "display_data"
    },
    {
     "name": "stderr",
     "output_type": "stream",
     "text": [
      "/home/martth/Desktop/git_project/SuPyModes/SuPyModes/Geometry.py:114: UserWarning: The following kwargs were not used by contour: 'shading'\n",
      "  pcm = ax.contourf(\n",
      "[                                                         ]   0% ETA:  --:--:--\r"
     ]
    },
    {
     "name": "stdout",
     "output_type": "stream",
     "text": [
      "0/100\n"
     ]
    },
    {
     "name": "stderr",
     "output_type": "stream",
     "text": [
      "[                                                          ]   1% ETA:  0:01:46\r"
     ]
    },
    {
     "name": "stdout",
     "output_type": "stream",
     "text": [
      "1/100\n"
     ]
    },
    {
     "name": "stderr",
     "output_type": "stream",
     "text": [
      "[=                                                         ]   2% ETA:  0:01:29\r"
     ]
    },
    {
     "name": "stdout",
     "output_type": "stream",
     "text": [
      "2/100\n"
     ]
    },
    {
     "name": "stderr",
     "output_type": "stream",
     "text": [
      "[=                                                         ]   3% ETA:  0:01:14\r"
     ]
    },
    {
     "name": "stdout",
     "output_type": "stream",
     "text": [
      "3/100\n"
     ]
    },
    {
     "name": "stderr",
     "output_type": "stream",
     "text": [
      "[==                                                        ]   4% ETA:  0:01:07\r"
     ]
    },
    {
     "name": "stdout",
     "output_type": "stream",
     "text": [
      "4/100\n"
     ]
    },
    {
     "name": "stderr",
     "output_type": "stream",
     "text": [
      "[==                                                        ]   5% ETA:  0:01:10\r"
     ]
    },
    {
     "name": "stdout",
     "output_type": "stream",
     "text": [
      "5/100\n"
     ]
    },
    {
     "name": "stderr",
     "output_type": "stream",
     "text": [
      "[===                                                       ]   6% ETA:  0:01:10\r"
     ]
    },
    {
     "name": "stdout",
     "output_type": "stream",
     "text": [
      "6/100\n"
     ]
    },
    {
     "name": "stderr",
     "output_type": "stream",
     "text": [
      "[====                                                      ]   7% ETA:  0:01:09\r"
     ]
    },
    {
     "name": "stdout",
     "output_type": "stream",
     "text": [
      "7/100\n"
     ]
    },
    {
     "name": "stderr",
     "output_type": "stream",
     "text": [
      "[====                                                      ]   8% ETA:  0:01:07\r"
     ]
    },
    {
     "name": "stdout",
     "output_type": "stream",
     "text": [
      "8/100\n"
     ]
    },
    {
     "name": "stderr",
     "output_type": "stream",
     "text": [
      "[=====                                                     ]   9% ETA:  0:01:08\r"
     ]
    },
    {
     "name": "stdout",
     "output_type": "stream",
     "text": [
      "9/100\n"
     ]
    },
    {
     "name": "stderr",
     "output_type": "stream",
     "text": [
      "[=====                                                     ]  10% ETA:  0:01:05\r"
     ]
    },
    {
     "name": "stdout",
     "output_type": "stream",
     "text": [
      "10/100\n"
     ]
    },
    {
     "name": "stderr",
     "output_type": "stream",
     "text": [
      "[======                                                    ]  11% ETA:  0:01:03\r"
     ]
    },
    {
     "name": "stdout",
     "output_type": "stream",
     "text": [
      "11/100\n"
     ]
    },
    {
     "name": "stderr",
     "output_type": "stream",
     "text": [
      "[======                                                    ]  12% ETA:  0:01:00\r"
     ]
    },
    {
     "name": "stdout",
     "output_type": "stream",
     "text": [
      "12/100\n"
     ]
    },
    {
     "name": "stderr",
     "output_type": "stream",
     "text": [
      "[=======                                                   ]  13% ETA:  0:00:58\r"
     ]
    },
    {
     "name": "stdout",
     "output_type": "stream",
     "text": [
      "13/100\n"
     ]
    },
    {
     "name": "stderr",
     "output_type": "stream",
     "text": [
      "[========                                                  ]  14% ETA:  0:00:57\r"
     ]
    },
    {
     "name": "stdout",
     "output_type": "stream",
     "text": [
      "14/100\n"
     ]
    },
    {
     "name": "stderr",
     "output_type": "stream",
     "text": [
      "[========                                                  ]  15% ETA:  0:00:55\r"
     ]
    },
    {
     "name": "stdout",
     "output_type": "stream",
     "text": [
      "15/100\n"
     ]
    },
    {
     "name": "stderr",
     "output_type": "stream",
     "text": [
      "[=========                                                 ]  16% ETA:  0:00:53\r"
     ]
    },
    {
     "name": "stdout",
     "output_type": "stream",
     "text": [
      "16/100\n"
     ]
    },
    {
     "name": "stderr",
     "output_type": "stream",
     "text": [
      "[=========                                                 ]  17% ETA:  0:00:52\r"
     ]
    },
    {
     "name": "stdout",
     "output_type": "stream",
     "text": [
      "17/100\n"
     ]
    },
    {
     "name": "stderr",
     "output_type": "stream",
     "text": [
      "[==========                                                ]  18% ETA:  0:00:50\r"
     ]
    },
    {
     "name": "stdout",
     "output_type": "stream",
     "text": [
      "18/100\n"
     ]
    },
    {
     "name": "stderr",
     "output_type": "stream",
     "text": [
      "[===========                                               ]  19% ETA:  0:00:50\r"
     ]
    },
    {
     "name": "stdout",
     "output_type": "stream",
     "text": [
      "19/100\n"
     ]
    },
    {
     "name": "stderr",
     "output_type": "stream",
     "text": [
      "[===========                                               ]  20% ETA:  0:00:49\r"
     ]
    },
    {
     "name": "stdout",
     "output_type": "stream",
     "text": [
      "20/100\n"
     ]
    },
    {
     "name": "stderr",
     "output_type": "stream",
     "text": [
      "[============                                              ]  21% ETA:  0:00:49\r"
     ]
    },
    {
     "name": "stdout",
     "output_type": "stream",
     "text": [
      "21/100\n"
     ]
    },
    {
     "name": "stderr",
     "output_type": "stream",
     "text": [
      "[============                                              ]  22% ETA:  0:00:48\r"
     ]
    },
    {
     "name": "stdout",
     "output_type": "stream",
     "text": [
      "22/100\n"
     ]
    },
    {
     "name": "stderr",
     "output_type": "stream",
     "text": [
      "[=============                                             ]  23% ETA:  0:00:47\r"
     ]
    },
    {
     "name": "stdout",
     "output_type": "stream",
     "text": [
      "23/100\n"
     ]
    },
    {
     "name": "stderr",
     "output_type": "stream",
     "text": [
      "[=============                                             ]  24% ETA:  0:00:45\r"
     ]
    },
    {
     "name": "stdout",
     "output_type": "stream",
     "text": [
      "24/100\n"
     ]
    },
    {
     "name": "stderr",
     "output_type": "stream",
     "text": [
      "[==============                                            ]  25% ETA:  0:00:44\r"
     ]
    },
    {
     "name": "stdout",
     "output_type": "stream",
     "text": [
      "25/100\n"
     ]
    },
    {
     "name": "stderr",
     "output_type": "stream",
     "text": [
      "[===============                                           ]  26% ETA:  0:00:43\r"
     ]
    },
    {
     "name": "stdout",
     "output_type": "stream",
     "text": [
      "26/100\n"
     ]
    },
    {
     "name": "stderr",
     "output_type": "stream",
     "text": [
      "[===============                                           ]  27% ETA:  0:00:42\r"
     ]
    },
    {
     "name": "stdout",
     "output_type": "stream",
     "text": [
      "27/100\n"
     ]
    },
    {
     "name": "stderr",
     "output_type": "stream",
     "text": [
      "[================                                          ]  28% ETA:  0:00:41\r"
     ]
    },
    {
     "name": "stdout",
     "output_type": "stream",
     "text": [
      "28/100\n"
     ]
    },
    {
     "name": "stderr",
     "output_type": "stream",
     "text": [
      "[================                                          ]  29% ETA:  0:00:41\r"
     ]
    },
    {
     "name": "stdout",
     "output_type": "stream",
     "text": [
      "29/100\n"
     ]
    },
    {
     "name": "stderr",
     "output_type": "stream",
     "text": [
      "[=================                                         ]  30% ETA:  0:00:40\r"
     ]
    },
    {
     "name": "stdout",
     "output_type": "stream",
     "text": [
      "30/100\n"
     ]
    },
    {
     "name": "stderr",
     "output_type": "stream",
     "text": [
      "[=================                                         ]  31% ETA:  0:00:39\r"
     ]
    },
    {
     "name": "stdout",
     "output_type": "stream",
     "text": [
      "31/100\n"
     ]
    },
    {
     "name": "stderr",
     "output_type": "stream",
     "text": [
      "[==================                                        ]  32% ETA:  0:00:38\r"
     ]
    },
    {
     "name": "stdout",
     "output_type": "stream",
     "text": [
      "32/100\n"
     ]
    },
    {
     "name": "stderr",
     "output_type": "stream",
     "text": [
      "[===================                                       ]  33% ETA:  0:00:37\r"
     ]
    },
    {
     "name": "stdout",
     "output_type": "stream",
     "text": [
      "33/100\n"
     ]
    },
    {
     "name": "stderr",
     "output_type": "stream",
     "text": [
      "[===================                                       ]  34% ETA:  0:00:36\r"
     ]
    },
    {
     "name": "stdout",
     "output_type": "stream",
     "text": [
      "34/100\n"
     ]
    },
    {
     "name": "stderr",
     "output_type": "stream",
     "text": [
      "[====================                                      ]  35% ETA:  0:00:35\r"
     ]
    },
    {
     "name": "stdout",
     "output_type": "stream",
     "text": [
      "35/100\n"
     ]
    },
    {
     "name": "stderr",
     "output_type": "stream",
     "text": [
      "[====================                                      ]  36% ETA:  0:00:35\r"
     ]
    },
    {
     "name": "stdout",
     "output_type": "stream",
     "text": [
      "36/100\n"
     ]
    },
    {
     "name": "stderr",
     "output_type": "stream",
     "text": [
      "[=====================                                     ]  37% ETA:  0:00:34\r"
     ]
    },
    {
     "name": "stdout",
     "output_type": "stream",
     "text": [
      "37/100\n"
     ]
    },
    {
     "name": "stderr",
     "output_type": "stream",
     "text": [
      "[======================                                    ]  38% ETA:  0:00:33\r"
     ]
    },
    {
     "name": "stdout",
     "output_type": "stream",
     "text": [
      "38/100\n"
     ]
    },
    {
     "name": "stderr",
     "output_type": "stream",
     "text": [
      "[======================                                    ]  39% ETA:  0:00:33\r"
     ]
    },
    {
     "name": "stdout",
     "output_type": "stream",
     "text": [
      "39/100\n"
     ]
    },
    {
     "name": "stderr",
     "output_type": "stream",
     "text": [
      "[=======================                                   ]  40% ETA:  0:00:32\r"
     ]
    },
    {
     "name": "stdout",
     "output_type": "stream",
     "text": [
      "40/100\n"
     ]
    },
    {
     "name": "stderr",
     "output_type": "stream",
     "text": [
      "[=======================                                   ]  41% ETA:  0:00:32\r"
     ]
    },
    {
     "name": "stdout",
     "output_type": "stream",
     "text": [
      "41/100\n"
     ]
    },
    {
     "name": "stderr",
     "output_type": "stream",
     "text": [
      "[========================                                  ]  42% ETA:  0:00:31\r"
     ]
    },
    {
     "name": "stdout",
     "output_type": "stream",
     "text": [
      "42/100\n"
     ]
    },
    {
     "name": "stderr",
     "output_type": "stream",
     "text": [
      "[========================                                  ]  43% ETA:  0:00:30\r"
     ]
    },
    {
     "name": "stdout",
     "output_type": "stream",
     "text": [
      "43/100\n"
     ]
    },
    {
     "name": "stderr",
     "output_type": "stream",
     "text": [
      "[=========================                                 ]  44% ETA:  0:00:30\r"
     ]
    },
    {
     "name": "stdout",
     "output_type": "stream",
     "text": [
      "44/100\n"
     ]
    },
    {
     "name": "stderr",
     "output_type": "stream",
     "text": [
      "[==========================                                ]  45% ETA:  0:00:29\r"
     ]
    },
    {
     "name": "stdout",
     "output_type": "stream",
     "text": [
      "45/100\n"
     ]
    },
    {
     "name": "stderr",
     "output_type": "stream",
     "text": [
      "[==========================                                ]  46% ETA:  0:00:29\r"
     ]
    },
    {
     "name": "stdout",
     "output_type": "stream",
     "text": [
      "46/100\n"
     ]
    },
    {
     "name": "stderr",
     "output_type": "stream",
     "text": [
      "[===========================                               ]  47% ETA:  0:00:28\r"
     ]
    },
    {
     "name": "stdout",
     "output_type": "stream",
     "text": [
      "47/100\n"
     ]
    },
    {
     "name": "stderr",
     "output_type": "stream",
     "text": [
      "[===========================                               ]  48% ETA:  0:00:27\r"
     ]
    },
    {
     "name": "stdout",
     "output_type": "stream",
     "text": [
      "48/100\n"
     ]
    },
    {
     "name": "stderr",
     "output_type": "stream",
     "text": [
      "[============================                              ]  49% ETA:  0:00:27\r"
     ]
    },
    {
     "name": "stdout",
     "output_type": "stream",
     "text": [
      "49/100\n"
     ]
    },
    {
     "name": "stderr",
     "output_type": "stream",
     "text": [
      "[=============================                             ]  50% ETA:  0:00:26\r"
     ]
    },
    {
     "name": "stdout",
     "output_type": "stream",
     "text": [
      "50/100\n"
     ]
    },
    {
     "name": "stderr",
     "output_type": "stream",
     "text": [
      "[=============================                             ]  51% ETA:  0:00:26\r"
     ]
    },
    {
     "name": "stdout",
     "output_type": "stream",
     "text": [
      "51/100\n"
     ]
    },
    {
     "name": "stderr",
     "output_type": "stream",
     "text": [
      "[==============================                            ]  52% ETA:  0:00:25\r"
     ]
    },
    {
     "name": "stdout",
     "output_type": "stream",
     "text": [
      "52/100\n"
     ]
    },
    {
     "name": "stderr",
     "output_type": "stream",
     "text": [
      "[==============================                            ]  53% ETA:  0:00:24\r"
     ]
    },
    {
     "name": "stdout",
     "output_type": "stream",
     "text": [
      "53/100\n"
     ]
    },
    {
     "name": "stderr",
     "output_type": "stream",
     "text": [
      "[===============================                           ]  54% ETA:  0:00:24\r"
     ]
    },
    {
     "name": "stdout",
     "output_type": "stream",
     "text": [
      "54/100\n"
     ]
    },
    {
     "name": "stderr",
     "output_type": "stream",
     "text": [
      "[===============================                           ]  55% ETA:  0:00:23\r"
     ]
    },
    {
     "name": "stdout",
     "output_type": "stream",
     "text": [
      "55/100\n"
     ]
    },
    {
     "name": "stderr",
     "output_type": "stream",
     "text": [
      "[================================                          ]  56% ETA:  0:00:22\r"
     ]
    },
    {
     "name": "stdout",
     "output_type": "stream",
     "text": [
      "56/100\n"
     ]
    },
    {
     "name": "stderr",
     "output_type": "stream",
     "text": [
      "[=================================                         ]  57% ETA:  0:00:22\r"
     ]
    },
    {
     "name": "stdout",
     "output_type": "stream",
     "text": [
      "57/100\n"
     ]
    },
    {
     "name": "stderr",
     "output_type": "stream",
     "text": [
      "[=================================                         ]  58% ETA:  0:00:21\r"
     ]
    },
    {
     "name": "stdout",
     "output_type": "stream",
     "text": [
      "58/100\n"
     ]
    },
    {
     "name": "stderr",
     "output_type": "stream",
     "text": [
      "[==================================                        ]  59% ETA:  0:00:20\r"
     ]
    },
    {
     "name": "stdout",
     "output_type": "stream",
     "text": [
      "59/100\n"
     ]
    },
    {
     "name": "stderr",
     "output_type": "stream",
     "text": [
      "[==================================                        ]  60% ETA:  0:00:20\r"
     ]
    },
    {
     "name": "stdout",
     "output_type": "stream",
     "text": [
      "60/100\n"
     ]
    },
    {
     "name": "stderr",
     "output_type": "stream",
     "text": [
      "[===================================                       ]  61% ETA:  0:00:19\r"
     ]
    },
    {
     "name": "stdout",
     "output_type": "stream",
     "text": [
      "61/100\n"
     ]
    },
    {
     "name": "stderr",
     "output_type": "stream",
     "text": [
      "[===================================                       ]  62% ETA:  0:00:19\r"
     ]
    },
    {
     "name": "stdout",
     "output_type": "stream",
     "text": [
      "62/100\n"
     ]
    },
    {
     "name": "stderr",
     "output_type": "stream",
     "text": [
      "[====================================                      ]  63% ETA:  0:00:18\r"
     ]
    },
    {
     "name": "stdout",
     "output_type": "stream",
     "text": [
      "63/100\n"
     ]
    },
    {
     "name": "stderr",
     "output_type": "stream",
     "text": [
      "[=====================================                     ]  64% ETA:  0:00:17\r"
     ]
    },
    {
     "name": "stdout",
     "output_type": "stream",
     "text": [
      "64/100\n"
     ]
    },
    {
     "name": "stderr",
     "output_type": "stream",
     "text": [
      "[=====================================                     ]  65% ETA:  0:00:17\r"
     ]
    },
    {
     "name": "stdout",
     "output_type": "stream",
     "text": [
      "65/100\n"
     ]
    },
    {
     "name": "stderr",
     "output_type": "stream",
     "text": [
      "[======================================                    ]  66% ETA:  0:00:16\r"
     ]
    },
    {
     "name": "stdout",
     "output_type": "stream",
     "text": [
      "66/100\n"
     ]
    },
    {
     "name": "stderr",
     "output_type": "stream",
     "text": [
      "[======================================                    ]  67% ETA:  0:00:16\r"
     ]
    },
    {
     "name": "stdout",
     "output_type": "stream",
     "text": [
      "67/100\n"
     ]
    },
    {
     "name": "stderr",
     "output_type": "stream",
     "text": [
      "[=======================================                   ]  68% ETA:  0:00:15\r"
     ]
    },
    {
     "name": "stdout",
     "output_type": "stream",
     "text": [
      "68/100\n"
     ]
    },
    {
     "name": "stderr",
     "output_type": "stream",
     "text": [
      "[========================================                  ]  69% ETA:  0:00:14\r"
     ]
    },
    {
     "name": "stdout",
     "output_type": "stream",
     "text": [
      "69/100\n"
     ]
    },
    {
     "name": "stderr",
     "output_type": "stream",
     "text": [
      "[========================================                  ]  70% ETA:  0:00:14\r"
     ]
    },
    {
     "name": "stdout",
     "output_type": "stream",
     "text": [
      "70/100\n"
     ]
    },
    {
     "name": "stderr",
     "output_type": "stream",
     "text": [
      "[=========================================                 ]  71% ETA:  0:00:13\r"
     ]
    },
    {
     "name": "stdout",
     "output_type": "stream",
     "text": [
      "71/100\n"
     ]
    },
    {
     "name": "stderr",
     "output_type": "stream",
     "text": [
      "[=========================================                 ]  72% ETA:  0:00:13\r"
     ]
    },
    {
     "name": "stdout",
     "output_type": "stream",
     "text": [
      "72/100\n"
     ]
    },
    {
     "name": "stderr",
     "output_type": "stream",
     "text": [
      "[==========================================                ]  73% ETA:  0:00:12\r"
     ]
    },
    {
     "name": "stdout",
     "output_type": "stream",
     "text": [
      "73/100\n"
     ]
    },
    {
     "name": "stderr",
     "output_type": "stream",
     "text": [
      "[==========================================                ]  74% ETA:  0:00:12\r"
     ]
    },
    {
     "name": "stdout",
     "output_type": "stream",
     "text": [
      "74/100\n"
     ]
    },
    {
     "name": "stderr",
     "output_type": "stream",
     "text": [
      "[===========================================               ]  75% ETA:  0:00:11\r"
     ]
    },
    {
     "name": "stdout",
     "output_type": "stream",
     "text": [
      "75/100\n"
     ]
    },
    {
     "name": "stderr",
     "output_type": "stream",
     "text": [
      "[============================================              ]  76% ETA:  0:00:11\r"
     ]
    },
    {
     "name": "stdout",
     "output_type": "stream",
     "text": [
      "76/100\n"
     ]
    },
    {
     "name": "stderr",
     "output_type": "stream",
     "text": [
      "[============================================              ]  77% ETA:  0:00:10\r"
     ]
    },
    {
     "name": "stdout",
     "output_type": "stream",
     "text": [
      "77/100\n"
     ]
    },
    {
     "name": "stderr",
     "output_type": "stream",
     "text": [
      "[=============================================             ]  78% ETA:  0:00:10\r"
     ]
    },
    {
     "name": "stdout",
     "output_type": "stream",
     "text": [
      "78/100\n"
     ]
    },
    {
     "name": "stderr",
     "output_type": "stream",
     "text": [
      "[=============================================             ]  79% ETA:  0:00:09\r"
     ]
    },
    {
     "name": "stdout",
     "output_type": "stream",
     "text": [
      "79/100\n"
     ]
    },
    {
     "name": "stderr",
     "output_type": "stream",
     "text": [
      "[==============================================            ]  80% ETA:  0:00:09\r"
     ]
    },
    {
     "name": "stdout",
     "output_type": "stream",
     "text": [
      "80/100\n"
     ]
    },
    {
     "name": "stderr",
     "output_type": "stream",
     "text": [
      "[==============================================            ]  81% ETA:  0:00:08\r"
     ]
    },
    {
     "name": "stdout",
     "output_type": "stream",
     "text": [
      "81/100\n"
     ]
    },
    {
     "name": "stderr",
     "output_type": "stream",
     "text": [
      "[===============================================           ]  82% ETA:  0:00:08\r"
     ]
    },
    {
     "name": "stdout",
     "output_type": "stream",
     "text": [
      "82/100\n"
     ]
    },
    {
     "name": "stderr",
     "output_type": "stream",
     "text": [
      "[================================================          ]  83% ETA:  0:00:07\r"
     ]
    },
    {
     "name": "stdout",
     "output_type": "stream",
     "text": [
      "83/100\n"
     ]
    },
    {
     "name": "stderr",
     "output_type": "stream",
     "text": [
      "[================================================          ]  84% ETA:  0:00:07\r"
     ]
    },
    {
     "name": "stdout",
     "output_type": "stream",
     "text": [
      "84/100\n"
     ]
    },
    {
     "name": "stderr",
     "output_type": "stream",
     "text": [
      "[=================================================         ]  86% ETA:  0:00:06\r"
     ]
    },
    {
     "name": "stdout",
     "output_type": "stream",
     "text": [
      "85/100\n",
      "86/100\n"
     ]
    },
    {
     "name": "stderr",
     "output_type": "stream",
     "text": [
      "[==================================================        ]  87% ETA:  0:00:05\r"
     ]
    },
    {
     "name": "stdout",
     "output_type": "stream",
     "text": [
      "87/100\n"
     ]
    },
    {
     "name": "stderr",
     "output_type": "stream",
     "text": [
      "[===================================================       ]  88% ETA:  0:00:05\r"
     ]
    },
    {
     "name": "stdout",
     "output_type": "stream",
     "text": [
      "88/100\n"
     ]
    },
    {
     "name": "stderr",
     "output_type": "stream",
     "text": [
      "[===================================================       ]  89% ETA:  0:00:04\r"
     ]
    },
    {
     "name": "stdout",
     "output_type": "stream",
     "text": [
      "89/100\n"
     ]
    },
    {
     "name": "stderr",
     "output_type": "stream",
     "text": [
      "[====================================================      ]  90% ETA:  0:00:04\r"
     ]
    },
    {
     "name": "stdout",
     "output_type": "stream",
     "text": [
      "90/100\n"
     ]
    },
    {
     "name": "stderr",
     "output_type": "stream",
     "text": [
      "[====================================================      ]  91% ETA:  0:00:03\r"
     ]
    },
    {
     "name": "stdout",
     "output_type": "stream",
     "text": [
      "91/100\n"
     ]
    },
    {
     "name": "stderr",
     "output_type": "stream",
     "text": [
      "[=====================================================     ]  92% ETA:  0:00:03\r"
     ]
    },
    {
     "name": "stdout",
     "output_type": "stream",
     "text": [
      "92/100\n"
     ]
    },
    {
     "name": "stderr",
     "output_type": "stream",
     "text": [
      "[=====================================================     ]  93% ETA:  0:00:02\r"
     ]
    },
    {
     "name": "stdout",
     "output_type": "stream",
     "text": [
      "93/100\n"
     ]
    },
    {
     "name": "stderr",
     "output_type": "stream",
     "text": [
      "[======================================================    ]  94% ETA:  0:00:02\r"
     ]
    },
    {
     "name": "stdout",
     "output_type": "stream",
     "text": [
      "94/100\n"
     ]
    },
    {
     "name": "stderr",
     "output_type": "stream",
     "text": [
      "[=======================================================   ]  95% ETA:  0:00:02\r"
     ]
    },
    {
     "name": "stdout",
     "output_type": "stream",
     "text": [
      "95/100\n"
     ]
    },
    {
     "name": "stderr",
     "output_type": "stream",
     "text": [
      "[=======================================================   ]  96% ETA:  0:00:01\r"
     ]
    },
    {
     "name": "stdout",
     "output_type": "stream",
     "text": [
      "96/100\n"
     ]
    },
    {
     "name": "stderr",
     "output_type": "stream",
     "text": [
      "[========================================================  ]  97% ETA:  0:00:01\r"
     ]
    },
    {
     "name": "stdout",
     "output_type": "stream",
     "text": [
      "97/100\n"
     ]
    },
    {
     "name": "stderr",
     "output_type": "stream",
     "text": [
      "[========================================================  ]  98% ETA:  0:00:00\r"
     ]
    },
    {
     "name": "stdout",
     "output_type": "stream",
     "text": [
      "98/100\n"
     ]
    },
    {
     "name": "stderr",
     "output_type": "stream",
     "text": [
      "[========================================================= ]  99% ETA:  0:00:00\r"
     ]
    },
    {
     "name": "stdout",
     "output_type": "stream",
     "text": [
      "99/100\n"
     ]
    },
    {
     "name": "stderr",
     "output_type": "stream",
     "text": [
      "[==========================================================] 100% ETA:  0:00:00\r"
     ]
    },
    {
     "name": "stdout",
     "output_type": "stream",
     "text": [
      "24 6 New mode swapping is occuring...\n",
      " [4.06758163e-03 1.98113748e-04 1.90874522e-03 6.35175285e-03\n",
      " 2.33280048e-03 1.46459676e-03 4.03475349e-01 0.00000000e+00\n",
      " 0.00000000e+00 0.00000000e+00 0.00000000e+00 0.00000000e+00\n",
      " 0.00000000e+00 0.00000000e+00 0.00000000e+00 0.00000000e+00\n",
      " 0.00000000e+00 0.00000000e+00 0.00000000e+00 0.00000000e+00\n",
      " 0.00000000e+00 0.00000000e+00 0.00000000e+00 0.00000000e+00\n",
      " 0.00000000e+00 0.00000000e+00 0.00000000e+00 0.00000000e+00] \n",
      "\n",
      "\n",
      "\n"
     ]
    },
    {
     "ename": "TypeError",
     "evalue": "Plot() got an unexpected keyword argument 'Input'",
     "output_type": "error",
     "traceback": [
      "\u001b[0;31m---------------------------------------------------------------------------\u001b[0m",
      "\u001b[0;31mTypeError\u001b[0m                                 Traceback (most recent call last)",
      "\u001b[0;32m<ipython-input-13-2212175ab11c>\u001b[0m in \u001b[0;36m<module>\u001b[0;34m\u001b[0m\n\u001b[1;32m     19\u001b[0m \u001b[0mSuperModes\u001b[0m \u001b[0;34m=\u001b[0m \u001b[0mSol\u001b[0m\u001b[0;34m.\u001b[0m\u001b[0mGetModes\u001b[0m\u001b[0;34m(\u001b[0m\u001b[0mwavelength\u001b[0m\u001b[0;34m=\u001b[0m\u001b[0;36m1.0\u001b[0m\u001b[0;34m,\u001b[0m \u001b[0mNstep\u001b[0m\u001b[0;34m=\u001b[0m\u001b[0;36m100\u001b[0m\u001b[0;34m,\u001b[0m \u001b[0mNsol\u001b[0m\u001b[0;34m=\u001b[0m\u001b[0;36m7\u001b[0m\u001b[0;34m,\u001b[0m \u001b[0mdebug\u001b[0m\u001b[0;34m=\u001b[0m\u001b[0;32mFalse\u001b[0m\u001b[0;34m,\u001b[0m \u001b[0mXsym\u001b[0m\u001b[0;34m=\u001b[0m\u001b[0;36m1\u001b[0m\u001b[0;34m,\u001b[0m \u001b[0mYsym\u001b[0m\u001b[0;34m=\u001b[0m\u001b[0;34m-\u001b[0m\u001b[0;36m1\u001b[0m \u001b[0;34m)\u001b[0m\u001b[0;34m\u001b[0m\u001b[0;34m\u001b[0m\u001b[0m\n\u001b[1;32m     20\u001b[0m \u001b[0;34m\u001b[0m\u001b[0m\n\u001b[0;32m---> 21\u001b[0;31m \u001b[0mSuperModes\u001b[0m\u001b[0;34m.\u001b[0m\u001b[0mPlot\u001b[0m\u001b[0;34m(\u001b[0m\u001b[0mInput\u001b[0m \u001b[0;34m=\u001b[0m \u001b[0;34m[\u001b[0m\u001b[0;34m'Index'\u001b[0m\u001b[0;34m,\u001b[0m \u001b[0;34m'Coupling'\u001b[0m\u001b[0;34m,\u001b[0m \u001b[0;34m'Adiabatic'\u001b[0m\u001b[0;34m]\u001b[0m\u001b[0;34m,\u001b[0m \u001b[0mnMax\u001b[0m\u001b[0;34m=\u001b[0m\u001b[0;36m7\u001b[0m\u001b[0;34m)\u001b[0m\u001b[0;34m\u001b[0m\u001b[0;34m\u001b[0m\u001b[0m\n\u001b[0m",
      "\u001b[0;31mTypeError\u001b[0m: Plot() got an unexpected keyword argument 'Input'"
     ]
    }
   ],
   "source": [
    "from SuPyModes.Geometry          import Geometry, Circle\n",
    "from SuPyModes.Solver            import SuPySolver\n",
    "from SuPyModes.sellmeier         import Fused_silica\n",
    "\n",
    "Clad = Circle(Radi =  62.5, Position = (0,0), Index = Fused_silica(1.0))\n",
    "\n",
    "Core0 = Circle( Position=Clad.C[0], Radi = 4.2, Index = Fused_silica(1.0)+0.005 )\n",
    "\n",
    "Geo = Geometry(Objects = [Clad, Core0],\n",
    "               Xbound  = [0, 70],\n",
    "               Ybound  = [0, 70],\n",
    "               Nx      = 80,\n",
    "               Ny      = 80)\n",
    "\n",
    "Geo.Plot()\n",
    "\n",
    "Sol = SuPySolver(Coupler=Geo)\n",
    "\n",
    "SuperModes = Sol.GetModes(wavelength=1.0, Nstep=100, Nsol=7, debug=False, Xsym=1, Ysym=-1 )\n",
    "\n",
    "SuperModes.Plot(Input = ['Index', 'Coupling', 'Adiabatic'], nMax=7)\n"
   ]
  },
  {
   "cell_type": "code",
   "execution_count": null,
   "metadata": {},
   "outputs": [],
   "source": []
  },
  {
   "cell_type": "code",
   "execution_count": null,
   "metadata": {},
   "outputs": [],
   "source": []
  },
  {
   "cell_type": "code",
   "execution_count": null,
   "metadata": {},
   "outputs": [],
   "source": []
  }
 ],
 "metadata": {
  "kernelspec": {
   "display_name": "Python 3",
   "language": "python",
   "name": "python3"
  },
  "language_info": {
   "codemirror_mode": {
    "name": "ipython",
    "version": 3
   },
   "file_extension": ".py",
   "mimetype": "text/x-python",
   "name": "python",
   "nbconvert_exporter": "python",
   "pygments_lexer": "ipython3",
   "version": "3.8.5"
  }
 },
 "nbformat": 4,
 "nbformat_minor": 4
}
