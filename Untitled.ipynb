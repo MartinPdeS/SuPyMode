{
 "cells": [
  {
   "cell_type": "code",
   "execution_count": 1,
   "id": "e6a75f09",
   "metadata": {
    "scrolled": true
   },
   "outputs": [],
   "source": [
    "from SuPyMode.Geometry          import Geometry, Fused2, Fused3, Circle\n",
    "from SuPyMode.Solver            import SuPySolver\n",
    "from PyOptik                    import ExpData\n",
    "import numpy as np\n",
    "import matplotlib.pyplot as plt\n",
    "from matplotlib          import colors\n",
    "import matplotlib\n",
    "\n",
    "from SuPyMode.fibers import *\n",
    "\n",
    "Index = ExpData('FusedSilica').GetRI(1.55e-6)\n"
   ]
  },
  {
   "cell_type": "code",
   "execution_count": null,
   "id": "945a870b",
   "metadata": {},
   "outputs": [],
   "source": []
  },
  {
   "cell_type": "code",
   "execution_count": null,
   "id": "0369b84a",
   "metadata": {},
   "outputs": [],
   "source": []
  },
  {
   "cell_type": "code",
   "execution_count": 2,
   "id": "3d41b09f",
   "metadata": {},
   "outputs": [
    {
     "name": "stderr",
     "output_type": "stream",
     "text": [
      "/Users/martinpdes/Desktop/GitProject/SuPyMode/SuPyMode/Geometry.py:476: ShapelyDeprecationWarning: Setting custom attributes on geometry objects is deprecated, and will raise an AttributeError in Shapely 2.0\n",
      "  Removed.Area = area\n",
      "/Users/martinpdes/Desktop/GitProject/SuPyMode/SuPyMode/Geometry.py:486: ShapelyDeprecationWarning: Setting custom attributes on geometry objects is deprecated, and will raise an AttributeError in Shapely 2.0\n",
      "  Circles[-1].center = point\n",
      "/Users/martinpdes/Desktop/GitProject/SuPyMode/SuPyMode/Geometry.py:408: ShapelyDeprecationWarning: Iteration over multi-part geometries is deprecated and will be removed in Shapely 2.0. Use the `geoms` property to access the constituent parts of a multi-part geometry.\n",
      "  Coupler = MultiPolygon([P for P in Coupler if not isinstance(P, Point)])\n",
      "/Users/martinpdes/Desktop/GitProject/SuPyMode/SuPyMode/Plotting/Plots.py:152: UserWarning: The following kwargs were not used by contour: 'linewidth'\n",
      "  ax.contour(x, y, Scalar, levels=IsoLines, colors='black', linewidth=.5)\n"
     ]
    },
    {
     "data": {
      "image/png": "[encoded data removed]",
      "text/plain": [
       "<Figure size 432x432 with 2 Axes>"
      ]
     },
     "metadata": {
      "needs_background": "light"
     },
     "output_type": "display_data"
    }
   ],
   "source": [
    "nMode   = 6\n",
    "\n",
    "\n",
    "FiberA = Fiber_DCF1300S_20(Wavelength=1.55)\n",
    "FiberB = Fiber_DCF1300S_33(Wavelength=1.55)\n",
    "\n",
    "\n",
    "Clad = Fused2(Radius =  62.5, Fusion  = 0.99, Index   = Index)\n",
    "\n",
    "\n",
    "Clad0 = Circle( Position=Clad.C[0], Radius = FiberA.rClad, Index = FiberA.nClad )\n",
    "Core0 = Circle( Position=Clad.C[0], Radius = FiberA.rCore, Index = FiberA.nCore )\n",
    "\n",
    "Clad1 = Circle( Position=Clad.C[1], Radius = FiberB.rClad, Index = FiberB.nClad )\n",
    "Core1 = Circle( Position=Clad.C[1], Radius = FiberB.rCore, Index = FiberB.nCore )\n",
    "\n",
    "\n",
    "Geo = Geometry(Clad    = Clad,\n",
    "               Objects = [Clad0, Core0, Clad1, Core1],\n",
    "               Xbound  = [-100, 100],\n",
    "               Ybound  = [-100, 100],\n",
    "               Nx      = 40,\n",
    "               Ny      = 40,\n",
    "               BackGroundIndex = 1.36)\n",
    "\n",
    "Geo.Rotate(0)\n",
    "\n",
    "Geo.Plot()"
   ]
  },
  {
   "cell_type": "code",
   "execution_count": 3,
   "id": "c869d257",
   "metadata": {
    "scrolled": false
   },
   "outputs": [
    {
     "name": "stdout",
     "output_type": "stream",
     "text": [
      "[>                                                                     ] 0 %\n",
      ">                                                                     ] 0 %\n",
      ">                                                                     ] 0 %\n",
      ">                                                                     ] 1 %\n",
      ">                                                                     ] 1 %\n",
      "=>                                                                    ] 1 %\n",
      "=>                                                                    ] 2 %\n",
      "=>                                                                    ] 2 %\n",
      "=>                                                                    ] 2 %\n",
      "==>                                                                   ] 3 %\n",
      "==>                                                                   ] 3 %\n",
      "==>                                                                   ] 3 %\n",
      "==>                                                                   ] 4 %\n",
      "===>                                                                  ] 4 %\n",
      "===>                                                                  ] 4 %\n",
      "===>                                                                  ] 5 %\n",
      "===>                                                                  ] 5 %\n",
      "===>                                                                  ] 5 %\n",
      "====>                                                                 ] 6 %\n",
      "====>                                                                 ] 6 %\n",
      "====>                                                                 ] 6 %\n",
      "====>                                                                 ] 7 %\n",
      "=====>                                                                ] 7 %\n",
      "=====>                                                                ] 7 %\n",
      "=====>                                                                ] 8 %\n",
      "=====>                                                                ] 8 %\n",
      "======>                                                               ] 8 %\n",
      "======>                                                               ] 9 %\n",
      "======>                                                               ] 9 %\n",
      "======>                                                               ] 9 %\n",
      "=======>                                                              ] 10 %\n",
      "=======>                                                              ] 10 %\n",
      "=======>                                                              ] 10 %\n",
      "=======>                                                              ] 11 %\n",
      "=======>                                                              ] 11 %\n",
      "========>                                                             ] 11 %\n",
      "========>                                                             ] 12 %\n",
      "========>                                                             ] 12 %\n",
      "========>                                                             ] 12 %\n",
      "=========>                                                            ] 13 %\n",
      "=========>                                                            ] 13 %\n",
      "=========>                                                            ] 13 %\n",
      "=========>                                                            ] 14 %\n",
      "==========>                                                           ] 14 %\n",
      "==========>                                                           ] 14 %\n",
      "==========>                                                           ] 15 %\n",
      "==========>                                                           ] 15 %\n",
      "==========>                                                           ] 15 %\n",
      "===========>                                                          ] 16 %\n",
      "===========>                                                          ] 16 %\n",
      "===========>                                                          ] 16 %\n",
      "===========>                                                          ] 17 %\n",
      "============>                                                         ] 17 %\n",
      "============>                                                         ] 17 %\n",
      "============>                                                         ] 18 %\n",
      "============>                                                         ] 18 %\n",
      "=============>                                                        ] 18 %\n",
      "=============>                                                        ] 19 %\n",
      "=============>                                                        ] 19 %\n",
      "=============>                                                        ] 19 %\n",
      "==============>                                                       ] 20 %\n",
      "==============>                                                       ] 20 %\n",
      "==============>                                                       ] 20 %\n",
      "==============>                                                       ] 21 %\n",
      "==============>                                                       ] 21 %\n",
      "===============>                                                      ] 21 %\n",
      "===============>                                                      ] 22 %\n",
      "===============>                                                      ] 22 %\n",
      "===============>                                                      ] 22 %\n",
      "================>                                                     ] 23 %\n",
      "================>                                                     ] 23 %\n",
      "================>                                                     ] 23 %\n",
      "================>                                                     ] 24 %\n",
      "=================>                                                    ] 24 %\n",
      "=================>                                                    ] 24 %\n",
      "=================>                                                    ] 25 %\n",
      "=================>                                                    ] 25 %\n",
      "=================>                                                    ] 25 %\n",
      "==================>                                                   ] 26 %\n",
      "==================>                                                   ] 26 %\n",
      "==================>                                                   ] 26 %\n",
      "==================>                                                   ] 27 %\n",
      "===================>                                                  ] 27 %\n",
      "===================>                                                  ] 27 %\n",
      "===================>                                                  ] 28 %\n",
      "===================>                                                  ] 28 %\n",
      "====================>                                                 ] 28 %\n",
      "====================>                                                 ] 28 %\n",
      "====================>                                                 ] 29 %\n",
      "====================>                                                 ] 29 %\n",
      "=====================>                                                ] 30 %\n",
      "=====================>                                                ] 30 %\n",
      "=====================>                                                ] 30 %\n",
      "=====================>                                                ] 31 %\n",
      "=====================>                                                ] 31 %\n",
      "======================>                                               ] 31 %\n",
      "======================>                                               ] 32 %\n",
      "======================>                                               ] 32 %\n",
      "======================>                                               ] 32 %\n",
      "=======================>                                              ] 33 %\n",
      "=======================>                                              ] 33 %\n",
      "=======================>                                              ] 33 %\n",
      "=======================>                                              ] 34 %\n",
      "========================>                                             ] 34 %\n",
      "========================>                                             ] 34 %\n",
      "====================="
     ]
    }
   ],
   "source": [
    "Sol = SuPySolver(Coupler=Geo, Tolerance=1e-8, MaxIter = 10000)\n",
    "\n",
    "SuperSet = Sol.GetSuperSet(Wavelength      = 1.55,\n",
    "                           Nstep           = 300,\n",
    "                           ITRi            = 1,\n",
    "                           ITRf            = 0.05,\n",
    "                           Sorting         = 'Index',\n",
    "                           Symmetries      = {'Right': 0, 'Left': 0, 'Top': 0, 'Bottom': 0},\n",
    "                           nMode           = 7,\n",
    "                           sMode           = 5\n",
    "                           )"
   ]
  },
  {
   "cell_type": "code",
   "execution_count": 13,
   "id": "f02c135c",
   "metadata": {},
   "outputs": [],
   "source": [
    "#%matplotlib notebook\n",
    "#SuperSet.PlotFields([0])\n",
    "#SuperSet.Plot(Input=\"Adiabatic\")\n",
    "\n",
    "#SuperSet.PlotFields([0, -1])\n",
    "\n",
    "S = []\n",
    "for solver in SuperSet.CppSolvers:\n",
    "    S.append(solver.ComputingAdiabatic())\n",
    "    \n",
    "for solver in SuperSet.CppSolvers:\n",
    "    S.append(solver.ComputingAdiabatic())\n",
    "    \n",
    "S = np.array(S)"
   ]
  },
  {
   "cell_type": "code",
   "execution_count": 15,
   "id": "74ec2120",
   "metadata": {},
   "outputs": [
    {
     "name": "stdout",
     "output_type": "stream",
     "text": [
      "(300, 10, 5)\n"
     ]
    },
    {
     "ename": "ValueError",
     "evalue": "x and y can be no greater than 2D, but have shapes (300,) and (300, 5, 5)",
     "output_type": "error",
     "traceback": [
      "\u001b[0;31m---------------------------------------------------------------------------\u001b[0m",
      "\u001b[0;31mValueError\u001b[0m                                Traceback (most recent call last)",
      "Input \u001b[0;32mIn [15]\u001b[0m, in \u001b[0;36m<cell line: 7>\u001b[0;34m()\u001b[0m\n\u001b[1;32m      6\u001b[0m plt\u001b[38;5;241m.\u001b[39mfigure()\n\u001b[1;32m      7\u001b[0m \u001b[38;5;28;01mfor\u001b[39;00m solver \u001b[38;5;129;01min\u001b[39;00m S:\n\u001b[0;32m----> 9\u001b[0m     \u001b[43mplt\u001b[49m\u001b[38;5;241;43m.\u001b[39;49m\u001b[43mplot\u001b[49m\u001b[43m(\u001b[49m\u001b[43ma\u001b[49m\u001b[43m)\u001b[49m\n\u001b[1;32m     11\u001b[0m plt\u001b[38;5;241m.\u001b[39mshow()\n",
      "File \u001b[0;32m/opt/homebrew/lib/python3.9/site-packages/matplotlib/pyplot.py:2757\u001b[0m, in \u001b[0;36mplot\u001b[0;34m(scalex, scaley, data, *args, **kwargs)\u001b[0m\n\u001b[1;32m   2755\u001b[0m \u001b[38;5;129m@_copy_docstring_and_deprecators\u001b[39m(Axes\u001b[38;5;241m.\u001b[39mplot)\n\u001b[1;32m   2756\u001b[0m \u001b[38;5;28;01mdef\u001b[39;00m \u001b[38;5;21mplot\u001b[39m(\u001b[38;5;241m*\u001b[39margs, scalex\u001b[38;5;241m=\u001b[39m\u001b[38;5;28;01mTrue\u001b[39;00m, scaley\u001b[38;5;241m=\u001b[39m\u001b[38;5;28;01mTrue\u001b[39;00m, data\u001b[38;5;241m=\u001b[39m\u001b[38;5;28;01mNone\u001b[39;00m, \u001b[38;5;241m*\u001b[39m\u001b[38;5;241m*\u001b[39mkwargs):\n\u001b[0;32m-> 2757\u001b[0m     \u001b[38;5;28;01mreturn\u001b[39;00m \u001b[43mgca\u001b[49m\u001b[43m(\u001b[49m\u001b[43m)\u001b[49m\u001b[38;5;241;43m.\u001b[39;49m\u001b[43mplot\u001b[49m\u001b[43m(\u001b[49m\n\u001b[1;32m   2758\u001b[0m \u001b[43m        \u001b[49m\u001b[38;5;241;43m*\u001b[39;49m\u001b[43margs\u001b[49m\u001b[43m,\u001b[49m\u001b[43m \u001b[49m\u001b[43mscalex\u001b[49m\u001b[38;5;241;43m=\u001b[39;49m\u001b[43mscalex\u001b[49m\u001b[43m,\u001b[49m\u001b[43m \u001b[49m\u001b[43mscaley\u001b[49m\u001b[38;5;241;43m=\u001b[39;49m\u001b[43mscaley\u001b[49m\u001b[43m,\u001b[49m\n\u001b[1;32m   2759\u001b[0m \u001b[43m        \u001b[49m\u001b[38;5;241;43m*\u001b[39;49m\u001b[38;5;241;43m*\u001b[39;49m\u001b[43m(\u001b[49m\u001b[43m{\u001b[49m\u001b[38;5;124;43m\"\u001b[39;49m\u001b[38;5;124;43mdata\u001b[39;49m\u001b[38;5;124;43m\"\u001b[39;49m\u001b[43m:\u001b[49m\u001b[43m \u001b[49m\u001b[43mdata\u001b[49m\u001b[43m}\u001b[49m\u001b[43m \u001b[49m\u001b[38;5;28;43;01mif\u001b[39;49;00m\u001b[43m \u001b[49m\u001b[43mdata\u001b[49m\u001b[43m \u001b[49m\u001b[38;5;129;43;01mis\u001b[39;49;00m\u001b[43m \u001b[49m\u001b[38;5;129;43;01mnot\u001b[39;49;00m\u001b[43m \u001b[49m\u001b[38;5;28;43;01mNone\u001b[39;49;00m\u001b[43m \u001b[49m\u001b[38;5;28;43;01melse\u001b[39;49;00m\u001b[43m \u001b[49m\u001b[43m{\u001b[49m\u001b[43m}\u001b[49m\u001b[43m)\u001b[49m\u001b[43m,\u001b[49m\u001b[43m \u001b[49m\u001b[38;5;241;43m*\u001b[39;49m\u001b[38;5;241;43m*\u001b[39;49m\u001b[43mkwargs\u001b[49m\u001b[43m)\u001b[49m\n",
      "File \u001b[0;32m/opt/homebrew/lib/python3.9/site-packages/matplotlib/axes/_axes.py:1632\u001b[0m, in \u001b[0;36mAxes.plot\u001b[0;34m(self, scalex, scaley, data, *args, **kwargs)\u001b[0m\n\u001b[1;32m   1390\u001b[0m \u001b[38;5;124;03m\"\"\"\u001b[39;00m\n\u001b[1;32m   1391\u001b[0m \u001b[38;5;124;03mPlot y versus x as lines and/or markers.\u001b[39;00m\n\u001b[1;32m   1392\u001b[0m \n\u001b[0;32m   (...)\u001b[0m\n\u001b[1;32m   1629\u001b[0m \u001b[38;5;124;03m(``'green'``) or hex strings (``'#008000'``).\u001b[39;00m\n\u001b[1;32m   1630\u001b[0m \u001b[38;5;124;03m\"\"\"\u001b[39;00m\n\u001b[1;32m   1631\u001b[0m kwargs \u001b[38;5;241m=\u001b[39m cbook\u001b[38;5;241m.\u001b[39mnormalize_kwargs(kwargs, mlines\u001b[38;5;241m.\u001b[39mLine2D)\n\u001b[0;32m-> 1632\u001b[0m lines \u001b[38;5;241m=\u001b[39m [\u001b[38;5;241m*\u001b[39m\u001b[38;5;28mself\u001b[39m\u001b[38;5;241m.\u001b[39m_get_lines(\u001b[38;5;241m*\u001b[39margs, data\u001b[38;5;241m=\u001b[39mdata, \u001b[38;5;241m*\u001b[39m\u001b[38;5;241m*\u001b[39mkwargs)]\n\u001b[1;32m   1633\u001b[0m \u001b[38;5;28;01mfor\u001b[39;00m line \u001b[38;5;129;01min\u001b[39;00m lines:\n\u001b[1;32m   1634\u001b[0m     \u001b[38;5;28mself\u001b[39m\u001b[38;5;241m.\u001b[39madd_line(line)\n",
      "File \u001b[0;32m/opt/homebrew/lib/python3.9/site-packages/matplotlib/axes/_base.py:312\u001b[0m, in \u001b[0;36m_process_plot_var_args.__call__\u001b[0;34m(self, data, *args, **kwargs)\u001b[0m\n\u001b[1;32m    310\u001b[0m     this \u001b[38;5;241m+\u001b[39m\u001b[38;5;241m=\u001b[39m args[\u001b[38;5;241m0\u001b[39m],\n\u001b[1;32m    311\u001b[0m     args \u001b[38;5;241m=\u001b[39m args[\u001b[38;5;241m1\u001b[39m:]\n\u001b[0;32m--> 312\u001b[0m \u001b[38;5;28;01myield from\u001b[39;00m \u001b[38;5;28;43mself\u001b[39;49m\u001b[38;5;241;43m.\u001b[39;49m\u001b[43m_plot_args\u001b[49m\u001b[43m(\u001b[49m\u001b[43mthis\u001b[49m\u001b[43m,\u001b[49m\u001b[43m \u001b[49m\u001b[43mkwargs\u001b[49m\u001b[43m)\u001b[49m\n",
      "File \u001b[0;32m/opt/homebrew/lib/python3.9/site-packages/matplotlib/axes/_base.py:501\u001b[0m, in \u001b[0;36m_process_plot_var_args._plot_args\u001b[0;34m(self, tup, kwargs, return_kwargs)\u001b[0m\n\u001b[1;32m    498\u001b[0m     \u001b[38;5;28;01mraise\u001b[39;00m \u001b[38;5;167;01mValueError\u001b[39;00m(\u001b[38;5;124mf\u001b[39m\u001b[38;5;124m\"\u001b[39m\u001b[38;5;124mx and y must have same first dimension, but \u001b[39m\u001b[38;5;124m\"\u001b[39m\n\u001b[1;32m    499\u001b[0m                      \u001b[38;5;124mf\u001b[39m\u001b[38;5;124m\"\u001b[39m\u001b[38;5;124mhave shapes \u001b[39m\u001b[38;5;132;01m{\u001b[39;00mx\u001b[38;5;241m.\u001b[39mshape\u001b[38;5;132;01m}\u001b[39;00m\u001b[38;5;124m and \u001b[39m\u001b[38;5;132;01m{\u001b[39;00my\u001b[38;5;241m.\u001b[39mshape\u001b[38;5;132;01m}\u001b[39;00m\u001b[38;5;124m\"\u001b[39m)\n\u001b[1;32m    500\u001b[0m \u001b[38;5;28;01mif\u001b[39;00m x\u001b[38;5;241m.\u001b[39mndim \u001b[38;5;241m>\u001b[39m \u001b[38;5;241m2\u001b[39m \u001b[38;5;129;01mor\u001b[39;00m y\u001b[38;5;241m.\u001b[39mndim \u001b[38;5;241m>\u001b[39m \u001b[38;5;241m2\u001b[39m:\n\u001b[0;32m--> 501\u001b[0m     \u001b[38;5;28;01mraise\u001b[39;00m \u001b[38;5;167;01mValueError\u001b[39;00m(\u001b[38;5;124mf\u001b[39m\u001b[38;5;124m\"\u001b[39m\u001b[38;5;124mx and y can be no greater than 2D, but have \u001b[39m\u001b[38;5;124m\"\u001b[39m\n\u001b[1;32m    502\u001b[0m                      \u001b[38;5;124mf\u001b[39m\u001b[38;5;124m\"\u001b[39m\u001b[38;5;124mshapes \u001b[39m\u001b[38;5;132;01m{\u001b[39;00mx\u001b[38;5;241m.\u001b[39mshape\u001b[38;5;132;01m}\u001b[39;00m\u001b[38;5;124m and \u001b[39m\u001b[38;5;132;01m{\u001b[39;00my\u001b[38;5;241m.\u001b[39mshape\u001b[38;5;132;01m}\u001b[39;00m\u001b[38;5;124m\"\u001b[39m)\n\u001b[1;32m    503\u001b[0m \u001b[38;5;28;01mif\u001b[39;00m x\u001b[38;5;241m.\u001b[39mndim \u001b[38;5;241m==\u001b[39m \u001b[38;5;241m1\u001b[39m:\n\u001b[1;32m    504\u001b[0m     x \u001b[38;5;241m=\u001b[39m x[:, np\u001b[38;5;241m.\u001b[39mnewaxis]\n",
      "\u001b[0;31mValueError\u001b[0m: x and y can be no greater than 2D, but have shapes (300,) and (300, 5, 5)"
     ]
    },
    {
     "data": {
      "image/png": "[encoded data removed]",
      "text/plain": [
       "<Figure size 432x288 with 1 Axes>"
      ]
     },
     "metadata": {
      "needs_background": "light"
     },
     "output_type": "display_data"
    }
   ],
   "source": [
    "Array = np.concatenate(S, axis=1)\n",
    "print(Array.shape)\n",
    "\n",
    "import matplotlib.pyplot as plt\n",
    "\n",
    "plt.figure()\n",
    "for solver in S:\n",
    "    \n",
    "    plt.plot(a)\n",
    "    \n",
    "plt.show()\n"
   ]
  },
  {
   "cell_type": "code",
   "execution_count": null,
   "id": "b28c4f7b",
   "metadata": {},
   "outputs": [],
   "source": [
    "Mode = SuperSet.GetSuperposition(Amplitudes=[1,0,0,0,0,0])\n",
    "\n",
    "Mode.CouplerLength = 2000\n",
    "Mode.ComputeAmpltiudes(MaxStep=0.1)\n",
    "\n",
    "SuperSet.PlotFields([-1])\n",
    "Mode.PlotAmplitudes()"
   ]
  },
  {
   "cell_type": "code",
   "execution_count": null,
   "id": "d87488e6",
   "metadata": {},
   "outputs": [],
   "source": []
  },
  {
   "cell_type": "code",
   "execution_count": null,
   "id": "a309e920",
   "metadata": {},
   "outputs": [],
   "source": []
  },
  {
   "cell_type": "code",
   "execution_count": null,
   "id": "afee3eab",
   "metadata": {},
   "outputs": [],
   "source": []
  },
  {
   "cell_type": "code",
   "execution_count": null,
   "id": "a63f93f8",
   "metadata": {},
   "outputs": [],
   "source": []
  },
  {
   "cell_type": "code",
   "execution_count": null,
   "id": "cd1594e0",
   "metadata": {},
   "outputs": [],
   "source": []
  },
  {
   "cell_type": "code",
   "execution_count": null,
   "id": "bcbad4d5",
   "metadata": {},
   "outputs": [],
   "source": []
  },
  {
   "cell_type": "code",
   "execution_count": null,
   "id": "01f89e6f",
   "metadata": {},
   "outputs": [],
   "source": []
  },
  {
   "cell_type": "code",
   "execution_count": null,
   "id": "c6308b3a",
   "metadata": {},
   "outputs": [],
   "source": []
  },
  {
   "cell_type": "code",
   "execution_count": null,
   "id": "980e5fa4",
   "metadata": {},
   "outputs": [],
   "source": []
  },
  {
   "cell_type": "code",
   "execution_count": null,
   "id": "e5a477dc",
   "metadata": {},
   "outputs": [],
   "source": []
  },
  {
   "cell_type": "code",
   "execution_count": null,
   "id": "06571f00",
   "metadata": {},
   "outputs": [],
   "source": []
  },
  {
   "cell_type": "code",
   "execution_count": null,
   "id": "fa05cc6b",
   "metadata": {},
   "outputs": [],
   "source": []
  },
  {
   "cell_type": "code",
   "execution_count": null,
   "id": "96d39070",
   "metadata": {},
   "outputs": [],
   "source": []
  },
  {
   "cell_type": "code",
   "execution_count": null,
   "id": "d9b0d5c0",
   "metadata": {},
   "outputs": [],
   "source": []
  },
  {
   "cell_type": "code",
   "execution_count": null,
   "id": "eb88f049",
   "metadata": {},
   "outputs": [],
   "source": []
  },
  {
   "cell_type": "code",
   "execution_count": null,
   "id": "e7ed8301",
   "metadata": {},
   "outputs": [],
   "source": []
  },
  {
   "cell_type": "code",
   "execution_count": null,
   "id": "8666d176",
   "metadata": {},
   "outputs": [],
   "source": []
  }
 ],
 "metadata": {
  "kernelspec": {
   "display_name": "Python 3 (ipykernel)",
   "language": "python",
   "name": "python3"
  },
  "language_info": {
   "codemirror_mode": {
    "name": "ipython",
    "version": 3
   },
   "file_extension": ".py",
   "mimetype": "text/x-python",
   "name": "python",
   "nbconvert_exporter": "python",
   "pygments_lexer": "ipython3",
   "version": "3.9.12"
  },
  "toc": {
   "base_numbering": 1,
   "nav_menu": {},
   "number_sections": true,
   "sideBar": true,
   "skip_h1_title": false,
   "title_cell": "Table of Contents",
   "title_sidebar": "Contents",
   "toc_cell": false,
   "toc_position": {},
   "toc_section_display": true,
   "toc_window_display": false
  }
 },
 "nbformat": 4,
 "nbformat_minor": 5
}
