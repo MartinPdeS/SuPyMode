{
 "cells": [
  {
   "cell_type": "code",
   "execution_count": 9,
   "metadata": {},
   "outputs": [
    {
     "name": "stderr",
     "output_type": "stream",
     "text": [
      "[                                                         ]   0% ETA:  --:--:--\r"
     ]
    },
    {
     "name": "stdout",
     "output_type": "stream",
     "text": [
      "Result Rv = 129.18239647328062\n",
      "0/100\n"
     ]
    },
    {
     "name": "stderr",
     "output_type": "stream",
     "text": [
      "[                                                          ]   1% ETA:  0:02:35\r"
     ]
    },
    {
     "name": "stdout",
     "output_type": "stream",
     "text": [
      "1/100\n"
     ]
    },
    {
     "name": "stderr",
     "output_type": "stream",
     "text": [
      "[=                                                         ]   2% ETA:  0:01:49\r"
     ]
    },
    {
     "name": "stdout",
     "output_type": "stream",
     "text": [
      "2/100\n"
     ]
    },
    {
     "name": "stderr",
     "output_type": "stream",
     "text": [
      "[=                                                         ]   3% ETA:  0:01:35\r"
     ]
    },
    {
     "name": "stdout",
     "output_type": "stream",
     "text": [
      "3/100\n"
     ]
    },
    {
     "name": "stderr",
     "output_type": "stream",
     "text": [
      "[==                                                        ]   4% ETA:  0:01:26\r"
     ]
    },
    {
     "name": "stdout",
     "output_type": "stream",
     "text": [
      "4/100\n"
     ]
    },
    {
     "name": "stderr",
     "output_type": "stream",
     "text": [
      "[==                                                        ]   5% ETA:  0:01:18\r"
     ]
    },
    {
     "name": "stdout",
     "output_type": "stream",
     "text": [
      "5/100\n"
     ]
    },
    {
     "name": "stderr",
     "output_type": "stream",
     "text": [
      "[===                                                       ]   6% ETA:  0:01:15\r"
     ]
    },
    {
     "name": "stdout",
     "output_type": "stream",
     "text": [
      "6/100\n"
     ]
    },
    {
     "name": "stderr",
     "output_type": "stream",
     "text": [
      "[====                                                      ]   7% ETA:  0:01:11\r"
     ]
    },
    {
     "name": "stdout",
     "output_type": "stream",
     "text": [
      "7/100\n"
     ]
    },
    {
     "name": "stderr",
     "output_type": "stream",
     "text": [
      "[====                                                      ]   8% ETA:  0:01:09\r"
     ]
    },
    {
     "name": "stdout",
     "output_type": "stream",
     "text": [
      "8/100\n"
     ]
    },
    {
     "name": "stderr",
     "output_type": "stream",
     "text": [
      "[=====                                                     ]   9% ETA:  0:01:07\r"
     ]
    },
    {
     "name": "stdout",
     "output_type": "stream",
     "text": [
      "9/100\n"
     ]
    },
    {
     "name": "stderr",
     "output_type": "stream",
     "text": [
      "[=====                                                     ]  10% ETA:  0:01:05\r"
     ]
    },
    {
     "name": "stdout",
     "output_type": "stream",
     "text": [
      "10/100\n"
     ]
    },
    {
     "name": "stderr",
     "output_type": "stream",
     "text": [
      "[======                                                    ]  11% ETA:  0:01:03\r"
     ]
    },
    {
     "name": "stdout",
     "output_type": "stream",
     "text": [
      "11/100\n"
     ]
    },
    {
     "name": "stderr",
     "output_type": "stream",
     "text": [
      "[======                                                    ]  12% ETA:  0:01:01\r"
     ]
    },
    {
     "name": "stdout",
     "output_type": "stream",
     "text": [
      "12/100\n"
     ]
    },
    {
     "name": "stderr",
     "output_type": "stream",
     "text": [
      "[=======                                                   ]  13% ETA:  0:01:02\r"
     ]
    },
    {
     "name": "stdout",
     "output_type": "stream",
     "text": [
      "13/100\n"
     ]
    },
    {
     "name": "stderr",
     "output_type": "stream",
     "text": [
      "[========                                                  ]  14% ETA:  0:01:00\r"
     ]
    },
    {
     "name": "stdout",
     "output_type": "stream",
     "text": [
      "14/100\n"
     ]
    },
    {
     "name": "stderr",
     "output_type": "stream",
     "text": [
      "[========                                                  ]  15% ETA:  0:00:59\r"
     ]
    },
    {
     "name": "stdout",
     "output_type": "stream",
     "text": [
      "15/100\n"
     ]
    },
    {
     "name": "stderr",
     "output_type": "stream",
     "text": [
      "[=========                                                 ]  16% ETA:  0:00:58\r"
     ]
    },
    {
     "name": "stdout",
     "output_type": "stream",
     "text": [
      "16/100\n"
     ]
    },
    {
     "name": "stderr",
     "output_type": "stream",
     "text": [
      "[=========                                                 ]  17% ETA:  0:00:57\r"
     ]
    },
    {
     "name": "stdout",
     "output_type": "stream",
     "text": [
      "17/100\n"
     ]
    },
    {
     "name": "stderr",
     "output_type": "stream",
     "text": [
      "[==========                                                ]  18% ETA:  0:00:56\r"
     ]
    },
    {
     "name": "stdout",
     "output_type": "stream",
     "text": [
      "18/100\n"
     ]
    },
    {
     "name": "stderr",
     "output_type": "stream",
     "text": [
      "[===========                                               ]  19% ETA:  0:00:55\r"
     ]
    },
    {
     "name": "stdout",
     "output_type": "stream",
     "text": [
      "19/100\n"
     ]
    },
    {
     "name": "stderr",
     "output_type": "stream",
     "text": [
      "[===========                                               ]  20% ETA:  0:00:54\r"
     ]
    },
    {
     "name": "stdout",
     "output_type": "stream",
     "text": [
      "20/100\n"
     ]
    },
    {
     "name": "stderr",
     "output_type": "stream",
     "text": [
      "[============                                              ]  21% ETA:  0:00:53\r"
     ]
    },
    {
     "name": "stdout",
     "output_type": "stream",
     "text": [
      "21/100\n"
     ]
    },
    {
     "name": "stderr",
     "output_type": "stream",
     "text": [
      "[============                                              ]  22% ETA:  0:00:52\r"
     ]
    },
    {
     "name": "stdout",
     "output_type": "stream",
     "text": [
      "22/100\n"
     ]
    },
    {
     "name": "stderr",
     "output_type": "stream",
     "text": [
      "[=============                                             ]  23% ETA:  0:00:51\r"
     ]
    },
    {
     "name": "stdout",
     "output_type": "stream",
     "text": [
      "23/100\n"
     ]
    },
    {
     "name": "stderr",
     "output_type": "stream",
     "text": [
      "[=============                                             ]  24% ETA:  0:00:50\r"
     ]
    },
    {
     "name": "stdout",
     "output_type": "stream",
     "text": [
      "24/100\n"
     ]
    },
    {
     "name": "stderr",
     "output_type": "stream",
     "text": [
      "[==============                                            ]  25% ETA:  0:00:49\r"
     ]
    },
    {
     "name": "stdout",
     "output_type": "stream",
     "text": [
      "25/100\n"
     ]
    },
    {
     "name": "stderr",
     "output_type": "stream",
     "text": [
      "[===============                                           ]  26% ETA:  0:00:48\r"
     ]
    },
    {
     "name": "stdout",
     "output_type": "stream",
     "text": [
      "26/100\n"
     ]
    },
    {
     "name": "stderr",
     "output_type": "stream",
     "text": [
      "[===============                                           ]  27% ETA:  0:00:47\r"
     ]
    },
    {
     "name": "stdout",
     "output_type": "stream",
     "text": [
      "27/100\n"
     ]
    },
    {
     "name": "stderr",
     "output_type": "stream",
     "text": [
      "[================                                          ]  28% ETA:  0:00:46\r"
     ]
    },
    {
     "name": "stdout",
     "output_type": "stream",
     "text": [
      "28/100\n"
     ]
    },
    {
     "name": "stderr",
     "output_type": "stream",
     "text": [
      "[================                                          ]  29% ETA:  0:00:45\r"
     ]
    },
    {
     "name": "stdout",
     "output_type": "stream",
     "text": [
      "29/100\n"
     ]
    },
    {
     "name": "stderr",
     "output_type": "stream",
     "text": [
      "[=================                                         ]  30% ETA:  0:00:44\r"
     ]
    },
    {
     "name": "stdout",
     "output_type": "stream",
     "text": [
      "30/100\n"
     ]
    },
    {
     "name": "stderr",
     "output_type": "stream",
     "text": [
      "[=================                                         ]  31% ETA:  0:00:44\r"
     ]
    },
    {
     "name": "stdout",
     "output_type": "stream",
     "text": [
      "31/100\n"
     ]
    },
    {
     "name": "stderr",
     "output_type": "stream",
     "text": [
      "[==================                                        ]  32% ETA:  0:00:43\r"
     ]
    },
    {
     "name": "stdout",
     "output_type": "stream",
     "text": [
      "32/100\n"
     ]
    },
    {
     "name": "stderr",
     "output_type": "stream",
     "text": [
      "[===================                                       ]  33% ETA:  0:00:42\r"
     ]
    },
    {
     "name": "stdout",
     "output_type": "stream",
     "text": [
      "33/100\n"
     ]
    },
    {
     "name": "stderr",
     "output_type": "stream",
     "text": [
      "[===================                                       ]  34% ETA:  0:00:41\r"
     ]
    },
    {
     "name": "stdout",
     "output_type": "stream",
     "text": [
      "34/100\n"
     ]
    },
    {
     "name": "stderr",
     "output_type": "stream",
     "text": [
      "[====================                                      ]  35% ETA:  0:00:40\r"
     ]
    },
    {
     "name": "stdout",
     "output_type": "stream",
     "text": [
      "35/100\n"
     ]
    },
    {
     "name": "stderr",
     "output_type": "stream",
     "text": [
      "[====================                                      ]  36% ETA:  0:00:40\r"
     ]
    },
    {
     "name": "stdout",
     "output_type": "stream",
     "text": [
      "36/100\n"
     ]
    },
    {
     "name": "stderr",
     "output_type": "stream",
     "text": [
      "[=====================                                     ]  37% ETA:  0:00:39\r"
     ]
    },
    {
     "name": "stdout",
     "output_type": "stream",
     "text": [
      "37/100\n"
     ]
    },
    {
     "name": "stderr",
     "output_type": "stream",
     "text": [
      "[======================                                    ]  38% ETA:  0:00:38\r"
     ]
    },
    {
     "name": "stdout",
     "output_type": "stream",
     "text": [
      "38/100\n"
     ]
    },
    {
     "name": "stderr",
     "output_type": "stream",
     "text": [
      "[======================                                    ]  39% ETA:  0:00:38\r"
     ]
    },
    {
     "name": "stdout",
     "output_type": "stream",
     "text": [
      "39/100\n"
     ]
    },
    {
     "name": "stderr",
     "output_type": "stream",
     "text": [
      "[=======================                                   ]  40% ETA:  0:00:37\r"
     ]
    },
    {
     "name": "stdout",
     "output_type": "stream",
     "text": [
      "40/100\n"
     ]
    },
    {
     "name": "stderr",
     "output_type": "stream",
     "text": [
      "[=======================                                   ]  41% ETA:  0:00:36\r"
     ]
    },
    {
     "name": "stdout",
     "output_type": "stream",
     "text": [
      "41/100\n"
     ]
    },
    {
     "name": "stderr",
     "output_type": "stream",
     "text": [
      "[========================                                  ]  42% ETA:  0:00:35\r"
     ]
    },
    {
     "name": "stdout",
     "output_type": "stream",
     "text": [
      "42/100\n"
     ]
    },
    {
     "name": "stderr",
     "output_type": "stream",
     "text": [
      "[========================                                  ]  43% ETA:  0:00:35\r"
     ]
    },
    {
     "name": "stdout",
     "output_type": "stream",
     "text": [
      "43/100\n"
     ]
    },
    {
     "name": "stderr",
     "output_type": "stream",
     "text": [
      "[=========================                                 ]  44% ETA:  0:00:34\r"
     ]
    },
    {
     "name": "stdout",
     "output_type": "stream",
     "text": [
      "44/100\n"
     ]
    },
    {
     "name": "stderr",
     "output_type": "stream",
     "text": [
      "[==========================                                ]  45% ETA:  0:00:33\r"
     ]
    },
    {
     "name": "stdout",
     "output_type": "stream",
     "text": [
      "45/100\n"
     ]
    },
    {
     "name": "stderr",
     "output_type": "stream",
     "text": [
      "[==========================                                ]  46% ETA:  0:00:33\r"
     ]
    },
    {
     "name": "stdout",
     "output_type": "stream",
     "text": [
      "46/100\n"
     ]
    },
    {
     "name": "stderr",
     "output_type": "stream",
     "text": [
      "[===========================                               ]  47% ETA:  0:00:32\r"
     ]
    },
    {
     "name": "stdout",
     "output_type": "stream",
     "text": [
      "47/100\n"
     ]
    },
    {
     "name": "stderr",
     "output_type": "stream",
     "text": [
      "[===========================                               ]  48% ETA:  0:00:31\r"
     ]
    },
    {
     "name": "stdout",
     "output_type": "stream",
     "text": [
      "48/100\n"
     ]
    },
    {
     "name": "stderr",
     "output_type": "stream",
     "text": [
      "[============================                              ]  49% ETA:  0:00:31\r"
     ]
    },
    {
     "name": "stdout",
     "output_type": "stream",
     "text": [
      "49/100\n"
     ]
    },
    {
     "name": "stderr",
     "output_type": "stream",
     "text": [
      "[=============================                             ]  50% ETA:  0:00:30\r"
     ]
    },
    {
     "name": "stdout",
     "output_type": "stream",
     "text": [
      "50/100\n"
     ]
    },
    {
     "name": "stderr",
     "output_type": "stream",
     "text": [
      "[=============================                             ]  51% ETA:  0:00:29\r"
     ]
    },
    {
     "name": "stdout",
     "output_type": "stream",
     "text": [
      "51/100\n"
     ]
    },
    {
     "name": "stderr",
     "output_type": "stream",
     "text": [
      "[==============================                            ]  52% ETA:  0:00:29\r"
     ]
    },
    {
     "name": "stdout",
     "output_type": "stream",
     "text": [
      "52/100\n"
     ]
    },
    {
     "name": "stderr",
     "output_type": "stream",
     "text": [
      "[==============================                            ]  53% ETA:  0:00:28\r"
     ]
    },
    {
     "name": "stdout",
     "output_type": "stream",
     "text": [
      "53/100\n"
     ]
    },
    {
     "name": "stderr",
     "output_type": "stream",
     "text": [
      "[===============================                           ]  54% ETA:  0:00:27\r"
     ]
    },
    {
     "name": "stdout",
     "output_type": "stream",
     "text": [
      "54/100\n"
     ]
    },
    {
     "name": "stderr",
     "output_type": "stream",
     "text": [
      "[===============================                           ]  55% ETA:  0:00:27\r"
     ]
    },
    {
     "name": "stdout",
     "output_type": "stream",
     "text": [
      "55/100\n"
     ]
    },
    {
     "name": "stderr",
     "output_type": "stream",
     "text": [
      "[================================                          ]  56% ETA:  0:00:26\r"
     ]
    },
    {
     "name": "stdout",
     "output_type": "stream",
     "text": [
      "56/100\n"
     ]
    },
    {
     "name": "stderr",
     "output_type": "stream",
     "text": [
      "[=================================                         ]  57% ETA:  0:00:25\r"
     ]
    },
    {
     "name": "stdout",
     "output_type": "stream",
     "text": [
      "57/100\n"
     ]
    },
    {
     "name": "stderr",
     "output_type": "stream",
     "text": [
      "[=================================                         ]  58% ETA:  0:00:25\r"
     ]
    },
    {
     "name": "stdout",
     "output_type": "stream",
     "text": [
      "58/100\n"
     ]
    },
    {
     "name": "stderr",
     "output_type": "stream",
     "text": [
      "[==================================                        ]  59% ETA:  0:00:24\r"
     ]
    },
    {
     "name": "stdout",
     "output_type": "stream",
     "text": [
      "59/100\n"
     ]
    },
    {
     "name": "stderr",
     "output_type": "stream",
     "text": [
      "[==================================                        ]  60% ETA:  0:00:23\r"
     ]
    },
    {
     "name": "stdout",
     "output_type": "stream",
     "text": [
      "60/100\n"
     ]
    },
    {
     "name": "stderr",
     "output_type": "stream",
     "text": [
      "[===================================                       ]  61% ETA:  0:00:23\r"
     ]
    },
    {
     "name": "stdout",
     "output_type": "stream",
     "text": [
      "61/100\n"
     ]
    },
    {
     "name": "stderr",
     "output_type": "stream",
     "text": [
      "[===================================                       ]  62% ETA:  0:00:22\r"
     ]
    },
    {
     "name": "stdout",
     "output_type": "stream",
     "text": [
      "62/100\n"
     ]
    },
    {
     "name": "stderr",
     "output_type": "stream",
     "text": [
      "[====================================                      ]  63% ETA:  0:00:21\r"
     ]
    },
    {
     "name": "stdout",
     "output_type": "stream",
     "text": [
      "63/100\n"
     ]
    },
    {
     "name": "stderr",
     "output_type": "stream",
     "text": [
      "[=====================================                     ]  64% ETA:  0:00:21\r"
     ]
    },
    {
     "name": "stdout",
     "output_type": "stream",
     "text": [
      "64/100\n"
     ]
    },
    {
     "name": "stderr",
     "output_type": "stream",
     "text": [
      "[=====================================                     ]  65% ETA:  0:00:20\r"
     ]
    },
    {
     "name": "stdout",
     "output_type": "stream",
     "text": [
      "65/100\n"
     ]
    },
    {
     "name": "stderr",
     "output_type": "stream",
     "text": [
      "[======================================                    ]  66% ETA:  0:00:19\r"
     ]
    },
    {
     "name": "stdout",
     "output_type": "stream",
     "text": [
      "66/100\n"
     ]
    },
    {
     "name": "stderr",
     "output_type": "stream",
     "text": [
      "[======================================                    ]  67% ETA:  0:00:19\r"
     ]
    },
    {
     "name": "stdout",
     "output_type": "stream",
     "text": [
      "67/100\n"
     ]
    },
    {
     "name": "stderr",
     "output_type": "stream",
     "text": [
      "[=======================================                   ]  68% ETA:  0:00:18\r"
     ]
    },
    {
     "name": "stdout",
     "output_type": "stream",
     "text": [
      "68/100\n"
     ]
    },
    {
     "name": "stderr",
     "output_type": "stream",
     "text": [
      "[========================================                  ]  69% ETA:  0:00:18\r"
     ]
    },
    {
     "name": "stdout",
     "output_type": "stream",
     "text": [
      "69/100\n"
     ]
    },
    {
     "name": "stderr",
     "output_type": "stream",
     "text": [
      "[========================================                  ]  70% ETA:  0:00:17\r"
     ]
    },
    {
     "name": "stdout",
     "output_type": "stream",
     "text": [
      "70/100\n"
     ]
    },
    {
     "name": "stderr",
     "output_type": "stream",
     "text": [
      "[=========================================                 ]  71% ETA:  0:00:16\r"
     ]
    },
    {
     "name": "stdout",
     "output_type": "stream",
     "text": [
      "71/100\n"
     ]
    },
    {
     "name": "stderr",
     "output_type": "stream",
     "text": [
      "[=========================================                 ]  72% ETA:  0:00:16\r"
     ]
    },
    {
     "name": "stdout",
     "output_type": "stream",
     "text": [
      "72/100\n"
     ]
    },
    {
     "name": "stderr",
     "output_type": "stream",
     "text": [
      "[==========================================                ]  73% ETA:  0:00:15\r"
     ]
    },
    {
     "name": "stdout",
     "output_type": "stream",
     "text": [
      "73/100\n"
     ]
    },
    {
     "name": "stderr",
     "output_type": "stream",
     "text": [
      "[==========================================                ]  74% ETA:  0:00:14\r"
     ]
    },
    {
     "name": "stdout",
     "output_type": "stream",
     "text": [
      "74/100\n"
     ]
    },
    {
     "name": "stderr",
     "output_type": "stream",
     "text": [
      "[===========================================               ]  75% ETA:  0:00:14\r"
     ]
    },
    {
     "name": "stdout",
     "output_type": "stream",
     "text": [
      "75/100\n"
     ]
    },
    {
     "name": "stderr",
     "output_type": "stream",
     "text": [
      "[============================================              ]  76% ETA:  0:00:13\r"
     ]
    },
    {
     "name": "stdout",
     "output_type": "stream",
     "text": [
      "76/100\n"
     ]
    },
    {
     "name": "stderr",
     "output_type": "stream",
     "text": [
      "[============================================              ]  77% ETA:  0:00:13\r"
     ]
    },
    {
     "name": "stdout",
     "output_type": "stream",
     "text": [
      "77/100\n"
     ]
    },
    {
     "name": "stderr",
     "output_type": "stream",
     "text": [
      "[=============================================             ]  78% ETA:  0:00:12\r"
     ]
    },
    {
     "name": "stdout",
     "output_type": "stream",
     "text": [
      "78/100\n"
     ]
    },
    {
     "name": "stderr",
     "output_type": "stream",
     "text": [
      "[=============================================             ]  79% ETA:  0:00:12\r"
     ]
    },
    {
     "name": "stdout",
     "output_type": "stream",
     "text": [
      "79/100\n"
     ]
    },
    {
     "name": "stderr",
     "output_type": "stream",
     "text": [
      "[==============================================            ]  80% ETA:  0:00:11\r"
     ]
    },
    {
     "name": "stdout",
     "output_type": "stream",
     "text": [
      "80/100\n"
     ]
    },
    {
     "name": "stderr",
     "output_type": "stream",
     "text": [
      "[==============================================            ]  81% ETA:  0:00:10\r"
     ]
    },
    {
     "name": "stdout",
     "output_type": "stream",
     "text": [
      "81/100\n"
     ]
    },
    {
     "name": "stderr",
     "output_type": "stream",
     "text": [
      "[===============================================           ]  82% ETA:  0:00:10\r"
     ]
    },
    {
     "name": "stdout",
     "output_type": "stream",
     "text": [
      "82/100\n"
     ]
    },
    {
     "name": "stderr",
     "output_type": "stream",
     "text": [
      "[================================================          ]  83% ETA:  0:00:09\r"
     ]
    },
    {
     "name": "stdout",
     "output_type": "stream",
     "text": [
      "83/100\n"
     ]
    },
    {
     "name": "stderr",
     "output_type": "stream",
     "text": [
      "[================================================          ]  84% ETA:  0:00:09\r"
     ]
    },
    {
     "name": "stdout",
     "output_type": "stream",
     "text": [
      "84/100\n"
     ]
    },
    {
     "name": "stderr",
     "output_type": "stream",
     "text": [
      "[=================================================         ]  85% ETA:  0:00:08\r"
     ]
    },
    {
     "name": "stdout",
     "output_type": "stream",
     "text": [
      "85/100\n"
     ]
    },
    {
     "name": "stderr",
     "output_type": "stream",
     "text": [
      "[=================================================         ]  86% ETA:  0:00:08\r"
     ]
    },
    {
     "name": "stdout",
     "output_type": "stream",
     "text": [
      "86/100\n"
     ]
    },
    {
     "name": "stderr",
     "output_type": "stream",
     "text": [
      "[==================================================        ]  87% ETA:  0:00:07\r"
     ]
    },
    {
     "name": "stdout",
     "output_type": "stream",
     "text": [
      "87/100\n"
     ]
    },
    {
     "name": "stderr",
     "output_type": "stream",
     "text": [
      "[===================================================       ]  88% ETA:  0:00:06\r"
     ]
    },
    {
     "name": "stdout",
     "output_type": "stream",
     "text": [
      "88/100\n"
     ]
    },
    {
     "name": "stderr",
     "output_type": "stream",
     "text": [
      "[===================================================       ]  89% ETA:  0:00:06\r"
     ]
    },
    {
     "name": "stdout",
     "output_type": "stream",
     "text": [
      "89/100\n"
     ]
    },
    {
     "name": "stderr",
     "output_type": "stream",
     "text": [
      "[====================================================      ]  90% ETA:  0:00:05\r"
     ]
    },
    {
     "name": "stdout",
     "output_type": "stream",
     "text": [
      "90/100\n"
     ]
    },
    {
     "name": "stderr",
     "output_type": "stream",
     "text": [
      "[====================================================      ]  91% ETA:  0:00:05\r"
     ]
    },
    {
     "name": "stdout",
     "output_type": "stream",
     "text": [
      "91/100\n"
     ]
    },
    {
     "name": "stderr",
     "output_type": "stream",
     "text": [
      "[=====================================================     ]  92% ETA:  0:00:04\r"
     ]
    },
    {
     "name": "stdout",
     "output_type": "stream",
     "text": [
      "92/100\n"
     ]
    },
    {
     "name": "stderr",
     "output_type": "stream",
     "text": [
      "[=====================================================     ]  93% ETA:  0:00:03\r"
     ]
    },
    {
     "name": "stdout",
     "output_type": "stream",
     "text": [
      "93/100\n"
     ]
    },
    {
     "name": "stderr",
     "output_type": "stream",
     "text": [
      "[======================================================    ]  94% ETA:  0:00:03\r"
     ]
    },
    {
     "name": "stdout",
     "output_type": "stream",
     "text": [
      "94/100\n"
     ]
    },
    {
     "name": "stderr",
     "output_type": "stream",
     "text": [
      "[=======================================================   ]  95% ETA:  0:00:02\r"
     ]
    },
    {
     "name": "stdout",
     "output_type": "stream",
     "text": [
      "95/100\n"
     ]
    },
    {
     "name": "stderr",
     "output_type": "stream",
     "text": [
      "[=======================================================   ]  96% ETA:  0:00:02\r"
     ]
    },
    {
     "name": "stdout",
     "output_type": "stream",
     "text": [
      "96/100\n"
     ]
    },
    {
     "name": "stderr",
     "output_type": "stream",
     "text": [
      "[========================================================  ]  97% ETA:  0:00:01\r"
     ]
    },
    {
     "name": "stdout",
     "output_type": "stream",
     "text": [
      "97/100\n"
     ]
    },
    {
     "name": "stderr",
     "output_type": "stream",
     "text": [
      "[========================================================  ]  98% ETA:  0:00:01\r"
     ]
    },
    {
     "name": "stdout",
     "output_type": "stream",
     "text": [
      "98/100\n"
     ]
    },
    {
     "name": "stderr",
     "output_type": "stream",
     "text": [
      "[========================================================= ]  99% ETA:  0:00:00\r"
     ]
    },
    {
     "name": "stdout",
     "output_type": "stream",
     "text": [
      "99/100\n"
     ]
    },
    {
     "name": "stderr",
     "output_type": "stream",
     "text": [
      "[==========================================================] 100% ETA:  0:00:00\r"
     ]
    },
    {
     "data": {
      "application/javascript": [
       "/* Put everything inside the global mpl namespace */\n",
       "/* global mpl */\n",
       "window.mpl = {};\n",
       "\n",
       "mpl.get_websocket_type = function () {\n",
       "    if (typeof WebSocket !== 'undefined') {\n",
       "        return WebSocket;\n",
       "    } else if (typeof MozWebSocket !== 'undefined') {\n",
       "        return MozWebSocket;\n",
       "    } else {\n",
       "        alert(\n",
       "            'Your browser does not have WebSocket support. ' +\n",
       "                'Please try Chrome, Safari or Firefox ≥ 6. ' +\n",
       "                'Firefox 4 and 5 are also supported but you ' +\n",
       "                'have to enable WebSockets in about:config.'\n",
       "        );\n",
       "    }\n",
       "};\n",
       "\n",
       "mpl.figure = function (figure_id, websocket, ondownload, parent_element) {\n",
       "    this.id = figure_id;\n",
       "\n",
       "    this.ws = websocket;\n",
       "\n",
       "    this.supports_binary = this.ws.binaryType !== undefined;\n",
       "\n",
       "    if (!this.supports_binary) {\n",
       "        var warnings = document.getElementById('mpl-warnings');\n",
       "        if (warnings) {\n",
       "            warnings.style.display = 'block';\n",
       "            warnings.textContent =\n",
       "                'This browser does not support binary websocket messages. ' +\n",
       "                'Performance may be slow.';\n",
       "        }\n",
       "    }\n",
       "\n",
       "    this.imageObj = new Image();\n",
       "\n",
       "    this.context = undefined;\n",
       "    this.message = undefined;\n",
       "    this.canvas = undefined;\n",
       "    this.rubberband_canvas = undefined;\n",
       "    this.rubberband_context = undefined;\n",
       "    this.format_dropdown = undefined;\n",
       "\n",
       "    this.image_mode = 'full';\n",
       "\n",
       "    this.root = document.createElement('div');\n",
       "    this.root.setAttribute('style', 'display: inline-block');\n",
       "    this._root_extra_style(this.root);\n",
       "\n",
       "    parent_element.appendChild(this.root);\n",
       "\n",
       "    this._init_header(this);\n",
       "    this._init_canvas(this);\n",
       "    this._init_toolbar(this);\n",
       "\n",
       "    var fig = this;\n",
       "\n",
       "    this.waiting = false;\n",
       "\n",
       "    this.ws.onopen = function () {\n",
       "        fig.send_message('supports_binary', { value: fig.supports_binary });\n",
       "        fig.send_message('send_image_mode', {});\n",
       "        if (fig.ratio !== 1) {\n",
       "            fig.send_message('set_dpi_ratio', { dpi_ratio: fig.ratio });\n",
       "        }\n",
       "        fig.send_message('refresh', {});\n",
       "    };\n",
       "\n",
       "    this.imageObj.onload = function () {\n",
       "        if (fig.image_mode === 'full') {\n",
       "            // Full images could contain transparency (where diff images\n",
       "            // almost always do), so we need to clear the canvas so that\n",
       "            // there is no ghosting.\n",
       "            fig.context.clearRect(0, 0, fig.canvas.width, fig.canvas.height);\n",
       "        }\n",
       "        fig.context.drawImage(fig.imageObj, 0, 0);\n",
       "    };\n",
       "\n",
       "    this.imageObj.onunload = function () {\n",
       "        fig.ws.close();\n",
       "    };\n",
       "\n",
       "    this.ws.onmessage = this._make_on_message_function(this);\n",
       "\n",
       "    this.ondownload = ondownload;\n",
       "};\n",
       "\n",
       "mpl.figure.prototype._init_header = function () {\n",
       "    var titlebar = document.createElement('div');\n",
       "    titlebar.classList =\n",
       "        'ui-dialog-titlebar ui-widget-header ui-corner-all ui-helper-clearfix';\n",
       "    var titletext = document.createElement('div');\n",
       "    titletext.classList = 'ui-dialog-title';\n",
       "    titletext.setAttribute(\n",
       "        'style',\n",
       "        'width: 100%; text-align: center; padding: 3px;'\n",
       "    );\n",
       "    titlebar.appendChild(titletext);\n",
       "    this.root.appendChild(titlebar);\n",
       "    this.header = titletext;\n",
       "};\n",
       "\n",
       "mpl.figure.prototype._canvas_extra_style = function (_canvas_div) {};\n",
       "\n",
       "mpl.figure.prototype._root_extra_style = function (_canvas_div) {};\n",
       "\n",
       "mpl.figure.prototype._init_canvas = function () {\n",
       "    var fig = this;\n",
       "\n",
       "    var canvas_div = (this.canvas_div = document.createElement('div'));\n",
       "    canvas_div.setAttribute(\n",
       "        'style',\n",
       "        'border: 1px solid #ddd;' +\n",
       "            'box-sizing: content-box;' +\n",
       "            'clear: both;' +\n",
       "            'min-height: 1px;' +\n",
       "            'min-width: 1px;' +\n",
       "            'outline: 0;' +\n",
       "            'overflow: hidden;' +\n",
       "            'position: relative;' +\n",
       "            'resize: both;'\n",
       "    );\n",
       "\n",
       "    function on_keyboard_event_closure(name) {\n",
       "        return function (event) {\n",
       "            return fig.key_event(event, name);\n",
       "        };\n",
       "    }\n",
       "\n",
       "    canvas_div.addEventListener(\n",
       "        'keydown',\n",
       "        on_keyboard_event_closure('key_press')\n",
       "    );\n",
       "    canvas_div.addEventListener(\n",
       "        'keyup',\n",
       "        on_keyboard_event_closure('key_release')\n",
       "    );\n",
       "\n",
       "    this._canvas_extra_style(canvas_div);\n",
       "    this.root.appendChild(canvas_div);\n",
       "\n",
       "    var canvas = (this.canvas = document.createElement('canvas'));\n",
       "    canvas.classList.add('mpl-canvas');\n",
       "    canvas.setAttribute('style', 'box-sizing: content-box;');\n",
       "\n",
       "    this.context = canvas.getContext('2d');\n",
       "\n",
       "    var backingStore =\n",
       "        this.context.backingStorePixelRatio ||\n",
       "        this.context.webkitBackingStorePixelRatio ||\n",
       "        this.context.mozBackingStorePixelRatio ||\n",
       "        this.context.msBackingStorePixelRatio ||\n",
       "        this.context.oBackingStorePixelRatio ||\n",
       "        this.context.backingStorePixelRatio ||\n",
       "        1;\n",
       "\n",
       "    this.ratio = (window.devicePixelRatio || 1) / backingStore;\n",
       "    if (this.ratio !== 1) {\n",
       "        fig.send_message('set_dpi_ratio', { dpi_ratio: this.ratio });\n",
       "    }\n",
       "\n",
       "    var rubberband_canvas = (this.rubberband_canvas = document.createElement(\n",
       "        'canvas'\n",
       "    ));\n",
       "    rubberband_canvas.setAttribute(\n",
       "        'style',\n",
       "        'box-sizing: content-box; position: absolute; left: 0; top: 0; z-index: 1;'\n",
       "    );\n",
       "\n",
       "    var resizeObserver = new ResizeObserver(function (entries) {\n",
       "        var nentries = entries.length;\n",
       "        for (var i = 0; i < nentries; i++) {\n",
       "            var entry = entries[i];\n",
       "            var width, height;\n",
       "            if (entry.contentBoxSize) {\n",
       "                if (entry.contentBoxSize instanceof Array) {\n",
       "                    // Chrome 84 implements new version of spec.\n",
       "                    width = entry.contentBoxSize[0].inlineSize;\n",
       "                    height = entry.contentBoxSize[0].blockSize;\n",
       "                } else {\n",
       "                    // Firefox implements old version of spec.\n",
       "                    width = entry.contentBoxSize.inlineSize;\n",
       "                    height = entry.contentBoxSize.blockSize;\n",
       "                }\n",
       "            } else {\n",
       "                // Chrome <84 implements even older version of spec.\n",
       "                width = entry.contentRect.width;\n",
       "                height = entry.contentRect.height;\n",
       "            }\n",
       "\n",
       "            // Keep the size of the canvas and rubber band canvas in sync with\n",
       "            // the canvas container.\n",
       "            if (entry.devicePixelContentBoxSize) {\n",
       "                // Chrome 84 implements new version of spec.\n",
       "                canvas.setAttribute(\n",
       "                    'width',\n",
       "                    entry.devicePixelContentBoxSize[0].inlineSize\n",
       "                );\n",
       "                canvas.setAttribute(\n",
       "                    'height',\n",
       "                    entry.devicePixelContentBoxSize[0].blockSize\n",
       "                );\n",
       "            } else {\n",
       "                canvas.setAttribute('width', width * fig.ratio);\n",
       "                canvas.setAttribute('height', height * fig.ratio);\n",
       "            }\n",
       "            canvas.setAttribute(\n",
       "                'style',\n",
       "                'width: ' + width + 'px; height: ' + height + 'px;'\n",
       "            );\n",
       "\n",
       "            rubberband_canvas.setAttribute('width', width);\n",
       "            rubberband_canvas.setAttribute('height', height);\n",
       "\n",
       "            // And update the size in Python. We ignore the initial 0/0 size\n",
       "            // that occurs as the element is placed into the DOM, which should\n",
       "            // otherwise not happen due to the minimum size styling.\n",
       "            if (width != 0 && height != 0) {\n",
       "                fig.request_resize(width, height);\n",
       "            }\n",
       "        }\n",
       "    });\n",
       "    resizeObserver.observe(canvas_div);\n",
       "\n",
       "    function on_mouse_event_closure(name) {\n",
       "        return function (event) {\n",
       "            return fig.mouse_event(event, name);\n",
       "        };\n",
       "    }\n",
       "\n",
       "    rubberband_canvas.addEventListener(\n",
       "        'mousedown',\n",
       "        on_mouse_event_closure('button_press')\n",
       "    );\n",
       "    rubberband_canvas.addEventListener(\n",
       "        'mouseup',\n",
       "        on_mouse_event_closure('button_release')\n",
       "    );\n",
       "    // Throttle sequential mouse events to 1 every 20ms.\n",
       "    rubberband_canvas.addEventListener(\n",
       "        'mousemove',\n",
       "        on_mouse_event_closure('motion_notify')\n",
       "    );\n",
       "\n",
       "    rubberband_canvas.addEventListener(\n",
       "        'mouseenter',\n",
       "        on_mouse_event_closure('figure_enter')\n",
       "    );\n",
       "    rubberband_canvas.addEventListener(\n",
       "        'mouseleave',\n",
       "        on_mouse_event_closure('figure_leave')\n",
       "    );\n",
       "\n",
       "    canvas_div.addEventListener('wheel', function (event) {\n",
       "        if (event.deltaY < 0) {\n",
       "            event.step = 1;\n",
       "        } else {\n",
       "            event.step = -1;\n",
       "        }\n",
       "        on_mouse_event_closure('scroll')(event);\n",
       "    });\n",
       "\n",
       "    canvas_div.appendChild(canvas);\n",
       "    canvas_div.appendChild(rubberband_canvas);\n",
       "\n",
       "    this.rubberband_context = rubberband_canvas.getContext('2d');\n",
       "    this.rubberband_context.strokeStyle = '#000000';\n",
       "\n",
       "    this._resize_canvas = function (width, height, forward) {\n",
       "        if (forward) {\n",
       "            canvas_div.style.width = width + 'px';\n",
       "            canvas_div.style.height = height + 'px';\n",
       "        }\n",
       "    };\n",
       "\n",
       "    // Disable right mouse context menu.\n",
       "    this.rubberband_canvas.addEventListener('contextmenu', function (_e) {\n",
       "        event.preventDefault();\n",
       "        return false;\n",
       "    });\n",
       "\n",
       "    function set_focus() {\n",
       "        canvas.focus();\n",
       "        canvas_div.focus();\n",
       "    }\n",
       "\n",
       "    window.setTimeout(set_focus, 100);\n",
       "};\n",
       "\n",
       "mpl.figure.prototype._init_toolbar = function () {\n",
       "    var fig = this;\n",
       "\n",
       "    var toolbar = document.createElement('div');\n",
       "    toolbar.classList = 'mpl-toolbar';\n",
       "    this.root.appendChild(toolbar);\n",
       "\n",
       "    function on_click_closure(name) {\n",
       "        return function (_event) {\n",
       "            return fig.toolbar_button_onclick(name);\n",
       "        };\n",
       "    }\n",
       "\n",
       "    function on_mouseover_closure(tooltip) {\n",
       "        return function (event) {\n",
       "            if (!event.currentTarget.disabled) {\n",
       "                return fig.toolbar_button_onmouseover(tooltip);\n",
       "            }\n",
       "        };\n",
       "    }\n",
       "\n",
       "    fig.buttons = {};\n",
       "    var buttonGroup = document.createElement('div');\n",
       "    buttonGroup.classList = 'mpl-button-group';\n",
       "    for (var toolbar_ind in mpl.toolbar_items) {\n",
       "        var name = mpl.toolbar_items[toolbar_ind][0];\n",
       "        var tooltip = mpl.toolbar_items[toolbar_ind][1];\n",
       "        var image = mpl.toolbar_items[toolbar_ind][2];\n",
       "        var method_name = mpl.toolbar_items[toolbar_ind][3];\n",
       "\n",
       "        if (!name) {\n",
       "            /* Instead of a spacer, we start a new button group. */\n",
       "            if (buttonGroup.hasChildNodes()) {\n",
       "                toolbar.appendChild(buttonGroup);\n",
       "            }\n",
       "            buttonGroup = document.createElement('div');\n",
       "            buttonGroup.classList = 'mpl-button-group';\n",
       "            continue;\n",
       "        }\n",
       "\n",
       "        var button = (fig.buttons[name] = document.createElement('button'));\n",
       "        button.classList = 'mpl-widget';\n",
       "        button.setAttribute('role', 'button');\n",
       "        button.setAttribute('aria-disabled', 'false');\n",
       "        button.addEventListener('click', on_click_closure(method_name));\n",
       "        button.addEventListener('mouseover', on_mouseover_closure(tooltip));\n",
       "\n",
       "        var icon_img = document.createElement('img');\n",
       "        icon_img.src = '_images/' + image + '.png';\n",
       "        icon_img.srcset = '_images/' + image + '_large.png 2x';\n",
       "        icon_img.alt = tooltip;\n",
       "        button.appendChild(icon_img);\n",
       "\n",
       "        buttonGroup.appendChild(button);\n",
       "    }\n",
       "\n",
       "    if (buttonGroup.hasChildNodes()) {\n",
       "        toolbar.appendChild(buttonGroup);\n",
       "    }\n",
       "\n",
       "    var fmt_picker = document.createElement('select');\n",
       "    fmt_picker.classList = 'mpl-widget';\n",
       "    toolbar.appendChild(fmt_picker);\n",
       "    this.format_dropdown = fmt_picker;\n",
       "\n",
       "    for (var ind in mpl.extensions) {\n",
       "        var fmt = mpl.extensions[ind];\n",
       "        var option = document.createElement('option');\n",
       "        option.selected = fmt === mpl.default_extension;\n",
       "        option.innerHTML = fmt;\n",
       "        fmt_picker.appendChild(option);\n",
       "    }\n",
       "\n",
       "    var status_bar = document.createElement('span');\n",
       "    status_bar.classList = 'mpl-message';\n",
       "    toolbar.appendChild(status_bar);\n",
       "    this.message = status_bar;\n",
       "};\n",
       "\n",
       "mpl.figure.prototype.request_resize = function (x_pixels, y_pixels) {\n",
       "    // Request matplotlib to resize the figure. Matplotlib will then trigger a resize in the client,\n",
       "    // which will in turn request a refresh of the image.\n",
       "    this.send_message('resize', { width: x_pixels, height: y_pixels });\n",
       "};\n",
       "\n",
       "mpl.figure.prototype.send_message = function (type, properties) {\n",
       "    properties['type'] = type;\n",
       "    properties['figure_id'] = this.id;\n",
       "    this.ws.send(JSON.stringify(properties));\n",
       "};\n",
       "\n",
       "mpl.figure.prototype.send_draw_message = function () {\n",
       "    if (!this.waiting) {\n",
       "        this.waiting = true;\n",
       "        this.ws.send(JSON.stringify({ type: 'draw', figure_id: this.id }));\n",
       "    }\n",
       "};\n",
       "\n",
       "mpl.figure.prototype.handle_save = function (fig, _msg) {\n",
       "    var format_dropdown = fig.format_dropdown;\n",
       "    var format = format_dropdown.options[format_dropdown.selectedIndex].value;\n",
       "    fig.ondownload(fig, format);\n",
       "};\n",
       "\n",
       "mpl.figure.prototype.handle_resize = function (fig, msg) {\n",
       "    var size = msg['size'];\n",
       "    if (size[0] !== fig.canvas.width || size[1] !== fig.canvas.height) {\n",
       "        fig._resize_canvas(size[0], size[1], msg['forward']);\n",
       "        fig.send_message('refresh', {});\n",
       "    }\n",
       "};\n",
       "\n",
       "mpl.figure.prototype.handle_rubberband = function (fig, msg) {\n",
       "    var x0 = msg['x0'] / fig.ratio;\n",
       "    var y0 = (fig.canvas.height - msg['y0']) / fig.ratio;\n",
       "    var x1 = msg['x1'] / fig.ratio;\n",
       "    var y1 = (fig.canvas.height - msg['y1']) / fig.ratio;\n",
       "    x0 = Math.floor(x0) + 0.5;\n",
       "    y0 = Math.floor(y0) + 0.5;\n",
       "    x1 = Math.floor(x1) + 0.5;\n",
       "    y1 = Math.floor(y1) + 0.5;\n",
       "    var min_x = Math.min(x0, x1);\n",
       "    var min_y = Math.min(y0, y1);\n",
       "    var width = Math.abs(x1 - x0);\n",
       "    var height = Math.abs(y1 - y0);\n",
       "\n",
       "    fig.rubberband_context.clearRect(\n",
       "        0,\n",
       "        0,\n",
       "        fig.canvas.width / fig.ratio,\n",
       "        fig.canvas.height / fig.ratio\n",
       "    );\n",
       "\n",
       "    fig.rubberband_context.strokeRect(min_x, min_y, width, height);\n",
       "};\n",
       "\n",
       "mpl.figure.prototype.handle_figure_label = function (fig, msg) {\n",
       "    // Updates the figure title.\n",
       "    fig.header.textContent = msg['label'];\n",
       "};\n",
       "\n",
       "mpl.figure.prototype.handle_cursor = function (fig, msg) {\n",
       "    var cursor = msg['cursor'];\n",
       "    switch (cursor) {\n",
       "        case 0:\n",
       "            cursor = 'pointer';\n",
       "            break;\n",
       "        case 1:\n",
       "            cursor = 'default';\n",
       "            break;\n",
       "        case 2:\n",
       "            cursor = 'crosshair';\n",
       "            break;\n",
       "        case 3:\n",
       "            cursor = 'move';\n",
       "            break;\n",
       "    }\n",
       "    fig.rubberband_canvas.style.cursor = cursor;\n",
       "};\n",
       "\n",
       "mpl.figure.prototype.handle_message = function (fig, msg) {\n",
       "    fig.message.textContent = msg['message'];\n",
       "};\n",
       "\n",
       "mpl.figure.prototype.handle_draw = function (fig, _msg) {\n",
       "    // Request the server to send over a new figure.\n",
       "    fig.send_draw_message();\n",
       "};\n",
       "\n",
       "mpl.figure.prototype.handle_image_mode = function (fig, msg) {\n",
       "    fig.image_mode = msg['mode'];\n",
       "};\n",
       "\n",
       "mpl.figure.prototype.handle_history_buttons = function (fig, msg) {\n",
       "    for (var key in msg) {\n",
       "        if (!(key in fig.buttons)) {\n",
       "            continue;\n",
       "        }\n",
       "        fig.buttons[key].disabled = !msg[key];\n",
       "        fig.buttons[key].setAttribute('aria-disabled', !msg[key]);\n",
       "    }\n",
       "};\n",
       "\n",
       "mpl.figure.prototype.handle_navigate_mode = function (fig, msg) {\n",
       "    if (msg['mode'] === 'PAN') {\n",
       "        fig.buttons['Pan'].classList.add('active');\n",
       "        fig.buttons['Zoom'].classList.remove('active');\n",
       "    } else if (msg['mode'] === 'ZOOM') {\n",
       "        fig.buttons['Pan'].classList.remove('active');\n",
       "        fig.buttons['Zoom'].classList.add('active');\n",
       "    } else {\n",
       "        fig.buttons['Pan'].classList.remove('active');\n",
       "        fig.buttons['Zoom'].classList.remove('active');\n",
       "    }\n",
       "};\n",
       "\n",
       "mpl.figure.prototype.updated_canvas_event = function () {\n",
       "    // Called whenever the canvas gets updated.\n",
       "    this.send_message('ack', {});\n",
       "};\n",
       "\n",
       "// A function to construct a web socket function for onmessage handling.\n",
       "// Called in the figure constructor.\n",
       "mpl.figure.prototype._make_on_message_function = function (fig) {\n",
       "    return function socket_on_message(evt) {\n",
       "        if (evt.data instanceof Blob) {\n",
       "            /* FIXME: We get \"Resource interpreted as Image but\n",
       "             * transferred with MIME type text/plain:\" errors on\n",
       "             * Chrome.  But how to set the MIME type?  It doesn't seem\n",
       "             * to be part of the websocket stream */\n",
       "            evt.data.type = 'image/png';\n",
       "\n",
       "            /* Free the memory for the previous frames */\n",
       "            if (fig.imageObj.src) {\n",
       "                (window.URL || window.webkitURL).revokeObjectURL(\n",
       "                    fig.imageObj.src\n",
       "                );\n",
       "            }\n",
       "\n",
       "            fig.imageObj.src = (window.URL || window.webkitURL).createObjectURL(\n",
       "                evt.data\n",
       "            );\n",
       "            fig.updated_canvas_event();\n",
       "            fig.waiting = false;\n",
       "            return;\n",
       "        } else if (\n",
       "            typeof evt.data === 'string' &&\n",
       "            evt.data.slice(0, 21) === 'data:image/png;base64'\n",
       "        ) {\n",
       "            fig.imageObj.src = evt.data;\n",
       "            fig.updated_canvas_event();\n",
       "            fig.waiting = false;\n",
       "            return;\n",
       "        }\n",
       "\n",
       "        var msg = JSON.parse(evt.data);\n",
       "        var msg_type = msg['type'];\n",
       "\n",
       "        // Call the  \"handle_{type}\" callback, which takes\n",
       "        // the figure and JSON message as its only arguments.\n",
       "        try {\n",
       "            var callback = fig['handle_' + msg_type];\n",
       "        } catch (e) {\n",
       "            console.log(\n",
       "                \"No handler for the '\" + msg_type + \"' message type: \",\n",
       "                msg\n",
       "            );\n",
       "            return;\n",
       "        }\n",
       "\n",
       "        if (callback) {\n",
       "            try {\n",
       "                // console.log(\"Handling '\" + msg_type + \"' message: \", msg);\n",
       "                callback(fig, msg);\n",
       "            } catch (e) {\n",
       "                console.log(\n",
       "                    \"Exception inside the 'handler_\" + msg_type + \"' callback:\",\n",
       "                    e,\n",
       "                    e.stack,\n",
       "                    msg\n",
       "                );\n",
       "            }\n",
       "        }\n",
       "    };\n",
       "};\n",
       "\n",
       "// from http://stackoverflow.com/questions/1114465/getting-mouse-location-in-canvas\n",
       "mpl.findpos = function (e) {\n",
       "    //this section is from http://www.quirksmode.org/js/events_properties.html\n",
       "    var targ;\n",
       "    if (!e) {\n",
       "        e = window.event;\n",
       "    }\n",
       "    if (e.target) {\n",
       "        targ = e.target;\n",
       "    } else if (e.srcElement) {\n",
       "        targ = e.srcElement;\n",
       "    }\n",
       "    if (targ.nodeType === 3) {\n",
       "        // defeat Safari bug\n",
       "        targ = targ.parentNode;\n",
       "    }\n",
       "\n",
       "    // pageX,Y are the mouse positions relative to the document\n",
       "    var boundingRect = targ.getBoundingClientRect();\n",
       "    var x = e.pageX - (boundingRect.left + document.body.scrollLeft);\n",
       "    var y = e.pageY - (boundingRect.top + document.body.scrollTop);\n",
       "\n",
       "    return { x: x, y: y };\n",
       "};\n",
       "\n",
       "/*\n",
       " * return a copy of an object with only non-object keys\n",
       " * we need this to avoid circular references\n",
       " * http://stackoverflow.com/a/24161582/3208463\n",
       " */\n",
       "function simpleKeys(original) {\n",
       "    return Object.keys(original).reduce(function (obj, key) {\n",
       "        if (typeof original[key] !== 'object') {\n",
       "            obj[key] = original[key];\n",
       "        }\n",
       "        return obj;\n",
       "    }, {});\n",
       "}\n",
       "\n",
       "mpl.figure.prototype.mouse_event = function (event, name) {\n",
       "    var canvas_pos = mpl.findpos(event);\n",
       "\n",
       "    if (name === 'button_press') {\n",
       "        this.canvas.focus();\n",
       "        this.canvas_div.focus();\n",
       "    }\n",
       "\n",
       "    var x = canvas_pos.x * this.ratio;\n",
       "    var y = canvas_pos.y * this.ratio;\n",
       "\n",
       "    this.send_message(name, {\n",
       "        x: x,\n",
       "        y: y,\n",
       "        button: event.button,\n",
       "        step: event.step,\n",
       "        guiEvent: simpleKeys(event),\n",
       "    });\n",
       "\n",
       "    /* This prevents the web browser from automatically changing to\n",
       "     * the text insertion cursor when the button is pressed.  We want\n",
       "     * to control all of the cursor setting manually through the\n",
       "     * 'cursor' event from matplotlib */\n",
       "    event.preventDefault();\n",
       "    return false;\n",
       "};\n",
       "\n",
       "mpl.figure.prototype._key_event_extra = function (_event, _name) {\n",
       "    // Handle any extra behaviour associated with a key event\n",
       "};\n",
       "\n",
       "mpl.figure.prototype.key_event = function (event, name) {\n",
       "    // Prevent repeat events\n",
       "    if (name === 'key_press') {\n",
       "        if (event.which === this._key) {\n",
       "            return;\n",
       "        } else {\n",
       "            this._key = event.which;\n",
       "        }\n",
       "    }\n",
       "    if (name === 'key_release') {\n",
       "        this._key = null;\n",
       "    }\n",
       "\n",
       "    var value = '';\n",
       "    if (event.ctrlKey && event.which !== 17) {\n",
       "        value += 'ctrl+';\n",
       "    }\n",
       "    if (event.altKey && event.which !== 18) {\n",
       "        value += 'alt+';\n",
       "    }\n",
       "    if (event.shiftKey && event.which !== 16) {\n",
       "        value += 'shift+';\n",
       "    }\n",
       "\n",
       "    value += 'k';\n",
       "    value += event.which.toString();\n",
       "\n",
       "    this._key_event_extra(event, name);\n",
       "\n",
       "    this.send_message(name, { key: value, guiEvent: simpleKeys(event) });\n",
       "    return false;\n",
       "};\n",
       "\n",
       "mpl.figure.prototype.toolbar_button_onclick = function (name) {\n",
       "    if (name === 'download') {\n",
       "        this.handle_save(this, null);\n",
       "    } else {\n",
       "        this.send_message('toolbar_button', { name: name });\n",
       "    }\n",
       "};\n",
       "\n",
       "mpl.figure.prototype.toolbar_button_onmouseover = function (tooltip) {\n",
       "    this.message.textContent = tooltip;\n",
       "};\n",
       "mpl.toolbar_items = [[\"Home\", \"Reset original view\", \"fa fa-home icon-home\", \"home\"], [\"Back\", \"Back to previous view\", \"fa fa-arrow-left icon-arrow-left\", \"back\"], [\"Forward\", \"Forward to next view\", \"fa fa-arrow-right icon-arrow-right\", \"forward\"], [\"\", \"\", \"\", \"\"], [\"Pan\", \"Left button pans, Right button zooms\\nx/y fixes axis, CTRL fixes aspect\", \"fa fa-arrows icon-move\", \"pan\"], [\"Zoom\", \"Zoom to rectangle\\nx/y fixes axis, CTRL fixes aspect\", \"fa fa-square-o icon-check-empty\", \"zoom\"], [\"\", \"\", \"\", \"\"], [\"Download\", \"Download plot\", \"fa fa-floppy-o icon-save\", \"download\"]];\n",
       "\n",
       "mpl.extensions = [\"eps\", \"jpeg\", \"pdf\", \"png\", \"ps\", \"raw\", \"svg\", \"tif\"];\n",
       "\n",
       "mpl.default_extension = \"png\";/* global mpl */\n",
       "\n",
       "var comm_websocket_adapter = function (comm) {\n",
       "    // Create a \"websocket\"-like object which calls the given IPython comm\n",
       "    // object with the appropriate methods. Currently this is a non binary\n",
       "    // socket, so there is still some room for performance tuning.\n",
       "    var ws = {};\n",
       "\n",
       "    ws.close = function () {\n",
       "        comm.close();\n",
       "    };\n",
       "    ws.send = function (m) {\n",
       "        //console.log('sending', m);\n",
       "        comm.send(m);\n",
       "    };\n",
       "    // Register the callback with on_msg.\n",
       "    comm.on_msg(function (msg) {\n",
       "        //console.log('receiving', msg['content']['data'], msg);\n",
       "        // Pass the mpl event to the overridden (by mpl) onmessage function.\n",
       "        ws.onmessage(msg['content']['data']);\n",
       "    });\n",
       "    return ws;\n",
       "};\n",
       "\n",
       "mpl.mpl_figure_comm = function (comm, msg) {\n",
       "    // This is the function which gets called when the mpl process\n",
       "    // starts-up an IPython Comm through the \"matplotlib\" channel.\n",
       "\n",
       "    var id = msg.content.data.id;\n",
       "    // Get hold of the div created by the display call when the Comm\n",
       "    // socket was opened in Python.\n",
       "    var element = document.getElementById(id);\n",
       "    var ws_proxy = comm_websocket_adapter(comm);\n",
       "\n",
       "    function ondownload(figure, _format) {\n",
       "        window.open(figure.canvas.toDataURL());\n",
       "    }\n",
       "\n",
       "    var fig = new mpl.figure(id, ws_proxy, ondownload, element);\n",
       "\n",
       "    // Call onopen now - mpl needs it, as it is assuming we've passed it a real\n",
       "    // web socket which is closed, not our websocket->open comm proxy.\n",
       "    ws_proxy.onopen();\n",
       "\n",
       "    fig.parent_element = element;\n",
       "    fig.cell_info = mpl.find_output_cell(\"<div id='\" + id + \"'></div>\");\n",
       "    if (!fig.cell_info) {\n",
       "        console.error('Failed to find cell for figure', id, fig);\n",
       "        return;\n",
       "    }\n",
       "    fig.cell_info[0].output_area.element.one(\n",
       "        'cleared',\n",
       "        { fig: fig },\n",
       "        fig._remove_fig_handler\n",
       "    );\n",
       "};\n",
       "\n",
       "mpl.figure.prototype.handle_close = function (fig, msg) {\n",
       "    var width = fig.canvas.width / fig.ratio;\n",
       "    fig.cell_info[0].output_area.element.off(\n",
       "        'cleared',\n",
       "        fig._remove_fig_handler\n",
       "    );\n",
       "\n",
       "    // Update the output cell to use the data from the current canvas.\n",
       "    fig.push_to_output();\n",
       "    var dataURL = fig.canvas.toDataURL();\n",
       "    // Re-enable the keyboard manager in IPython - without this line, in FF,\n",
       "    // the notebook keyboard shortcuts fail.\n",
       "    IPython.keyboard_manager.enable();\n",
       "    fig.parent_element.innerHTML =\n",
       "        '<img src=\"' + dataURL + '\" width=\"' + width + '\">';\n",
       "    fig.close_ws(fig, msg);\n",
       "};\n",
       "\n",
       "mpl.figure.prototype.close_ws = function (fig, msg) {\n",
       "    fig.send_message('closing', msg);\n",
       "    // fig.ws.close()\n",
       "};\n",
       "\n",
       "mpl.figure.prototype.push_to_output = function (_remove_interactive) {\n",
       "    // Turn the data on the canvas into data in the output cell.\n",
       "    var width = this.canvas.width / this.ratio;\n",
       "    var dataURL = this.canvas.toDataURL();\n",
       "    this.cell_info[1]['text/html'] =\n",
       "        '<img src=\"' + dataURL + '\" width=\"' + width + '\">';\n",
       "};\n",
       "\n",
       "mpl.figure.prototype.updated_canvas_event = function () {\n",
       "    // Tell IPython that the notebook contents must change.\n",
       "    IPython.notebook.set_dirty(true);\n",
       "    this.send_message('ack', {});\n",
       "    var fig = this;\n",
       "    // Wait a second, then push the new image to the DOM so\n",
       "    // that it is saved nicely (might be nice to debounce this).\n",
       "    setTimeout(function () {\n",
       "        fig.push_to_output();\n",
       "    }, 1000);\n",
       "};\n",
       "\n",
       "mpl.figure.prototype._init_toolbar = function () {\n",
       "    var fig = this;\n",
       "\n",
       "    var toolbar = document.createElement('div');\n",
       "    toolbar.classList = 'btn-toolbar';\n",
       "    this.root.appendChild(toolbar);\n",
       "\n",
       "    function on_click_closure(name) {\n",
       "        return function (_event) {\n",
       "            return fig.toolbar_button_onclick(name);\n",
       "        };\n",
       "    }\n",
       "\n",
       "    function on_mouseover_closure(tooltip) {\n",
       "        return function (event) {\n",
       "            if (!event.currentTarget.disabled) {\n",
       "                return fig.toolbar_button_onmouseover(tooltip);\n",
       "            }\n",
       "        };\n",
       "    }\n",
       "\n",
       "    fig.buttons = {};\n",
       "    var buttonGroup = document.createElement('div');\n",
       "    buttonGroup.classList = 'btn-group';\n",
       "    var button;\n",
       "    for (var toolbar_ind in mpl.toolbar_items) {\n",
       "        var name = mpl.toolbar_items[toolbar_ind][0];\n",
       "        var tooltip = mpl.toolbar_items[toolbar_ind][1];\n",
       "        var image = mpl.toolbar_items[toolbar_ind][2];\n",
       "        var method_name = mpl.toolbar_items[toolbar_ind][3];\n",
       "\n",
       "        if (!name) {\n",
       "            /* Instead of a spacer, we start a new button group. */\n",
       "            if (buttonGroup.hasChildNodes()) {\n",
       "                toolbar.appendChild(buttonGroup);\n",
       "            }\n",
       "            buttonGroup = document.createElement('div');\n",
       "            buttonGroup.classList = 'btn-group';\n",
       "            continue;\n",
       "        }\n",
       "\n",
       "        button = fig.buttons[name] = document.createElement('button');\n",
       "        button.classList = 'btn btn-default';\n",
       "        button.href = '#';\n",
       "        button.title = name;\n",
       "        button.innerHTML = '<i class=\"fa ' + image + ' fa-lg\"></i>';\n",
       "        button.addEventListener('click', on_click_closure(method_name));\n",
       "        button.addEventListener('mouseover', on_mouseover_closure(tooltip));\n",
       "        buttonGroup.appendChild(button);\n",
       "    }\n",
       "\n",
       "    if (buttonGroup.hasChildNodes()) {\n",
       "        toolbar.appendChild(buttonGroup);\n",
       "    }\n",
       "\n",
       "    // Add the status bar.\n",
       "    var status_bar = document.createElement('span');\n",
       "    status_bar.classList = 'mpl-message pull-right';\n",
       "    toolbar.appendChild(status_bar);\n",
       "    this.message = status_bar;\n",
       "\n",
       "    // Add the close button to the window.\n",
       "    var buttongrp = document.createElement('div');\n",
       "    buttongrp.classList = 'btn-group inline pull-right';\n",
       "    button = document.createElement('button');\n",
       "    button.classList = 'btn btn-mini btn-primary';\n",
       "    button.href = '#';\n",
       "    button.title = 'Stop Interaction';\n",
       "    button.innerHTML = '<i class=\"fa fa-power-off icon-remove icon-large\"></i>';\n",
       "    button.addEventListener('click', function (_evt) {\n",
       "        fig.handle_close(fig, {});\n",
       "    });\n",
       "    button.addEventListener(\n",
       "        'mouseover',\n",
       "        on_mouseover_closure('Stop Interaction')\n",
       "    );\n",
       "    buttongrp.appendChild(button);\n",
       "    var titlebar = this.root.querySelector('.ui-dialog-titlebar');\n",
       "    titlebar.insertBefore(buttongrp, titlebar.firstChild);\n",
       "};\n",
       "\n",
       "mpl.figure.prototype._remove_fig_handler = function (event) {\n",
       "    var fig = event.data.fig;\n",
       "    fig.close_ws(fig, {});\n",
       "};\n",
       "\n",
       "mpl.figure.prototype._root_extra_style = function (el) {\n",
       "    el.style.boxSizing = 'content-box'; // override notebook setting of border-box.\n",
       "};\n",
       "\n",
       "mpl.figure.prototype._canvas_extra_style = function (el) {\n",
       "    // this is important to make the div 'focusable\n",
       "    el.setAttribute('tabindex', 0);\n",
       "    // reach out to IPython and tell the keyboard manager to turn it's self\n",
       "    // off when our div gets focus\n",
       "\n",
       "    // location in version 3\n",
       "    if (IPython.notebook.keyboard_manager) {\n",
       "        IPython.notebook.keyboard_manager.register_events(el);\n",
       "    } else {\n",
       "        // location in version 2\n",
       "        IPython.keyboard_manager.register_events(el);\n",
       "    }\n",
       "};\n",
       "\n",
       "mpl.figure.prototype._key_event_extra = function (event, _name) {\n",
       "    var manager = IPython.notebook.keyboard_manager;\n",
       "    if (!manager) {\n",
       "        manager = IPython.keyboard_manager;\n",
       "    }\n",
       "\n",
       "    // Check for shift+enter\n",
       "    if (event.shiftKey && event.which === 13) {\n",
       "        this.canvas_div.blur();\n",
       "        // select the cell after this one\n",
       "        var index = IPython.notebook.find_cell_index(this.cell_info[0]);\n",
       "        IPython.notebook.select(index + 1);\n",
       "    }\n",
       "};\n",
       "\n",
       "mpl.figure.prototype.handle_save = function (fig, _msg) {\n",
       "    fig.ondownload(fig, null);\n",
       "};\n",
       "\n",
       "mpl.find_output_cell = function (html_output) {\n",
       "    // Return the cell and output element which can be found *uniquely* in the notebook.\n",
       "    // Note - this is a bit hacky, but it is done because the \"notebook_saving.Notebook\"\n",
       "    // IPython event is triggered only after the cells have been serialised, which for\n",
       "    // our purposes (turning an active figure into a static one), is too late.\n",
       "    var cells = IPython.notebook.get_cells();\n",
       "    var ncells = cells.length;\n",
       "    for (var i = 0; i < ncells; i++) {\n",
       "        var cell = cells[i];\n",
       "        if (cell.cell_type === 'code') {\n",
       "            for (var j = 0; j < cell.output_area.outputs.length; j++) {\n",
       "                var data = cell.output_area.outputs[j];\n",
       "                if (data.data) {\n",
       "                    // IPython >= 3 moved mimebundle to data attribute of output\n",
       "                    data = data.data;\n",
       "                }\n",
       "                if (data['text/html'] === html_output) {\n",
       "                    return [cell, data, j];\n",
       "                }\n",
       "            }\n",
       "        }\n",
       "    }\n",
       "};\n",
       "\n",
       "// Register the function which deals with the matplotlib target/channel.\n",
       "// The kernel may be null if the page has been refreshed.\n",
       "if (IPython.notebook.kernel !== null) {\n",
       "    IPython.notebook.kernel.comm_manager.register_target(\n",
       "        'matplotlib',\n",
       "        mpl.mpl_figure_comm\n",
       "    );\n",
       "}\n"
      ],
      "text/plain": [
       "<IPython.core.display.Javascript object>"
      ]
     },
     "metadata": {},
     "output_type": "display_data"
    },
    {
     "data": {
      "text/html": [
       "<img src=\"data:image/png;base64,iVBORw0KGgoAAAANSUhEUgAAAlgAAAEsCAYAAAAfPc2WAAAgAElEQVR4XuxdB3hURRc96b0HQkhoISDSO9J7F7CBigrSRJqoiPKLClJsYKU3CwhK7ypVOtJ7J5SQQHpCes//3dnskrLJ7ibzdt/um/ncbzE7b+bOmbszZ++9c8cqLy8vD6IIBAQCAgGBgEBAICAQEAhwQ8BKECxuWIqGBAICAYGAQEAgIBAQCDAEBMESiiAQEAgIBAQCAgGBgECAMwKCYHEGVDQnEBAICAQEAgIBgYBAQBAsoQMCAYGAQEAgIBAQCAgEOCMgCBZnQEVzAgGBgEBAICAQEAgIBATBEjogEBAICAQEAgIBgYBAgDMCgmBxBlQ0JxAQCAgEBAICAYGAQEAQLKEDAgGBgEBAICAQEAgIBDgjIAgWZ0BFcwIBgYBAQCAgEBAICAQEwRI6IBAQCAgEBAICAYGAQIAzAoJgcQZUNCcQEAgIBAQCAgGBgEBAECyhAwIBgYBAQCAgEBAICAQ4IyAIFmdARXMCAYGAQEAgIBAQCAgEBMESOiAQEAgIBAQCAgGBgECAMwKCYHEGVDQnEBAICAQEAgIBgYBAQBAsoQMCAYGAQEAgIBAQCAgEOCMgCBZnQEVzAgGBgEBAICAQEAgIBATBEjogEBAICAQEAgIBgYBAgDMCgmBxBlQ0JxAQCAgEBAICAYGAQEAQLKEDAgGBgEBAICAQEAgIBDgjIAgWZ0BFcwIBgYBAQCAgEBAICAQEwRI6IBAQCAgEBAICAYGAQIAzAoJgcQZUNCcQEAgIBAQCAgGBgEBAECyhAwIBgYBAQCAgEBAICAQ4IyAIFmdARXMCAYGAQEAgIBAQCAgEBMESOiAQEAgIBAQCAgGBgECAMwKCYHEGVDQnEBAICAQEAgIBgYBAQBAsoQMCAYGAQEAgIBAQCAgEOCMgCBZnQEVzAgGBgEBAICAQEAgIBATBEjogEBAICAQEAgIBgYBAgDMCgmBxBlQ0JxAQCAgEBAICAYGAQEAQLKEDAgGBgEBAICAQEAgIBDgjIAgWZ0BFcwIBgYBAQCAgEBAICAQEwRI6IBAQCAgEBAICAYGAQIAzAoJgcQZUNCcQEAgIBAQCAgGBgEBAECwDdMDd3R2BgYEGPGF5VVNTU+Hs7Gx5AzOTEQn8TTdRAnvTYU89C/zNH/+wsDAkJiaadiBG7F0QLAPArlu3Lq5evWrAE5ZXdd++fejatavlDcxMRiTwN91ECexNhz31LPA3f/yVtocKgmWAzipNObRBIxY5AxRGgqoCfwlA1bNJgb2eQElUTeAvEbB6NssDf6XtoYJg6alcVE1pyiEIlgHKYaSqPBY5I4lqcd0I7E07pQJ/88dfaXuoYghWVFQUpkyZglu3buHw4cPs/dtvv0VGRgYqV66M2bNn69RepSmHIFg6VcLoFcQmY3TINR0K7E2HvXARmhZ7XvgrbQ81W4I1ceJEbNy4EREREcjOztZo34EDBzBu3DhGnDp16oQlS5bAxsZG8/lzzz2HLVu2FNLWgQMHYv369To1WGnKIQiWTpUwegWxyRsdckGwTAd5oZ6F7pt2Injgr7Q91GwJ1pEjRxAcHMxO9akJVm5uLmrXro1t27Yxd96gQYPQt29fDB06VCvB2rNnDxYtWoRnnnkGH374oU7tVZpyCIKlUyWMXoHHImd0oS2kQ4G9aSdS4G/++CttDzVbgqVWNVtbWw3BOnHiBCZPnoxDhw6xj3ft2oUFCxYwwqUu2ixYzz77LDZv3gw7O7tSNVhpyiEIlmkXNIG/vPAXG7xp50Pgb/74K20PtSiCRS7DTZs2YfXq1UwTr127hsGDB+PcuXPMZUhuRSJdffr0YX9fu3YtsrKy4Ovri5kzZxbTXiJn9FKXyMhIrFu3zrRabuLeU1JS4OLiYmIplNu9wN90cy+wNx321LPA3/zxnzBhgqJSHVkUwdqwYQOzRGkjWDxUkzf7ToyJRmxYKGo0bsZDPKO0IX5FGgXmEjsR+JsOf4G96bCnngX+5o8/7z3UtIjo7t2iCJY2F+H8+fOxfft23UjoUYO3cmz+ZgbCr13B20t/h60O96Qe4hmliljkjAKzIFimhVlr70L3TTspAn/zx5/3HmpaRHT3blEEKycnB7Vq1cKOHTs0Qe69e/fGsGHDdCOhRw3eynH96EHs/GkO+n8wFbVatNZDAtNXEYucaedA4G86/AX2psNeWLBMiz0v/HnvoaZHpXQJzJZgjR49Gjt37kR4eDgCAgIwYMAAFi+1f/9+jB8/nsVcdezYEUuXLgUFwvMovJUjKz0di956HTWaNEe/96bwEFHyNsQmIznEpXYg8Dcd/gJ702HPa4M37QjMu3ce+s97D5U7omZLsEwBrBTK8de8ubh14hhzEzqYwSXKPL5kppg7S+lT4G+6mRTYmw57QbBMiz0v/KXYQ02PTMkSCIJlwOxIoRx3zp3C5q8+R6+x76FeR/lfoiw2GQMURoKqAn8JQNWzSYG9nkBJVE3gLxGwejbLA38p9lA9xTdJNUGwDIBdCuXIyc7G4reHoFJQMF78eIYB0pimKo8vmWkkt4xeBf6mm0eBvemw52VBMe0IzLt3HvovxR4qZ1QFwTJgdqRSjr3LF+Livn8wetFvcPH0MkAi41fl8SUzvtSW06PA33RzKbA3HfaCYJkWe174S7WHmh4d7RIIgmXAzEilHGHXr2DttI/QZdhoNOnVzwCJjF/VFJtMXl4ekJcHK2tr4w9YZj2aAn+ZQWAycQT2JoOedSzwN3/8pdpDTYtMyb0LgmXAzEilHHm5uVg2YQRcvX0weOZcAyQyflVTLHKntm/Cub+3Y8RPy2DD6USo8ZHj06Mp8Ocjufm3IrA37RwK/M0ff6n2UNMiIwgWF/ylVI5Da37Fqa0bMOKn5fD0q8RFXikaMcUit2H2p7h/8Rxe//IH+AUFSzEss2nTFPibDTgSCyqwlxhgHc0L/M0ffyn3UNOio713YcEyYFakVI7o+3ex8sMJaPfKELR6fpABUhm3qikWucWj30BKQjy6jhiLxj36GHfAMuvNFPjLDAKTiSOwNxn0rGOBv/njL+Uealp0BMEqN/7clePID0DERaDVGOQFNsdvH4xjMr46cy7iH4Yh7mEY4iMeIahpc/gHP1Vu+UtrgAgMFV1B9sZe5FIfJ7BkrFTqduiC3uPelxQHuTdubPzljocx5RPYGxPt4n0J/M0ff+57qGkh0dm7sGDphOhJBe7KsWca8N9CICcTCGiOE9ltceTA2WIS2To44KWpsxDw1NPFPqM8WvtWLGKWr6fbdTJgNE+qUhD5qg8nwMrGBm989WOpbRh7kbt/8Tw2zP6EBbh7VqqM4d8vLtMYLeUhY+NvKbjxGIfAngeKZW9D4F927Hg8yQN/7nsoj4FJ2IYgWAaAK4lyJEcBp38BTq9AakIcDsXXhXPttvBu2AXeAVVga2+PTV9NR3ZmBl6e/jUqVK2ukfjG8cOgTPC5OTmwtrHBc5M/ZdfuGFoi79zG7/97lz02/Mel8KpUucQmeHzJDJHv9I7NOLhqBWo2fwYhp//DuBV/wtHV1ZAmLKqusfG3KPDKORiBfTkBLOfjAv9yAljOx3ngL8keWs5xSfm4IFgGoCupcmRnAFc2Awe/AeJCgDrPAn3mAu7+iAm9h7XTp8DGzg6vzJjDguAv/bsbe5bMh0+VqugzfhK2ffsFkhPiMPCT2ahcu44BowIOrFyGMzu3smc6vDYMLfq/KBuC9c/C73HjvyPoNeZd7Pjha5aMtXqjpgaNz5Iq81jkLAkPY45FYG9MtIv3JfA3f/wl3UNNC4/W3gXBMmBSjKIcWWnAga+AY/MAe1eg52ygyet4eOsG1s+aymKk6rbvguMb1rC4rOf/Nx1Orm5IiIzAn59NBmWGf+Xzr+ETWFWvkZH1a8mYofAOCERidDRcvLxKTRXBe5Ej92RkyC341awFKyurYjKv/Ogd2Nra4dn3pmDZuGFoM+g1tH7xVb3GZomVeONviRhJNSaBvVTI6teuwF8/nKSqxQN/o+yhUgFQhnYFwTIANKMqx8NzwNbxQORlwM4ZcPLGvfSK2HzRBbl5QJU6T+O5KZ/D3slZMwI6iUiWLjsnJ7w64xu4+1bUObp7589g45fT0GP0O4gNC8WZnVswevFKuHp5a32Wx5esYMM3jh/Bjh++woDJnyK4eatCfRJZnDf0JdTt2BXdR41nRNCvRk08/9E0neOy1Aq88bdUnKQYl8BeClT1b1Pgrz9W5a6593OgchOgbn9NUzzwN+oeWm4Qyt+AIFgGYGh05cjOBE7/DEReAlLjgbQ43HmQiNCIVLSrmgjbXjOBxoOBApafsGuXsXH2Z3Dz9WUxW7pOBVIM180TRzFm6e+IJlfktI/QbeRYNOquPR0Cjy9ZQcjVOa4ade+NbiNVpyjVJebBfXayssvwt9Gk57PYOncWwq9fxZhlq7VauwyYSrOtyht/swXCBIIL7E0AeoEuBf5Gwj/8LLCsM9BsGNDvB0GwygG7IFgGgGd0glWSbKEngO0TgehrQPX2wLPfA3ZOQORVIOoK7pw/j61H41iw+qDPv4Gzu4fWljLT01gKhKAmLdDvvSnIzc3BkreHokK1Gnhp6kytz/Bc5BKjo1gGe7oGx9PPn2VqL1iuHTnAgvhfnv4VAp+ujxNb1uPIH7/JPhmrASplcFWe+BvcucIfENibVgEE/kbAn64l+6WPKn3QO+cA1ydeEB74y2YPNQKU1IUgWAYALSvlIOvW8XmqoPjs9MKjsHXCrThnbA9/Gr6+bhg060c4evkVG+nVQ/vx94Lv8NyHn6JmM5V7bvfSebhyYC/GLF1d7LReclws/jtzBt269zAAtZKrHlu/hsWS1WrZBrdOHsPIecvhUfFJFnt1dvtxP/8JRxdXhF6+iPUzP0afdybj6bYduchgbo3wWOTMbcxykVdgb9qZEPjrxp/CROjQUt93PoSzh6fuB4rWuLoNWPcG0PUzoP2kQp/ywF9We6jh6Bj8hCBYBkAmS+WIDQFOLgNcfICK9QC/uoBHVeDeIVxb/QX+umyHSi7peGnoc3BoOxqwtdeMmNxzkXdD8Pbi32Bja8f+fvfcaZYWovf4SajbvrOmLl1IvX7Gx6jYpCVemzzVANS0V6X7F5e/MxJObu7o/OZoFqDf/a3xaNi1l+YBig2LC3+AUfN/Zn/LTEvFvGEvo2mvfuj85lvllsEcG+CxyJnjuOUgs8DetLMg8NeN/9a5s3H71HF0GTYaTXr10/1AwRr0o31BSyA3Gxh/SuUVKVB44C/LPdQwlAyqLQiWAXCZnXLk5eHy2h+wa/M++DslotfTafAeMB14qg+SE+KxdMybaNSjN7oOH6NBITsrC4tGDUa1Bk3Qf9LH7O+U5X3VlIlIiY+Dg6c3xi9ZaQBq2quqE4jS9TcNu/bEghGvoHqjZsxVqS5L3h6CikHBeP7DzzR/o5gsO0dHDJ71bbllMMcGeCxy5jhuOcgssDftLAj8S8c//lE4fn7vbRZyUbVBYwz8ZJZhE3Z8AbDrY+CF5UDDgcWe5YG/2e2hhiFYrLYgWAYAaK7KcXHPX9j/y2Lk5eagsddDtG4agMsufXBw61949ZNpqFzVH8hMBVx8AWdv7PxpDm6f/g9jl61mli2ydFHwfFDTFgg5fQJvfrtQ7zQQJcHL+jh5HKOXrGTuvy1zZrIAduqTsranJj7GolGv4ZkXXkbbl9/QNLNr8U+4duRfjP9lHWztVFY3JRUei5yS8OI5VoE9TzQNb0vgXzpme5cvxIW9f6NqvYZsvabDQLS2EuEqeBBKayupccBPjQGfYGDEXsDaWhAsw1VUEKzyYGauBIvGnBDxCIdWLcOt0yfhaJMNW6sc2FrlYnjN0wW+e1ZA5ca4YdUYO/beRv/3piDibghOblmPjq8PR40mLfDrpDHlzkWVnpyMxW+/wWKv+r4zmU3JuX+2Y/8vS/D6lz/ALygYoZcvYP3MqXj23Sl4qnU7zbRd3PcP9iydj8Gzv5X8fsby6IpUz4pNRipkdbcrsNeNkZQ1BP4lo0s/SJeNG86SMDdoUA2bf/4TfVr74mmnO0DUdaD1OKBbKelt/v4IOLEYGL4LqPqM1o544G/Oe2hZdFtYsAxAzRKU48HVSzjwyyJEhYaiTdNKaN2yJmDvAtg7A7F3gJD9yIy8gYU3W8PTPgOxGU6o5W+Dfj3qwMq7Bhat+Bcunj4YMmehAcgVrnp+107s+3kRBn46G1XrN2IfxoY/wK/vj0H7wW+i5YCXWGZ5CtYc9v1ieFcO1DRAQZwrP5zA4raa9jYwxqDMEsvnQR6LnHxGY16SCOxNO18C/5LxP77xDxxbtxqvDGoNvwtz2Pod5J6AZ5s7AjlZqnyKI3YDVVoWbyTyCrCkA1CnLzCo5PAPHvhbwh5qyLdAECwD0LIU5aAA8/AbV+Ff6ylNcHshGB6HY/PXn+NOyEN4OgOv170Ph5QHAPJwNKoa/outiuFNI+FVsyEQ1BFoMLBYQGRpsFI8F1mxRv60jLkDqVBG96XjhsHbP4ARr38W/YAbxw5jwm/rYG1to2mOUknMf/NlBLd4Bn0mfGDA7FlGVR6LnGUgYfxRCOyNj3nBHgX+2vHPzsxka6enrw8Gu64HKjXAtshmuH8zBGOXr4ZNegKwsBXg7AOMPgzYOT5piFyDlPOK8iy+fQjwenLXbdHeeOBvKXuovt8EQbD0RQqAkpTj1qnj2LtsAcuHRXmxQHclxt/HsY0rcPzfK2hfG2jpdB7ITAKcfYFWo4EWI1kMV2kl6t4drProHbQZ+Bpav1T4yhsiVdePHgSlZfjzsw9hbW2N1774vlhz6z7/H5LiYjDix8J5swpWpCzw6clJOhOtGjD9sqjKY5GTxUDMUAiBvWknTfH4Z6YAF9cCNbsUIkLqsIl+LRxRO/Vf4O0juHLtIege1xenzkT1hk2ASxuAjSOAdu8B3aarJjI3B1j9EhDyL/DaeqBW91InmAf+StpDCUxBsAxYM5SmHGRVKno/4N69e3F/21qWI+u1WXOB6zuBYz8BYXSs11llzfIIBGwdAFsn1a8lrxostgsObtj382Kc370To+avKHaVjzqx6AtTpmPrt7NZmgi6wqdoUefHGrt8DUvzULAQ8bq4dxcu7d+F1McJ6DX2vULpJgyYbllW5bHIyXJgZiCUwN60k6RY/HNzgUvrgb3TgaSHgGsl4M0dgG8tkDfi10ljkZOWiOF+O2HdXkWgKCZr8VtvPDklToHuf74G3PwHGLkXCGgK7PkMOPoj0HUa0P59nZPLA3+l7aGSEaxjx47pnDB7e3s0b95cZz25VFCacmjDnb5kdhGhOLVtI0Yt+FlFkujLG/qfimjd+Ju5EosXK2R41cHSkxUQWM0fz0/7DnBwLVSN0kEsHv0GO6145+ypEuOsKCnptm+/QKWateDlHwBXH1+4enqBcnXdPvUfW3TI/ZmdkcGu/ylTThi5KF0ROXgscjIdmuzFEtibdooUif+Dk8A/U4DwM4B3TZWX4MCXgK0jI1khoY+x5ZsZ6FItBk0qpwBjT6jiaQF2L+3jqEi2TrMfykkRqjxX7oFAmwnAlreBus8BA3/VfcoQAA/8lbaHSkaw3Nzc0KJFCxZbU1K5e/cu7t27Z9pvrQG9K005SiJYdasFYs3USeg0ZBSa9R1QuFpWGqB+UYb5rFTVKZaHZ3Hm2HkcuGGDF6tcQnXvHKDhIKD5MBYzoC4rJ49npIjKoGlfokrdJ5+p61DC0X8W/gDK+0IWq4yUFPaRrb0Dnm7Xkd2jSCcRM1JTsOWbmezIMrkkn3nxFbO/w5DHImeAyouqBRAQ2JtWHRSH/+HvgH2fAw4eQKePgBajVImiw04Dq55HZKY7tj5qgqzUJLxV/RDsXl8L1H5yy8bpHZtxcNUKvP7Vj/CrUVM1eefXAFvy8x5SYuqRe1SHnPQoPPBX2h4qGcFq27Ytjh49Wuq06VNHj3k3WhWlKUdJBKtLly7sSLB7hQp45fNv9MKfgtN/fnc0bG3tMPSt/rA6+ytwazeQl6siWLSIZKfhwHUrnAlTZRAeN7w1HJ/qBAQ2V7kcSyhZ6elIiouFi6cnHJwLLxZZmRnY8cPXuHPmJJr27o/WLw2Gg4tLIaJFFq+k2BjEPQpn1rhqDZvIlojxWOT0mjBRqRgCAnvTKoWi8Fcn/azZFXgh/6aOAvBf3/Erdv2+DrbWuegXeB1Vm3codgKQUvOsmDiKxbrSD0xWmKtwMECWMXIVetfQe1J54K+0PVQygqX3rJlRRaUpR0kEq2vXrvj3t2U4+/c2vL14pV6B5LdPn8DWOTPRbeQ4NOreW9V0wgPg3CpVHBcVW0fcTXDCptOAm3023qp5XPV3GwfV8WI6sRjUGfBvDNjY6q05FPC+e/GPuHr4X/aMtY0tnD082F1dOVlZSIh8xN7VpWhyU/XfyRp75M+VoFQR9Tp2Q3CLVtpPYeotmeEVeSxyhvcqniAEBPam1QPF4H9qObBzElCjAzB4XaET2vRD9eifq3By6wb4+vthgNdBeNqlq662cfcvNkEUn2Vta4shX//05DMKbifvgp6WK/WDPPBX2h6qGIIVFRWFKVOm4NatWzh8+DBSU1MxduxYODs7o3bt2nj33Xd1rh5KU47SCBbFO62d9hHoqpvGPfroxI4uaY66ewdvLfoVdg4FjgkXeTIrIx0Lhr/CrEjPv/UmcP8ocO8ocPcQ8DhUVZusXdXaAB4BgKNH/ssT8A5SWbuK3KFFj5CV6vqxQ4h7GI60xASkJCSwIHhrWxt4VarMYrk8/Svj6sF9LI6Lrg9q3LOvRjp6nnJ3XdjzN2zs7Bghc3L3QL2OXdlVP/S8MQqPRc4YclpiHwJ7086qWeF/7wiQkQzUaG8YkTm3Gtg6FqjyDPDGpkLPxkc8xP6fF+PehbOo1aoNO8Bjnx6jCsmoUFvr5NAPwhOb17H7XN0rVCzXBPLAX2l7qFEI1oQJEzBv3rxyTW7RhydOnIiNGzciIiIC2dnZmo8PHDiAcePGISMjA506dcKSJUtgY/Mkj9Jzzz2HLVu24Pfff4eTkxNefPFFDBo0CKtXr4adjqtXlKYcpREsIhxLxgyFi5c3Bn4ym50qLKlQTBXFVrXo/yI6vDZMpx5QgLu7bwX4Vi2Qk4VM2/F3gTsHgDsHVUH1KdFAXk7h9qztgIBmQPW2QKWGqoB7SrRHL6pL1i9ySVLQp5ZCOWXoaiDKE9bv3Y9Q+5l2jJztWTYfl/bvRv3O3VnQPJGwS/t2gRK3UgmsWx8NuvRkC5+dvcqdSb82I27fxJ2zp9ml1Yzo5cckEkl7qk171GzWslCeL13g8FjkdPUhPteOgMDetJphFvgnRQJ/TwaublWBZWOv+jFYq4fq3ckLsHdVvSjsISUGePwAeByGtPvnkHV0Idyq1IXV0K2Ao+qENP0QpESiF/f+w/6/9YuvotULL+sVxvDo9g0WL9uwWy+WxJldnVPGwgN/pe2hkhCsjh07wsfHR7OhXLx4ESEhIWWcVu2PHTlyBMHBwQgMDNQQrNzcXGaN2rZtG8tZRcSpb9++GDp0qKYRNcH68ssv0a1bNxaIT4Tsk08+gb9/cRNrwd6VphzakC/4JTv793b8++sSuPlUQJ/xkxjJ0Fbo/sArB/di5LzlxVIzlEspiKxQbpj0x0BaPEAZicnidf8YEHur5KbpmHOtbkBwd6BKK8DVr9DdW+kpycw6R0H0L/zvc1w99C+Tv2HXXug2cqwmOSp1QBYxSglx9dB+thBSDFidth2QmZaGuxfOIj0pkcnh4ukFq3yibwUrZKQmszqelfzRrO/zqNexS6mWPfVgDFnkYh7cx/ldO1C3QxdUrv10uaAWDwsXoal1wBDdN7qstBadXQns+RTISAJajQGqtEDezT3IvrUf2YnRgBXgaJ1d6Gqy3Lw83E/xwqWESghJ8kYurOHs7g6/mrXZKencnFwWipGVnobarduj3cuvG2Qtpx+H9IORrh4jzwH9QKRYVFp3DC088FfaHioJwRoxYgRWrFihmb8xY8Zg0aJFhs6nXvVtbW01BOvEiROYPHkyDh06xJ7dtWsXFixYwAiXuhS0YJF78IUXXsDLL7/MLFrCgqUb8qJfsnsXz+GfBd8h9fFjtHp+IJ558VXY2D6Jj2J3ZI0dhqBmLdHvvSm6O+BVg35JxtwErG1VvyIpZosC6u8fVwXXExHLyVT1RlYvil+g48uUybh6WyR5NcIfc75jwe8UGNqoR190HTa6ELkqKGpOdhbunDnFyBYRK1s7e1St35ClnKjRpHkxYknB91cP7seZnVsYkXN0c8dTz7RDlXoNUaVeAzi7e2hFQp9FjmQ+tn41rhzYh7y8XHa6sv/7/2NyiFJ2BPTBvuytiyd1ISBX/NPDryJu3YeIvX8TsTZVEefWALExiUhNTABZxFlgeX6xt7eFp4cjPF3t4OwAhISlIik5g11c/1TzpvAMDGb3v0beuYXkuFj2FK0JHQa/iUrB2t2AunAjq/mDK5dwZudmlv6GGF7AU0/DxcuH5RGkl6uXF2q1alviukN98MBfECxds6XH59HR0ahQoYKmZmZmJijnlRSlIMEil+GmTZuYu4/KtWvXMHjwYJw7d465DMmtSKSrT58+mDNnDrNcUTqJmjVrss+KFiJn9FKXyMhIrFu3TophmE2bKSkpcHEpfFIvOy0VoQf3IDH0Dpx8K8KjWhAcvXzg6O2LhDs3EXH6OIL7D4JrJePEKekDpk1OGrwSLsM15T4cMmLgmBEDh4xYOKdHwCY3gzURZlUN2+9UQ6CfAxrXAOxy02GbnYJcazukOgUgxTkAqc6BSHEKQI6tKvcMlez0NFjb2rHgUl2FFr/E+3cQffkckh+FaRZjws/JpwJzKebl5CA3J5t8jrBycoZbRX84evvAydsX1nZ2yE5PR056Gus3Kew+a4ue8Sw2+14AACAASURBVK5dF9516iP0wG5kJiWiWuee8Aquo0sk8XkJCGjTfQGW8RAwFf4Ub5mVkoSslGRkpaYgOzWFfZ/S42ORFReBjIwnISqEhp2rOxy9vGHn7KJZB2g9oB87mYmPkcFeCew761TBDz516sOr5lOwyQ8tUCOalZrMvtu0FhRN+FxW1NMT4hGTv9bQekEvNQG0srGFz9P1UbFBM9gXSeBM/fHAn8KFrl69Wlbxze45SSxYahTOnDmDZs2aSQpKQYK1YcMGbN68WSvB4iGE0ti3NsxK+hVDRODC7r9wbMMapCU+LvQo5aSiK294LRI85rLENrIzgfDT+bFeB5D34DSskKOygjm4s2z0LLdXcmSBJqwAv/qqgNbq7fNjLTwNFpPye4Vfv4rQKxfZL06ybFGsFlnDbOxsYWVlzU48ktm/tEKWKoq3qJAfw0YJXDd+OY2dfuw67O1CwfsGC6ngB3j8glcwfOUeujHwp+9WRMgtPLp9E5Eh9LqBuEePiuVztLaxYfe0eudFwtvLBd4dh8Knbmt4BwTC3lGVZkZXIeuWrUSGB119qz+n8WakpSLm/j2c3rkZIadPgMZWp00HFjNbMA6WB/5K20MlJVj9+/cv5J7Td9INqafLRTh//nxs377dkCZLrKs05TCEYGm+sHl5LBaJ4n9iw0IZSXi6XSfzjQGiEzpW1sXzcFHcV8wtlRsy4jJw7zAQQQHv5A6wAtwDVG5HN3I9BqhOPNKVQZR3htyQBh6RVuO7d89uNK7zFGJC7yHmQSiyszKZWV9t6veo6Ke6O7JIKZh0tWbzVnB0cWMnKCllBRWKFUtLeoy0xESkJSex9uhkpJe/6oSlm48viy+zd3aGg5Mzs85RlmiaX3o9joxg/VKMR9FcZFy+fDJohMcGI4NhmK0I5cafAsr/+R/gXhloMQLwrKrBgnLpXdm3E2e3r0d8fDL7u61VDio6JsPPMRne9mlwcciFq3cFuFaqCufYC7BJDgdajwe6fFr4AmWzRRhs3aZbOuhO2KCmLTHgg6ma0ZQbf4Xd50vASUqw+vXrx43clKSzBQlWTk4OatWqhR07dmiC3Hv37o1hw3SfXNPnOyEIFh8/vD5Ym2UdCrSnAHtKKxF3R3VvWOIj1WnHotcHuVRQ3dVoba2KE6OXT7DqtBFdukqbgJZSnkWO4r52L/4JFDeXm53NXjnkegQ0BM3J3Z2dNKKYOiJOaflB+rrmQ526wt7JCQ269ECTXv1BZO9xVATuXzyP+xfPIfJeCPyDn2InLWs0agY7x5LTdejqzxSflwd7U8hraX0WxZ9IEVmArOg7VKTk5uQwskA/RMhSlBMfitxTvyI37TGsrXJhZ50HW//6sK3TDRFRKbh06CDSM3PhaZeGJgHpqBoUCG//yrD2qAy4VgQyEoHY20BsiOqdTgA++wNQs7OlwczGkxgdxdYGSmGjLjz0X2l7qKQES0oL1ujRo7Fz506Eh4cjICAAAwYMYPFS+/fvx/jx41nMFZ1mXLp0KYiE8ShKUw7eGzyPOTDLNihFRGI4EHdXRbwo3QQlWaW/51JsVbYq4P7RRSAj371KLkdKN0GpJchtSYkB83JxJ9UZQZ2HAIEtjPKrOT05GfER4Szglk49khszIzUVOVmZcK/op8khRklbQy9dYIG0d8+fYe5MN19ftlBTsXdyRsXqQcz9kp2ZwQLvqzdqyk5KkcXLwdUVjs4ucHR1Y/nF6CSVnaMTcyvTZpkUG42EyAhG2KitgDp14ebta1R14LHBGFVgC+ts186dqFnRh6VGoRe5vOlmCK/KAfCuHAjvgCosVvHhzessPQrl1NO3VHVOQNOG/gjqOxpWwV0KnSrWtw1Lr8dD/5W2h0pKsIxhwTKmUitNOQTBMqZ2ASBrUthJ4NYe1Sv6miqLPd0/Rpe70ilIdewX/Z1Ilm+w6jP1iy56dfQEnL1VOXfoRackWd4vK9U7Wc/yc+xIMcLYsAc4+9dWJEQ+RODTDVCtYWNUqlmbxXbQpnfv/FnQhd0hZ04ywlZSodgzIl7kctYWd+ZewY8RrYrVaoCy9VPbmRS4m5EBsqQ5uXsy9yll7XdwcoGNvR3LvE/WNvrc1cDgYR4bjBR4m7JNmj9Ka+Lk6g5bB4dCcZZ0sjY5Li7/vtBkZGVksLkhSyqR9YyUZHaPKD1PLmyyNKmtqvRO7m/6m/oZzW0LVlaMrNPckxUrLjyM5Zmjdqh4+FVC5eDaqFzFH37pl2F3cSWsvWvA5rkf2TuRMGo3KykW2Vf/gbN1Krw7jVC57kUpEQEe+q+0PVRSgnX58mXUr689N5I56jFv5Ug+fATpV6/Cd/RbZgMHjy+Z2QxWhoIe2fkn2gVCFfNF2aLJBZmjOvWod7GyUVnHgjqpXkTUiMQZuZBlilyQbINNSWGbLMWCpVIcWNJjRqzoM2cPL3hW9GMbp0fFSixOLPzGFYRfv4KHt26wDbhgIWJGm7OuQpawCtWqw7dqDVSoWo1ZzEgm2oAp/xARNhablpyE9KQkPAoPg5+/PwtipmeJpJHljuLT6OXq7QtysbJCR/PpPzo5lp7O8hgxC2B6GktjQjFulJqDrHbaXFyJMVHswAO9Ht64iuysLHjS+P384ennz9yv1Lfq5cFyHKkPkVCC29zsHBVBIVJDJCUz/53+lpXFbiIgAkRJcclq6Ojmxt6tra1BqVXooArNTVpSksrFll+f2kmKjWXu44SIh6ADFOpCuJP10cHZmbVB86erENkllzRZMcmqSXGBhA/FBtJndg4O7O8kZ0RMDNr07I2AOvWeJMzMzgAeXUBe6Amk3v4PVnF34Jz5SJUXT12e6gO8sFR1QEWUMiPAY+3nvYeWeTBGelBSgkVjiImJwZ49e+Dh4YGGDRuyxKDmWngrx8OPpuDx9u0I2rYVDsHBZgELjy+ZWQxUpkJqxZ9OFZKLkdyIlHiVNpe0eOSlxiJ+2364NQ+CnUd+ag3a+CkwnzLiq5OxUvwXXTlEGxB7uasC8+nqIZ+aqnd6kVVMZoUsV8lxMapN2NGRbcREWIg8EBFjG33iY2YpI5JApCMnKxvpyUnsEAa5meIehpV6MpM2eidXN2TlAQ52thpXKZGx8hZypRJRoyS0RJCI4KiJJ7VNVr+KNWoyUkcu0qSYaEbaihYiN2SdpHHrOmVaXpkJD4rN8aQrpioHMLKoOiShehFZJqLl5uPDSKcrpRRxc39ClhwcGCEk66T61gN9ZGK637kz8Og8cHsfELIPCD/zJJ8dWWvJte5WSfWihMJ0qKR2b+Hy0wdgHXV4rP2891AOw5K0CckJVoMGDdC0aVM2iAsXLoBySRHINFnmVngrR1Z4OEJ69YZLxw6oMn++WcDB40tmFgOVqZCG4J924QLuvfwKfEaNRMVJk4qPiOLA7h5UbVLpiaoM1PSiE5J0fQcF9hYszj6ATy2VW5JORBIxU5lpVLUoGJgC9b1rAi6+JV5HJDdoyaJDFhkiYERoiOTQKUkKoC7o+iqIPaUlIbKWmhCPpJgY5gajBK9E3IjosIuY6N3KmhELIlFk9SISSKRQRUiSGCHJTE1haQDoJgo1OfKtWg0BT9WDf3DtQocBiEBRXFtidDRLZEmHEZi1Lz81Cll/mAWIXKG2aguQPRsLkVBKaGljZ69K/WFry9x1KitdMpOdyB3FvxFBYi9XN9VzBdyrZHHSZnWTZF4zU1U3NERcwKNT2+CfcjX/0AjykwK3V93GUPUZle6VcAWWJLIprFFD1p6SoOG9h8p9CiQnWM2bN8fp06c1OGRlZbFEY40aNZI7NsXkk0I5Ir/8EnG/rUS1P9bAuUkT2WPC40sm+0HKWEBD8I9ZshTR338Pp6ZNUX2NKvmu3oVIU2qsKiifTk7FheSnpbil+jdZy0ordCE3HYN38nxyGTdZydj/e6reyeJAdYiQ5aeL0Fs+E1Q0BHsTiGfeXZK+JT1SkanIy/mk6pLK2ppvscuxtodNUEfVKdvgbirrqihGQ4CH/kuxhxoNgDJ0JDnB+uyzz0CpElq3bl0G8eT1iBTKkR0fj5Bu3eHwdB1UW7VK9sk4eXzJ5DWr5iWNIfiHDh+OlGPHYWVnh9qnT8HaQXUJdbkLuSRTovI3vvzAefUGqSZjdJT9cZjKMpaeoLKKZaqCkIsVCtiv8BTgV09lhSBXpJqEESmjdBbsuiM71Tt9TsfkjVwMwd7Ioplfd3SgI+KiKq0JvR78pyL06kJuatIHurDdvxHg3xD7L4WjS/de5jdWC5GYh/5LsYfKGV7JCRZdXzNy5Ej06NEDbdq0QZMmTdC4cWO4q4NB5YxOEdmkUo7ohQsR89M8BC5eBLdOnWSNCI8vmawHKHPh9MU/NzMTN1u0hJW9PXKTklBtzWo457vqTTZE2lTVF3MT6aJYMbKQMYvFVSDqqipLvq5CiV89qqjImG8twLMa4OAK2DmrXnSSkmLIyDrGkYjpi70u8RX1eW4OkBqnsnqSdYrmmOaakvJmJqmgcPJW3X7g31hFquhFc1fE3SfwN63m8MBfqj3UtMiU3LvkBKtKlSpYuHAhk+D8+fPsXkCKxQoJCZErJiXKJZVy5Kak4HbPXrD19kaNzZtYwKtcC48vmaFji/9zLRLWr0f1P/9g1hglF33xTzl5EqFDhsJ37BjELFyECpPeh++oUfKGTm0ZSyOLFxGwfMsXnZKk02KUN4z+TRd5U4A+ZdJPCC2exFUzSsqoX1kVq0MWMToIwF5Zqhr0GW3kXtXy3ZneqiB/e9cnhK3AJq8v9vIGmaN0zI0cBzwOzXcjq/O83VNZOMkiRXNYMMkuS6hbC6jUQBU3Va0t4FtbryB0gT/HuStDUzzwl2oPLcNwjPKI5ASrc+fO+Pfff40yGKk7kVI54tasQeSMmaj89VfwGDBA6qGUuX0eXzJDO7/70kCkX76MKsuWwrV9e0Mft6j6+uIf/dM8xCxciOB/9+PuwEFwql8fVRYvsigs2GCy0lVJXOlKI/ZKVbkiH4cD8ffyX3dVwfvMzZjvaiRyQIH8RORKKmQpI7KVT7geZ+TBI+ApFTFjrwAVIaM2yVJG70QgClpeqA2y0NABAI7WNMkmkqyMaXGqQHL2ilERJSJS9Hf6NxFcwjzxYfEUIXYuqpN7NF46FKF+EZElyxSRqTLioK/uS4aNwhvmgb+Ue6gcp0dygjVmzBh4eXlh+vTpsDfxxZblnQAplSMvKwshfZ8FsrMRuGghS9sgR0sWjy+ZIfOQHRODW+1UpMrjhRdQ+YvZhjxucXX1xf/ea68jJyYGNXf9g7B3JiLlxAnUPn7MeKe/zAV5clnSaUqyhBHZykhWua7Ye3Kh/38c9QAeVnTRd4Qm8NqgYVLgvyslefVUWcgYcXNX3UtJbk0iJ+zdCaBcZVTUZI2SxdpRQlmn/HdHVR1rG9VdmfQiefNTdLB3GgMRTjX5JOsdtc1Io4vq31SPYuXUL5bINv9UaNHBMbLopUp/oCGZlQGPwPxUHjVVxEqik3z66r5BcyIq640AD/yl3EP1HogRK0pOsOgeQHIJ3r9/n6VnUMdgDR8+3IjD5NOV1MqRuGs3widOZMJau7jAqVFDODVuDJfWrdlJMDkQLh5fMkNmI2HLFjya8j/YVqiA3IwM1D5ymMUVKbXogz+5nG+0egaeL74I/8+nI+633xD55VcI2rHdbPKtyXF+NdiTlYdcYGTBIcuY2vVIbky69qhgof8nqw9Zg5LJIhSlcptpyBuROIpFKoHU8ACCkTM6KGD3xMpXsF3K7E8kiV5udPdeBVW2f3o5+6pSbhCxImKo5d4/HiLq04Y+uq9PO6JO2RDggb/Ue2jZRibdU5ITLLXo2dnZuHbtGiNb9JozZ450o5KoZWMoR/qNG0g9eQpp584h7fx5ZD18yEZj4+0N1y6d4d69O5xbt4a1hCSDcvJkXLuGjJAQOLdqBbuKFTWI8viSGTI94e+/j+QDB+E39WM8mvoJqixZDNeOHQ1pwqLq6oN/8uHDeDDqLQR8/x3ce/dG2qXLuDdwICp9/jm8Xh5kUXgYczD6YF8mechdSWkvyNJEiWLpnaUmyCdd9Hlulsodmk1uUHqnuylzAIpbo3eqT5Ypdj1SfgoMcl9S0D8Rq0KkLyfflZqiSqFB5MsMimT4m8HY5SAiD/yNsYfKASu1DJITrJSUFLi45GeRltPIyyCLKZQjKzISyf8eQNLevczNg6wsWDk7w6VlS7i0bwfXdu1gX61aGUZT+JG87Gyknj6DpH37kLRvL7IfPlJVsLKCU5MmcOvRnZG7Q1euoDMRnOxs5OXkwNrZGVacLtMuOgiS6WbbdnBu0RyVv/oKt9q0hXufPqj81ZflHi/PBggHY1kX9VnkIufMQdyKn1Hr6BHY+viAcLzRshXcu3dD5a+/5jl0RbWlD/aKAsTIgxX4GxnwIt3xwN8Ue6gpUZOcYFWtWhVOTk4ssSilZ6C7CX/99Vds2rTJlOMuU9+mVo6cpCRmzUk+eBApR44gJ0EVoGtXtSq8X38Nni+/rDXXEW2wucnJsPH01Dpuslg9GDESKceOqQhV06Zw69oVDrVrI+XwYSTu2f2EcBVpwaHu06ixfr0kBCP17FncH/yaxvLyYNx4pJ48yYiDlBY8Q5Tj8c6diJgxkwWQGyNRrD6L3N0XXwLF9NEVTOpy/81hyAoLQ/DePTqHR7nZbFxcFO2K1QaSPtjrBFdUKDMCAv8yQ8flQR74m3oP5QKEAY1ITrBIFrqPkFI0nDp1CitWrGBX56xbt84AMeVRVU7KQVYTuiiaiFbi3/8g4+ZN2Pr5wXfM2/B84QXAzo59nrhtGx7v2Inc1FTU2LQRDjVqFAOTrFZh48bD6/XX2fNk9ShYiIClX76C5AMHcO/6NVQLCgJsbJAVFo7EHTsQ8N23zLLEu0R9/wNilyxhJ+Hs/P3ZvY0PJ38om3xhZF2882w/lmfKsV49VF+/TmsQOc1Vblo6bFzLb8nVtcjlPH6Mm8+0htcbr6PSxx9rpkRzqvDgAdj5+ZU4VSzxbddusHZ3h8+IEfAc+BKsHR11Tm30/AUsXtC1XVuddc21gi7szXVc5iK3wN+0M8UDfzntocZA0ygEq+BAoqOjQQHu27dvN8b4uPYhV+Wg+8uSdu9B9Px5yLwdAruAAFg5ObJ/k0XKuUULFs/l3LwZqqxYUShbPFm37gx4jlm46MSZrs204JeMklmG9OgJa1cXBG3bxv2E2h0iitk5GktMTnKyyk3YuzdLZ6GtkOUmKyKCWWvohJVLq5ZcdUDdGLP6jR7NMqV7Pv88y9Pl/8UX8Hzh+cLkNCcHD94ew2LqmJWrefNyyaNrkSNXctj4CQhcuABuXbpo+ko+epRZKdVxWSUJEb9uHSI+mwbbyv7Mamnj4wOfYW/C85VXSySI6hgvaw8P1NyxnR1IsMSiC3tLHLOcxiTwN+1s8MBfrnuoVMhKTrCOHz/O3IPOzs6aMdD/U6C7uRW5KwdZShL/+guxS5dS8BTc+/WDR79nmfUnesECxMybX2yDTdiwAY8++RT+s2bC86WXdE5J0S9Z/B9/IOLzGTo3bp0NF6mQFRmF2x07wmfkCFT84APNpw/Gj0fqfydQ69hRjZswNz0dkbO/QPLRI8iOiFQF/uaXKkuXwLVDB0O711lfjZvvuHHwfXs07jz3PHISH6Pm3/8UIiLR8+YjZsECWDk5MbkCf/qxzEH65CI+cPIkunbtWqJ8EbNmI37NGtQ+8R9s3Nw09XKSU3CzZUt4vfYaKk19Ytkq2tD9YcOQcfMWah34F8mHDiFm0WKWg8yhVi1VElwt8XYPp07F4y1b2aXPrp07I3D+PFlf+UQHRxI2bYbP8GEshlDfwmOD0bcvUa84AgJ/02oFD/zlvofyRlhygtWvXz9GpohgUQxWeno6HBwcWHZ3nyKuKN6D492eOSsHpTi4068/8tLTEfTXX4wE5KalIaRXb1i7uiJo6xa9gtWLfsmksmIlbNzITg1WXfkbC+hXF3J3PvzgAwQuXAi3Lp1BLq2wseOYhcilTRvYBwXBLjAAdpUrI/Krr4CcXJaeoCDZ0FcvyEqVtGs37KoEwqlePc1jWeHhuNN/AIt9q7FuLcsurz655/PWW6j4/nusbvLhI3jw1luMUPl9MhWhI0YgK/yhKpls3776iqFqiyxQo9/G4+eewzOzZpb47J1+/WDl5MzkKlruvvAi+xO5irWV7NhY3GrfAV6vvIxKn33GqhAGcb/+hqivv0blb76GR//+hR4ll+StDh0ZsbKvUgWxy5ah8ty58Hi29PERWYyYNo25Fb2HDDEIi/JUpvHQHY2px/8rRt51tctjg9HVh/i8ZAQE/qbVDh74m/MeWhb0JSdYaqHINUjX5BR8ZWRk4N69e2WR2yTPmLtyqEmA95tvwm/KR4hZugzR332HwAXzWVC7PkXbl0ydhV6X+0mf9tV1wia+i5SjR1XJMQtcj0OWmFtt28KtZw9UGDcOoW+9hawHYYwQEDEoWNRuMY+XXkTlWbMM6Z7VjVm0CNE//sT+TScpvQYPZv2Sa5BOXNbYsAGOT9XWtEuykHUt6K+dLOj/7vMvsHxmNTZuYAcMKGlq6MhRyLhxA5WmTSsmb0kCEhEmQpf14AFy7e1Re9c/zCpZtKiTsvqMGoWKk94v9nnE7C8Qv3o1ap88qdXdp7ZGVlu1krmV1YUlwe3ZC1aOjgjavq3QgYbYX39F1Fdfo+pvv8GpcSPcffFF5ETHIGjnDtj6+modEhG50FGjkHH1GpvboL//hn1ggMHzU5YHEv/+G+HvvQ8bDw/kpKQwsulY+8kcltYmjw2mLDKLZ1QICPxNqwk88Df3PdTQGZCMYCUmJuq80DksLAyBgYGGymyy+pagHJTVm4Laq/78M8LGj2eJJ+kiYCs9sy9r+5IxK1b3HrBxd0ONrVsLxWLlZWYiJzGRBdmrXmmw86+klSAU3NBvtm7DLFLkUitawia8w8iXlYMDSz4a+P13JbrdHn36GYuPqrJsGVzbt9Nbd+j+w4jp0+HSsQOc6tUHxSZRZnSy9lG8WoV332WuwYIl484dRoTIYkV16ZBBtTVr4NSgvqYaYUGWKLK4kQu34uQPCuUZ0yZg1LffInbZcvhOGI/oBQvh3rULAufNK1aV3F6PPv4YVVYsh2vb4sHmanJR0uf3hwxF5t27CD7wb7FTofF//omI6Z8XcgVT7F9I794qkrR9O9OhtIsXce+VV+HWtQsCfvqpmF6R9S90+AhkhoejwrixoOB49759EPDNN3rPTVkrEjm/06cPI4qUT40seo716qLaqlV66b+hGwx9L1KOHIVL2zZaT/eWdRxKfc5Q/JWKk1Tj5oG/JeyhhuArGcGik4Jnz54tVRZ96hgyGKnrWoJyZD16pLqSJyuLHeUncuXctKne0JX0JdNYsX74Hm49eyL94kXEr1+PxL/+Rl5qaqH2iRhRELY2EkAVU0+dwv03hpQYF0ZxZuHvT2LB1IGLFxVy3xUdCAXGk2uU4oPI+qKPqzDxn10If+895r6q+vMKWDs5gYhi4u49LL6JrFJVFi3U6lKN+OILxK9cxcSoNH26VisVEU3KVZXw51oWA+Q7fjxLs6HtImtKPEtEwLVTJxbbdHrCO3Ddu1fjIlWPl4hN6LDh7PRfzb//0npYgU493u7YCb5jx6LCOxMKQZUVRTFvndhJUm0xWk9ItDtqkDvZ2hrJR47iwciR8Pv0E3i/9pqmPTUh9J89G+69e7H4MyJfGbdvI3TESJZeJODHH+DWqRMefTYNCevWqSxJdevqrYdlqajOD6aOy4tZtgzR334H/y+/hOfzz+ls0pANJu3KFXYDQcatW3Bp0xqBCxYwPRKl7AgYgn/ZexFPloQAD/wtYQ81REMkI1gUZ1WtlASY7Oh/ejoePHhgiLwmrWspyhG7YgWi5syFa9euqLJgvkGYlvQlU2/AFARNBITSRsDWFm6dO8GxfgNGJFhSUnt7RP/4I7Kjo9mmo+1Yv3qDDj54EHZ+T7LIqwUlYkgWJrKSUKyVrsJioUaNYikH/GeWHL9E7aT89x/Lgm5fvRqq/f47cyUZUigmiVyDZLWoNGNGqZYR2oQjZ85iJzwdagWj4kdT2HNqayIdWrj36mBk3r7NXG7kFtz/11+oMncurGDFYssIUyJhZH0i7Mka4xBUPBWHegy3u3WHjZcXqq/9s5ClMe731YicNatUwh236ndEzp6NgHk/saSzlJcs5fhx1Dp0EDaurhqYyKpIpDAzJIT9jYijtacHclNSWZ8FT1MSsSP3I+UQIzJbsNCPAUovYeVgD/vq1VlCXXpHTg4y791Dxt27yLx7j6XJcGrWFC6t28Chdi2tmBO5o4MIrp06osp8lc4TaaaTqjmxcYyUFswTR+sT9VMwqF+fDYZ0M2bJUsQsXswIlVv37ni8aRO7EYFIuSFB9Wos6EcCHVrRJ80HkVeyUCfu3g1rRydUmPgOHCitigUUffC3gGHKdgg88LeUPVTfSZKMYNHdg7qKjY2NcBHqAkmCzxlB+eNPuPXqqdM9VbT70r5karcaBX/TiUSyCmg7sk+nuO4PfRPZkZEqkpXvuiOXEyVSjZgxg5GAoM38ktE+/OQTPN6wEQ516rCNk/qibPSUz4s2QkprYe3kjLSzZ2Ht4Y7qf/xRar6o0qaFUl/om92e5KATeFFz5yInLg5OzZqhwjvvsPQSatLjN3UqvN94nXVJ+Le0smKB/T6jRsLj+edx//U32JiqrlxZKCZMm4xqqw1ZzSqMH6epQpdDk/sueP++EtNt0GlNImi2FSugyrx5uN29BzwHDYT/9OnFuqJUGYk7/2LWKiKd9MrLyWZxc45PP12ofvRPPyFm4SJUWb5cQ7iJND54azQoXotdHpyVpRVysoZSahFqn4qNry9cWrVi7mUiq3aVKrFA/dA3hyHt/nNskwAAIABJREFUwgUE7dhRKN5LbS31HDQIlT6fzq6IIgspWV6J4JEeUiwZ6XF0TjaqtW0Lh5rBcAiuydKhkGWU9Jh0mtyeZL0k17BLu3bMAkv9x61chcgvvoATpUlZvERDlOhHSep//7EfI+R6tnZzg427B6wdHZB+6xbSL15iLtfMO3cYBuTOd6T7SRs2ZKc68zIyVW73lBTkxMezU5/0A4H0msgifUb6RdZF33FjYePursGQDocQHkQuKcaPtZOWCisbW9hXCYRdlarsnfAsKXyAniH5yO1NmBv6Y8TQpY3HBm9on6L+EwR44C8IltCoEhFQmnJoA6K0LxltZGRZIEsDWSpKK7R5MZIVEYHKc+awTSru99+RFRrK3Fy0Obn36MFNG1Wn1qYjKyqSbSLsaht6sSSgaSDyQK5M2uQqf/NNqVYgbkIVaIisFPGrViH2l1+Rm5jILB7ply7BPjgY1f9Yo4mJUuP/YOw4tqHaenmxzbHqr78WivUqSUbacImc0W0A7F7HDh2gdh2qDz+UNr7Yn39B1DffMPcpWd7IXej41FPlgoRio0J69IBtxYrMVUjZ+imXF80PWVipL0Zg7t1jL8pvZl+jOkuaa1upEiMflFoi5fgxZlFLPXVa45amU6VETJJ270aFdyfC9+23i8n6cMr/8HjLFqa3mfk/DJ0aNYJj/frIiY9DdnQMs7imP3wI68xMzfNkjSUrI+mQupCFquKUj+A5cGAhYqI+QEBjoVQZyf/uR/LBQ4wclVQoVowS2BKhQm4O0s5fYOSNfiBpK0QGyWLm3qsnnFu2ZPngor6Zw8ZOn1Hy2exHj5B65qyKtOlRyL1LBxDsAquw07RkMVa3kX7t2pOx29jAuVkzdpqUWaWtrZHzOJGlLiF9ph8cdJ8qycFerq7IyyUroerKLSKq9HlpsaA8Nng9hmzxVVJOnGQHbbyHvGHQWHngr7Q9VDILlkEzZyaVlaYchhIsQ6eRNgBybRGpokKbIX3pKRVAWVwphvYvx/pkDaC0CHG//cYC+GtsWA9HsrrlF/UiR9amkGf7sb9WXb6MbW76FubGfGkgszzQCcfkffsQ+eVXzG1IxKK0QmTudtduzGJC1rbqq3/Xt9tS66lj+Nz792M3E9hVqIAqy5bCoWZNg9sn11/q+fOMbNH1T+mXLjPXYo0tm7VesZQdFwe6XogsPO59+8K9T2/Yazl8s2/vXnSoV4/FkmXcDkHmnRBY2dnDLqAys2YR+bCvUaPEOD+WxHXadEYm6D5R1/bt4datG5ybNmEEnx0GoVdKCmuHiGHRuDyyemVcv86IIBEwutKIXPL0ojFqs5ym/HeCWdDIUkbtEXF0btaUnYwlmZkFN9+Fn5eRwZL0ZoY+QFbYg/z3MGSGhbEfQyQ7s6Y99RSL3STXLPVNhJ3uTGV1ylhs/f2Z1ZFiM11at9ZY4eh0LBHcs4cPo8kzrWHtogo3IKsfkXJ9D+iUUSyLe4x0Pf3KFVRfv16vH2VF157yAKK0PVQQLAO0RWnKITXBovbJekIxYa7tO6jij3RYvgyYLrOuSq412viLxs8U/BVJ7hkrB0edbkFtQJD1gU772dcMgpWVNXPl1dy7R6/NSp3eQ598V/pOAlll6NohIg50v2WVxYsNdl+X1BcRF7J66RPDVJq8PH7BE+kj4kwEwtrBQV94yl2P3NZ0ypWsdGXtl8hd9sOHKktUAXejWjiyYJOLldyuZN0jS7SNhydsPNyRl5WtsgbGxSEnLp6dxIWtTb412Zp9nnruLNJOn1FZ6KysGPEjQl9aofGQm9xjQH/NyWSyBift2cuu8SI993j+OfiMHMmsvUovmQ8esBPfVOjgDMVD6lt46L/S9lBBsPTVLgBKUw5jECwD4BdVOecCSti8BY/+9z+Ga9GM+aWBTRsg5RijdBQ8rQfkciTrle+ECeUmQ1IoC48NRgq5LKlNIlSpp0+zNCzkYqTYN9sKqhi4iyEhaPT008zCR/UoPo8SAbMDNVZWKtLq5sbuTCVLHLkiySqeduYMs7J5DxsG7zeHFjqQYUnY6TOW2OXLETX3W7i0bcswrr5hA5zqP0miLPUPDKXtoYJg6aOV+XWUphyCYBmgHEaqynuTfzRtOhLWrmXX4BQNPjfSkMymG97Ym83AZSKoNvzVVjP6sZC4fTvIykZJk+mKMCJc5BJNPXsW0T/8yGL7KPifHRCgNDWZmSprmZ0t7PwoN18l2NJ7QABcO3Yo0dVLBwRYrGlg6YcAZAJbITFYaEBSIqr//js7sEKHQeh0qz6Fh/4rbQ9VLME6evQoVq1S5SvatWsX7t69q1PHlKYcgmDpVAmjV+CxyBUUmgKMabMoS6yT0Qdv4g55Y2/i4Zhd97rwJzco3fdJ7smihYhY6vHjoFO0OfEJjHixFx1USE9nh1+yI6M0QfsU30aXytMpWTqYQCcz6SaMx5s3I+nAQc2pVooFs6tWDQ41qsO9f3/uVl2ek5QZFo6Qbt2gvukh8ssvEffbSr2tWLrw10dWpe2hRiVYlJYhp8CJG30mRN86EydOxMaNGxEREYFs+qLllwMHDmDcuHGga3k6deqEJUuWgORQlyNHjmDPnj34/PPPdXalNOUQBEunShi9Ao9FzuhCW0iHAnvTTqTU+NOPjeyYWGTcvIGEjZtYPjFKD2Jfs6Yq3UhsLAuud+vdi10lRSdbs+6HsrhBSihLrkuyjpG73Z1uDChwxVdpyJEVLfGff1g6D1hbwXfUKJajUB/3O6UzoXxzdOrYVsfdvrErfkbUnDmovnEDS87MctB178HchVUWLtA5uTzwV9oeyp1g0d2CRFqaNWuGp4vku7G2tkYu5R+SoFCfwcHBLK+WmmBRX7Vr18a2bdtY/NSgQYPQt29fDB06VCPBkCFD8MUXX+iVj0tpyiEIlgSKWs4meSxy5RRBsY8L7E079cbGn2K8KH3H423bmWuRguUpwS7FcxUtFBOWsGED6G7O7IePQCciKQUKXR9m7eYOGzdXFvRv6+MLW18f1T2dtnZ4vHEDYn/7TfUM5WzLzmbXbFG+PspdRu7Okg7+UH+PPp+hsabR4RDXdu3h1qWzyupWpNwd9DI7/Vtz9y4NeVPfPKEmXaXNMA/8lbaHcidY/fv3x4gRI3DmzBn4+PiALEvqUtCC1bZtW2zfvh3e3t6gpKSlZX035Gtta2urIVgnTpzA5MmTcejQIdYEuQIXLFjACBcVuoB6/PjxWLt2rV5dKE05BMHSSy2MWonHImdUgfXojGVNl2EpakGwROxlCHuJIpkD/swa9fffLJ8dWbVYMmMdpaDViwgWXR0Vs3w5uzSd0mH4DB/G3JVq1yfVifz6G5Y3z7FhQ5bbjR0MOHxY1ScA/y++gOcLz2t6prQulF6FkhNXnDTpyd/VVqx27XTe6sEDf6XtodwJ1rvvvosffviBTSCRmzlz5mglWKNHj0ZSUhIWLlyI7777DjNmzNClh3p9XpBgkctw06ZNWL16NXv22rVrGDx4MM6dO8f+/+uvv0ajRo3Qq1cvrW0TGaOXukRGRmLdunV6yWGplVJSUuCi5RecpY5XbuOyNPwdHR3hlH9XoZywJtKXlpbGrvNSF0vDXk546yOL2eFP+c6ysmCVlgZreqWkwDopGdaJibBJSoRVSioy6tVFBt3BSbcVFCyZmXChk7p798GG3JMe7kjp2BFpTZvC48+1cLx+HaktWiBh8KtAgZgz6/h4eC9ZAtuISMRM/gDZdNsAAJe9++CxeTOiP/oQWVWrFurKff0GuB44gPghbyCtVasSp4IH/hMmTMDVq1f1mW6LqMOdYP3++++guKeGDRvixo0bhQhKQQvWp59+ymKjJk2ahAoVKmhIWXlRLUiwNmzYgM2bN5dIsAztS2nsWxs+PH7FGIq7qP8EAUvCn0jM9evXmWufvrdyKhRmcPv2bdSpU0fjTrEk7OWEtb6yKBF/ZhHbtRtxv/6K9MuXVVBZWaHipPfhPWKE1jitzNBQdhcopbagZKKU/+3ey6+AErZqy3VHrlC6KJ7SXVCi30qffaY1lQUP/JW2h3InWDT/MTExjGT9999/ePjwIdasWcP0oiDBor9XrlyZXfbcs2dPbqxWl4tw/vz5zDVZlqI05RAEqyxaIu0zPBY5aSXUv3U1wSpIYsgtR2EGW7du1TRE8ZyxsbGg+E5DSsG1wJDnqK422SwJe0PxkEN9JePPLKpnz7Lge/eePdhpxdIKXfYd/s5EFmxfcfIHuN25C7xHDIff5MlaH6ObBKLmzEX86tWwq1IFAd/OVV3RVKDwwF9peyhXgvW///0PrVu3RqtWreDn51dsItUES1e98nyZCy6qdGKxVq1a2LFjhybIvXfv3hg2bFiZulCacgiCVSY1kfQhHoucpAIa0Lg2EkPfX7J+0zi9vLyYhevVV19FfHy8IFgGYGuJVS1J940xP3T9FV25Rddf0cXe1devg1ODBqV2nbT/Xzz6+GNQNvyK770HnxHDNfV54K+0PZQrwQoJCcFHH33EUiI8fvwY/v7+hQLI1QRLV72yKB/FdO3cuRPh4eEICAjAgAEDmHty//79LJCdZOrYsSOWLl1aZneE0pRDEKyyaKK0z/BY5KSVUP/WSyJYFI9JYQOjRo0ChRK4u7uz77LagrVo0SL2/2TtotQr33//PftOnz9/nv14oh9Wzz//PGbPnq058LJ+/XrMnTsXmZmZCAoKws8//wwPDw989tlnLL0LrU30o5BStggLlv5zaMyalqT7xsCNEqnef2MII1d052TNfXv1Sv2QFRmFh1M+gnPz5qgwbpwgWOWYLK4Ei+T45JNPMGvWLGRlZWHq1Kn45ptvNOIVdBGWVq8c45H0UUGwwCwLXbt2lRRn0XjJCFgS/iURrFu3brGTyPTjiA6hEDnq0aMHI1hEol566SWcOnWKEaQXXniBhRiMGTOG1aX1hv7/xx9/ZPGdFEtFsaAUXEuhAQ4ODuzgDYUx0I/Bdu3a4fLly6AUMmQlI6uZIFjy/AZaku4bC2HK1XX35Zfh9fIrqDD+CVnS1X8epVOiIP0COSN54K+0PZQ7waK0DLQA1q9fH++8844mWzpNaEGCVVo9XZNvqs+VphzCgmUqTVM2wSJS1L59e7Z+bNmyhZ32JSJEBIuIU1hYmOZ0Mn1OMZ7Lli1j4QBRUVEMPLKgU5oYaoviLsmapQ5boB9/DRo0YIdfnnnmGZavj0hZv379mLVMECz56T1JxGODl+fIpJWK0jpYcThEwgN/pe2h3AkWmecpW/rJkydZUs+BAwdqtWCVVk9adSt760pTDkGwyq4rUj3JY5GTSjZD2y3JgqUmRdOmTcPKlSuZZUpNsH766Sd2MEad/oWC4YkolUaw5s2bBwpLUKePKSgnkS3Kk0c58shSRhYysoyJIHdDZ1P6+pak+9Kjxb8HHvgrbQ/lTrBKm1Ypr8rhr07FW1SacgiCZQytMqwPHoucYT1KV7s0gkWnBpcvX473338flH9OTbCIANGPNnIRkrWJrOXkPnz77bfRuHFjRry6d+/OrFaUk4/IGuW/o1x3dP8o3fSQmpqK0NBQFqtJuX0qVarEbpioV68eKLULvQuCJd28l7VlS9L9smJgyud44K+0PdQkBKu063RMqUC6+laacgiCpUsjjP85j0XO+FJr77E0glXwCXIJqgkW/V0d5E7/piB3skwVDXKn2CyKBVVfm0WB7OQmJMs59UvWMTrt/OKLL7KEokSwnn32WXz11Vesa0Gw5KIlT+SwJN2XH7q6JeKBv9L2UKMQLAowJTO92oJV2nU6uqfZdDWUphyCYJlO10rqmcciJ5dRaSMxcpbNkrCXC86GyCHwNwQt/nV54K+0PVQSgkXpECjAVP1L8OLFiywGQk2wSrtOh79a8GtRacohCBY/3eHVEo9Fjpcs5W1HEKzyIqis5y1J981x5njgr7Q9VBKCRUesV6xYodEhOkJNZn01wSrtOh05K57SlEMQLPlpI49FTi6jEgRLLjNhHnJYku6bB+KFpeSBv9L2UEkIVnR0NEsUqC6U3M/e3p7lmqFYByolXacjZ8VTmnIIgiU/beSxyMllVIJgyWUmzEMOS9J980BcEKzyzpMkBKu8Qsn1eUGwRC4aU+umJW0ygmCZWpvMq39L0n3zQl4lLQ/8lbaHCoJlgKYrTTmEBcsA5TBSVR6LnJFE1dmNVASLUjmsXbuWXY9F2dwpHYO2QqcT6focStMwZcqUQlXEKUKd02f0Cpak+0YHj0OHPPBX2h4qCJYBiqc05RAEywDlMFJVHouckUTV2U1REvPhhgu4GZms87mCFWr7ueKblxoVeua9995j6RYoHcw///wDujWipEJ1/vzzT0GwDELdNJUtSfdNg2D5euWBv9L2UEGwDNA5pSmHIFgGKIeRqvJY5Iwkqs5upCJYlJz0yy+/LEawKOM79fn6669rZBMES+c0yaaCJem+bEA1QBAe+CttD5WcYN2+fZtlV757964m6R/NKV3kam5FacohCJb8NJTHIieXUUnpIly3bh1zERLZKslFmJiYyFyE586dY4lHmzdvroFGuAjloiVP5LAk3Zcfurol4oG/0vZQyQkWXV/xxhtvoEWLFixNg7q0bdtW94zKrIbSlEMQLJkpIKdAU7mMSiqCxWN8gmDxQJFvGzw2eL4SKas1HvgrbQ+VnGA1adKE/UK0hKI05RAES35ay2ORk8uoBMGSy0yYhxyWpPvmgXhhKXngr7Q9VHKCNXPmTNSpUwd0N1hBC5Y5KpjSlEMQLPlpKY9FTi6jEgRLLjNhHnJYku6bB+KCYJV3niQnWHZ2duyCVSsrK5ZolAr9m5KPmlsRBItPLhRzm3c5yWtJm4wgWHLSLPnLYkm6L3+0i0vIA3+l7aGSEyxzVKSSZFaacggLlvy0l8ciJ5dRCYIll5kwDzksSffNA3FhwSrvPElOsFJSUjBr1iz8+++/TNauXbvi448/houLS3llN/rzgmAJC5bRla5Ih5a0yUhFsPRNNHrp0iX89ddfePDgAQYPHow2bdpo0BZB7qbWdGksKPIblflIxGPtUdoeKjnBopwz3t7eoAugyTX4yy+/gO4qpAufza0oTTmEBUt+GspjkZPLqIqRmK3jgKjrholXsQ4wYEGhZwxJNEoPEsmiu1GHDBkiCJZh6Bu1tiXpvlGB49QZD/yVtodKTrAaNWqECxcuFJpibX/jpAOSNqM05RAES1J1KlPjPBa5MnUswUNSESxDEo0ePnyY3bFGebDoB6C6CAuWBBNeziYtSffLCYVJHueBv9L2UMkJFuXB2rlzpybZ38OHD9GnTx+QGd/citKUQxAs+Wkoj0VOLqOS0kWoT6LR48ePY8KECSyzO+XpK5ibTxAsuWjJEzksSfflh65uiXjgr7Q9VHKCtXnzZowbNw7t27dn11QcO3YM8+fPx3PPPad7RmVWQ2nKIQiWzBRQJBo12oQIgmU0qPXuiMcGr3dnomIxBHjgr7Q9VHKCRbMUERGBkydPMhN8y5Yt4efnZ5bqqzTlEARLfmrKY5GTy6iksmDxGJ8gWDxQ5NuGJek+X2SM0xoP/JW2hxqFYBln+qXvRWnKIQiW9DplaA88FjlD+5SqviBYUiFrme1aku6b4wzxwF9pe6hkBIssVWS1okSjRYNHRaJRc/x6qWTm8SUz39GbXnJLwl8QLNPrkzlJYEm6b064q2Xlgb8gWBxnnjK4b9q0CQMHDuTYqumaUppyCAuW6XStpJ55LHJyGZUgWHKZCfOQw5J03zwQLywlD/yVtodKZsFST02zZs1w5swZc9SnYjIrTTkEwZKf2vJY5OQyqqIE67OjnyEkIcQg8Wp61sSMtjMKPaNvolE60bx+/XpERkaie/fu6Ny5s6YdEYNl0DQYpbIl6b5RAOPcCQ/8lbaHSk6wPv30UwQHB+PVV1+Fvb095ykvX3NkYevXrx969OiBd999V2djSlMOQbB0qoTRK/BY5IwudAkdSkWwDEk0un//fixduhQTJ05E69atBcGSi3JokcOSdF/GMJcoGg/8lbaHSk6wCl72bGNjw1I1SBGDRQvkxo0b2YnF7OxsjZIcOHCApYnIyMhAp06dsGTJEpAcVObOnQtXV1ekp6cLgqXnN57Hl0zPrkQ1C99kpHIRGpJolCBOSEjA8uXL8cEHHwiCJeNvnVh7TDs5PPAXBMu0c1jm3o8cOcIsZYGBgRqClZubi9q1a2Pbtm2giR00aBD69u2LoUOH4tSpUzhx4gTq16/Pkp4KC5Z+0PP4kunXk6hl6RZEqQgWfZ/1STR6+vRpdmgjKioKPXv2ZJZsdREuQvl9/8TaY9o54YG/IFimncNy925ra6shWESgJk+ejEOHDrF2d+3ahQULFjDCNXv2bLawhoeHs7sR16xZo8k2X5IQSlMOS9/gy61sJmiAxyJnArG1dikVweIxPkGweKDItw1L0n2+yBinNR74K20PldxFSARm0qRJoIBSIjqXL18G3f81ZswYSbSiIMEilyGdYly9ejXr69q1axg8eDDOnTun6ZtciCVZsIiM0UtdKBiWfhkruaSkpMDFxUXJEJh07JaGP10EHxQUVCiVi0kBzu+cCNadO3cQFxenEcfSsJcDzobIIPA3BC3+dXngT1dTXb16lb9wMm1RcoLVq1cvjBw5ErNmzWJEhuKjmjRpgkuXLkkCSUGCtWHDBtBVPaURLEOEUBr7FhYsQ7TDOHV5/Io0jqS6exEWLN0YiRpPELAk3TfHeeWBv9L2UMkJFl2iSvFORKrUlqOC/+ataLpchHQP4vbt28vUrdKUQxCsMqmJpA/xWOQkFdCAxgXBMgAsUVUkOTaxDvBYe5S2h0pOsOiS57/++gsdO3bE2bNnceXKFWbRopvspSgFCRalYahVqxZ27NihCXLv3bs3hg0bVqaulaYcgmCVSU0kfYjHIiepgAY0LhXBojAEOiFM1vNXXnmlRInIik5r04MHD1joQJs2bTR1RQyWARNppKqWpPtGgoxrNzzwV9oeKjnBohinqVOn4saNG+jQoQO7PuePP/4AES+eZfTo0di5cycLWg8ICMCAAQNY/BTluRk/fjxL00Akj3LeEAkrS1GacgiCVRYtkfYZHouctBLq33pREvNw6lRk3L6tfwMAHIKDUXn27GLP0LpDKVtKI1jqh4hkxcTEYMiQIYJgGYS+cStbku4bFzk+vfHAX2l7qOQEi6Y2Pj4ex44dYzmwKJmfj48Pnxk3citKUw5BsIysYHp0x2OR06Mbo1QxNsGiWEzq8/XXX9eMjw7cEKbTpk0rdmfq9evXUadOHc3fLQl7o0ww504E/pwBNbA5HvgrbQ+VnGBRbpndu3cXmkptfzNwrk1SXWnKIQiWSdSs1E55LHJyGZVULsKwsDB89dVXSEpKYtZzyoWnrVCYAp1qIsJFsaJt27YVFiy5KIcWOSxJ92UMc4mi8cBfaXuo5ASradOmLPZKXVJTU0H3E1LKBHMrSlMOQbDkp6E8Fjm5jEoqgsVjfCIGiweKfNuwJN3ni4xxWuOBv9L2UMkI1syZMzFjxgxQoLk65okWLcqhRDFRlLbB3IrSlEMQLPlpKI9FTi6jEgRLLjNhHnJYku6bB+KFpeSBv9L2UMkIlnpq6F6w7777zhz1qZjMSlMOQbDkp7Y8Fjm5jEoQLLnMhHnIYUm6bx6IC4JV3nmSnGCVV0A5PS8IFkQuGhMrpCVtMoJgmViZzKx7S9J9M4OeicsDf6XtoZIRrJYtW7KUDHZ2duwUDi2mBd8zMzPNTseUphzCgiU/FeWxyMllVFIRLH3zYNH1XevXrwddgdW9e3d07txZA42IwZKLljyRw5J0X37o6paIB/5K20MlI1g0XRR/RXcBDhw4UPfsmUENpSmHIFjyU0oei5xcRlWUxOxfeQ1xj1IMEs/b3wVdhjxd7Bl982BRnjzKjTdx4kSWQkZdBMEyaBqMUtmSdN8ogHHuhAf+SttDJSVYNL90YvDMmTOcp9o0zSlNOQTBMo2eldYrj0VOLqMyNsHSlgeLsEhISMDy5cvxwQcfCIIlF+XQIocl6b6MYS5RNB74K20PlZxgffrppwgODsarr74Ke3t7c9QrjcxKUw5BsOSnrjwWObmMSioXob55sE6fPs3iSqKiotCzZ09Qfj5hwZKLdhSXw5J0X74olywZD/yVtodKTrAoBotchRR/ZWNjo4nFEjFY5vgV4xPoaJ4jl4fUPBY5eYwEbC0omi1dzrJZEvZywdkQOQT+hqDFvy4P/AXB4j8vFtOi0pRDWLDkp7o8Fjm5jEoQLLnMhHnIYUm6bx6IF5aSB/5K20Mlt2BRfIOrq6sm2Wh2djaSk5Ph6elpdjqmNOUQBEt+KspjkZPLqATBkstMmIcclqT75oG4IFjlnSfJCVarVq1AJ3UogzsVIld0JJruATO3IgiWcBGaWmctaZMRBMvU2mRe/VuS7psX8ippeeCvtD1UcoLVuHFjnD9/vpA+afubOSic0pRDWLDkp5U8Fjm5jEoQLLnMhHnIYUm6bx6ICwtWeedJcoJFFqzff/8dtWrVYrLevHkTr732Gk6dOlVe2Y3+PG+ClZyZjDuP76BhhYZGH0tZOxSLXFmR4/OcJeEvFcE6fPgwjh07htu3b+Ojjz5ip5i1laSkJPzyyy9ITExEUFAQBg8erKkm8mDx0VeerViS7vPExVht8cCf9x5qrLGXtR/JCRa5B4cMGcKS+NGideLECaxatQqdOnUqq8wme463cozdOxaXYy5j/6D9sLW2Ndm4DOmYx5fMkP5EXf6/IuWCaVESs2vxj4h9EGqQeD7/b+87wOQqrnT/6TzdMz3TkzVBOaMsBMYgJFCwQWQTjPAzxmub90AYLzZeY2PgAWuWfV6HtcRaYLMEs+sFBRshogAhCSVAEWmUNdIETc6dw7zvVIcJGs3UuL8aAAAgAElEQVT07a7bt7tv1Xz3q9s9dSv8dW7V36dOnaoYia/97wcHfea5557DtGnTcOWVV14wT3LVsGrVKtx444246aabBMGShH5iE4uxJ7F4DyyNB/6851BlERm+dNkJFlWhpaUFO3fuZASLiFZ+fv7wNUvCFLyFY/3x9Xhs+2NYvXg1vlr21SRs8flV4vGSpURDk7SS6YS/nARr7dq1OHfuHFasWBHpyQ0bNqC6uhr33Xdfv94NBAJ44okn8OSTTwqClaRyT9VKJ9lPYpgvWDUe+POeQ5Mdx4QQrGQHIdr68RaOTk8nFvzPAlw/9no8eXnv4B5tfZRIx+MlU6Le6VJmOuEv1xLhmjVrsHLlSqaRWrRoEaZPnz5o99MSIqWljTcTJ05kmvZwEEuEyffGpJPsJx+6w9eIB/6859Dha61sCkGwJOAvh3A88OED+KLxC2y+fTMM2uT3dM/jJZMAuUg6AIF0wl8ugsVDaATB4oEi3zzSSfb5IpOY3HjgL8ccmpjWx1aKIFgScJNDODae2oifbf0Z/nD1H7CwIvnt0ni8ZBIgF0kFwVJEBgTBUgT2IQsVY4+yfcIDfznmUGVRGbp02QnWQEejXq8XdrtdOBoN9YvD62DLhFePvBrPXvlsMssKqxuPlyzpG5nEFUwn/MMkZtKkSdBoNEmFOtllHT16FJMnT2bHfAnZV7570kn2lUdTeg144C8IlnTch3xCOBodHtAfb/4xttZuxSd3fIJMXebwDyiYgsdLpmD1U77odMP/+PHjKCsrQ2Zmcsm90+lEbW1txL2MIFjKvzrpJvvKIyqtBjzwFwRLGubDphaORoeFCB+c+QAPbX4I/7bg37B09NLhH1AwBY+XTMHqp3zR6YZ/W1sb6uvrk7JfSkpKYLPZInVLN+yTEvQhKiXwV7bHeOAvCBbnPhSORocH1OVzsWXCy8sux28W/mb4BxRMweMlU7D6KV90OuJPS4XJGMJLg+G6pSP2yYj7heok8Fe2t3jgLwgW5z4UjkajA/SRrY8wTRbtJswyZEX3kAKpeLxkClQ7bYoU+CvXlQJ75bCnkgX+qY+/IFgy9KFwNDo8qJ9Uf4IVH63Ar674Fa4fd/3wD/RJUd/hQrHVGDHGlfSwxMRikJMIGOfkAn/OgErITmAvASwZkgr8ZQBVQpY88BcESwLgaksqp3B4/V4seH0BZhfNxqpFq6KGdtPhBnzvlc9x/cxS/Pq2GTDqtFE/G0tCHi9ZLOWKZ4IICPyVkwSBvXLYC9lXFnte+Ms5hyqP0Pk1kM1NwyWXXILdu3dDr9f306yQvQXZNng8nmTEY8g6yS0cj29/HG+efBMf3fYRbKZe49oLVcrl9WPxbz5BS7cHTq8fXxmbh9X/62LkZOplw1ZMMrJBG1XGAv+oYJIlkcBeFlijzlTgHzVUsiTkgb/cc6gsDY8jU9kIVhx1SsijjY2N+NnPfgbaJr5169aoypRbOL5o+ALfefc7mFU4C88tfg7Zhuwh6/W7Tcfwu03H8R93zcG5Dhee2ngYE4uy8dJ352FEjjzb3nm8ZFGBLRINioDAXznBENgrhz0vDYqyLUjt0nnIv9xzaLIhLDvBWrp0Kd5///1+7R7su3iBefDBB0EHvNKWb5/PF8lu8+bNuP/+++F2u7Fw4UKsXr0aWm3vMhqdV/a3v/0tquITIRxvHHsDT+14ClPzp2L1ktXIMeYMWrfqVgfTXs0bnYdX/+ESphXceOAc/vH1fci3GPDSPZdgUsnQBC2qRg9IxOMli6Vc8UwQAYG/cpIgsFcOeyH7ymLPC/9EzKHKI9VbA9kJ1pw5c7Bnz55IiQ6HA3PnzkVlZSVXHLZt24bx48ejvLw8QrDIGzMd4vrmm2+COvb222/HsmXLcPfdd0fKTjaCRRX7+4m/47Htj2GibSIjWXmmvPOw+v4rn+PjI41490dXYnxR767D3adb8b2XP4NJr8WbK65ASY6JK85ikuEKp+TMBP6SIeP2gMCeG5QxZSTwjwk2bg/xwF8QLE7d8dRTT+HJJ5+E3++HTqdD2NeNxWLBihUr8PTTT3MqqX82VFZYg7Vr1y48/PDD2LJlC0v03nvvYdWqVYxwhUMyEiyq2zun3wG5bhhtHY0Xlr6AQnNhpM4fH23EPf/5Ge69ciweuXbKeTh+XtWK5S/sYhqs1++9DJkGfobvPF4yWTpeJZkK/JXraIG9ctjz0qAo24LULp2H/AuCxVkGHnroIfzmN4lzntmXYNGS4bp16/Daa6+xVpHWbPny5di7dy9bMqRlRSJd1157LSNeAwN91/f7hoYGvP7665wRunB2B5wH8HLLy9Bn6PE169cwP2s+enq0eHyHB25/D57+qhGZuuA5aQPDp3V+vHjIi4uLNbh3uh6a0Hlq8VaezpEkkizC4AgEenqwcp8Xc4o1uKJUxx0mgT93SKPOUGAfNVSyJBT4ywJr1JnywP+BBx7A4cOHoy4z1RPKvkRIAH3wwQc4ePAgXC5XBK+f//znsmDXl2CtWbMG69evH5RgxVK4Euz7QNMBPLv7WRxoPoDyrArke27Btv0l+P03Z+PGWWVDNuOZtyuxesspPLhoAv5xycRYmnzeMzx+xXCpSJJmsutUC+54ficmFGXhg4cWcK+lwJ87pFFnKLCPGipZEgr8ZYE16kx54K/EHBp1A2VIKDvB+vGPf4xTp06BlutIe0RapQULFuCll16SoTlgy5FDLRGuXLkSGzZsiKlspYQj0BPAv+98Ay9WrkKPtg02zQQ8cvn3sXjUYui1F3bJ4A/04N5XP8emykb84c7ZzFdWvIHHSxZvHZL5+UfWHcR/7z7Lqvjej67kvtFA4K9c7wvslcOeShb4pz7+Ss2hSiEnO8GaMWMG9u/fDzr0mWLy6k7G5vSyyBH6Eiyy/5owYQLeeuutiJH7Nddcg3vuuSemopUQjm63D796uxL/tessiqwZuPrSo9jetB5t7jZm/H7z+JvxjYnfQEV2xaBtoudv/Y/tONnUjQeunoD/vWAcDDpNTO0Xg9zQsHl8Acz7500osZpwtKELP7x6PB5aOilmrAd7UEwyXOGUlJnAXhJc3BML/LlDKilDHvgrMYdKaiTnxLITrLDDUdpNSDv9zGYzpkyZwn0X4b333ouNGzeitrYWZWVluPHGG5n9FJ2FSEb1ZHNFmrPnn3+eabliCYkUjnMdTvz3rrP4r93VaO5249a55fjlsqnIMevh8Xuw6cwmvH7sdZDvLAozC2diyaglWDRyEcqzy/s1j47S+ckb+7HtRDMml2TjX74xA7MqcmOBQPyKHAK1sFf9390xCy9sPQWnx48Pf7yA6xFGPAa5mDpePCRkX2EZELKvbAfwwD+Rc6iyaAVLl51g3XbbbYzU/PGPf2T2ULm5ucxImu5TLcgtHD5/ADtOteAvO8+wZT1a4ps7yoYHrh6PhZOKBoXrZPtJrDu+jhGuOnsdSzMlbwquqrgKl5VehmkF06DTBHdxvvFFDZ5+6zBIq3XP5WPw4OIJsJqkeX3n8ZKlWr9HW98H/nsviGR9/uhivLyjCv/67lG8/cP5mFpqjTaLYdMJ/IeFSLYEAnvZoI0qY4F/VDDJlogH/nLPobI1PsaMZSdYfetF7hI6Ojrw9a9/nR2hk2pBDuHocHjxyfEmfFTZgM3HmtDu8MJs0OKm2WX41qWjop6ciUAdbj2MD898iA/OfICqzioGb7Y+G5eMuASXjbgMc4vnIktbiic3VOLtg/XINuqw/NKRjGxF6y+Lx0uWav0eTX3tbh/mPv0Blk4twb/fORtnWxy48v99jPuvGoeHvzY5miyiSiPwjwomWRIJ7GWBNepMBf5RQyVLQh74yzGHytJYTpkmjGA5nU5W5cxMeY5w4YTHkNnwFo5H/0YG0dVMU2XSa3DF+EIsmlKEZTNGSNYsDax4TVcNdpzbgR11O7Dz3E50ebpYEvIMP6doDvK1k7H/RC72nDBDrzHghplluOfy0bio1DrkkhaPlywRfZXoMtbvrcE//s9+/Pnui7FoSjEr/oaV29Dh9GLzTxZyWyYU+Ce6Z3vLE9grhz2VLPBPffx5z6HKIjJ86bITrC+//JIZldNOQjrOZezYsXjxxRcxbdq04WuXZCl4C8crO6pwrKELiyYX47Jx+cz7uhzBF/DhaOtRZq9F197GvcxInoI2QwcLRqK1tQReRwVGWibi1pmzcPPsCgx2nqEY5Abvoe/8527sq27H7p8vjmwieH7LSfzq7SN464ErMK1s8COPpPa3wF8qYvzSC+z5YRlLTgL/WFDj9wwP/HnPofxaJ09OshOsiy++GI899hhuuOEG1gLa0ffEE0/g888/l6dFMuaaLsJBy4mnO0+DfGzRdbD5II61HkMAAYZej9+AgLsURYbxmFc6DddPmYfLRk6BXqMXvyIHka+Wbjcu+dWHuGNeBX518/RIipo2B6549mPcu2AsHrnmfI/7sYgqj0EulnLFM0KDorQMCNlXtgd44J8uc2i0PSE7wSI3DQcOHOhXn5kzZzKXDakW0lk4HF4HjrQewaGWQ/i0eh8ONB5Cl7+OtkEEu6lHh3zDSBT1FGDZrIWYmj+ZnZV4ocOoU61v46nvqzuq8Mu/H2LHEl0ypv+5kTc/9ymautzY+tOruCwT8hjk4mmrmp8V2Cvb+wL/1Mc/nefQwXpHdoL1i1/8AiNHjsS3v/1tVv6rr76K6upq0FmFqRbUJhzdbjvePr4H7x/fg4NNh9EVOAONsQEZGl+k6/KMhZiSPxETbBPYNT53PMbmjIVJx/eQ6WSWFfIzVtfuxLZ/uhoaTf+ji/609RSe3liJv91/ecyuMfq2XUwyykmCwF457KlkgX/q46+2OVQ2gkW7BMnmipajyOFn30B+qDwej7LSEkPpahOOgRDRktfzb25Gjb4He84dhgPV0BrroTPVA/qgTRcFTYYG5VnljGyNyx0XiUfnjIZRa4wB+eR9hGzolv52ywWXAcmf2WXPfITvzx+DXyybGndDxCQTN4QxZyCwjxk6Lg8K/LnAGHMmPPBX2xwqG8GKuReT+EG1CcdgXRF+yQKBHuatfPfpVnxW1YrPzpxDk/sstKZ6puXKymoGDPXwoKMf8SKP86ThoovIF8VjcsbArDcncc+fXzWvP4A/bT2N3394DIEA8PaDV2B8Ufagbbjtj9txutmBdx6cj8Ls+Agmj0EupYBOosoK7JXtDIF/6uOvtjk0IQQrkYc9yymCahOOoQjWwP+RprK23YkvzrThQE0HDtS042BtB1yBLmgNTYx05ea0wmhugldzDo5Ar8aL8hphGcGIVphw0T1d+aZ8LrZLPOXiizOt+Pm6LxnBJJurf75pGiYUD06uqNxPTzTj7hd3Y/KIbPz1B5chyxjbSQKUl5hkePaktLwE9tLw4p1a4M8bUWn58cBfbXOo7AQr0Yc9SxMZaal5C0dLXTd6Aj3ILTJDZ5DHRYO0Fg6fWspLRp7pjzd243BdJyrPdaKyvpPdtzm8gMYJjbERemMTcnNbYchsgU9Tj+5AI1nURypiNVgjxIuWGMdYg8SrLLuM7WpMVKDjhj4+2ogPKxuYl32bWY9Hrp2C2+aWR0UA1+2pwUOv78f8CQX4893zYj4PUgr+icJGLeUI7JXtaYF/6uPPew5VFpHhS5edYCX6sOfhmxx7Ct7C8f6fD+H4Zw1ABmDNN8E2wgJbiQV5IyzIKw3GemNyEa94BznSdNGuuhON3Yx8HW/swvGGblS12NHQ6QYyvNAYmqExNEFnaoQ5q5VpwDyaegTgjXSeNkOLUksFxuSMxrjcIOkiAjbaOho2ky32TgZA3vVPNnfjVJOd1W/rsWYcPtfJ8rSadLhuZil+snQS8iwGSeWs/uQknnnnCG6aVYrf3D7rPIP4aDKLF/9oyhBpBkdAYK+sZAj8Ux9/3nOosogMX7rsBCtRhz0P39T4U/AWjqazXWio6kRbvR1t9Q60nbOju83dr6LZ+SbkE9kqy2JxflkWcovN0Oo08TcohhzkHOQcHh+qmh2MbFW3OlDT5gQZ1tPSY22bHY5AKzTGJmgMjaGY7puh0QfJTzhoeyywaEbAqi1Fjq4Uuboy2IxlyNOPQAb08AV64A8E4PX3sAOZ250edkQReV0n8tdi778BY1JxNq6aXISrJxdhzshc6LSxYU/kknYU/nnb6ZiN3uXEPwZxUNUjAntlu1vgn/r4855DlUVk+NJlJ1jisOfhO6FvCo/Lh9ZzdrTW2Rnhorilzg57ey/xIlcAuSVmRrbyy4Kki64smzGq5SppNeqfWslBjg6ppqW6hs7g1Wr3MDLU1N2BWvtZtHlq0RWogxMN8Goa0KNrRIamV+vV05OBHq8NAU9B6CqE3l+EbF0Jcg1FsJmNyLcYMbrAjLEFWRhbaGFxjpnfUiRtDvjR/+zDm/vrcMvsMvzfGy9CtoQDt5XEPx65SYdnBfbK9qLAP/XxFwRLxj4Uhz3HDq7L7mVkq7WuGy21RLq60VLTDY+r1wWGIVPXj3Ax4lVqAX3PK6TSIBfoCaDR0YhT7adxsv00TndUoab7LM52ncE5ex3o/+Fg0Bgw0joSo6yjzrt4G9p7fAE8vfEwXtlxBuW2TPz2jlmYN7q/g9IL9Vcq4c9L5pIlH4G9sj0h8E99/AXBUrYPk7r0ZBMOWnKiJcWWWiJdIeJV282WG8l4Phyy80zIL+9dYswrswSXGWNY6kqXQc7j96C6qxpnOs9ErqrOKnbf7GzuJ4cWvQUjs0cy+64wCWNx9ijkmnJjltmPjzTi4TUH0Gp34/8sHIcfLZ4I/TB9ki74xwyagg8K7BUEX+ygVRZ8Tvgn2xwqN6iyLRGGba/6OhwNN4YckApHo/J1rd8bQFuDnWm4+mq77B29tkUabQZsJWbklWYxg3rSdpFRPRnbZwzwRt63pmqYZLo93TjbdZaRLSJdZzvPsovuOz397b1olyNpvcKEq8JawYgXfY7mGCE6x/Cf1h7EpsoGjC/Kwj99fTIWTym64FKvGvCX782IL2eBfXz4xfu0wD9eBON7ngf+gmDF1wdp/XSqCwctM0Y0XXXdaAvZd3mcvUff6Aya4E5GMqwP7WQk4kVaMCJePF6yVBaSNlcbI19EuIiAsbgrGHd7u/s1jQgWka0w6aKYNGFEyPqSL9JErvmiBr9+/yjbSTlvtI25gJgz8vzdkGrHX0nZEdgriX5q+4A7e6gFhz89hyXfnarYBqV4e4+H/Kf6HCoVQ9k0WEuWLLngr3DSYL333ntS66p4+nQUDprcyYCeNF3Mxutcdyi2w+fptVHS6TXMjYQbnZgyaxxsI8yMiOUUZca01Kh4Z3KuAOHY5m7rJV4hEhYmYwPJF2m+iGyRZ/sw8SrOLMPWyh68vLUF3W4/lk4txn1Xje93hiGPQY5z01WTncBe2a5OVfy9Hj/+6/GdzJxj6fcuwoSLi5UFMsbSeeCfjnPoUHDKRrA++eQTVu7f//53nD17NnLY81/+8hd2+POvf/3rGLtZucfUJBxkw9XZ4mIuJGhXI9vReM6B5poOBHy9BxrTjkYiWWTTRYQrGJtZbLLw232nXK/HXzKRr1ZXK7P5Ctt9kcaLfe6uRoe79zghKi1TmwkDCtHaYYXfnYeR1grcMm0mrps6HUd2V2LJ4iXxV0rkIBkBHhOM5ELFAxEEUhX/3RtO4bONVUxzVTzGipt/PCcle5UH/mqaQ6mTZSNYYQmaN28ePvvss4hA0WRD9ll9v0sVaVObcAzWL5s2fYivzL0i5Lsr5L+r3oH2ejv62njRs6YsPWzFQbLFriIzcoozkVOYCZ0+uRyoKimDRLAihKurmi1B1nTVoKrjDFrdLf2qltGjRXl2GUbmVKAiq4JpwMqzyyNxpi5Tyaakddk8Jpi0BkjmxqUi/l2tLqa9KhmXg6LRVux59wy++ctLmM1rqgUe+KttDpWdYE2aNAlbt25FUVERk6fGxkbMnz8fR48eTTX5gtqEY7AOGuolI1uutgYH2kMX7Wak+45GB3ze3uVG8lxPPrsY4Soi4hUkXTmFZlgLTYJ89QHe4XXgeGsVXt+3Dx8cP4wOXz10xlZYLO1woxWBnl43HfRYYWZhhGwR8SrP6iVfvN1NpNwLHGeFeUwwcVZB1Y+nIv7v/+lLnNjThDt+MQ96kxavProD064sw4I7J6VcX/LAX21zqOwE67XXXsNPf/pTRqpIe7V9+3Y8++yzWL58ecoJmNqEQyrBulCH0nJjd7sb7Y0OdDDy5UR7ExEvJzqbnCDnm5FA5CvXyJYdcwoyYQ0RLyJgdG/k6NMr1QSQcPrDmg9Q6c7HB5UN8Ad8GF/qwaUTgdElLnT6GtiyI2m/KHb4HP2aSNqtsqwypvEi4tU3Ls0qhdB+DS0RPCaYVJO5ZKpvquFfd6Id63+9B9MXlOHKEKHa+NwB1B5tw3eevRwGEz//hInoJx74q20OlZ1gUcc3NDRg165dTAYuvfRSFBenppGf2oSDF8Ea6uUP+AMgNXpHk5MRrmDsYHFnswt+Xx/NFwCjRRchXlYiYPkmRrys+ZnIyjOmvcF9eJBr7HThjS9qsPaLGpxqtiMjA7h8XAFunl2GJRcVI9uoY0b3YcJFpKumO0i8artr0WBvQE+fQ7WpjwoyCyLEi4hYXzJWZC6CVqPuZV0eE0wiJsJ0LSOV8KcflW/8y+fobHbiW09exswlKJz5sgVvrdyPBcsnMU1WKgUe+KttDk0IwQoLUU1NDcjInbRaBw8eTCXZYnVVm3AkgmANJQQ0SNk73EHSxQhXUOPV0exiMbmd6BvIjQRpv6wFJmSHyVdBJug8RyJi5hxjTAcsJ5OgDhzkSCu8v6YD6/fUYMOBc+z4IINWgysnFuK6GSOwaErRoEfxkKPVuu66XtLVVcuIF5EwImMDdz3qNDqMsIxgpCtMvML3FOeZ8mQ/pknpfuAxwSjdhlQuP5Xwr9xeh49eOYL5d0zAjKsqIrDTmPaXx3ZAb9TijkcvSal3hgf+aptDZSdYXV1dWLNmDV555RXs3LkTDzzwAG699VZm6J5qQW3CoTTBGk4+yOars4VIlwsdzU50EQFrdTHNF933s/sCQM5Vs/KCZIv8ehHxYhfd55lgsSW/BmyoQc7rD2Db8WZsPHgO7x2qR5fLB4NOg/njC7D0omIsnlKM/CzjcLCypXxyqBomW4x4ddUwAkYXETNvoD+5peXFUkspyrKDBCx80dIj3ZNbCnLPksqBxwSTyu1Xuu6pgn/tsTbQUmCWzYQ7Hp13nlZ9z/tnsGPdSdz8kzkoHR/7SRCJ7g8e+KttDpWNYL311ltMW7V582YsW7YMd955J773ve+hqqoq0XLBrTy1CUeyE6whtV89PXB2eRkB62pxsYs0YLQcye5bXCCP9/00YBmAJdfIyBYRsSDxMkbu6TulbcCiHeTovMNPTzTjrQPn8OGRBrQ7vCAH/RePysOSqcW4ekoRxhZYYiI94TMeiWiFtV61XbWos9eB4npHfb9zHgljOm6IkS1LGSNhjIxllbHv6EoFAhYt9twGHJFRPwRSAf9T+5rw/p8OITNbjxsenMVc1wwMzm4PXv7ZdoydXYil/3BRyvQyD/zVNofKRrA0Gg0WLFjANFcVFUEV6dixY3Hq1KmUEaiBFVWbcKQywRpOyEhLQwSMka8Q6WJx6OpudcHt6PVwH87PYNIywkW/TsnmK9tmDN73iXUG+WyVYhnkfP4APqtqY1qtDw43oLbdyZozOt+MqycX4+rJRZg3xgajjk+9SbtFNl5hbVeYeLHP9rpB7b/CBIyIV1jrFV6SHJE1AjajLSYyOJwcSPl/LNhLyV+kHRqBZMf/8Kd12PyXI8wlzfU/nMV+oF0obPrPwzj+eQPufuZymK2GlOh6HvirbQ6VjWDt3r2babDWrVuHWbNm4a677sIjjzySNBqsjRs3Yv369XA6nVi6dCnuvvvuYYVcbcKRzgRr2M4G4HH5GOEiD8xEuHrJlxvdbS62MzLg67MDMpQpOVgl8kX2YBYiX7lEwug++B0RMrLBiCXEO8gRsTxS34WPjjTiw8oG7K1uR08PYDZo8dVx+VgwsRALJhZhZL45lupF9YzX72VaLiJc57rPBWN7MCatWIOj4TwNGC1BllhKghqvEAmLEDDLCBSaC6HJ0ERVfqyJ4sU+1nLFc0EEkhV/eqf2vn8WO9afZL6url8xM2LUfqG+qz/VgbX/+gXKJ9twzb3TYUiB3dE88FfbHCobwQoLlt/vx7vvvsvIFi0b3nDDDbjttttw0003xTRuPPjgg1i7di3q6+vh8/VqGGgp8v7774fb7cbChQuxevVqaLXRTWI33ngj8zg/XFCbcKidYA0nD2Sw6ujyBAkYES4WB+/toXs6hqifG4pQpjSgMtJFJIxIVyjue5+ZpT/v4G0eg1zfdtFh05uPNmHL8SZsOdaENkfQtoq0W/MnFOKKCQW4bFw+rKbEeeUnDVijo5GRrTAJI81XmIwROfMF+msXyQi/2FzMCBgRL7ronpEySylIC2bUDm9/NlSf88Z+OPkS/++PQLLhTzugT+xpxJ53z7IzXium5uHrP5gWtfsFImXb151AQUUWrlsxE5ac+ORTbnnhgb/a5lDZCVbfTg8bvNMuwk2bNsUkD9u2bcP48eNRXl4eIViBQAATJ07Em2++yXb63X777czui7RStFuRNGd9w+OPPw7yME/hmWeewfTp03HdddcNWx+1CYcgWMOKxLAJ+pIwIltEwOztQTLGPre7GRkbaJBPGZNRvjnHwAbeMBGrb67GjLlTg9/lGNn/jWYdl+Uzf6AHB2s7sPloIzOWJ+0WfafVZGBmeQ4uH1+Ar44rwJxRudyWE4cFcJAE/oAfzc5mpvUiEhYmXxTX2+vZdwN9gFE2tNMxTLbCJIzikqwSRsiGW4bkMcHE0l7xTBCBZMHf5xmwKZkAABzGSURBVPHj6K567Hn/LNvNTO/m7CUjMW1BmeSDnCmfj16uZBrv6x+YxZYXkzXwwF9tc2hCCRZPwdHpdBGCRT62Hn74YWzZsoUVQQdJr1q1ihGuocJTTz2FCRMm4Jvf/GZUVVObcAiCFZVYxJ2IlhjI3osIV5h0OTqIfHki35G7Cmenhy3nDQxavQYWImK5RpitRLwMEWIWJmhk50FLl+TKItrQ6fJi58kWbD3ejE9PNuNUk509atJrMG90Hr4yNp9pt2aU5UCnlXd5Lto6U7rwLsgwAaOYtF8sDl1E0AYG0nAxwmUJEq7wffhz5WeVuGbxNVKqItJyRIDHBB9rddwOL6oOtuD0viacOdwKn9vPnCHP+dooTLq0RDKx6luP6sOteGf1QdB7vOy+GSgZmxNrNWV9jgf+aptD04Jg0ZIh2XqRZoxCZWUl8xS/d+/eCwrcCy+8gN/97nfMw3xJSQmeeOKJ89ISSaMrHMhh6uuvvy6rECd75na7HRbL+Ttjkr3e6VC/ngDQ1eaAPsMMnwvwOUNX+D4U+93U2kGIVEYPdCawSxuKL/RZM4iT6VZXDypbA6hs9bO4nZUDkDnZxFwNJuVpMMmmwajsDKb1Subg6/Gh3d+OVl8r2vxt7Gr3tUfu6bO3p78rCmqPRWOBTWtDrjYXNp0tcs8+a22waq3QZkRnmpDM+CRj3RI59tAKtLMFcDQDxMUdTcTcM6DR9cAyArCWA1llYA5+eQRXG1C9FaB31zYBKJwGDPYO8igr1jx44E9umg4fPhxrFVLuubQgWORniwzWpRCsWHpKbex7MIx4/IqJBXvxTBCBaPAn2xBHpxeOTjc7gJu0YY5Oij3McSu7D30e6Ck/jLPOqIU5W892OJFWLJPi0OfMbAPbht7qD2B/Uyd2Vrdhx6lWNHcHGZfFoMXc0Xm4dEzwml6eo+iSYiyyQ1ow8oRPS450keZr1+FdMBYY2T191+RsOs8Ynwzt6TzIYksxSswlTBsWvshGjO7pTEi1e8WPpU+ikf1Y8qXNLK11djRXd6GpphtNZ7rQXNMNWt6nQL7yKqbkYeysQpRPsjFNkxyBtNdbXz+Ok3samX3m/DsmsjKTJfDAX21zaFoQrMGWCFeuXIkNGzZwlU21CYcgWFzFh0tmPAa5cEWIRJCzViJhtPxIBvtEwhj5Ct07Ke4M/n8wY33KS6vTMMKlydTCkQG0+HyocbjR5PXBoemBV5eBkSOyMHVMLuZOLMDccfnIMqbWOWyDkVsyxm92BG3BGBFz1LOlSIrJTQXthmx1tZ7X77oMHdv1SGQrTLooJlLGYnMx8jPzQYb7IvQiEI/sk6yTbNOJEHQAfVu9nR1MTwfSk3+88KlRZPeYV2rBiLE5GDE+FyPG57Bdv4kMVQebseWvx5gLmdEzCvDVW8YN6k+Ld50Io7oOF74404Y9Z9owoTgLd106KlJMPPiHM1HbHJoWBIt2KpItFe1SDBu5X3PNNbjnnnu4yqDahEMQLK7iwyUzHoNcLBWhX/Nupy9CtoiAEfkiX2JhjZirm4iZl33vdfkvWIwXPfDpM6Az62DNMaKwwAxbrgmmbD1o5ySd20ax0UKxgZ0/qU0CG69YsHf73RGyFdaGEfGi+3Dc7m4/DyvShBWYChjponMgwxeRL7ongkb35D9MLWEo/Ek+nd3e833ahRwMkzH6wI0kZFhOjkDzSiwoGJmFgvJs2ErMcdlT8eoLr8ePzzeexr5N1UyTRnZeFy8bAzr0nlcgZ8SH6joYodp7tp3F9Z0ulj2t8N8xrwLP3DJDEKw4AE85gnXvvfeCfFjV1tairKwM5GKB7KQ++ugjrFixgrlpIAenzz//PMgQnmcQBCu6JSqemIu8+iMQyySvBIY+r5+RL0bCur1wdXnQ0OTAmbouFne0u+F3+pDZkwFzTwZMPUMbs5CDVyJeZKhPF5Gv4L2OfW80h74364L/N+vYpeFIzOTC3uVzMbcURLjYZW+IfGbf2xvQ7Go+bzmS+tWsM0cIFx3WTcuTdBWYe+9JG5YKnvIHk9OwlpVI/NaPd2LyuItgp80fHbT8HdoUEtqRG/D33wFC9lG08YMOhSdiQofC5xRksp16dMXqiy6R7xNp1z57uwpHd5xjO4WnXFGKuV8fNaQT0wvVjw6I33O2DXvOtjMN1YHaDhDJomA16TBnlA1zR9owd5QNMypyz9My85B/tc2hKUewEincA8tSm3AIDZaS0jZ42TwGuWRpFe1SpIGefjl/froFR892QOPpQWYgAza9FhNzLRiVZUKxUQ+rRgOfyw8XkTW7F267Dy7y2TXIrsq+7dObtCGypYfJrGMOHYmc0ZFHRMAMplCcGfofi7UsHV19NWdKYk9+v1qcLYx4hckY7YSke7IFC8cd7o5Bu1ev0YMIGLmqIMJFdmAUk2sKm8nGvqeYPueackGOXeUIjDC5/HDbiXx7QcfGUH/SfV8NKPtfyFbwQnaCRKSZ896IA9+gE9/wOaOpcLZotBjTkubut07jxOeN7MD6iZcUY/bSUWw5c7BA55JWnutk7xcjVGfbUNMWPMGBwrhCCyNS4WtsQRbLd6jAQ/7VNocKghWthANs+VFNOyAEwZIgHAlKymOQS1BVJRdDk8Lhuk5GuBjpOtOKhs6g4TyN/ZNLrGxCID9cc0baUJGbySZrIl3k5oIIF22nd3X7WEzfsc92H7M16/3OB6/7wkuYfStOBs2kPSMi5vI6kF9oY5/1Jh2IvBmMWqYJ0RuDn/UGDWiDgN6g7Y3pO0PwOy3d6zSS3GVIAdLj9zAfYUS6KCZSRnH4O7IJo+8odtI21AsEclmRY8xBrjGXxaQBs+qtsGpzkJWRAwuyYe6xwBQwwxDIhM5ngNarR4ZXhwyPlu2G8xD+hLs93A9BYnwhWz6qSnhzRXAjBW2w6L1OnDmKy+ZfHHRBYjXKZmwuBW86l5PIL11kk0dX+D78vb/HD/LdRjtXKabP9BzFRDjZXygOyroG9EcaK7onckwX2eS5Gntwdqsdtfu6QLuKR03Pw5yvjYa2yIh91R2MSO09044Dte1whc5apU0ns0bmMu3U7FE2zK7IRa5Z+vE8PMYetc2hgmBJeJvUJhyCYEkQjgQl5THIJaiqcRdDkw6dmxhe0qDJ41BdJ3N+SqEgy4BZFUHCNbvChpkVOTAbojMLoJ2WHqefEYAw+er7mXaW0f/Ilozu6X9N9c0wm7LhdfsYsaP/XUi7MlzjaWMAkTedPhizz+zKYJ9paZPuI7EmAxnaDKZloIv8mbErg2JyF5AR8czRVw9BftMIR9L0UUTkhmx6KPZ6vXB53XB73HB7vfB4vfB6faDlXb+3Bz0+ujKQ4dNC49dCF4h+Ug4gAI/OCZ/ODZ/eA5/BDb/Bgx6jL3T5gUwfYPJDYwpAk9mDjMwAdEYNc3NBuyxpM0CYZGQgA2eqzrDzbOmeAsUhehJsI8CIC31HcfgKE5wwqSHi05f0hIkQi3uCZKkvSYqQJn+QQPUlUZSPEiHLbcPMuqswufEy6AMGNJprcbDoMxzPOQG9zogcUxYKLVaUWnPZZdDqGaaELZE2wsjtc4NsBOmiZeouTxc6PZ2R66qKq/DoVx6NNI/H2KO2OVQQLAlvh9qEQxAsCcKRoKQ8BrkEVVWWYpwePw7U0JJH0Ch379k2tNg9rCzyvTWpODtCuGaPzMWYAgsXL/eU/2DY+/0B5nSSES538CJP38E4wGK/1w+vJ8C+Z5c3wC4/xZ4AI2nsou9C92RPRPfhmJEify85YvZGRJhC5CkqsDPQS9DCZE2bwYgd7Z6LxHptP+JHGjpdSAtHGxv9Oi8COh98Wg+8Whc8Wjc8WifcGidcWjscmm64Mhxw+p1MS0ZXeCInDVv4nkgMfQ6TlrCWZ+AxSFG1bZhERCoYcQuRN4pJI0QkjpE5ug9fGTrotXr2PxZrdP20SGGNUlir1DdtX21TOO9wWX3LDteHEWT6C8XUjDBBJNJImDTZHTjR2IFTzR2oautEXUcX/D1uQOOFFRrMdY7GxKZxMLnN8BqcqK04hJMlX6DFUA+7187wHipQnU1aE7IN2bAarUxbSfeXlFyC5VOWC4IVhwAKgiUBPEGwhJG7BHGRJanaCdZAUGkSOtvqYLugiGwR8SLbE19Iy5Vr1mNWRVDDRcsks8pzkWOO7VzFZMWeLS+FbdH6uPqnrzQhzRbTcKVQIGLBNFD0F9JGfbz5Y1y54ErWirDGimmywiQlRFTYElufZTYiNqnSfofHhwM1HdhX3Y59JNPVbZFlcurC8YVZbHmcfjzMHmnD+KIs9sOCiP7pfc048HE1zp0I2uGRiwnafTh6dj5zLMy0dqHlSiJ1Rp0RBo0hap9sPORfbXOoIFgSBh21CYfQYEkQjgQl5THIJaiqihVDWq4v6zoY4SLiRUuLYVsuqtTYQkuEcJE9yqSSbOij2G0osFesS1nB6YY/LdOeau4O/jgIEaqjDV2RJXBb6MdBkFDRzr6cqA5dp4On6YzDY7vqmY870kyWTcpF2SQbKibnIb98eIN2ucZ+tc2hgmBJGDPUJhxyvWQSIBdJByCQbpNMojr4XIczpBEIagb6GgHT2YrTSnOYpotpuSpyUZabeZ7WQ2CfqN4avJxUx7+l2x3UTPW5ulw+1lidJgNTS61M9sIaqpF55rg0b0Tgao+04ejuetB5h+TqggLtnqXzDuksRXJfkVNohrXAxFyd0AYOsgEcTOPHA3+1zaGCYEkYM9QmHIJgSRCOBCXlMcglqKpJXQztWDxa39VvsjvR2B2pc0GWMUi4Koh42dhxP59v34JFixYldbvSuXKpJPsur59tyOglU22obu3dtUkEnsg8aVBJO3VRqRUmvXxnWLKjn+odqD3ahpojbWg824nuNvegbk5oEwXtiJ1wcTEWLJ8UESke+KttDhUES8KIpDbhEARLgnAkKCmPQS5BVU25Ysgv14Fqsn9pi0yMzd3BX/0URlgycNmkUjYpzqzIZW4jDDp5zqVLOfASUOFklf3wUh+5SSDZ2V/d0c8OMNuoY8t7QcJuY3FhtjEBiA1dBG2q6GxxsuODOptdbDct7ZgN75wtHmPFjKsqBMGKo6cEwZIAniBY6WcHIaH7kyJpsk4ySQEO50qE3UTQhEkT5+aDVaixa+D0BrfmE7maOiK4rDOjPIeRrjH5lmEdNnKupmqySxbZr+9wMQK+v6Yd+6vbcbCmA13u3qW+ySOyMbM8SMKJjI8rjM3mKdk6lgf+aptDBcGSIMVqEw6hwZIgHAlKymOQS1BV064Ywn7BwqtwvLE7ssuLJtljDV0IbVpEtknHyNYMmmBD8YgcU1y2NGkHZIwNUkL22x0etquPXIOQhorixq5etwej8s2MTFGf086+i0pzZF3qixE6Lo/xwF9tc6ggWBJET23CIQiWBOFIUFIeg1yCqpp2xVwIe9pa/2VtZ2gSbmcTMrmOCAdaDppRlsPsuGgypphsvESQhoDcst/t9uFQLZGoDnZOH5GpMy29/UiObYPEOZct+VGcZ4ne+aq01iZfah74q20OFQRLghyrTTgEwZIgHAlKymOQS1BV064YKdi32knzESRbYQ1IX81HaY4J04h0hYgX3QvSNbTISMF/OOGzE5mq68SXtR04GLpONnVH/ImR3RQRYSJUQY1kzqA7S4crJ53+zwN/tc2hgmBJeAPUJhyCYEkQjgQl5THIJaiqaVdMvNg3dLqCNjvhSb2mI+KFnsCipURaYiLSRbvKLiqzosQqlhfDghQr/h0OLw7VdTBCRTHhf6rZHiFTZoOWuekIEqocRnyFLd35r2+s+PfNSW1zqCBYEqYBtQmHIFgShCNBSXkMcgmqatoVwxt7MqKv63AxI2ma+IPalE40d/fa+NASFBnSk4+kKSOy2c5FMppW4+7F4fCn3Xw1bU4cPtfJdvGFY/ouHOjgYyKxTHtYbmXEamxh0Bu6CPJrENU2hwqCJeGtUptwCIIlQTgSlHS4SSZB1VBlMYnCnjRdh0PalqDWpbOfTZdem8FI1uSSbEwsyWbnL04szmZLWOTDKF1DGH8ipk3dbpxo6AZ5Pid/ZhQfq++C3dN7+DItuRIpDRIqK4tH5ZnTGiM5+56H/KttDhUES4JEqk04BMGSIBwJSspjkEtQVdOuGCWx73J5GZEgzUxlKD7e0A0yzA4H8kg/tiAL44qy2Jl1YwotbKlrVIE5qiNWkq3DyFlndauDLeedbrbj0/3HYddlgxzCdoY8oFOdDVoNazMRTjr2iDR+U0ZYk8LXVLJhGk99eMi/2uZQQbAkSJzahEMQLAnCkaCkPAa5BFU17YpJNuzDS4zkJoK0N0Q8yFB7IAGhjqClRjp6pdyWiTJbJspzg3Gx1cSuPLMhoZodqjuRpMZOF+rp6nCx5T26qtscqG1zoq7D2XuINTtOBhhflI0JxdmMQNJBx5NKsjA63wJdFGdJpp1AJrhBPORfbXOoIFgShFRtwiEIlgThSFBSHoNcgqqadsWkCvbhJbSqZgeqWuw402JHVYuDxURc2hze8/qGzsKjJbWCbANyMw3IMetBhw3nZOphNuiQqdeCjMEzDVp2MLYmI4PZLYV5jdffAx9dgQDonlxXkHaNduvZ3X50Or1odXjQZvcww/6Wbk/EYWvfypCNVEWICFI8tsCC0XTlW3Bkz3YsWbw47eQqVRrEQ/7VNocKgiVButUmHIJgSRCOBCXlMcglqKppV0y6YE+kp67diZp2J9MgNXa6mfPMxi4XIz7tTi/aHXR54At7UI2zN60mHdOi2SwGpi2j+5KcoPaMdkpSTNq1XLP+gk5Z0wX/OKFU7HEe+KttDhUES4K4qk04BMGSIBwJSspjkEtQVdOuGLVhT5owh8fPLifFXh+7J02VP9CDQE8wpqDTZjDNFmnCKCZtV5ZRBzNdei2X5Ue14Z9sLxAP/NU2hwqCJUGK1SYcgmBJEI4EJeUxyCWoqmlXjMBe2S4V+Kc+/mqbQwXBkiCzahMOQbAkCEeCkopJJkFAD1KMwF457KlkgX/q46+2OVQQLAkyqzbhEARLgnAkKKmYZBIEtCBYygF9gZKF7CvbJTzwV9scKgiWBJlVm3AIgiVBOBKUlMcgl6Cqpl0xAntlu1Tgn/r4q20OFQRLgsyqTTgEwZIgHAlKKiaZBAEtNFjKAS00WEmHPa8lWrXNoYJgSRBltQmHIFgShCNBSQXBShDQgmApB7QgWEmHvSBYsXWJIFgScBMESxiaShAXWZIKgiULrFFlKrCPCibZEgn8ZYM2qox54K+2OVQQrKhEK5hIbcIhNFgShCNBSXkMcgmqatoVI7BXtksF/qmPv9rmUEGwJMis2oRDECwJwpGgpGKSSRDQYolQOaDFEmHSYS+WCGPrEkGwJOBmtVpRXl4u4Yn0S9rW1gabzZZ+DUuRFgn8lesogb1y2FPJAv/Ux7+mpgadnZ3KNiSBpQuClUCw06EoocVTthcF/srhL7BXDnsqWeAv8FcWAemlC4IlHTNVPyEGOWW7X+CvHP4Ce+WwFwRLWewF/rHhLwhWbLip9ikxySjb9QJ/5fAX2CuHvZjglcVe4B8b/oJgxYabap9atWoV7r//ftW2X+mGC/yV6wGBvXLYU8kCf4G/sghIL10QLOmYiScEAgIBgYBAQCAgEBAIDImAIFhCQAQCAgGBgEBAICAQEAhwRkAQLM6ApkN2mzdvZsuAbrcbCxcuxOrVq6HVavs17fbbb8fHH3+MnJwcnDhxIh2anTRtGA7/ffv2sf5pb29HRkYGfvCDH+CHP/xh0tQ/1SsyHP52ux1XXXUVPB4PvF4vLr/8cjz33HPQ6XSp3vSkqP9w+Pet5LJly3D06FExBnHsuWjwp3Fn5syZkVLJP19+fj7HWqRHVoJgpUc/cmtFIBDAxIkT8eabb7Jt0USkaBC7++67+5Xx0UcfITc3l/1fECxu8CMa/I8dO4aenh5MmjSJ+ZSZO3cu3njjDcyaNYtfRVSaUzT4UxqHw4GsrCzWX7feeituuOEGfOc731EpavyaHQ3+4dJee+01vPvuu9ixY4cYgzh1QbT4048Jn8/HqdT0zUYQrPTt25hatmvXLjz88MPYsmULe/69995jxqVEuAaGqqoqLF68WAxuMSE9+ENS8A/nQJP797//fVx//fUca6LOrKTiT1qsm2++mf3QGPgjRJ0IxtfqaPFvbm5mpPbFF1/EddddJ8ag+GCPPB0t/oJgRQe4IFjR4aSaVGvXrsW6detAvw4pVFZWYvny5di7d68gWAmQAin4U3VOnjyJ+fPn48svv0ReXl4CapjeRUjB/9JLL8WRI0dw7bXX4tVXXxVLhBxEI1r8v/Wtb+G73/0uxo4dK37kccA9nEW0+Gs0GqY5J43XXXfdhYceeohjLdInK0Gw0qcvubRkzZo1WL9+vSBYXNCUnokU/MkGi8jVY489httuu016YeKJ8xCQgj893N3djW984xtM60vaXBHiQyAa/N955x389a9/xcsvvwyhRY8P74FPR4M/PVNdXY2Kigq0tLTgpptuwn333Yc777yTb2XSIDdBsNKgE3k2YTAV8cqVK7FhwwahweIJ9AXyihZ/sgFasmQJ7rjjDmHgzrFfosW/b5G0hE52cb///e851kSdWUWD/yOPPBLRGJIdUENDA6ZMmYIDBw6oEzSOrY4G/4HF/fGPf8ShQ4fwhz/8gWNN0iMrQbDSox+5tcLv92PChAl46623Ikbu11xzDe655x5BsLihfOGMosGfdq6RvdVXvvIVPPHEEwmolXqKiAb/xsZGGAwGtsmDdtrecsstuPHGG9luThHiQyAa/PuWIDRY8eE98Olo8KdDtzMzM2EymeByuZj8kx0i2YGK0B8BQbCERJyHAO0QXLFiBZs8FixYgOeffx5vv/02M3T/05/+xNLTzsI9e/agqakJJSUlzG0A/bIUIX4EhsOf7OO+/e1vY/r06ZHCHn30UbabTYT4ERgOf3KTQT84aDKii2ywnn32WZBdigjxIzAc/oJgxY/xUDkMhz/t2qQfEyTvpEGkTQbPPPOMkP9BQBUES15ZFbkLBAQCAgGBgEBAIKBCBATBUmGniyYLBAQCAgGBgEBAICAvAoJgyYuvyF0gIBAQCAgEBAICARUiIAiWCjtdNFkgIBAQCAgEBAICAXkREARLXnxF7gIBgYBAQCAgEBAIqBABQbBU2OmiyQIBgYBAQCAgEBAIyIuAIFjy4ityFwgIBDgiQGegkR8e8mBPobW1FXa7nXmVpkDODn/5y1+itrYWZrMZ5DPsqaeeYt7WRRAICAQEAolEQBCsRKItyhIICATiQmDgIbMvvfQStm3bFvHPRpkvXLgQTz/9NK644gps2rSJHeVBxwrRsyIIBAQCAoFEISAIVqKQFuUIBAQCcSMglWCRp2nyOk3HqRQVFcVdvshAICAQEAhEi4AgWNEiJdIJBAQCiiMglWCtXbsWv/3tb5mWSwSBgEBAIJBIBATBSiTaoiyBgEAgLgSiJVhkg0WBzqp79913sWjRorjKFQ8LBAQCAgGpCAiCJRUxkV4gIBBQDIFoCVbYBuuFF17Ak08+iePHj7PDaUUQCAgEBAKJQkAQrEQhLcoRCAgE4kZAKsGiAq+++mq2i5AOJBdBICAQEAgkCgFBsBKFtChHICAQiBuBWAjW9u3bsXz5cqbF0uv1cddBZCAQEAgIBKJBQBCsaFASaQQCAgGBgEBAICAQEAhIQEAQLAlgiaQCAYGAQEAgIBAQCAgEokFAEKxoUBJpBAICAYGAQEAgIBAQCEhAQBAsCWCJpAIBgYBAQCAgEBAICASiQeD/A9FJDVpAI17AAAAAAElFTkSuQmCC\" width=\"800\">"
      ],
      "text/plain": [
       "<IPython.core.display.HTML object>"
      ]
     },
     "metadata": {},
     "output_type": "display_data"
    }
   ],
   "source": [
    "from SuPyModes.Geometry          import Geometry, Circle, Fused3\n",
    "from SuPyModes.Solver            import SuPySolver\n",
    "from SuPyModes.sellmeier         import Fused_silica\n",
    "\n",
    "Clad = Fused3(Radius =  62.5, Fusion  = 0.8, Index   = Fused_silica(1.55))\n",
    "\n",
    "Core0 = Circle( Position=Clad.C[0], Radi = 4.2, Index = Fused_silica(1.55)+0.005 )\n",
    "\n",
    "Core1 = Circle( Position=Clad.C[1], Radi = 4.2, Index = Fused_silica(1.55)+0.005 )\n",
    "\n",
    "Core2 = Circle( Position=Clad.C[2], Radi = 4.2, Index = Fused_silica(1.55)+0.005 )\n",
    "\n",
    "Geo = Geometry(Objects = [Clad, Core0, Core1, Core2],\n",
    "               Xbound  = [-120, 120],\n",
    "               Ybound  = [-110, 130],\n",
    "               Nx      = 100,\n",
    "               Ny      = 100)\n",
    "\n",
    "Sol = SuPySolver(Coupler=Geo)\n",
    "\n",
    "SuperModes = Sol.GetModes(wavelength = 1.55,\n",
    "                          Nstep      = 100,\n",
    "                          Nsol       = 12,\n",
    "                          debug      = False,\n",
    "                          ITRi       = .5,\n",
    "                          ITRf       = 0.05,\n",
    "                          Xsym       = 0,\n",
    "                          Ysym       = 0)\n"
   ]
  },
  {
   "cell_type": "code",
   "execution_count": 11,
   "metadata": {},
   "outputs": [
    {
     "data": {
      "application/javascript": [
       "/* Put everything inside the global mpl namespace */\n",
       "/* global mpl */\n",
       "window.mpl = {};\n",
       "\n",
       "mpl.get_websocket_type = function () {\n",
       "    if (typeof WebSocket !== 'undefined') {\n",
       "        return WebSocket;\n",
       "    } else if (typeof MozWebSocket !== 'undefined') {\n",
       "        return MozWebSocket;\n",
       "    } else {\n",
       "        alert(\n",
       "            'Your browser does not have WebSocket support. ' +\n",
       "                'Please try Chrome, Safari or Firefox ≥ 6. ' +\n",
       "                'Firefox 4 and 5 are also supported but you ' +\n",
       "                'have to enable WebSockets in about:config.'\n",
       "        );\n",
       "    }\n",
       "};\n",
       "\n",
       "mpl.figure = function (figure_id, websocket, ondownload, parent_element) {\n",
       "    this.id = figure_id;\n",
       "\n",
       "    this.ws = websocket;\n",
       "\n",
       "    this.supports_binary = this.ws.binaryType !== undefined;\n",
       "\n",
       "    if (!this.supports_binary) {\n",
       "        var warnings = document.getElementById('mpl-warnings');\n",
       "        if (warnings) {\n",
       "            warnings.style.display = 'block';\n",
       "            warnings.textContent =\n",
       "                'This browser does not support binary websocket messages. ' +\n",
       "                'Performance may be slow.';\n",
       "        }\n",
       "    }\n",
       "\n",
       "    this.imageObj = new Image();\n",
       "\n",
       "    this.context = undefined;\n",
       "    this.message = undefined;\n",
       "    this.canvas = undefined;\n",
       "    this.rubberband_canvas = undefined;\n",
       "    this.rubberband_context = undefined;\n",
       "    this.format_dropdown = undefined;\n",
       "\n",
       "    this.image_mode = 'full';\n",
       "\n",
       "    this.root = document.createElement('div');\n",
       "    this.root.setAttribute('style', 'display: inline-block');\n",
       "    this._root_extra_style(this.root);\n",
       "\n",
       "    parent_element.appendChild(this.root);\n",
       "\n",
       "    this._init_header(this);\n",
       "    this._init_canvas(this);\n",
       "    this._init_toolbar(this);\n",
       "\n",
       "    var fig = this;\n",
       "\n",
       "    this.waiting = false;\n",
       "\n",
       "    this.ws.onopen = function () {\n",
       "        fig.send_message('supports_binary', { value: fig.supports_binary });\n",
       "        fig.send_message('send_image_mode', {});\n",
       "        if (fig.ratio !== 1) {\n",
       "            fig.send_message('set_dpi_ratio', { dpi_ratio: fig.ratio });\n",
       "        }\n",
       "        fig.send_message('refresh', {});\n",
       "    };\n",
       "\n",
       "    this.imageObj.onload = function () {\n",
       "        if (fig.image_mode === 'full') {\n",
       "            // Full images could contain transparency (where diff images\n",
       "            // almost always do), so we need to clear the canvas so that\n",
       "            // there is no ghosting.\n",
       "            fig.context.clearRect(0, 0, fig.canvas.width, fig.canvas.height);\n",
       "        }\n",
       "        fig.context.drawImage(fig.imageObj, 0, 0);\n",
       "    };\n",
       "\n",
       "    this.imageObj.onunload = function () {\n",
       "        fig.ws.close();\n",
       "    };\n",
       "\n",
       "    this.ws.onmessage = this._make_on_message_function(this);\n",
       "\n",
       "    this.ondownload = ondownload;\n",
       "};\n",
       "\n",
       "mpl.figure.prototype._init_header = function () {\n",
       "    var titlebar = document.createElement('div');\n",
       "    titlebar.classList =\n",
       "        'ui-dialog-titlebar ui-widget-header ui-corner-all ui-helper-clearfix';\n",
       "    var titletext = document.createElement('div');\n",
       "    titletext.classList = 'ui-dialog-title';\n",
       "    titletext.setAttribute(\n",
       "        'style',\n",
       "        'width: 100%; text-align: center; padding: 3px;'\n",
       "    );\n",
       "    titlebar.appendChild(titletext);\n",
       "    this.root.appendChild(titlebar);\n",
       "    this.header = titletext;\n",
       "};\n",
       "\n",
       "mpl.figure.prototype._canvas_extra_style = function (_canvas_div) {};\n",
       "\n",
       "mpl.figure.prototype._root_extra_style = function (_canvas_div) {};\n",
       "\n",
       "mpl.figure.prototype._init_canvas = function () {\n",
       "    var fig = this;\n",
       "\n",
       "    var canvas_div = (this.canvas_div = document.createElement('div'));\n",
       "    canvas_div.setAttribute(\n",
       "        'style',\n",
       "        'border: 1px solid #ddd;' +\n",
       "            'box-sizing: content-box;' +\n",
       "            'clear: both;' +\n",
       "            'min-height: 1px;' +\n",
       "            'min-width: 1px;' +\n",
       "            'outline: 0;' +\n",
       "            'overflow: hidden;' +\n",
       "            'position: relative;' +\n",
       "            'resize: both;'\n",
       "    );\n",
       "\n",
       "    function on_keyboard_event_closure(name) {\n",
       "        return function (event) {\n",
       "            return fig.key_event(event, name);\n",
       "        };\n",
       "    }\n",
       "\n",
       "    canvas_div.addEventListener(\n",
       "        'keydown',\n",
       "        on_keyboard_event_closure('key_press')\n",
       "    );\n",
       "    canvas_div.addEventListener(\n",
       "        'keyup',\n",
       "        on_keyboard_event_closure('key_release')\n",
       "    );\n",
       "\n",
       "    this._canvas_extra_style(canvas_div);\n",
       "    this.root.appendChild(canvas_div);\n",
       "\n",
       "    var canvas = (this.canvas = document.createElement('canvas'));\n",
       "    canvas.classList.add('mpl-canvas');\n",
       "    canvas.setAttribute('style', 'box-sizing: content-box;');\n",
       "\n",
       "    this.context = canvas.getContext('2d');\n",
       "\n",
       "    var backingStore =\n",
       "        this.context.backingStorePixelRatio ||\n",
       "        this.context.webkitBackingStorePixelRatio ||\n",
       "        this.context.mozBackingStorePixelRatio ||\n",
       "        this.context.msBackingStorePixelRatio ||\n",
       "        this.context.oBackingStorePixelRatio ||\n",
       "        this.context.backingStorePixelRatio ||\n",
       "        1;\n",
       "\n",
       "    this.ratio = (window.devicePixelRatio || 1) / backingStore;\n",
       "    if (this.ratio !== 1) {\n",
       "        fig.send_message('set_dpi_ratio', { dpi_ratio: this.ratio });\n",
       "    }\n",
       "\n",
       "    var rubberband_canvas = (this.rubberband_canvas = document.createElement(\n",
       "        'canvas'\n",
       "    ));\n",
       "    rubberband_canvas.setAttribute(\n",
       "        'style',\n",
       "        'box-sizing: content-box; position: absolute; left: 0; top: 0; z-index: 1;'\n",
       "    );\n",
       "\n",
       "    var resizeObserver = new ResizeObserver(function (entries) {\n",
       "        var nentries = entries.length;\n",
       "        for (var i = 0; i < nentries; i++) {\n",
       "            var entry = entries[i];\n",
       "            var width, height;\n",
       "            if (entry.contentBoxSize) {\n",
       "                if (entry.contentBoxSize instanceof Array) {\n",
       "                    // Chrome 84 implements new version of spec.\n",
       "                    width = entry.contentBoxSize[0].inlineSize;\n",
       "                    height = entry.contentBoxSize[0].blockSize;\n",
       "                } else {\n",
       "                    // Firefox implements old version of spec.\n",
       "                    width = entry.contentBoxSize.inlineSize;\n",
       "                    height = entry.contentBoxSize.blockSize;\n",
       "                }\n",
       "            } else {\n",
       "                // Chrome <84 implements even older version of spec.\n",
       "                width = entry.contentRect.width;\n",
       "                height = entry.contentRect.height;\n",
       "            }\n",
       "\n",
       "            // Keep the size of the canvas and rubber band canvas in sync with\n",
       "            // the canvas container.\n",
       "            if (entry.devicePixelContentBoxSize) {\n",
       "                // Chrome 84 implements new version of spec.\n",
       "                canvas.setAttribute(\n",
       "                    'width',\n",
       "                    entry.devicePixelContentBoxSize[0].inlineSize\n",
       "                );\n",
       "                canvas.setAttribute(\n",
       "                    'height',\n",
       "                    entry.devicePixelContentBoxSize[0].blockSize\n",
       "                );\n",
       "            } else {\n",
       "                canvas.setAttribute('width', width * fig.ratio);\n",
       "                canvas.setAttribute('height', height * fig.ratio);\n",
       "            }\n",
       "            canvas.setAttribute(\n",
       "                'style',\n",
       "                'width: ' + width + 'px; height: ' + height + 'px;'\n",
       "            );\n",
       "\n",
       "            rubberband_canvas.setAttribute('width', width);\n",
       "            rubberband_canvas.setAttribute('height', height);\n",
       "\n",
       "            // And update the size in Python. We ignore the initial 0/0 size\n",
       "            // that occurs as the element is placed into the DOM, which should\n",
       "            // otherwise not happen due to the minimum size styling.\n",
       "            if (width != 0 && height != 0) {\n",
       "                fig.request_resize(width, height);\n",
       "            }\n",
       "        }\n",
       "    });\n",
       "    resizeObserver.observe(canvas_div);\n",
       "\n",
       "    function on_mouse_event_closure(name) {\n",
       "        return function (event) {\n",
       "            return fig.mouse_event(event, name);\n",
       "        };\n",
       "    }\n",
       "\n",
       "    rubberband_canvas.addEventListener(\n",
       "        'mousedown',\n",
       "        on_mouse_event_closure('button_press')\n",
       "    );\n",
       "    rubberband_canvas.addEventListener(\n",
       "        'mouseup',\n",
       "        on_mouse_event_closure('button_release')\n",
       "    );\n",
       "    // Throttle sequential mouse events to 1 every 20ms.\n",
       "    rubberband_canvas.addEventListener(\n",
       "        'mousemove',\n",
       "        on_mouse_event_closure('motion_notify')\n",
       "    );\n",
       "\n",
       "    rubberband_canvas.addEventListener(\n",
       "        'mouseenter',\n",
       "        on_mouse_event_closure('figure_enter')\n",
       "    );\n",
       "    rubberband_canvas.addEventListener(\n",
       "        'mouseleave',\n",
       "        on_mouse_event_closure('figure_leave')\n",
       "    );\n",
       "\n",
       "    canvas_div.addEventListener('wheel', function (event) {\n",
       "        if (event.deltaY < 0) {\n",
       "            event.step = 1;\n",
       "        } else {\n",
       "            event.step = -1;\n",
       "        }\n",
       "        on_mouse_event_closure('scroll')(event);\n",
       "    });\n",
       "\n",
       "    canvas_div.appendChild(canvas);\n",
       "    canvas_div.appendChild(rubberband_canvas);\n",
       "\n",
       "    this.rubberband_context = rubberband_canvas.getContext('2d');\n",
       "    this.rubberband_context.strokeStyle = '#000000';\n",
       "\n",
       "    this._resize_canvas = function (width, height, forward) {\n",
       "        if (forward) {\n",
       "            canvas_div.style.width = width + 'px';\n",
       "            canvas_div.style.height = height + 'px';\n",
       "        }\n",
       "    };\n",
       "\n",
       "    // Disable right mouse context menu.\n",
       "    this.rubberband_canvas.addEventListener('contextmenu', function (_e) {\n",
       "        event.preventDefault();\n",
       "        return false;\n",
       "    });\n",
       "\n",
       "    function set_focus() {\n",
       "        canvas.focus();\n",
       "        canvas_div.focus();\n",
       "    }\n",
       "\n",
       "    window.setTimeout(set_focus, 100);\n",
       "};\n",
       "\n",
       "mpl.figure.prototype._init_toolbar = function () {\n",
       "    var fig = this;\n",
       "\n",
       "    var toolbar = document.createElement('div');\n",
       "    toolbar.classList = 'mpl-toolbar';\n",
       "    this.root.appendChild(toolbar);\n",
       "\n",
       "    function on_click_closure(name) {\n",
       "        return function (_event) {\n",
       "            return fig.toolbar_button_onclick(name);\n",
       "        };\n",
       "    }\n",
       "\n",
       "    function on_mouseover_closure(tooltip) {\n",
       "        return function (event) {\n",
       "            if (!event.currentTarget.disabled) {\n",
       "                return fig.toolbar_button_onmouseover(tooltip);\n",
       "            }\n",
       "        };\n",
       "    }\n",
       "\n",
       "    fig.buttons = {};\n",
       "    var buttonGroup = document.createElement('div');\n",
       "    buttonGroup.classList = 'mpl-button-group';\n",
       "    for (var toolbar_ind in mpl.toolbar_items) {\n",
       "        var name = mpl.toolbar_items[toolbar_ind][0];\n",
       "        var tooltip = mpl.toolbar_items[toolbar_ind][1];\n",
       "        var image = mpl.toolbar_items[toolbar_ind][2];\n",
       "        var method_name = mpl.toolbar_items[toolbar_ind][3];\n",
       "\n",
       "        if (!name) {\n",
       "            /* Instead of a spacer, we start a new button group. */\n",
       "            if (buttonGroup.hasChildNodes()) {\n",
       "                toolbar.appendChild(buttonGroup);\n",
       "            }\n",
       "            buttonGroup = document.createElement('div');\n",
       "            buttonGroup.classList = 'mpl-button-group';\n",
       "            continue;\n",
       "        }\n",
       "\n",
       "        var button = (fig.buttons[name] = document.createElement('button'));\n",
       "        button.classList = 'mpl-widget';\n",
       "        button.setAttribute('role', 'button');\n",
       "        button.setAttribute('aria-disabled', 'false');\n",
       "        button.addEventListener('click', on_click_closure(method_name));\n",
       "        button.addEventListener('mouseover', on_mouseover_closure(tooltip));\n",
       "\n",
       "        var icon_img = document.createElement('img');\n",
       "        icon_img.src = '_images/' + image + '.png';\n",
       "        icon_img.srcset = '_images/' + image + '_large.png 2x';\n",
       "        icon_img.alt = tooltip;\n",
       "        button.appendChild(icon_img);\n",
       "\n",
       "        buttonGroup.appendChild(button);\n",
       "    }\n",
       "\n",
       "    if (buttonGroup.hasChildNodes()) {\n",
       "        toolbar.appendChild(buttonGroup);\n",
       "    }\n",
       "\n",
       "    var fmt_picker = document.createElement('select');\n",
       "    fmt_picker.classList = 'mpl-widget';\n",
       "    toolbar.appendChild(fmt_picker);\n",
       "    this.format_dropdown = fmt_picker;\n",
       "\n",
       "    for (var ind in mpl.extensions) {\n",
       "        var fmt = mpl.extensions[ind];\n",
       "        var option = document.createElement('option');\n",
       "        option.selected = fmt === mpl.default_extension;\n",
       "        option.innerHTML = fmt;\n",
       "        fmt_picker.appendChild(option);\n",
       "    }\n",
       "\n",
       "    var status_bar = document.createElement('span');\n",
       "    status_bar.classList = 'mpl-message';\n",
       "    toolbar.appendChild(status_bar);\n",
       "    this.message = status_bar;\n",
       "};\n",
       "\n",
       "mpl.figure.prototype.request_resize = function (x_pixels, y_pixels) {\n",
       "    // Request matplotlib to resize the figure. Matplotlib will then trigger a resize in the client,\n",
       "    // which will in turn request a refresh of the image.\n",
       "    this.send_message('resize', { width: x_pixels, height: y_pixels });\n",
       "};\n",
       "\n",
       "mpl.figure.prototype.send_message = function (type, properties) {\n",
       "    properties['type'] = type;\n",
       "    properties['figure_id'] = this.id;\n",
       "    this.ws.send(JSON.stringify(properties));\n",
       "};\n",
       "\n",
       "mpl.figure.prototype.send_draw_message = function () {\n",
       "    if (!this.waiting) {\n",
       "        this.waiting = true;\n",
       "        this.ws.send(JSON.stringify({ type: 'draw', figure_id: this.id }));\n",
       "    }\n",
       "};\n",
       "\n",
       "mpl.figure.prototype.handle_save = function (fig, _msg) {\n",
       "    var format_dropdown = fig.format_dropdown;\n",
       "    var format = format_dropdown.options[format_dropdown.selectedIndex].value;\n",
       "    fig.ondownload(fig, format);\n",
       "};\n",
       "\n",
       "mpl.figure.prototype.handle_resize = function (fig, msg) {\n",
       "    var size = msg['size'];\n",
       "    if (size[0] !== fig.canvas.width || size[1] !== fig.canvas.height) {\n",
       "        fig._resize_canvas(size[0], size[1], msg['forward']);\n",
       "        fig.send_message('refresh', {});\n",
       "    }\n",
       "};\n",
       "\n",
       "mpl.figure.prototype.handle_rubberband = function (fig, msg) {\n",
       "    var x0 = msg['x0'] / fig.ratio;\n",
       "    var y0 = (fig.canvas.height - msg['y0']) / fig.ratio;\n",
       "    var x1 = msg['x1'] / fig.ratio;\n",
       "    var y1 = (fig.canvas.height - msg['y1']) / fig.ratio;\n",
       "    x0 = Math.floor(x0) + 0.5;\n",
       "    y0 = Math.floor(y0) + 0.5;\n",
       "    x1 = Math.floor(x1) + 0.5;\n",
       "    y1 = Math.floor(y1) + 0.5;\n",
       "    var min_x = Math.min(x0, x1);\n",
       "    var min_y = Math.min(y0, y1);\n",
       "    var width = Math.abs(x1 - x0);\n",
       "    var height = Math.abs(y1 - y0);\n",
       "\n",
       "    fig.rubberband_context.clearRect(\n",
       "        0,\n",
       "        0,\n",
       "        fig.canvas.width / fig.ratio,\n",
       "        fig.canvas.height / fig.ratio\n",
       "    );\n",
       "\n",
       "    fig.rubberband_context.strokeRect(min_x, min_y, width, height);\n",
       "};\n",
       "\n",
       "mpl.figure.prototype.handle_figure_label = function (fig, msg) {\n",
       "    // Updates the figure title.\n",
       "    fig.header.textContent = msg['label'];\n",
       "};\n",
       "\n",
       "mpl.figure.prototype.handle_cursor = function (fig, msg) {\n",
       "    var cursor = msg['cursor'];\n",
       "    switch (cursor) {\n",
       "        case 0:\n",
       "            cursor = 'pointer';\n",
       "            break;\n",
       "        case 1:\n",
       "            cursor = 'default';\n",
       "            break;\n",
       "        case 2:\n",
       "            cursor = 'crosshair';\n",
       "            break;\n",
       "        case 3:\n",
       "            cursor = 'move';\n",
       "            break;\n",
       "    }\n",
       "    fig.rubberband_canvas.style.cursor = cursor;\n",
       "};\n",
       "\n",
       "mpl.figure.prototype.handle_message = function (fig, msg) {\n",
       "    fig.message.textContent = msg['message'];\n",
       "};\n",
       "\n",
       "mpl.figure.prototype.handle_draw = function (fig, _msg) {\n",
       "    // Request the server to send over a new figure.\n",
       "    fig.send_draw_message();\n",
       "};\n",
       "\n",
       "mpl.figure.prototype.handle_image_mode = function (fig, msg) {\n",
       "    fig.image_mode = msg['mode'];\n",
       "};\n",
       "\n",
       "mpl.figure.prototype.handle_history_buttons = function (fig, msg) {\n",
       "    for (var key in msg) {\n",
       "        if (!(key in fig.buttons)) {\n",
       "            continue;\n",
       "        }\n",
       "        fig.buttons[key].disabled = !msg[key];\n",
       "        fig.buttons[key].setAttribute('aria-disabled', !msg[key]);\n",
       "    }\n",
       "};\n",
       "\n",
       "mpl.figure.prototype.handle_navigate_mode = function (fig, msg) {\n",
       "    if (msg['mode'] === 'PAN') {\n",
       "        fig.buttons['Pan'].classList.add('active');\n",
       "        fig.buttons['Zoom'].classList.remove('active');\n",
       "    } else if (msg['mode'] === 'ZOOM') {\n",
       "        fig.buttons['Pan'].classList.remove('active');\n",
       "        fig.buttons['Zoom'].classList.add('active');\n",
       "    } else {\n",
       "        fig.buttons['Pan'].classList.remove('active');\n",
       "        fig.buttons['Zoom'].classList.remove('active');\n",
       "    }\n",
       "};\n",
       "\n",
       "mpl.figure.prototype.updated_canvas_event = function () {\n",
       "    // Called whenever the canvas gets updated.\n",
       "    this.send_message('ack', {});\n",
       "};\n",
       "\n",
       "// A function to construct a web socket function for onmessage handling.\n",
       "// Called in the figure constructor.\n",
       "mpl.figure.prototype._make_on_message_function = function (fig) {\n",
       "    return function socket_on_message(evt) {\n",
       "        if (evt.data instanceof Blob) {\n",
       "            /* FIXME: We get \"Resource interpreted as Image but\n",
       "             * transferred with MIME type text/plain:\" errors on\n",
       "             * Chrome.  But how to set the MIME type?  It doesn't seem\n",
       "             * to be part of the websocket stream */\n",
       "            evt.data.type = 'image/png';\n",
       "\n",
       "            /* Free the memory for the previous frames */\n",
       "            if (fig.imageObj.src) {\n",
       "                (window.URL || window.webkitURL).revokeObjectURL(\n",
       "                    fig.imageObj.src\n",
       "                );\n",
       "            }\n",
       "\n",
       "            fig.imageObj.src = (window.URL || window.webkitURL).createObjectURL(\n",
       "                evt.data\n",
       "            );\n",
       "            fig.updated_canvas_event();\n",
       "            fig.waiting = false;\n",
       "            return;\n",
       "        } else if (\n",
       "            typeof evt.data === 'string' &&\n",
       "            evt.data.slice(0, 21) === 'data:image/png;base64'\n",
       "        ) {\n",
       "            fig.imageObj.src = evt.data;\n",
       "            fig.updated_canvas_event();\n",
       "            fig.waiting = false;\n",
       "            return;\n",
       "        }\n",
       "\n",
       "        var msg = JSON.parse(evt.data);\n",
       "        var msg_type = msg['type'];\n",
       "\n",
       "        // Call the  \"handle_{type}\" callback, which takes\n",
       "        // the figure and JSON message as its only arguments.\n",
       "        try {\n",
       "            var callback = fig['handle_' + msg_type];\n",
       "        } catch (e) {\n",
       "            console.log(\n",
       "                \"No handler for the '\" + msg_type + \"' message type: \",\n",
       "                msg\n",
       "            );\n",
       "            return;\n",
       "        }\n",
       "\n",
       "        if (callback) {\n",
       "            try {\n",
       "                // console.log(\"Handling '\" + msg_type + \"' message: \", msg);\n",
       "                callback(fig, msg);\n",
       "            } catch (e) {\n",
       "                console.log(\n",
       "                    \"Exception inside the 'handler_\" + msg_type + \"' callback:\",\n",
       "                    e,\n",
       "                    e.stack,\n",
       "                    msg\n",
       "                );\n",
       "            }\n",
       "        }\n",
       "    };\n",
       "};\n",
       "\n",
       "// from http://stackoverflow.com/questions/1114465/getting-mouse-location-in-canvas\n",
       "mpl.findpos = function (e) {\n",
       "    //this section is from http://www.quirksmode.org/js/events_properties.html\n",
       "    var targ;\n",
       "    if (!e) {\n",
       "        e = window.event;\n",
       "    }\n",
       "    if (e.target) {\n",
       "        targ = e.target;\n",
       "    } else if (e.srcElement) {\n",
       "        targ = e.srcElement;\n",
       "    }\n",
       "    if (targ.nodeType === 3) {\n",
       "        // defeat Safari bug\n",
       "        targ = targ.parentNode;\n",
       "    }\n",
       "\n",
       "    // pageX,Y are the mouse positions relative to the document\n",
       "    var boundingRect = targ.getBoundingClientRect();\n",
       "    var x = e.pageX - (boundingRect.left + document.body.scrollLeft);\n",
       "    var y = e.pageY - (boundingRect.top + document.body.scrollTop);\n",
       "\n",
       "    return { x: x, y: y };\n",
       "};\n",
       "\n",
       "/*\n",
       " * return a copy of an object with only non-object keys\n",
       " * we need this to avoid circular references\n",
       " * http://stackoverflow.com/a/24161582/3208463\n",
       " */\n",
       "function simpleKeys(original) {\n",
       "    return Object.keys(original).reduce(function (obj, key) {\n",
       "        if (typeof original[key] !== 'object') {\n",
       "            obj[key] = original[key];\n",
       "        }\n",
       "        return obj;\n",
       "    }, {});\n",
       "}\n",
       "\n",
       "mpl.figure.prototype.mouse_event = function (event, name) {\n",
       "    var canvas_pos = mpl.findpos(event);\n",
       "\n",
       "    if (name === 'button_press') {\n",
       "        this.canvas.focus();\n",
       "        this.canvas_div.focus();\n",
       "    }\n",
       "\n",
       "    var x = canvas_pos.x * this.ratio;\n",
       "    var y = canvas_pos.y * this.ratio;\n",
       "\n",
       "    this.send_message(name, {\n",
       "        x: x,\n",
       "        y: y,\n",
       "        button: event.button,\n",
       "        step: event.step,\n",
       "        guiEvent: simpleKeys(event),\n",
       "    });\n",
       "\n",
       "    /* This prevents the web browser from automatically changing to\n",
       "     * the text insertion cursor when the button is pressed.  We want\n",
       "     * to control all of the cursor setting manually through the\n",
       "     * 'cursor' event from matplotlib */\n",
       "    event.preventDefault();\n",
       "    return false;\n",
       "};\n",
       "\n",
       "mpl.figure.prototype._key_event_extra = function (_event, _name) {\n",
       "    // Handle any extra behaviour associated with a key event\n",
       "};\n",
       "\n",
       "mpl.figure.prototype.key_event = function (event, name) {\n",
       "    // Prevent repeat events\n",
       "    if (name === 'key_press') {\n",
       "        if (event.which === this._key) {\n",
       "            return;\n",
       "        } else {\n",
       "            this._key = event.which;\n",
       "        }\n",
       "    }\n",
       "    if (name === 'key_release') {\n",
       "        this._key = null;\n",
       "    }\n",
       "\n",
       "    var value = '';\n",
       "    if (event.ctrlKey && event.which !== 17) {\n",
       "        value += 'ctrl+';\n",
       "    }\n",
       "    if (event.altKey && event.which !== 18) {\n",
       "        value += 'alt+';\n",
       "    }\n",
       "    if (event.shiftKey && event.which !== 16) {\n",
       "        value += 'shift+';\n",
       "    }\n",
       "\n",
       "    value += 'k';\n",
       "    value += event.which.toString();\n",
       "\n",
       "    this._key_event_extra(event, name);\n",
       "\n",
       "    this.send_message(name, { key: value, guiEvent: simpleKeys(event) });\n",
       "    return false;\n",
       "};\n",
       "\n",
       "mpl.figure.prototype.toolbar_button_onclick = function (name) {\n",
       "    if (name === 'download') {\n",
       "        this.handle_save(this, null);\n",
       "    } else {\n",
       "        this.send_message('toolbar_button', { name: name });\n",
       "    }\n",
       "};\n",
       "\n",
       "mpl.figure.prototype.toolbar_button_onmouseover = function (tooltip) {\n",
       "    this.message.textContent = tooltip;\n",
       "};\n",
       "mpl.toolbar_items = [[\"Home\", \"Reset original view\", \"fa fa-home icon-home\", \"home\"], [\"Back\", \"Back to previous view\", \"fa fa-arrow-left icon-arrow-left\", \"back\"], [\"Forward\", \"Forward to next view\", \"fa fa-arrow-right icon-arrow-right\", \"forward\"], [\"\", \"\", \"\", \"\"], [\"Pan\", \"Left button pans, Right button zooms\\nx/y fixes axis, CTRL fixes aspect\", \"fa fa-arrows icon-move\", \"pan\"], [\"Zoom\", \"Zoom to rectangle\\nx/y fixes axis, CTRL fixes aspect\", \"fa fa-square-o icon-check-empty\", \"zoom\"], [\"\", \"\", \"\", \"\"], [\"Download\", \"Download plot\", \"fa fa-floppy-o icon-save\", \"download\"]];\n",
       "\n",
       "mpl.extensions = [\"eps\", \"jpeg\", \"pdf\", \"png\", \"ps\", \"raw\", \"svg\", \"tif\"];\n",
       "\n",
       "mpl.default_extension = \"png\";/* global mpl */\n",
       "\n",
       "var comm_websocket_adapter = function (comm) {\n",
       "    // Create a \"websocket\"-like object which calls the given IPython comm\n",
       "    // object with the appropriate methods. Currently this is a non binary\n",
       "    // socket, so there is still some room for performance tuning.\n",
       "    var ws = {};\n",
       "\n",
       "    ws.close = function () {\n",
       "        comm.close();\n",
       "    };\n",
       "    ws.send = function (m) {\n",
       "        //console.log('sending', m);\n",
       "        comm.send(m);\n",
       "    };\n",
       "    // Register the callback with on_msg.\n",
       "    comm.on_msg(function (msg) {\n",
       "        //console.log('receiving', msg['content']['data'], msg);\n",
       "        // Pass the mpl event to the overridden (by mpl) onmessage function.\n",
       "        ws.onmessage(msg['content']['data']);\n",
       "    });\n",
       "    return ws;\n",
       "};\n",
       "\n",
       "mpl.mpl_figure_comm = function (comm, msg) {\n",
       "    // This is the function which gets called when the mpl process\n",
       "    // starts-up an IPython Comm through the \"matplotlib\" channel.\n",
       "\n",
       "    var id = msg.content.data.id;\n",
       "    // Get hold of the div created by the display call when the Comm\n",
       "    // socket was opened in Python.\n",
       "    var element = document.getElementById(id);\n",
       "    var ws_proxy = comm_websocket_adapter(comm);\n",
       "\n",
       "    function ondownload(figure, _format) {\n",
       "        window.open(figure.canvas.toDataURL());\n",
       "    }\n",
       "\n",
       "    var fig = new mpl.figure(id, ws_proxy, ondownload, element);\n",
       "\n",
       "    // Call onopen now - mpl needs it, as it is assuming we've passed it a real\n",
       "    // web socket which is closed, not our websocket->open comm proxy.\n",
       "    ws_proxy.onopen();\n",
       "\n",
       "    fig.parent_element = element;\n",
       "    fig.cell_info = mpl.find_output_cell(\"<div id='\" + id + \"'></div>\");\n",
       "    if (!fig.cell_info) {\n",
       "        console.error('Failed to find cell for figure', id, fig);\n",
       "        return;\n",
       "    }\n",
       "    fig.cell_info[0].output_area.element.one(\n",
       "        'cleared',\n",
       "        { fig: fig },\n",
       "        fig._remove_fig_handler\n",
       "    );\n",
       "};\n",
       "\n",
       "mpl.figure.prototype.handle_close = function (fig, msg) {\n",
       "    var width = fig.canvas.width / fig.ratio;\n",
       "    fig.cell_info[0].output_area.element.off(\n",
       "        'cleared',\n",
       "        fig._remove_fig_handler\n",
       "    );\n",
       "\n",
       "    // Update the output cell to use the data from the current canvas.\n",
       "    fig.push_to_output();\n",
       "    var dataURL = fig.canvas.toDataURL();\n",
       "    // Re-enable the keyboard manager in IPython - without this line, in FF,\n",
       "    // the notebook keyboard shortcuts fail.\n",
       "    IPython.keyboard_manager.enable();\n",
       "    fig.parent_element.innerHTML =\n",
       "        '<img src=\"' + dataURL + '\" width=\"' + width + '\">';\n",
       "    fig.close_ws(fig, msg);\n",
       "};\n",
       "\n",
       "mpl.figure.prototype.close_ws = function (fig, msg) {\n",
       "    fig.send_message('closing', msg);\n",
       "    // fig.ws.close()\n",
       "};\n",
       "\n",
       "mpl.figure.prototype.push_to_output = function (_remove_interactive) {\n",
       "    // Turn the data on the canvas into data in the output cell.\n",
       "    var width = this.canvas.width / this.ratio;\n",
       "    var dataURL = this.canvas.toDataURL();\n",
       "    this.cell_info[1]['text/html'] =\n",
       "        '<img src=\"' + dataURL + '\" width=\"' + width + '\">';\n",
       "};\n",
       "\n",
       "mpl.figure.prototype.updated_canvas_event = function () {\n",
       "    // Tell IPython that the notebook contents must change.\n",
       "    IPython.notebook.set_dirty(true);\n",
       "    this.send_message('ack', {});\n",
       "    var fig = this;\n",
       "    // Wait a second, then push the new image to the DOM so\n",
       "    // that it is saved nicely (might be nice to debounce this).\n",
       "    setTimeout(function () {\n",
       "        fig.push_to_output();\n",
       "    }, 1000);\n",
       "};\n",
       "\n",
       "mpl.figure.prototype._init_toolbar = function () {\n",
       "    var fig = this;\n",
       "\n",
       "    var toolbar = document.createElement('div');\n",
       "    toolbar.classList = 'btn-toolbar';\n",
       "    this.root.appendChild(toolbar);\n",
       "\n",
       "    function on_click_closure(name) {\n",
       "        return function (_event) {\n",
       "            return fig.toolbar_button_onclick(name);\n",
       "        };\n",
       "    }\n",
       "\n",
       "    function on_mouseover_closure(tooltip) {\n",
       "        return function (event) {\n",
       "            if (!event.currentTarget.disabled) {\n",
       "                return fig.toolbar_button_onmouseover(tooltip);\n",
       "            }\n",
       "        };\n",
       "    }\n",
       "\n",
       "    fig.buttons = {};\n",
       "    var buttonGroup = document.createElement('div');\n",
       "    buttonGroup.classList = 'btn-group';\n",
       "    var button;\n",
       "    for (var toolbar_ind in mpl.toolbar_items) {\n",
       "        var name = mpl.toolbar_items[toolbar_ind][0];\n",
       "        var tooltip = mpl.toolbar_items[toolbar_ind][1];\n",
       "        var image = mpl.toolbar_items[toolbar_ind][2];\n",
       "        var method_name = mpl.toolbar_items[toolbar_ind][3];\n",
       "\n",
       "        if (!name) {\n",
       "            /* Instead of a spacer, we start a new button group. */\n",
       "            if (buttonGroup.hasChildNodes()) {\n",
       "                toolbar.appendChild(buttonGroup);\n",
       "            }\n",
       "            buttonGroup = document.createElement('div');\n",
       "            buttonGroup.classList = 'btn-group';\n",
       "            continue;\n",
       "        }\n",
       "\n",
       "        button = fig.buttons[name] = document.createElement('button');\n",
       "        button.classList = 'btn btn-default';\n",
       "        button.href = '#';\n",
       "        button.title = name;\n",
       "        button.innerHTML = '<i class=\"fa ' + image + ' fa-lg\"></i>';\n",
       "        button.addEventListener('click', on_click_closure(method_name));\n",
       "        button.addEventListener('mouseover', on_mouseover_closure(tooltip));\n",
       "        buttonGroup.appendChild(button);\n",
       "    }\n",
       "\n",
       "    if (buttonGroup.hasChildNodes()) {\n",
       "        toolbar.appendChild(buttonGroup);\n",
       "    }\n",
       "\n",
       "    // Add the status bar.\n",
       "    var status_bar = document.createElement('span');\n",
       "    status_bar.classList = 'mpl-message pull-right';\n",
       "    toolbar.appendChild(status_bar);\n",
       "    this.message = status_bar;\n",
       "\n",
       "    // Add the close button to the window.\n",
       "    var buttongrp = document.createElement('div');\n",
       "    buttongrp.classList = 'btn-group inline pull-right';\n",
       "    button = document.createElement('button');\n",
       "    button.classList = 'btn btn-mini btn-primary';\n",
       "    button.href = '#';\n",
       "    button.title = 'Stop Interaction';\n",
       "    button.innerHTML = '<i class=\"fa fa-power-off icon-remove icon-large\"></i>';\n",
       "    button.addEventListener('click', function (_evt) {\n",
       "        fig.handle_close(fig, {});\n",
       "    });\n",
       "    button.addEventListener(\n",
       "        'mouseover',\n",
       "        on_mouseover_closure('Stop Interaction')\n",
       "    );\n",
       "    buttongrp.appendChild(button);\n",
       "    var titlebar = this.root.querySelector('.ui-dialog-titlebar');\n",
       "    titlebar.insertBefore(buttongrp, titlebar.firstChild);\n",
       "};\n",
       "\n",
       "mpl.figure.prototype._remove_fig_handler = function (event) {\n",
       "    var fig = event.data.fig;\n",
       "    fig.close_ws(fig, {});\n",
       "};\n",
       "\n",
       "mpl.figure.prototype._root_extra_style = function (el) {\n",
       "    el.style.boxSizing = 'content-box'; // override notebook setting of border-box.\n",
       "};\n",
       "\n",
       "mpl.figure.prototype._canvas_extra_style = function (el) {\n",
       "    // this is important to make the div 'focusable\n",
       "    el.setAttribute('tabindex', 0);\n",
       "    // reach out to IPython and tell the keyboard manager to turn it's self\n",
       "    // off when our div gets focus\n",
       "\n",
       "    // location in version 3\n",
       "    if (IPython.notebook.keyboard_manager) {\n",
       "        IPython.notebook.keyboard_manager.register_events(el);\n",
       "    } else {\n",
       "        // location in version 2\n",
       "        IPython.keyboard_manager.register_events(el);\n",
       "    }\n",
       "};\n",
       "\n",
       "mpl.figure.prototype._key_event_extra = function (event, _name) {\n",
       "    var manager = IPython.notebook.keyboard_manager;\n",
       "    if (!manager) {\n",
       "        manager = IPython.keyboard_manager;\n",
       "    }\n",
       "\n",
       "    // Check for shift+enter\n",
       "    if (event.shiftKey && event.which === 13) {\n",
       "        this.canvas_div.blur();\n",
       "        // select the cell after this one\n",
       "        var index = IPython.notebook.find_cell_index(this.cell_info[0]);\n",
       "        IPython.notebook.select(index + 1);\n",
       "    }\n",
       "};\n",
       "\n",
       "mpl.figure.prototype.handle_save = function (fig, _msg) {\n",
       "    fig.ondownload(fig, null);\n",
       "};\n",
       "\n",
       "mpl.find_output_cell = function (html_output) {\n",
       "    // Return the cell and output element which can be found *uniquely* in the notebook.\n",
       "    // Note - this is a bit hacky, but it is done because the \"notebook_saving.Notebook\"\n",
       "    // IPython event is triggered only after the cells have been serialised, which for\n",
       "    // our purposes (turning an active figure into a static one), is too late.\n",
       "    var cells = IPython.notebook.get_cells();\n",
       "    var ncells = cells.length;\n",
       "    for (var i = 0; i < ncells; i++) {\n",
       "        var cell = cells[i];\n",
       "        if (cell.cell_type === 'code') {\n",
       "            for (var j = 0; j < cell.output_area.outputs.length; j++) {\n",
       "                var data = cell.output_area.outputs[j];\n",
       "                if (data.data) {\n",
       "                    // IPython >= 3 moved mimebundle to data attribute of output\n",
       "                    data = data.data;\n",
       "                }\n",
       "                if (data['text/html'] === html_output) {\n",
       "                    return [cell, data, j];\n",
       "                }\n",
       "            }\n",
       "        }\n",
       "    }\n",
       "};\n",
       "\n",
       "// Register the function which deals with the matplotlib target/channel.\n",
       "// The kernel may be null if the page has been refreshed.\n",
       "if (IPython.notebook.kernel !== null) {\n",
       "    IPython.notebook.kernel.comm_manager.register_target(\n",
       "        'matplotlib',\n",
       "        mpl.mpl_figure_comm\n",
       "    );\n",
       "}\n"
      ],
      "text/plain": [
       "<IPython.core.display.Javascript object>"
      ]
     },
     "metadata": {},
     "output_type": "display_data"
    },
    {
     "data": {
      "text/html": [
       "<img src=\"data:image/png;base64,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\" width=\"600\">"
      ],
      "text/plain": [
       "<IPython.core.display.HTML object>"
      ]
     },
     "metadata": {},
     "output_type": "display_data"
    }
   ],
   "source": [
    "%matplotlib notebook\n",
    "SuperModes.Plot('Adiabatic', nMax=4)"
   ]
  },
  {
   "cell_type": "code",
   "execution_count": null,
   "metadata": {},
   "outputs": [],
   "source": []
  },
  {
   "cell_type": "code",
   "execution_count": null,
   "metadata": {},
   "outputs": [],
   "source": []
  },
  {
   "cell_type": "code",
   "execution_count": null,
   "metadata": {},
   "outputs": [],
   "source": []
  },
  {
   "cell_type": "code",
   "execution_count": null,
   "metadata": {},
   "outputs": [],
   "source": []
  },
  {
   "cell_type": "code",
   "execution_count": null,
   "metadata": {},
   "outputs": [],
   "source": []
  },
  {
   "cell_type": "code",
   "execution_count": 5,
   "metadata": {},
   "outputs": [],
   "source": [
    "import numpy as np\n",
    "import copy  as cp\n",
    "PROPERTIES = ['Index', 'ITR', 'Field', 'Beta', 'xSym', 'ySym', 'Axes']\n",
    "\n",
    "def VerifySorting(SuperSet, Plot=False):\n",
    "    for nm, mode in enumerate( SuperSet.SuperModes ):\n",
    "        for n, itr in enumerate( SuperSet.ITR[:-2] ):\n",
    "            O = GetOverlap(mode.Field[n+1], mode.Field[n])\n",
    "            if O < 0.6: \n",
    "                print(f'Error at {n} \\t Mode:{nm} \\t ITR:{itr} \\t Overlap:{O}')\n",
    "                if Plot:\n",
    "                    SuperSet.Plot('Fields', iter=n)\n",
    "                    SuperSet.Plot('Fields', iter=n+1)\n",
    "\n",
    "def SwapProperties(SuperMode0, SuperMode1, N):\n",
    "    S0, S1 = SuperMode0, SuperMode1\n",
    "\n",
    "    for p in PROPERTIES:\n",
    "        getattr(S0, p)[N] = getattr(S1, p)[N]\n",
    "\n",
    "  \n",
    "def SortModes(SuperSet, Plot=False):\n",
    "    SuperSet1 = cp.deepcopy(SuperSet)\n",
    "    Overlap = np.zeros(len( SuperSet.Combinations ) ) \n",
    "    \n",
    "    for n, itr in enumerate( SuperSet.ITR[:-1] ):\n",
    "        \n",
    "        for i, mode0 in enumerate( SuperSet.SuperModes ):\n",
    "            \n",
    "            for j, mode1 in enumerate( SuperSet1.SuperModes ):\n",
    "                \n",
    "                Overlap[j] = GetOverlap(mode0.Field[n], mode1.Field[n+1])\n",
    "\n",
    "            if np.max(Overlap) < 0.5: \n",
    "                print(n, i,'New mode swapping is occuring...\\n', Overlap, '\\n\\n\\n')\n",
    "                if Plot:\n",
    "                    SuperSet.Plot('Fields', iter=n)\n",
    "                    SuperSet1.Plot('Fields', iter=n+1)\n",
    "                    \n",
    "                \n",
    "            k = np.argmax(Overlap)\n",
    "\n",
    "            for p in PROPERTIES:\n",
    "                getattr(SuperSet[i], p)[n+1] = getattr(SuperSet1[k], p)[n+1]\n",
    "\n",
    "    return SuperSet\n",
    "\n",
    "    \n",
    "def GetOverlap(mode0, mode1):\n",
    "    return np.abs( np.sum( mode0 * mode1 ) )"
   ]
  },
  {
   "cell_type": "code",
   "execution_count": null,
   "metadata": {},
   "outputs": [],
   "source": []
  },
  {
   "cell_type": "code",
   "execution_count": null,
   "metadata": {},
   "outputs": [],
   "source": []
  },
  {
   "cell_type": "code",
   "execution_count": 196,
   "metadata": {},
   "outputs": [],
   "source": []
  },
  {
   "cell_type": "code",
   "execution_count": null,
   "metadata": {
    "scrolled": true
   },
   "outputs": [],
   "source": []
  },
  {
   "cell_type": "code",
   "execution_count": null,
   "metadata": {},
   "outputs": [],
   "source": []
  },
  {
   "cell_type": "code",
   "execution_count": null,
   "metadata": {},
   "outputs": [],
   "source": []
  },
  {
   "cell_type": "code",
   "execution_count": null,
   "metadata": {},
   "outputs": [],
   "source": []
  },
  {
   "cell_type": "code",
   "execution_count": null,
   "metadata": {},
   "outputs": [],
   "source": []
  },
  {
   "cell_type": "code",
   "execution_count": null,
   "metadata": {},
   "outputs": [],
   "source": []
  },
  {
   "cell_type": "code",
   "execution_count": null,
   "metadata": {},
   "outputs": [],
   "source": []
  }
 ],
 "metadata": {
  "kernelspec": {
   "display_name": "Python 3",
   "language": "python",
   "name": "python3"
  },
  "language_info": {
   "codemirror_mode": {
    "name": "ipython",
    "version": 3
   },
   "file_extension": ".py",
   "mimetype": "text/x-python",
   "name": "python",
   "nbconvert_exporter": "python",
   "pygments_lexer": "ipython3",
   "version": "3.8.5"
  }
 },
 "nbformat": 4,
 "nbformat_minor": 4
}
